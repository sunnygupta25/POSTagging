{
 "cells": [
  {
   "cell_type": "markdown",
   "metadata": {},
   "source": [
    "## POS tagging using modified Viterbi"
   ]
  },
  {
   "cell_type": "markdown",
   "metadata": {},
   "source": [
    "### Problem Statement:"
   ]
  },
  {
   "cell_type": "markdown",
   "metadata": {},
   "source": [
    "The vanilla Viterbi algorithm we had written had resulted in ~87% accuracy. The approx. 13% loss of accuracy was majorly due to the fact that when the algorithm encountered an unknown word (i.e. not present in the training set, such as 'Twitter'), it assigned an incorrect tag arbitrarily. This is because, for unknown words, the emission probabilities for all candidate tags are 0, so the algorithm arbitrarily chooses (the first) tag.\n",
    "\n",
    "In this assignment, I have modified the Viterbi algorithm to solve the problem of unknown words using two techniques:\n",
    "    1. By looking into traning set, 'NOUN' is the most common tag. I have tagged  the words which are not in training set with 'NOUN'. Which leads in increase in accuracy from 91% to 94.1%.\n",
    "    2. Second approch I have used to guess the current tag from the previous tag. For ex. if 'NOUN' is the previous tag then in the corpus we could see next most likely tag is 'NOUN' or if 'Adverb' is the previous tag them most likely currnt tag is 'Verb' and so on. So I have selected the most likely next tag based on previous tag and got accuracy as 94.3%."
   ]
  },
  {
   "cell_type": "markdown",
   "metadata": {},
   "source": [
    "### Data Preparation"
   ]
  },
  {
   "cell_type": "code",
   "execution_count": 39,
   "metadata": {},
   "outputs": [],
   "source": [
    "#Importing libraries\n",
    "import nltk, re, pprint\n",
    "import numpy as np\n",
    "import pandas as pd\n",
    "import requests\n",
    "import matplotlib.pyplot as plt\n",
    "import seaborn as sns\n",
    "import pprint, time\n",
    "import random\n",
    "from sklearn.model_selection import train_test_split\n",
    "from nltk.tokenize import word_tokenize"
   ]
  },
  {
   "cell_type": "code",
   "execution_count": 40,
   "metadata": {},
   "outputs": [],
   "source": [
    "# reading the Treebank tagged sentences\n",
    "nltk_data = list(nltk.corpus.treebank.tagged_sents(tagset='universal'))"
   ]
  },
  {
   "cell_type": "code",
   "execution_count": 41,
   "metadata": {},
   "outputs": [
    {
     "name": "stdout",
     "output_type": "stream",
     "text": [
      "[[('Pierre', 'NOUN'), ('Vinken', 'NOUN'), (',', '.'), ('61', 'NUM'), ('years', 'NOUN'), ('old', 'ADJ'), (',', '.'), ('will', 'VERB'), ('join', 'VERB'), ('the', 'DET'), ('board', 'NOUN'), ('as', 'ADP'), ('a', 'DET'), ('nonexecutive', 'ADJ'), ('director', 'NOUN'), ('Nov.', 'NOUN'), ('29', 'NUM'), ('.', '.')], [('Mr.', 'NOUN'), ('Vinken', 'NOUN'), ('is', 'VERB'), ('chairman', 'NOUN'), ('of', 'ADP'), ('Elsevier', 'NOUN'), ('N.V.', 'NOUN'), (',', '.'), ('the', 'DET'), ('Dutch', 'NOUN'), ('publishing', 'VERB'), ('group', 'NOUN'), ('.', '.')], [('Rudolph', 'NOUN'), ('Agnew', 'NOUN'), (',', '.'), ('55', 'NUM'), ('years', 'NOUN'), ('old', 'ADJ'), ('and', 'CONJ'), ('former', 'ADJ'), ('chairman', 'NOUN'), ('of', 'ADP'), ('Consolidated', 'NOUN'), ('Gold', 'NOUN'), ('Fields', 'NOUN'), ('PLC', 'NOUN'), (',', '.'), ('was', 'VERB'), ('named', 'VERB'), ('*-1', 'X'), ('a', 'DET'), ('nonexecutive', 'ADJ'), ('director', 'NOUN'), ('of', 'ADP'), ('this', 'DET'), ('British', 'ADJ'), ('industrial', 'ADJ'), ('conglomerate', 'NOUN'), ('.', '.')], [('A', 'DET'), ('form', 'NOUN'), ('of', 'ADP'), ('asbestos', 'NOUN'), ('once', 'ADV'), ('used', 'VERB'), ('*', 'X'), ('*', 'X'), ('to', 'PRT'), ('make', 'VERB'), ('Kent', 'NOUN'), ('cigarette', 'NOUN'), ('filters', 'NOUN'), ('has', 'VERB'), ('caused', 'VERB'), ('a', 'DET'), ('high', 'ADJ'), ('percentage', 'NOUN'), ('of', 'ADP'), ('cancer', 'NOUN'), ('deaths', 'NOUN'), ('among', 'ADP'), ('a', 'DET'), ('group', 'NOUN'), ('of', 'ADP'), ('workers', 'NOUN'), ('exposed', 'VERB'), ('*', 'X'), ('to', 'PRT'), ('it', 'PRON'), ('more', 'ADV'), ('than', 'ADP'), ('30', 'NUM'), ('years', 'NOUN'), ('ago', 'ADP'), (',', '.'), ('researchers', 'NOUN'), ('reported', 'VERB'), ('0', 'X'), ('*T*-1', 'X'), ('.', '.')], [('The', 'DET'), ('asbestos', 'NOUN'), ('fiber', 'NOUN'), (',', '.'), ('crocidolite', 'NOUN'), (',', '.'), ('is', 'VERB'), ('unusually', 'ADV'), ('resilient', 'ADJ'), ('once', 'ADP'), ('it', 'PRON'), ('enters', 'VERB'), ('the', 'DET'), ('lungs', 'NOUN'), (',', '.'), ('with', 'ADP'), ('even', 'ADV'), ('brief', 'ADJ'), ('exposures', 'NOUN'), ('to', 'PRT'), ('it', 'PRON'), ('causing', 'VERB'), ('symptoms', 'NOUN'), ('that', 'DET'), ('*T*-1', 'X'), ('show', 'VERB'), ('up', 'PRT'), ('decades', 'NOUN'), ('later', 'ADJ'), (',', '.'), ('researchers', 'NOUN'), ('said', 'VERB'), ('0', 'X'), ('*T*-2', 'X'), ('.', '.')], [('Lorillard', 'NOUN'), ('Inc.', 'NOUN'), (',', '.'), ('the', 'DET'), ('unit', 'NOUN'), ('of', 'ADP'), ('New', 'ADJ'), ('York-based', 'ADJ'), ('Loews', 'NOUN'), ('Corp.', 'NOUN'), ('that', 'DET'), ('*T*-2', 'X'), ('makes', 'VERB'), ('Kent', 'NOUN'), ('cigarettes', 'NOUN'), (',', '.'), ('stopped', 'VERB'), ('using', 'VERB'), ('crocidolite', 'NOUN'), ('in', 'ADP'), ('its', 'PRON'), ('Micronite', 'NOUN'), ('cigarette', 'NOUN'), ('filters', 'NOUN'), ('in', 'ADP'), ('1956', 'NUM'), ('.', '.')], [('Although', 'ADP'), ('preliminary', 'ADJ'), ('findings', 'NOUN'), ('were', 'VERB'), ('reported', 'VERB'), ('*-2', 'X'), ('more', 'ADV'), ('than', 'ADP'), ('a', 'DET'), ('year', 'NOUN'), ('ago', 'ADP'), (',', '.'), ('the', 'DET'), ('latest', 'ADJ'), ('results', 'NOUN'), ('appear', 'VERB'), ('in', 'ADP'), ('today', 'NOUN'), (\"'s\", 'PRT'), ('New', 'NOUN'), ('England', 'NOUN'), ('Journal', 'NOUN'), ('of', 'ADP'), ('Medicine', 'NOUN'), (',', '.'), ('a', 'DET'), ('forum', 'NOUN'), ('likely', 'ADJ'), ('*', 'X'), ('to', 'PRT'), ('bring', 'VERB'), ('new', 'ADJ'), ('attention', 'NOUN'), ('to', 'PRT'), ('the', 'DET'), ('problem', 'NOUN'), ('.', '.')], [('A', 'DET'), ('Lorillard', 'NOUN'), ('spokewoman', 'NOUN'), ('said', 'VERB'), (',', '.'), ('``', '.'), ('This', 'DET'), ('is', 'VERB'), ('an', 'DET'), ('old', 'ADJ'), ('story', 'NOUN'), ('.', '.')], [('We', 'PRON'), (\"'re\", 'VERB'), ('talking', 'VERB'), ('about', 'ADP'), ('years', 'NOUN'), ('ago', 'ADP'), ('before', 'ADP'), ('anyone', 'NOUN'), ('heard', 'VERB'), ('of', 'ADP'), ('asbestos', 'NOUN'), ('having', 'VERB'), ('any', 'DET'), ('questionable', 'ADJ'), ('properties', 'NOUN'), ('.', '.')], [('There', 'DET'), ('is', 'VERB'), ('no', 'DET'), ('asbestos', 'NOUN'), ('in', 'ADP'), ('our', 'PRON'), ('products', 'NOUN'), ('now', 'ADV'), ('.', '.'), (\"''\", '.')], [('Neither', 'DET'), ('Lorillard', 'NOUN'), ('nor', 'CONJ'), ('the', 'DET'), ('researchers', 'NOUN'), ('who', 'PRON'), ('*T*-3', 'X'), ('studied', 'VERB'), ('the', 'DET'), ('workers', 'NOUN'), ('were', 'VERB'), ('aware', 'ADJ'), ('of', 'ADP'), ('any', 'DET'), ('research', 'NOUN'), ('on', 'ADP'), ('smokers', 'NOUN'), ('of', 'ADP'), ('the', 'DET'), ('Kent', 'NOUN'), ('cigarettes', 'NOUN'), ('.', '.')], [('``', '.'), ('We', 'PRON'), ('have', 'VERB'), ('no', 'DET'), ('useful', 'ADJ'), ('information', 'NOUN'), ('on', 'ADP'), ('whether', 'ADP'), ('users', 'NOUN'), ('are', 'VERB'), ('at', 'ADP'), ('risk', 'NOUN'), (',', '.'), (\"''\", '.'), ('said', 'VERB'), ('*T*-1', 'X'), ('James', 'NOUN'), ('A.', 'NOUN'), ('Talcott', 'NOUN'), ('of', 'ADP'), ('Boston', 'NOUN'), (\"'s\", 'PRT'), ('Dana-Farber', 'NOUN'), ('Cancer', 'NOUN'), ('Institute', 'NOUN'), ('.', '.')], [('Dr.', 'NOUN'), ('Talcott', 'NOUN'), ('led', 'VERB'), ('a', 'DET'), ('team', 'NOUN'), ('of', 'ADP'), ('researchers', 'NOUN'), ('from', 'ADP'), ('the', 'DET'), ('National', 'NOUN'), ('Cancer', 'NOUN'), ('Institute', 'NOUN'), ('and', 'CONJ'), ('the', 'DET'), ('medical', 'ADJ'), ('schools', 'NOUN'), ('of', 'ADP'), ('Harvard', 'NOUN'), ('University', 'NOUN'), ('and', 'CONJ'), ('Boston', 'NOUN'), ('University', 'NOUN'), ('.', '.')], [('The', 'DET'), ('Lorillard', 'NOUN'), ('spokeswoman', 'NOUN'), ('said', 'VERB'), ('0', 'X'), ('asbestos', 'NOUN'), ('was', 'VERB'), ('used', 'VERB'), ('*-1', 'X'), ('in', 'ADP'), ('``', '.'), ('very', 'ADV'), ('modest', 'ADJ'), ('amounts', 'NOUN'), (\"''\", '.'), ('in', 'ADP'), ('*', 'X'), ('making', 'VERB'), ('paper', 'NOUN'), ('for', 'ADP'), ('the', 'DET'), ('filters', 'NOUN'), ('in', 'ADP'), ('the', 'DET'), ('early', 'ADJ'), ('1950s', 'NUM'), ('and', 'CONJ'), ('replaced', 'VERB'), ('*-1', 'X'), ('with', 'ADP'), ('a', 'DET'), ('different', 'ADJ'), ('type', 'NOUN'), ('of', 'ADP'), ('filter', 'NOUN'), ('in', 'ADP'), ('1956', 'NUM'), ('.', '.')], [('From', 'ADP'), ('1953', 'NUM'), ('to', 'PRT'), ('1955', 'NUM'), (',', '.'), ('9.8', 'NUM'), ('billion', 'NUM'), ('Kent', 'NOUN'), ('cigarettes', 'NOUN'), ('with', 'ADP'), ('the', 'DET'), ('filters', 'NOUN'), ('were', 'VERB'), ('sold', 'VERB'), ('*-3', 'X'), (',', '.'), ('the', 'DET'), ('company', 'NOUN'), ('said', 'VERB'), ('0', 'X'), ('*T*-1', 'X'), ('.', '.')], [('Among', 'ADP'), ('33', 'NUM'), ('men', 'NOUN'), ('who', 'PRON'), ('*T*-4', 'X'), ('worked', 'VERB'), ('closely', 'ADV'), ('with', 'ADP'), ('the', 'DET'), ('substance', 'NOUN'), (',', '.'), ('28', 'NUM'), ('*ICH*-1', 'X'), ('have', 'VERB'), ('died', 'VERB'), ('--', '.'), ('more', 'ADJ'), ('than', 'ADP'), ('three', 'NUM'), ('times', 'NOUN'), ('the', 'DET'), ('expected', 'VERB'), ('number', 'NOUN'), ('.', '.')], [('Four', 'NUM'), ('of', 'ADP'), ('the', 'DET'), ('five', 'NUM'), ('surviving', 'VERB'), ('workers', 'NOUN'), ('have', 'VERB'), ('asbestos-related', 'ADJ'), ('diseases', 'NOUN'), (',', '.'), ('including', 'VERB'), ('three', 'NUM'), ('with', 'ADP'), ('recently', 'ADV'), ('diagnosed', 'VERB'), ('cancer', 'NOUN'), ('.', '.')], [('The', 'DET'), ('total', 'NOUN'), ('of', 'ADP'), ('18', 'NUM'), ('deaths', 'NOUN'), ('from', 'ADP'), ('malignant', 'ADJ'), ('mesothelioma', 'NOUN'), (',', '.'), ('lung', 'NOUN'), ('cancer', 'NOUN'), ('and', 'CONJ'), ('asbestosis', 'NOUN'), ('was', 'VERB'), ('far', 'ADV'), ('higher', 'ADJ'), ('than', 'ADP'), ('*', 'X'), ('expected', 'VERB'), ('*?*', 'X'), (',', '.'), ('the', 'DET'), ('researchers', 'NOUN'), ('said', 'VERB'), ('0', 'X'), ('*T*-1', 'X'), ('.', '.')], [('``', '.'), ('The', 'DET'), ('morbidity', 'NOUN'), ('rate', 'NOUN'), ('is', 'VERB'), ('a', 'DET'), ('striking', 'ADJ'), ('finding', 'NOUN'), ('among', 'ADP'), ('those', 'DET'), ('of', 'ADP'), ('us', 'PRON'), ('who', 'PRON'), ('*T*-5', 'X'), ('study', 'VERB'), ('asbestos-related', 'ADJ'), ('diseases', 'NOUN'), (',', '.'), (\"''\", '.'), ('said', 'VERB'), ('*T*-1', 'X'), ('Dr.', 'NOUN'), ('Talcott', 'NOUN'), ('.', '.')], [('The', 'DET'), ('percentage', 'NOUN'), ('of', 'ADP'), ('lung', 'NOUN'), ('cancer', 'NOUN'), ('deaths', 'NOUN'), ('among', 'ADP'), ('the', 'DET'), ('workers', 'NOUN'), ('at', 'ADP'), ('the', 'DET'), ('West', 'NOUN'), ('Groton', 'NOUN'), (',', '.'), ('Mass.', 'NOUN'), (',', '.'), ('paper', 'NOUN'), ('factory', 'NOUN'), ('appears', 'VERB'), ('*-1', 'X'), ('to', 'PRT'), ('be', 'VERB'), ('the', 'DET'), ('highest', 'ADJ'), ('for', 'ADP'), ('any', 'DET'), ('asbestos', 'NOUN'), ('workers', 'NOUN'), ('studied', 'VERB'), ('*', 'X'), ('in', 'ADP'), ('Western', 'ADJ'), ('industrialized', 'VERB'), ('countries', 'NOUN'), (',', '.'), ('he', 'PRON'), ('said', 'VERB'), ('0', 'X'), ('*T*-2', 'X'), ('.', '.')]]\n"
     ]
    }
   ],
   "source": [
    "#printing first few tagged sentences\n",
    "print(nltk_data[:20])"
   ]
  },
  {
   "cell_type": "code",
   "execution_count": 51,
   "metadata": {},
   "outputs": [
    {
     "name": "stdout",
     "output_type": "stream",
     "text": [
      "3718\n",
      "196\n",
      "[[('Mr.', 'NOUN'), ('Stearn', 'NOUN'), (',', '.'), ('46', 'NUM'), ('years', 'NOUN'), ('old', 'ADJ'), (',', '.'), ('could', 'VERB'), (\"n't\", 'ADV'), ('be', 'VERB'), ('reached', 'VERB'), ('*-120', 'X'), ('for', 'ADP'), ('comment', 'NOUN'), ('.', '.')], [('``', '.'), ('Just', 'ADV'), ('as', 'ADP'), ('the', 'DET'), ('1980s', 'NUM'), ('bull', 'NOUN'), ('market', 'NOUN'), ('transformed', 'VERB'), ('the', 'DET'), ('U.S.', 'NOUN'), ('securities', 'NOUN'), ('business', 'NOUN'), (',', '.'), ('so', 'ADV'), ('too', 'ADV'), ('will', 'VERB'), ('*?*', 'X'), ('the', 'DET'), ('more', 'ADV'), ('difficult', 'ADJ'), ('environment', 'NOUN'), ('of', 'ADP'), ('the', 'DET'), ('1990s', 'NUM'), (',', '.'), (\"''\", '.'), ('says', 'VERB'), ('*T*-1', 'X'), ('Christopher', 'NOUN'), ('T.', 'NOUN'), ('Mahoney', 'NOUN'), (',', '.'), ('a', 'DET'), ('Moody', 'NOUN'), (\"'s\", 'PRT'), ('vice', 'NOUN'), ('president', 'NOUN'), ('.', '.')], [('``', '.'), ('There', 'DET'), ('may', 'VERB'), ('be', 'VERB'), ('sticker-shock', 'NOUN'), ('reaction', 'NOUN'), ('initially', 'ADV'), (',', '.'), (\"''\", '.'), ('said', 'VERB'), ('*T*-2', 'X'), ('Mr.', 'NOUN'), ('Pratt', 'NOUN'), (',', '.'), ('``', '.'), ('but', 'CONJ'), ('as', 'ADP'), ('the', 'DET'), ('wine', 'NOUN'), ('is', 'VERB'), ('talked', 'VERB'), ('about', 'ADP'), ('*-1', 'X'), ('and', 'CONJ'), ('starts', 'VERB'), ('*-1', 'X'), ('to', 'PRT'), ('sell', 'VERB'), (',', '.'), ('they', 'PRON'), ('eventually', 'ADV'), ('get', 'VERB'), ('excited', 'VERB'), ('and', 'CONJ'), ('decide', 'VERB'), ('0', 'X'), ('it', 'PRON'), (\"'s\", 'VERB'), ('worth', 'ADJ'), ('the', 'DET'), ('astronomical', 'ADJ'), ('price', 'NOUN'), ('*-3', 'X'), ('to', 'PRT'), ('add', 'VERB'), ('it', 'PRON'), ('to', 'PRT'), ('their', 'PRON'), ('collection', 'NOUN'), ('.', '.'), (\"''\", '.')], [('Reserves', 'NOUN'), ('for', 'ADP'), ('the', 'DET'), ('five', 'NUM'), ('new', 'ADJ'), ('fields', 'NOUN'), ('total', 'VERB'), ('50', 'NUM'), ('million', 'NUM'), ('barrels', 'NOUN'), ('.', '.')], [('Bailey', 'NOUN'), ('Controls', 'NOUN'), (',', '.'), ('based', 'VERB'), ('*', 'X'), ('in', 'ADP'), ('Wickliffe', 'NOUN'), (',', '.'), ('Ohio', 'NOUN'), (',', '.'), ('makes', 'VERB'), ('computerized', 'ADJ'), ('industrial', 'ADJ'), ('controls', 'NOUN'), ('systems', 'NOUN'), ('.', '.')], [('Thus', 'ADV'), (',', '.'), ('an', 'DET'), ('institution', 'NOUN'), ('obligated', 'VERB'), ('*', 'X'), ('to', 'PRT'), ('make', 'VERB'), ('fixed-rate', 'ADJ'), ('interest', 'NOUN'), ('payments', 'NOUN'), ('on', 'ADP'), ('debt', 'NOUN'), ('swaps', 'NOUN'), ('the', 'DET'), ('payments', 'NOUN'), ('with', 'ADP'), ('another', 'DET'), ('making', 'VERB'), ('floating-rate', 'ADJ'), ('payments', 'NOUN'), ('.', '.')], [('The', 'DET'), ('municipalities', 'NOUN'), ('said', 'VERB'), ('0', 'X'), ('they', 'PRON'), ('have', 'VERB'), (\"n't\", 'ADV'), ('decided', 'VERB'), ('whether', 'ADP'), ('*-1', 'X'), ('to', 'PRT'), ('try', 'VERB'), ('*-2', 'X'), ('to', 'PRT'), ('force', 'VERB'), ('the', 'DET'), ('company', 'NOUN'), ('to', 'PRT'), ('go', 'VERB'), ('through', 'PRT'), ('with', 'ADP'), ('the', 'DET'), ('contracts', 'NOUN'), ('.', '.')], [('They', 'PRON'), ('are', 'VERB'), ('better', 'ADV'), ('able', 'ADJ'), ('*-1', 'X'), ('to', 'PRT'), ('get', 'VERB'), ('to', 'PRT'), ('those', 'DET'), ('segments', 'NOUN'), ('in', 'ADP'), ('the', 'DET'), ('wake', 'NOUN'), ('of', 'ADP'), ('the', 'DET'), ('deregulation', 'NOUN'), ('that', 'DET'), ('*T*-200', 'X'), ('began', 'VERB'), ('in', 'ADP'), ('the', 'DET'), ('late', 'ADJ'), ('1970s', 'NUM'), ('.', '.')], [('Program', 'NOUN'), ('traders', 'NOUN'), (\"'\", 'PRT'), ('``', '.'), ('power', 'NOUN'), ('*', 'X'), ('to', 'PRT'), ('create', 'VERB'), ('total', 'ADJ'), ('panic', 'NOUN'), ('is', 'VERB'), ('so', 'ADV'), ('great', 'ADJ'), ('that', 'ADP'), ('they', 'PRON'), ('ca', 'VERB'), (\"n't\", 'ADV'), ('be', 'VERB'), ('allowed', 'VERB'), ('*-1', 'X'), ('to', 'PRT'), ('have', 'VERB'), ('their', 'PRON'), ('way', 'NOUN'), (',', '.'), (\"''\", '.'), ('says', 'VERB'), ('0', 'X'), ('*T*-2', 'X'), ('Rep.', 'NOUN'), ('Edward', 'NOUN'), ('Markey', 'NOUN'), (',', '.'), ('a', 'DET'), ('Massachusetts', 'NOUN'), ('Democrat', 'NOUN'), ('.', '.')], [('Lorillard', 'NOUN'), ('Inc.', 'NOUN'), (',', '.'), ('the', 'DET'), ('unit', 'NOUN'), ('of', 'ADP'), ('New', 'ADJ'), ('York-based', 'ADJ'), ('Loews', 'NOUN'), ('Corp.', 'NOUN'), ('that', 'DET'), ('*T*-2', 'X'), ('makes', 'VERB'), ('Kent', 'NOUN'), ('cigarettes', 'NOUN'), (',', '.'), ('stopped', 'VERB'), ('using', 'VERB'), ('crocidolite', 'NOUN'), ('in', 'ADP'), ('its', 'PRON'), ('Micronite', 'NOUN'), ('cigarette', 'NOUN'), ('filters', 'NOUN'), ('in', 'ADP'), ('1956', 'NUM'), ('.', '.')]]\n"
     ]
    }
   ],
   "source": [
    "# Splitting into train and test in the ration of 95:5\n",
    "random.seed(1234)\n",
    "train_set, test_set = train_test_split(nltk_data,test_size=0.05)\n",
    "\n",
    "print(len(train_set))\n",
    "print(len(test_set))\n",
    "print(train_set[:10])"
   ]
  },
  {
   "cell_type": "markdown",
   "metadata": {},
   "source": [
    "Training dataset is having 3718 sentences and Test dataset is having 196 sentences."
   ]
  },
  {
   "cell_type": "code",
   "execution_count": 52,
   "metadata": {},
   "outputs": [
    {
     "data": {
      "text/plain": [
       "95749"
      ]
     },
     "execution_count": 52,
     "metadata": {},
     "output_type": "execute_result"
    }
   ],
   "source": [
    "# Getting list of tagged words\n",
    "train_tagged_words = [tup for sent in train_set for tup in sent]\n",
    "len(train_tagged_words)"
   ]
  },
  {
   "cell_type": "code",
   "execution_count": 53,
   "metadata": {},
   "outputs": [
    {
     "data": {
      "text/plain": [
       "['Mr.', 'Stearn', ',', '46', 'years', 'old', ',', 'could', \"n't\", 'be']"
      ]
     },
     "execution_count": 53,
     "metadata": {},
     "output_type": "execute_result"
    }
   ],
   "source": [
    "# tokens \n",
    "tokens = [pair[0] for pair in train_tagged_words]\n",
    "tokens[:10]"
   ]
  },
  {
   "cell_type": "code",
   "execution_count": 54,
   "metadata": {},
   "outputs": [],
   "source": [
    "# tags\n",
    "tags = [pair[1] for pair in train_tagged_words]"
   ]
  },
  {
   "cell_type": "code",
   "execution_count": 55,
   "metadata": {},
   "outputs": [
    {
     "name": "stdout",
     "output_type": "stream",
     "text": [
      "12072\n"
     ]
    }
   ],
   "source": [
    "# vocabulary\n",
    "V = set(tokens)\n",
    "print(len(V))"
   ]
  },
  {
   "cell_type": "markdown",
   "metadata": {},
   "source": [
    "Length of vocabulary is 12055."
   ]
  },
  {
   "cell_type": "code",
   "execution_count": 56,
   "metadata": {},
   "outputs": [
    {
     "data": {
      "text/plain": [
       "12"
      ]
     },
     "execution_count": 56,
     "metadata": {},
     "output_type": "execute_result"
    }
   ],
   "source": [
    "# number of tags\n",
    "T = set([pair[1] for pair in train_tagged_words])\n",
    "len(T)"
   ]
  },
  {
   "cell_type": "code",
   "execution_count": 57,
   "metadata": {},
   "outputs": [
    {
     "name": "stdout",
     "output_type": "stream",
     "text": [
      "{'PRT', 'VERB', 'CONJ', 'PRON', 'ADV', 'X', 'DET', 'NUM', '.', 'ADJ', 'ADP', 'NOUN'}\n"
     ]
    }
   ],
   "source": [
    "# Printing the tags\n",
    "print(T)"
   ]
  },
  {
   "cell_type": "code",
   "execution_count": 58,
   "metadata": {},
   "outputs": [
    {
     "data": {
      "text/plain": [
       "Counter({'NOUN': 27478,\n",
       "         '.': 11144,\n",
       "         'NUM': 3364,\n",
       "         'ADJ': 6085,\n",
       "         'VERB': 12886,\n",
       "         'ADV': 3025,\n",
       "         'X': 6266,\n",
       "         'ADP': 9382,\n",
       "         'DET': 8281,\n",
       "         'PRT': 3060,\n",
       "         'CONJ': 2158,\n",
       "         'PRON': 2620})"
      ]
     },
     "execution_count": 58,
     "metadata": {},
     "output_type": "execute_result"
    }
   ],
   "source": [
    "# Frequency of the tags\n",
    "\n",
    "from collections import Counter\n",
    "tag_counts = Counter(tags)\n",
    "tag_counts"
   ]
  },
  {
   "cell_type": "code",
   "execution_count": 59,
   "metadata": {},
   "outputs": [
    {
     "data": {
      "text/plain": [
       "[('NOUN', 27478), ('VERB', 12886), ('.', 11144), ('ADP', 9382), ('DET', 8281)]"
      ]
     },
     "execution_count": 59,
     "metadata": {},
     "output_type": "execute_result"
    }
   ],
   "source": [
    "# Most common tags\n",
    "tag_counts.most_common(5)"
   ]
  },
  {
   "cell_type": "markdown",
   "metadata": {},
   "source": [
    "Above are the 5 most common tags in the corpus."
   ]
  },
  {
   "cell_type": "markdown",
   "metadata": {},
   "source": [
    "### POS Tagging Algorithm - HMM"
   ]
  },
  {
   "cell_type": "markdown",
   "metadata": {},
   "source": [
    "To tag a given word, we will be required emmission and the transition probabilities. \n",
    " \n",
    "    State_probability = emmission probability * transition probability\n",
    "    \n",
    "And, the tag which gives us the maximum of state_probability will be the tag for the word"
   ]
  },
  {
   "cell_type": "markdown",
   "metadata": {},
   "source": [
    "### Emission Probabilities "
   ]
  },
  {
   "cell_type": "code",
   "execution_count": 60,
   "metadata": {},
   "outputs": [],
   "source": [
    "# computing P(w/t) and storing in T x V matrix\n",
    "t = len(T)\n",
    "v = len(V)\n",
    "w_given_t = np.zeros((t, v))"
   ]
  },
  {
   "cell_type": "code",
   "execution_count": 61,
   "metadata": {},
   "outputs": [],
   "source": [
    "# compute word given tag: Emission Probability\n",
    "def word_given_tag(word, tag, train_bag = train_tagged_words):\n",
    "    tag_list = [pair for pair in train_bag if pair[1]==tag]\n",
    "    count_tag = len(tag_list)\n",
    "    w_given_tag_list = [pair[0] for pair in tag_list if pair[0]==word]\n",
    "    count_w_given_tag = len(w_given_tag_list)\n",
    "    \n",
    "    return (count_w_given_tag, count_tag)"
   ]
  },
  {
   "cell_type": "code",
   "execution_count": 62,
   "metadata": {},
   "outputs": [
    {
     "name": "stdout",
     "output_type": "stream",
     "text": [
      "\n",
      " would\n",
      "(198, 12886)\n",
      "(0, 27478)\n",
      "\n",
      " flights\n",
      "(2, 27478)\n",
      "(0, 2620)\n",
      "(0, 12886)\n",
      "\n",
      " Android\n",
      "(0, 27478)\n",
      "(0, 2620)\n"
     ]
    }
   ],
   "source": [
    "# Examples\n",
    "# would\n",
    "print(\"\\n\", \"would\")\n",
    "print(word_given_tag('would', 'VERB'))\n",
    "print(word_given_tag('would', 'NOUN'))\n",
    "\n",
    "# flights \n",
    "print(\"\\n\", \"flights\")\n",
    "print(word_given_tag('flights', 'NOUN'))\n",
    "print(word_given_tag('flights', 'PRON'))\n",
    "print(word_given_tag('flights', 'VERB'))\n",
    "\n",
    "# Android\n",
    "print(\"\\n\", \"Android\")\n",
    "print(word_given_tag('Android', 'NOUN'))\n",
    "print(word_given_tag('Android', 'PRON'))"
   ]
  },
  {
   "cell_type": "markdown",
   "metadata": {},
   "source": [
    "### Transition Probabilities"
   ]
  },
  {
   "cell_type": "code",
   "execution_count": 63,
   "metadata": {},
   "outputs": [],
   "source": [
    "# compute tag given tag: tag2(t2) given tag1 (t1), i.e. Transition Probability\n",
    "\n",
    "def t2_given_t1(t2, t1, train_bag = train_tagged_words):\n",
    "    tags = [pair[1] for pair in train_bag]\n",
    "    count_t1 = len([t for t in tags if t==t1])\n",
    "    count_t2_t1 = 0\n",
    "    for index in range(len(tags)-1):\n",
    "        if tags[index]==t1 and tags[index+1] == t2:\n",
    "            count_t2_t1 += 1\n",
    "    return (count_t2_t1, count_t1)"
   ]
  },
  {
   "cell_type": "code",
   "execution_count": 64,
   "metadata": {},
   "outputs": [
    {
     "name": "stdout",
     "output_type": "stream",
     "text": [
      "(4250, 6085)\n",
      "(768, 3060)\n",
      "(5300, 8281)\n"
     ]
    }
   ],
   "source": [
    "# examples\n",
    "print(t2_given_t1(t2='NOUN', t1='ADJ'))\n",
    "print(t2_given_t1('NOUN', 'PRT'))\n",
    "print(t2_given_t1('NOUN', 'DET'))"
   ]
  },
  {
   "cell_type": "code",
   "execution_count": 65,
   "metadata": {},
   "outputs": [
    {
     "name": "stdout",
     "output_type": "stream",
     "text": [
      "(1924, 11144)\n",
      "(989, 11144)\n"
     ]
    }
   ],
   "source": [
    "# P(tag|start) Or P(tag|'.')\n",
    "print(t2_given_t1('DET', '.'))\n",
    "print(t2_given_t1('VERB', '.'))"
   ]
  },
  {
   "cell_type": "code",
   "execution_count": 66,
   "metadata": {},
   "outputs": [],
   "source": [
    "# creating t x t transition matrix of tags\n",
    "# each column is t2, each row is t1\n",
    "# thus M(i, j) represents P(tj given ti)\n",
    "\n",
    "tags_matrix = np.zeros((len(T), len(T)), dtype='float32')\n",
    "for i, t1 in enumerate(list(T)):\n",
    "    for j, t2 in enumerate(list(T)): \n",
    "        tags_matrix[i, j] = t2_given_t1(t2, t1)[0]/t2_given_t1(t2, t1)[1]"
   ]
  },
  {
   "cell_type": "code",
   "execution_count": 67,
   "metadata": {},
   "outputs": [
    {
     "data": {
      "text/plain": [
       "array([[1.96078443e-03, 3.97712409e-01, 2.28758180e-03, 1.73202623e-02,\n",
       "        1.01307193e-02, 1.30718956e-02, 1.00000001e-01, 5.65359481e-02,\n",
       "        4.44444455e-02, 8.62745121e-02, 1.92810465e-02, 2.50980407e-01],\n",
       "       [3.09638362e-02, 1.68943033e-01, 5.35464846e-03, 3.58528644e-02,\n",
       "        8.24150220e-02, 2.16514051e-01, 1.34564638e-01, 2.31258739e-02,\n",
       "        3.49216200e-02, 6.56526461e-02, 9.14170444e-02, 1.10274717e-01],\n",
       "       [5.09731239e-03, 1.55699715e-01, 4.63392033e-04, 5.79240024e-02,\n",
       "        5.51436506e-02, 7.87766464e-03, 1.20945320e-01, 4.17052843e-02,\n",
       "        3.47544029e-02, 1.18164964e-01, 5.32900840e-02, 3.48934203e-01],\n",
       "       [1.22137405e-02, 4.85114515e-01, 4.58015269e-03, 8.01526755e-03,\n",
       "        3.32061052e-02, 9.23664123e-02, 9.92366392e-03, 7.25190854e-03,\n",
       "        4.12213728e-02, 7.29007646e-02, 2.25190837e-02, 2.10687026e-01],\n",
       "       [1.32231405e-02, 3.45123976e-01, 6.94214879e-03, 1.55371903e-02,\n",
       "        8.09917375e-02, 2.31404956e-02, 6.94214851e-02, 3.17355357e-02,\n",
       "        1.35206610e-01, 1.28264457e-01, 1.19669423e-01, 3.07438020e-02],\n",
       "       [1.84008941e-01, 2.05234602e-01, 1.00542614e-02, 5.55378236e-02,\n",
       "        2.58538146e-02, 7.40504339e-02, 5.37823178e-02, 2.87264609e-03,\n",
       "        1.65017560e-01, 1.67571027e-02, 1.44909039e-01, 6.19214810e-02],\n",
       "       [2.41516726e-04, 3.90049517e-02, 3.62275081e-04, 3.50199244e-03,\n",
       "        1.29211452e-02, 4.60089371e-02, 5.19260950e-03, 2.24610548e-02,\n",
       "        1.69061702e-02, 2.03960881e-01, 9.41915251e-03, 6.40019298e-01],\n",
       "       [2.70511303e-02, 1.90249700e-02, 1.39714628e-02, 1.48632575e-03,\n",
       "        2.97265151e-03, 2.10760996e-01, 3.26991687e-03, 1.85493454e-01,\n",
       "        1.16527945e-01, 3.38882282e-02, 3.38882282e-02, 3.51664692e-01],\n",
       "       [2.42282846e-03, 8.87473077e-02, 5.87760247e-02, 6.61342442e-02,\n",
       "        5.21356799e-02, 2.77279261e-02, 1.72648966e-01, 8.04020092e-02,\n",
       "        9.33237597e-02, 4.47774604e-02, 9.13496017e-02, 2.21464470e-01],\n",
       "       [1.08463438e-02, 1.18323751e-02, 1.69268698e-02, 4.93015628e-04,\n",
       "        4.43714065e-03, 2.11996716e-02, 5.09449467e-03, 2.05423180e-02,\n",
       "        6.54067397e-02, 6.62284270e-02, 7.85538182e-02, 6.98438764e-01],\n",
       "       [1.38563209e-03, 8.52696691e-03, 9.59283730e-04, 6.98145404e-02,\n",
       "        1.30036240e-02, 3.38946916e-02, 3.23172033e-01, 6.22468553e-02,\n",
       "        4.03965041e-02, 1.06267318e-01, 1.67341717e-02, 3.23598385e-01],\n",
       "       [4.43991572e-02, 1.46553606e-01, 4.25067320e-02, 4.91302134e-03,\n",
       "        1.71773788e-02, 2.90050227e-02, 1.33197466e-02, 9.28015169e-03,\n",
       "        2.39573479e-01, 1.21551789e-02, 1.76723197e-01, 2.64393330e-01]],\n",
       "      dtype=float32)"
      ]
     },
     "execution_count": 67,
     "metadata": {},
     "output_type": "execute_result"
    }
   ],
   "source": [
    "tags_matrix"
   ]
  },
  {
   "cell_type": "code",
   "execution_count": 68,
   "metadata": {},
   "outputs": [],
   "source": [
    "# convert the matrix to a df for better readability\n",
    "tags_df = pd.DataFrame(tags_matrix, columns = list(T), index=list(T))"
   ]
  },
  {
   "cell_type": "code",
   "execution_count": 69,
   "metadata": {},
   "outputs": [
    {
     "data": {
      "text/html": [
       "<div>\n",
       "<style scoped>\n",
       "    .dataframe tbody tr th:only-of-type {\n",
       "        vertical-align: middle;\n",
       "    }\n",
       "\n",
       "    .dataframe tbody tr th {\n",
       "        vertical-align: top;\n",
       "    }\n",
       "\n",
       "    .dataframe thead th {\n",
       "        text-align: right;\n",
       "    }\n",
       "</style>\n",
       "<table border=\"1\" class=\"dataframe\">\n",
       "  <thead>\n",
       "    <tr style=\"text-align: right;\">\n",
       "      <th></th>\n",
       "      <th>PRT</th>\n",
       "      <th>VERB</th>\n",
       "      <th>CONJ</th>\n",
       "      <th>PRON</th>\n",
       "      <th>ADV</th>\n",
       "      <th>X</th>\n",
       "      <th>DET</th>\n",
       "      <th>NUM</th>\n",
       "      <th>.</th>\n",
       "      <th>ADJ</th>\n",
       "      <th>ADP</th>\n",
       "      <th>NOUN</th>\n",
       "    </tr>\n",
       "  </thead>\n",
       "  <tbody>\n",
       "    <tr>\n",
       "      <th>PRT</th>\n",
       "      <td>0.001961</td>\n",
       "      <td>0.397712</td>\n",
       "      <td>0.002288</td>\n",
       "      <td>0.017320</td>\n",
       "      <td>0.010131</td>\n",
       "      <td>0.013072</td>\n",
       "      <td>0.100000</td>\n",
       "      <td>0.056536</td>\n",
       "      <td>0.044444</td>\n",
       "      <td>0.086275</td>\n",
       "      <td>0.019281</td>\n",
       "      <td>0.250980</td>\n",
       "    </tr>\n",
       "    <tr>\n",
       "      <th>VERB</th>\n",
       "      <td>0.030964</td>\n",
       "      <td>0.168943</td>\n",
       "      <td>0.005355</td>\n",
       "      <td>0.035853</td>\n",
       "      <td>0.082415</td>\n",
       "      <td>0.216514</td>\n",
       "      <td>0.134565</td>\n",
       "      <td>0.023126</td>\n",
       "      <td>0.034922</td>\n",
       "      <td>0.065653</td>\n",
       "      <td>0.091417</td>\n",
       "      <td>0.110275</td>\n",
       "    </tr>\n",
       "    <tr>\n",
       "      <th>CONJ</th>\n",
       "      <td>0.005097</td>\n",
       "      <td>0.155700</td>\n",
       "      <td>0.000463</td>\n",
       "      <td>0.057924</td>\n",
       "      <td>0.055144</td>\n",
       "      <td>0.007878</td>\n",
       "      <td>0.120945</td>\n",
       "      <td>0.041705</td>\n",
       "      <td>0.034754</td>\n",
       "      <td>0.118165</td>\n",
       "      <td>0.053290</td>\n",
       "      <td>0.348934</td>\n",
       "    </tr>\n",
       "    <tr>\n",
       "      <th>PRON</th>\n",
       "      <td>0.012214</td>\n",
       "      <td>0.485115</td>\n",
       "      <td>0.004580</td>\n",
       "      <td>0.008015</td>\n",
       "      <td>0.033206</td>\n",
       "      <td>0.092366</td>\n",
       "      <td>0.009924</td>\n",
       "      <td>0.007252</td>\n",
       "      <td>0.041221</td>\n",
       "      <td>0.072901</td>\n",
       "      <td>0.022519</td>\n",
       "      <td>0.210687</td>\n",
       "    </tr>\n",
       "    <tr>\n",
       "      <th>ADV</th>\n",
       "      <td>0.013223</td>\n",
       "      <td>0.345124</td>\n",
       "      <td>0.006942</td>\n",
       "      <td>0.015537</td>\n",
       "      <td>0.080992</td>\n",
       "      <td>0.023140</td>\n",
       "      <td>0.069421</td>\n",
       "      <td>0.031736</td>\n",
       "      <td>0.135207</td>\n",
       "      <td>0.128264</td>\n",
       "      <td>0.119669</td>\n",
       "      <td>0.030744</td>\n",
       "    </tr>\n",
       "    <tr>\n",
       "      <th>X</th>\n",
       "      <td>0.184009</td>\n",
       "      <td>0.205235</td>\n",
       "      <td>0.010054</td>\n",
       "      <td>0.055538</td>\n",
       "      <td>0.025854</td>\n",
       "      <td>0.074050</td>\n",
       "      <td>0.053782</td>\n",
       "      <td>0.002873</td>\n",
       "      <td>0.165018</td>\n",
       "      <td>0.016757</td>\n",
       "      <td>0.144909</td>\n",
       "      <td>0.061921</td>\n",
       "    </tr>\n",
       "    <tr>\n",
       "      <th>DET</th>\n",
       "      <td>0.000242</td>\n",
       "      <td>0.039005</td>\n",
       "      <td>0.000362</td>\n",
       "      <td>0.003502</td>\n",
       "      <td>0.012921</td>\n",
       "      <td>0.046009</td>\n",
       "      <td>0.005193</td>\n",
       "      <td>0.022461</td>\n",
       "      <td>0.016906</td>\n",
       "      <td>0.203961</td>\n",
       "      <td>0.009419</td>\n",
       "      <td>0.640019</td>\n",
       "    </tr>\n",
       "    <tr>\n",
       "      <th>NUM</th>\n",
       "      <td>0.027051</td>\n",
       "      <td>0.019025</td>\n",
       "      <td>0.013971</td>\n",
       "      <td>0.001486</td>\n",
       "      <td>0.002973</td>\n",
       "      <td>0.210761</td>\n",
       "      <td>0.003270</td>\n",
       "      <td>0.185493</td>\n",
       "      <td>0.116528</td>\n",
       "      <td>0.033888</td>\n",
       "      <td>0.033888</td>\n",
       "      <td>0.351665</td>\n",
       "    </tr>\n",
       "    <tr>\n",
       "      <th>.</th>\n",
       "      <td>0.002423</td>\n",
       "      <td>0.088747</td>\n",
       "      <td>0.058776</td>\n",
       "      <td>0.066134</td>\n",
       "      <td>0.052136</td>\n",
       "      <td>0.027728</td>\n",
       "      <td>0.172649</td>\n",
       "      <td>0.080402</td>\n",
       "      <td>0.093324</td>\n",
       "      <td>0.044777</td>\n",
       "      <td>0.091350</td>\n",
       "      <td>0.221464</td>\n",
       "    </tr>\n",
       "    <tr>\n",
       "      <th>ADJ</th>\n",
       "      <td>0.010846</td>\n",
       "      <td>0.011832</td>\n",
       "      <td>0.016927</td>\n",
       "      <td>0.000493</td>\n",
       "      <td>0.004437</td>\n",
       "      <td>0.021200</td>\n",
       "      <td>0.005094</td>\n",
       "      <td>0.020542</td>\n",
       "      <td>0.065407</td>\n",
       "      <td>0.066228</td>\n",
       "      <td>0.078554</td>\n",
       "      <td>0.698439</td>\n",
       "    </tr>\n",
       "    <tr>\n",
       "      <th>ADP</th>\n",
       "      <td>0.001386</td>\n",
       "      <td>0.008527</td>\n",
       "      <td>0.000959</td>\n",
       "      <td>0.069815</td>\n",
       "      <td>0.013004</td>\n",
       "      <td>0.033895</td>\n",
       "      <td>0.323172</td>\n",
       "      <td>0.062247</td>\n",
       "      <td>0.040397</td>\n",
       "      <td>0.106267</td>\n",
       "      <td>0.016734</td>\n",
       "      <td>0.323598</td>\n",
       "    </tr>\n",
       "    <tr>\n",
       "      <th>NOUN</th>\n",
       "      <td>0.044399</td>\n",
       "      <td>0.146554</td>\n",
       "      <td>0.042507</td>\n",
       "      <td>0.004913</td>\n",
       "      <td>0.017177</td>\n",
       "      <td>0.029005</td>\n",
       "      <td>0.013320</td>\n",
       "      <td>0.009280</td>\n",
       "      <td>0.239573</td>\n",
       "      <td>0.012155</td>\n",
       "      <td>0.176723</td>\n",
       "      <td>0.264393</td>\n",
       "    </tr>\n",
       "  </tbody>\n",
       "</table>\n",
       "</div>"
      ],
      "text/plain": [
       "           PRT      VERB      CONJ      PRON       ADV         X       DET  \\\n",
       "PRT   0.001961  0.397712  0.002288  0.017320  0.010131  0.013072  0.100000   \n",
       "VERB  0.030964  0.168943  0.005355  0.035853  0.082415  0.216514  0.134565   \n",
       "CONJ  0.005097  0.155700  0.000463  0.057924  0.055144  0.007878  0.120945   \n",
       "PRON  0.012214  0.485115  0.004580  0.008015  0.033206  0.092366  0.009924   \n",
       "ADV   0.013223  0.345124  0.006942  0.015537  0.080992  0.023140  0.069421   \n",
       "X     0.184009  0.205235  0.010054  0.055538  0.025854  0.074050  0.053782   \n",
       "DET   0.000242  0.039005  0.000362  0.003502  0.012921  0.046009  0.005193   \n",
       "NUM   0.027051  0.019025  0.013971  0.001486  0.002973  0.210761  0.003270   \n",
       ".     0.002423  0.088747  0.058776  0.066134  0.052136  0.027728  0.172649   \n",
       "ADJ   0.010846  0.011832  0.016927  0.000493  0.004437  0.021200  0.005094   \n",
       "ADP   0.001386  0.008527  0.000959  0.069815  0.013004  0.033895  0.323172   \n",
       "NOUN  0.044399  0.146554  0.042507  0.004913  0.017177  0.029005  0.013320   \n",
       "\n",
       "           NUM         .       ADJ       ADP      NOUN  \n",
       "PRT   0.056536  0.044444  0.086275  0.019281  0.250980  \n",
       "VERB  0.023126  0.034922  0.065653  0.091417  0.110275  \n",
       "CONJ  0.041705  0.034754  0.118165  0.053290  0.348934  \n",
       "PRON  0.007252  0.041221  0.072901  0.022519  0.210687  \n",
       "ADV   0.031736  0.135207  0.128264  0.119669  0.030744  \n",
       "X     0.002873  0.165018  0.016757  0.144909  0.061921  \n",
       "DET   0.022461  0.016906  0.203961  0.009419  0.640019  \n",
       "NUM   0.185493  0.116528  0.033888  0.033888  0.351665  \n",
       ".     0.080402  0.093324  0.044777  0.091350  0.221464  \n",
       "ADJ   0.020542  0.065407  0.066228  0.078554  0.698439  \n",
       "ADP   0.062247  0.040397  0.106267  0.016734  0.323598  \n",
       "NOUN  0.009280  0.239573  0.012155  0.176723  0.264393  "
      ]
     },
     "execution_count": 69,
     "metadata": {},
     "output_type": "execute_result"
    }
   ],
   "source": [
    "tags_df"
   ]
  },
  {
   "cell_type": "code",
   "execution_count": 70,
   "metadata": {},
   "outputs": [
    {
     "data": {
      "text/plain": [
       "PRT     0.002423\n",
       "VERB    0.088747\n",
       "CONJ    0.058776\n",
       "PRON    0.066134\n",
       "ADV     0.052136\n",
       "X       0.027728\n",
       "DET     0.172649\n",
       "NUM     0.080402\n",
       ".       0.093324\n",
       "ADJ     0.044777\n",
       "ADP     0.091350\n",
       "NOUN    0.221464\n",
       "Name: ., dtype: float32"
      ]
     },
     "execution_count": 70,
     "metadata": {},
     "output_type": "execute_result"
    }
   ],
   "source": [
    "tags_df.loc['.', :]"
   ]
  },
  {
   "cell_type": "code",
   "execution_count": 71,
   "metadata": {},
   "outputs": [
    {
     "data": {
      "image/png": "[encoded data removed]",
      "text/plain": [
       "<Figure size 1296x864 with 2 Axes>"
      ]
     },
     "metadata": {},
     "output_type": "display_data"
    }
   ],
   "source": [
    "# heatmap of tags matrix\n",
    "# T(i, j) means P(tag j given tag i)\n",
    "plt.figure(figsize=(18, 12))\n",
    "sns.heatmap(tags_df)\n",
    "plt.show()"
   ]
  },
  {
   "cell_type": "code",
   "execution_count": 73,
   "metadata": {},
   "outputs": [
    {
     "data": {
      "image/png": "[encoded data removed]",
      "text/plain": [
       "<Figure size 1296x864 with 2 Axes>"
      ]
     },
     "metadata": {},
     "output_type": "display_data"
    }
   ],
   "source": [
    "# frequent tags\n",
    "# filter the df to get P(t2, t1) > 0.25\n",
    "tags_frequent = tags_df[tags_df>0.25]\n",
    "plt.figure(figsize=(18, 12))\n",
    "sns.heatmap(tags_frequent)\n",
    "plt.show()"
   ]
  },
  {
   "cell_type": "markdown",
   "metadata": {},
   "source": [
    "Clearly from the above figure we could see that NOUN is the most likely POS tag that follows DET or PRT or NOUN."
   ]
  },
  {
   "cell_type": "markdown",
   "metadata": {},
   "source": [
    "### Viterbi Algorithm"
   ]
  },
  {
   "cell_type": "markdown",
   "metadata": {},
   "source": [
    "Let's now use the computed probabilities P(w, tag) and P(t2, t1) to assign tags to each word in the document. We'll run through each word w and compute P(tag/w)=P(w/tag).P(tag) for each tag in the tag set, and then assign the tag having the max P(tag/w).\n",
    "\n",
    "We'll store the assigned tags in a list of tuples, similar to the list 'train_tagged_words'. Each tuple will be a (token, assigned_tag). As we progress further in the list, each tag to be assigned will use the tag of the previous token.\n",
    "\n",
    "Note: P(tag|start) = P(tag|'.')"
   ]
  },
  {
   "cell_type": "markdown",
   "metadata": {},
   "source": [
    "### Unmodified Viterbi Heuristic POS tagger"
   ]
  },
  {
   "cell_type": "code",
   "execution_count": 74,
   "metadata": {},
   "outputs": [],
   "source": [
    "# Unmodified Viterbi Heuristic POS tagger\n",
    "def Viterbi(words, train_bag = train_tagged_words):\n",
    "    state = []\n",
    "    T = list(set([pair[1] for pair in train_bag]))\n",
    "    \n",
    "    for key, word in enumerate(words):\n",
    "        #initialise list of probability column for a given observation\n",
    "        p = [] \n",
    "        for tag in T:\n",
    "            if key == 0:\n",
    "                transition_p = tags_df.loc['.', tag]\n",
    "            else:\n",
    "                transition_p = tags_df.loc[state[-1], tag]\n",
    "                \n",
    "            # compute emission and state probabilities\n",
    "            emission_p = word_given_tag(words[key], tag)[0]/word_given_tag(words[key], tag)[1]\n",
    "            state_probability = emission_p * transition_p    \n",
    "            p.append(state_probability)\n",
    "            \n",
    "        pmax = max(p)\n",
    "        # getting state for which probability is maximum\n",
    "        state_max = T[p.index(pmax)] \n",
    "        state.append(state_max)\n",
    "    return list(zip(words, state))"
   ]
  },
  {
   "cell_type": "markdown",
   "metadata": {},
   "source": [
    "### Evaluating on the Validation set"
   ]
  },
  {
   "cell_type": "code",
   "execution_count": 75,
   "metadata": {},
   "outputs": [
    {
     "data": {
      "text/plain": [
       "[[('Few', 'ADJ'),\n",
       "  ('people', 'NOUN'),\n",
       "  ('think', 'VERB'),\n",
       "  ('0', 'X'),\n",
       "  ('Mr.', 'NOUN'),\n",
       "  ('Spiegel', 'NOUN'),\n",
       "  ('wants', 'VERB'),\n",
       "  ('*-1', 'X'),\n",
       "  ('to', 'PRT'),\n",
       "  ('run', 'VERB'),\n",
       "  ('a', 'DET'),\n",
       "  ('bread-and-butter', 'ADJ'),\n",
       "  ('thrift', 'NOUN'),\n",
       "  (',', '.'),\n",
       "  ('which', 'DET'),\n",
       "  ('current', 'ADJ'),\n",
       "  ('rules', 'NOUN'),\n",
       "  ('would', 'VERB'),\n",
       "  ('force', 'VERB'),\n",
       "  ('Columbia', 'NOUN'),\n",
       "  ('to', 'PRT'),\n",
       "  ('become', 'VERB'),\n",
       "  ('*T*-2', 'X'),\n",
       "  ('.', '.')],\n",
       " [('Too', 'ADV'),\n",
       "  ('often', 'ADV'),\n",
       "  ('now', 'ADV'),\n",
       "  (',', '.'),\n",
       "  ('a', 'DET'),\n",
       "  ('single', 'ADJ'),\n",
       "  ('court', 'NOUN'),\n",
       "  ('decision', 'NOUN'),\n",
       "  ('becomes', 'VERB'),\n",
       "  ('the', 'DET'),\n",
       "  ('precedent', 'NOUN'),\n",
       "  ('for', 'ADP'),\n",
       "  ('other', 'ADJ'),\n",
       "  (',', '.'),\n",
       "  ('less', 'ADV'),\n",
       "  ('compelling', 'ADJ'),\n",
       "  ('cases', 'NOUN'),\n",
       "  ('.', '.')],\n",
       " [('The', 'DET'), ('next', 'ADJ'), ('province', 'NOUN'), ('?', '.')],\n",
       " [('After', 'ADP'),\n",
       "  ('the', 'DET'),\n",
       "  ('race', 'NOUN'),\n",
       "  (',', '.'),\n",
       "  ('Fortune', 'NOUN'),\n",
       "  ('500', 'NUM'),\n",
       "  ('executives', 'NOUN'),\n",
       "  ('drooled', 'VERB'),\n",
       "  ('like', 'ADP'),\n",
       "  ('schoolboys', 'NOUN'),\n",
       "  ('over', 'ADP'),\n",
       "  ('the', 'DET'),\n",
       "  ('cars', 'NOUN'),\n",
       "  ('and', 'CONJ'),\n",
       "  ('drivers', 'NOUN'),\n",
       "  ('.', '.')],\n",
       " [('Michael', 'NOUN'),\n",
       "  ('Basham', 'NOUN'),\n",
       "  (',', '.'),\n",
       "  ('deputy', 'NOUN'),\n",
       "  ('assistant', 'NOUN'),\n",
       "  ('secretary', 'NOUN'),\n",
       "  ('for', 'ADP'),\n",
       "  ('federal', 'ADJ'),\n",
       "  ('finance', 'NOUN'),\n",
       "  (',', '.'),\n",
       "  ('said', 'VERB'),\n",
       "  ('0', 'X'),\n",
       "  ('the', 'DET'),\n",
       "  ('Treasury', 'NOUN'),\n",
       "  ('may', 'VERB'),\n",
       "  ('wait', 'VERB'),\n",
       "  ('until', 'ADP'),\n",
       "  ('late', 'ADJ'),\n",
       "  ('Monday', 'NOUN'),\n",
       "  ('or', 'CONJ'),\n",
       "  ('even', 'ADV'),\n",
       "  ('early', 'ADJ'),\n",
       "  ('Tuesday', 'NOUN'),\n",
       "  ('*-2', 'X'),\n",
       "  ('to', 'PRT'),\n",
       "  ('announce', 'VERB'),\n",
       "  ('whether', 'ADP'),\n",
       "  ('the', 'DET'),\n",
       "  ('autions', 'NOUN'),\n",
       "  ('are', 'VERB'),\n",
       "  ('*-1', 'X'),\n",
       "  ('to', 'PRT'),\n",
       "  ('be', 'VERB'),\n",
       "  ('rescheduled', 'VERB'),\n",
       "  ('*-106', 'X'),\n",
       "  ('.', '.')],\n",
       " [('*-1', 'X'),\n",
       "  ('Encouraged', 'ADJ'),\n",
       "  ('*-2', 'X'),\n",
       "  ('by', 'ADP'),\n",
       "  ('Mrs.', 'NOUN'),\n",
       "  ('Ward', 'NOUN'),\n",
       "  (',', '.'),\n",
       "  ('Mrs.', 'NOUN'),\n",
       "  ('Yeargin', 'NOUN'),\n",
       "  ('taught', 'VERB'),\n",
       "  ('honor', 'NOUN'),\n",
       "  ('students', 'NOUN'),\n",
       "  ('in', 'ADP'),\n",
       "  ('the', 'DET'),\n",
       "  ('state', 'NOUN'),\n",
       "  ('``', '.'),\n",
       "  ('teacher', 'NOUN'),\n",
       "  ('cadet', 'NOUN'),\n",
       "  (\"''\", '.'),\n",
       "  ('program', 'NOUN'),\n",
       "  (',', '.'),\n",
       "  ('a', 'DET'),\n",
       "  ('reform', 'NOUN'),\n",
       "  ('creation', 'NOUN'),\n",
       "  ('designed', 'VERB'),\n",
       "  ('*', 'X'),\n",
       "  ('*-3', 'X'),\n",
       "  ('to', 'PRT'),\n",
       "  ('encourage', 'VERB'),\n",
       "  ('good', 'ADJ'),\n",
       "  ('students', 'NOUN'),\n",
       "  ('to', 'PRT'),\n",
       "  ('consider', 'VERB'),\n",
       "  ('teaching', 'NOUN'),\n",
       "  ('as', 'ADP'),\n",
       "  ('a', 'DET'),\n",
       "  ('career', 'NOUN'),\n",
       "  ('.', '.')],\n",
       " [('Even', 'ADV'),\n",
       "  ('a', 'DET'),\n",
       "  ('low-tech', 'ADJ'),\n",
       "  ('product', 'NOUN'),\n",
       "  ('like', 'ADP'),\n",
       "  ('plate', 'NOUN'),\n",
       "  ('glass', 'NOUN'),\n",
       "  ('can', 'VERB'),\n",
       "  ('catch', 'VERB'),\n",
       "  ('a', 'DET'),\n",
       "  ('trading', 'NOUN'),\n",
       "  ('company', 'NOUN'),\n",
       "  (\"'s\", 'PRT'),\n",
       "  ('fancy', 'NOUN'),\n",
       "  ('if', 'ADP'),\n",
       "  ('there', 'DET'),\n",
       "  (\"'s\", 'VERB'),\n",
       "  ('a', 'DET'),\n",
       "  ('strategic', 'ADJ'),\n",
       "  ('fit', 'NOUN'),\n",
       "  ('.', '.')],\n",
       " [('Buying', 'VERB'),\n",
       "  ('for', 'ADP'),\n",
       "  ('the', 'DET'),\n",
       "  ('most', 'ADJ'),\n",
       "  ('part', 'NOUN'),\n",
       "  ('carried', 'VERB'),\n",
       "  ('over', 'PRT'),\n",
       "  ('from', 'ADP'),\n",
       "  ('the', 'DET'),\n",
       "  ('previous', 'ADJ'),\n",
       "  ('session', 'NOUN'),\n",
       "  (',', '.'),\n",
       "  ('and', 'CONJ'),\n",
       "  ('traders', 'NOUN'),\n",
       "  ('apparently', 'ADV'),\n",
       "  ('ignored', 'VERB'),\n",
       "  ('reports', 'NOUN'),\n",
       "  ('that', 'ADP'),\n",
       "  ('a', 'DET'),\n",
       "  ('Chilean', 'ADJ'),\n",
       "  ('mine', 'ADJ'),\n",
       "  ('strike', 'NOUN'),\n",
       "  ('may', 'VERB'),\n",
       "  ('have', 'VERB'),\n",
       "  ('ended', 'VERB'),\n",
       "  ('almost', 'ADV'),\n",
       "  ('before', 'ADP'),\n",
       "  ('it', 'PRON'),\n",
       "  ('began', 'VERB'),\n",
       "  (',', '.'),\n",
       "  ('an', 'DET'),\n",
       "  ('analyst', 'NOUN'),\n",
       "  ('said', 'VERB'),\n",
       "  ('0', 'X'),\n",
       "  ('*T*-1', 'X'),\n",
       "  ('.', '.')],\n",
       " [('A', 'DET'),\n",
       "  ('1', 'NUM'),\n",
       "  ('%', 'NOUN'),\n",
       "  ('to', 'PRT'),\n",
       "  ('2', 'NUM'),\n",
       "  ('%', 'NOUN'),\n",
       "  ('*U*', 'X'),\n",
       "  ('return', 'NOUN'),\n",
       "  ('on', 'ADP'),\n",
       "  ('$', '.'),\n",
       "  ('17', 'NUM'),\n",
       "  ('billion', 'NUM'),\n",
       "  ('*U*', 'X'),\n",
       "  ('``', '.'),\n",
       "  ('ai', 'VERB'),\n",
       "  (\"n't\", 'ADV'),\n",
       "  ('hay', 'NOUN'),\n",
       "  (',', '.'),\n",
       "  (\"''\", '.'),\n",
       "  ('Mr.', 'NOUN'),\n",
       "  ('Klauser', 'NOUN'),\n",
       "  ('says', 'VERB'),\n",
       "  ('0', 'X'),\n",
       "  ('*T*-1', 'X'),\n",
       "  ('.', '.')],\n",
       " [('Such', 'ADJ'),\n",
       "  ('problems', 'NOUN'),\n",
       "  ('will', 'VERB'),\n",
       "  ('require', 'VERB'),\n",
       "  ('considerable', 'ADJ'),\n",
       "  ('skill', 'NOUN'),\n",
       "  ('*', 'X'),\n",
       "  ('to', 'PRT'),\n",
       "  ('resolve', 'VERB'),\n",
       "  ('.', '.')]]"
      ]
     },
     "execution_count": 75,
     "metadata": {},
     "output_type": "execute_result"
    }
   ],
   "source": [
    "# Let's test our Viterbi algorithm on test dataset\n",
    "\n",
    "# list of tagged words\n",
    "test_run_base = [tup for sent in test_set for tup in sent]\n",
    "\n",
    "# list of untagged words\n",
    "test_tagged_words = [tup[0] for sent in test_set for tup in sent]\n",
    "test_set[:10]"
   ]
  },
  {
   "cell_type": "code",
   "execution_count": 76,
   "metadata": {},
   "outputs": [],
   "source": [
    "# tagging the test sentences\n",
    "start = time.time()\n",
    "tagged_seq = Viterbi(test_tagged_words)\n",
    "end = time.time()\n",
    "difference = end-start"
   ]
  },
  {
   "cell_type": "code",
   "execution_count": 112,
   "metadata": {},
   "outputs": [
    {
     "name": "stdout",
     "output_type": "stream",
     "text": [
      "Time taken in seconds:  37.288819551467896\n",
      "Tagged_Seq:\n",
      "\n",
      "[('Few', 'ADJ'), ('people', 'NOUN'), ('think', 'VERB'), ('0', 'X'), ('Mr.', 'NOUN'), ('Spiegel', 'NOUN'), ('wants', 'VERB'), ('*-1', 'X'), ('to', 'PRT'), ('run', 'VERB'), ('a', 'DET'), ('bread-and-butter', 'NOUN'), ('thrift', 'NOUN'), (',', '.'), ('which', 'DET'), ('current', 'ADJ'), ('rules', 'NOUN'), ('would', 'VERB'), ('force', 'VERB'), ('Columbia', 'NOUN'), ('to', 'PRT'), ('become', 'VERB'), ('*T*-2', 'X'), ('.', '.'), ('Too', 'ADV'), ('often', 'ADV'), ('now', 'ADV'), (',', '.'), ('a', 'DET'), ('single', 'ADJ'), ('court', 'NOUN'), ('decision', 'NOUN'), ('becomes', 'VERB'), ('the', 'DET'), ('precedent', 'NOUN'), ('for', 'ADP'), ('other', 'ADJ'), (',', '.'), ('less', 'ADJ'), ('compelling', 'NOUN'), ('cases', 'NOUN'), ('.', '.'), ('The', 'DET'), ('next', 'ADJ'), ('province', 'NOUN'), ('?', '.'), ('After', 'ADP'), ('the', 'DET'), ('race', 'NOUN'), (',', '.'), ('Fortune', 'NOUN'), ('500', 'NUM'), ('executives', 'NOUN'), ('drooled', 'NOUN'), ('like', 'ADP'), ('schoolboys', 'NOUN'), ('over', 'ADP'), ('the', 'DET'), ('cars', 'NOUN'), ('and', 'CONJ'), ('drivers', 'NOUN'), ('.', '.'), ('Michael', 'NOUN'), ('Basham', 'NOUN'), (',', '.'), ('deputy', 'NOUN'), ('assistant', 'NOUN'), ('secretary', 'NOUN'), ('for', 'ADP'), ('federal', 'ADJ'), ('finance', 'NOUN'), (',', '.'), ('said', 'VERB'), ('0', 'X'), ('the', 'DET'), ('Treasury', 'NOUN'), ('may', 'VERB'), ('wait', 'VERB'), ('until', 'ADP'), ('late', 'ADJ'), ('Monday', 'NOUN'), ('or', 'CONJ'), ('even', 'ADV'), ('early', 'ADJ'), ('Tuesday', 'NOUN'), ('*-2', 'X'), ('to', 'PRT'), ('announce', 'VERB'), ('whether', 'ADP'), ('the', 'DET'), ('autions', 'NOUN'), ('are', 'VERB'), ('*-1', 'X'), ('to', 'PRT'), ('be', 'VERB'), ('rescheduled', 'NOUN'), ('*-106', 'NOUN'), ('.', '.'), ('*-1', 'X'), ('Encouraged', 'NOUN'), ('*-2', 'X'), ('by', 'ADP'), ('Mrs.', 'NOUN'), ('Ward', 'NOUN'), (',', '.'), ('Mrs.', 'NOUN'), ('Yeargin', 'NOUN'), ('taught', 'VERB'), ('honor', 'VERB'), ('students', 'NOUN'), ('in', 'ADP'), ('the', 'DET'), ('state', 'NOUN'), ('``', '.'), ('teacher', 'NOUN'), ('cadet', 'NOUN'), (\"''\", '.'), ('program', 'NOUN'), (',', '.'), ('a', 'DET'), ('reform', 'NOUN'), ('creation', 'NOUN'), ('designed', 'VERB'), ('*', 'X'), ('*-3', 'X'), ('to', 'PRT'), ('encourage', 'VERB'), ('good', 'ADJ'), ('students', 'NOUN'), ('to', 'PRT'), ('consider', 'VERB'), ('teaching', 'NOUN'), ('as', 'ADP'), ('a', 'DET'), ('career', 'NOUN'), ('.', '.'), ('Even', 'ADV'), ('a', 'DET'), ('low-tech', 'NOUN'), ('product', 'NOUN'), ('like', 'ADP'), ('plate', 'NOUN'), ('glass', 'NOUN'), ('can', 'VERB'), ('catch', 'NOUN'), ('a', 'DET'), ('trading', 'NOUN'), ('company', 'NOUN'), (\"'s\", 'PRT'), ('fancy', 'NOUN'), ('if', 'ADP'), ('there', 'DET'), (\"'s\", 'VERB'), ('a', 'DET'), ('strategic', 'NOUN'), ('fit', 'NOUN'), ('.', '.'), ('Buying', 'VERB'), ('for', 'ADP'), ('the', 'DET'), ('most', 'ADJ'), ('part', 'NOUN'), ('carried', 'VERB'), ('over', 'ADP'), ('from', 'ADP'), ('the', 'DET'), ('previous', 'ADJ'), ('session', 'NOUN'), (',', '.'), ('and', 'CONJ'), ('traders', 'NOUN'), ('apparently', 'ADV'), ('ignored', 'NOUN'), ('reports', 'NOUN'), ('that', 'ADP'), ('a', 'DET'), ('Chilean', 'ADJ'), ('mine', 'NOUN'), ('strike', 'NOUN'), ('may', 'VERB'), ('have', 'VERB'), ('ended', 'VERB'), ('almost', 'ADV'), ('before', 'ADP'), ('it', 'PRON'), ('began', 'VERB'), (',', '.'), ('an', 'DET'), ('analyst', 'NOUN'), ('said', 'VERB'), ('0', 'X'), ('*T*-1', 'X'), ('.', '.'), ('A', 'DET'), ('1', 'NUM'), ('%', 'NOUN'), ('to', 'PRT'), ('2', 'NUM'), ('%', 'NOUN'), ('*U*', 'X'), ('return', 'VERB'), ('on', 'ADP'), ('$', '.'), ('17', 'NUM'), ('billion', 'NUM'), ('*U*', 'X'), ('``', '.'), ('ai', 'NOUN'), (\"n't\", 'ADV'), ('hay', 'NOUN'), (',', '.'), (\"''\", '.'), ('Mr.', 'NOUN'), ('Klauser', 'NOUN'), ('says', 'VERB'), ('0', 'X'), ('*T*-1', 'X'), ('.', '.'), ('Such', 'ADJ'), ('problems', 'NOUN'), ('will', 'VERB'), ('require', 'VERB'), ('considerable', 'ADJ'), ('skill', 'NOUN'), ('*', 'X'), ('to', 'PRT'), ('resolve', 'VERB'), ('.', '.'), ('Mortgage-Backed', 'NOUN'), ('Issues', 'NOUN'), ('Polls', 'NOUN'), ('once', 'ADV'), ('named', 'VERB'), ('Tokyo', 'NOUN'), ('Giants', 'NOUN'), ('star', 'NOUN'), ('Tatsunori', 'NOUN'), ('Hara', 'NOUN'), (',', '.'), ('a', 'DET'), ('``', '.'), ('humble', 'NOUN'), (',', '.'), ('uncomplaining', 'NOUN'), (',', '.'), ('obedient', 'NOUN'), ('soul', 'NOUN'), (',', '.'), (\"''\", '.'), ('as', 'ADP'), ('the', 'DET'), ('male', 'NOUN'), ('symbol', 'NOUN'), ('of', 'ADP'), ('Japan', 'NOUN'), ('.', '.'), ('The', 'DET'), ('service', 'NOUN'), ('--', '.'), ('which', 'DET'), ('*T*-2', 'X'), ('costs', 'NOUN'), ('the', 'DET'), ('caller', 'NOUN'), ('from', 'ADP'), ('30', 'NUM'), ('cents', 'NOUN'), ('to', 'PRT'), ('$', '.'), ('25', 'NUM'), ('*U*', 'X'), ('a', 'DET'), ('minute', 'ADJ'), ('--', '.'), ('currently', 'ADV'), ('is', 'VERB'), ('dominated', 'VERB'), ('*-1', 'X'), ('by', 'ADP'), ('celebrity', 'NOUN'), ('chatter', 'NOUN'), (',', '.'), ('horoscopes', 'NOUN'), ('and', 'CONJ'), ('romance', 'NOUN'), ('lines', 'NOUN'), ('.', '.'), ('ENERGY', 'NOUN'), (':', '.'), ('Crude', 'ADJ'), ('oil', 'NOUN'), ('futures', 'NOUN'), ('prices', 'NOUN'), ('increased', 'VERB'), ('in', 'ADP'), ('moderate', 'ADJ'), ('trading', 'NOUN'), (',', '.'), ('but', 'CONJ'), ('much', 'ADV'), ('of', 'ADP'), ('the', 'DET'), ('action', 'NOUN'), ('was', 'VERB'), ('in', 'ADP'), ('heating', 'NOUN'), ('oil', 'NOUN'), ('.', '.'), ('Sometimes', 'ADV'), ('you', 'PRON'), ('just', 'ADV'), ('go', 'VERB'), ('with', 'ADP'), ('your', 'PRON'), ('gut', 'NOUN'), ('.', '.'), (\"''\", '.'), ('Sales', 'NOUN'), ('rose', 'VERB'), ('11', 'NUM'), ('%', 'NOUN'), ('to', 'PRT'), ('292.32', 'NOUN'), ('billion', 'NUM'), ('yen', 'NOUN'), ('from', 'ADP'), ('263.07', 'NOUN'), ('billion', 'NUM'), ('yen', 'NOUN'), ('.', '.'), ('Transamerica', 'NOUN'), ('Corp.', 'NOUN'), (',', '.'), ('San', 'NOUN'), ('Francisco', 'NOUN'), (',', '.'), ('said', 'VERB'), ('0', 'X'), ('third-quarter', 'NOUN'), ('profit', 'NOUN'), ('was', 'VERB'), ('essentially', 'ADV'), ('flat', 'ADJ'), ('despite', 'ADP'), ('a', 'DET'), ('large', 'ADJ'), ('one-time', 'ADJ'), ('gain', 'NOUN'), ('a', 'DET'), ('year', 'NOUN'), ('earlier', 'ADV'), ('.', '.'), ('The', 'DET'), ('offer', 'NOUN'), (',', '.'), ('which', 'DET'), ('*T*-2', 'X'), ('follows', 'VERB'), ('a', 'DET'), ('$', '.'), ('55-a-share', 'NOUN'), ('*U*', 'X'), ('bid', 'VERB'), ('that', 'ADP'), ('*T*-3', 'X'), ('was', 'VERB'), ('rejected', 'VERB'), ('*-1', 'X'), ('in', 'ADP'), ('September', 'NOUN'), (',', '.'), ('steps', 'NOUN'), ('up', 'PRT'), ('pressure', 'NOUN'), ('on', 'ADP'), ('the', 'DET'), ('chemicals', 'NOUN'), ('concern', 'NOUN'), ('.', '.'), ('Also', 'ADV'), (',', '.'), ('substantially', 'ADV'), ('lower', 'ADJ'), ('Dutch', 'NOUN'), ('corporate', 'ADJ'), ('tax', 'NOUN'), ('rates', 'NOUN'), ('helped', 'VERB'), ('the', 'DET'), ('company', 'NOUN'), ('keep', 'VERB'), ('its', 'PRON'), ('tax', 'NOUN'), ('outlay', 'NOUN'), ('flat', 'ADJ'), ('relative', 'ADJ'), ('to', 'PRT'), ('earnings', 'NOUN'), ('growth', 'NOUN'), (',', '.'), ('the', 'DET'), ('company', 'NOUN'), ('added', 'VERB'), ('0', 'X'), ('*T*-1', 'X'), ('.', '.'), ('IBM', 'NOUN'), (',', '.'), ('the', 'DET'), ('world', 'NOUN'), ('leader', 'NOUN'), ('in', 'ADP'), ('computers', 'NOUN'), (',', '.'), ('did', 'VERB'), (\"n't\", 'ADV'), ('offer', 'VERB'), ('its', 'PRON'), ('first', 'ADJ'), ('PC', 'NOUN'), ('until', 'ADP'), ('August', 'NOUN'), ('1981', 'NUM'), ('as', 'ADP'), ('many', 'ADJ'), ('other', 'ADJ'), ('companies', 'NOUN'), ('entered', 'VERB'), ('the', 'DET'), ('market', 'NOUN'), ('.', '.'), ('The', 'DET'), ('30-day', 'ADJ'), ('simple', 'ADJ'), ('yield', 'NOUN'), ('fell', 'VERB'), ('to', 'PRT'), ('an', 'DET'), ('average', 'ADJ'), ('8.19', 'NOUN'), ('%', 'NOUN'), ('from', 'ADP'), ('8.22', 'NOUN'), ('%', 'NOUN'), (';', '.'), ('the', 'DET'), ('30-day', 'ADJ'), ('compound', 'NOUN'), ('yield', 'VERB'), ('slid', 'VERB'), ('to', 'PRT'), ('an', 'DET'), ('average', 'ADJ'), ('8.53', 'NOUN'), ('%', 'NOUN'), ('from', 'ADP'), ('8.56', 'NOUN'), ('%', 'NOUN'), ('.', '.'), ('Komatsu', 'NOUN'), ('predicted', 'VERB'), ('that', 'ADP'), ('for', 'ADP'), ('the', 'DET'), ('fiscal', 'ADJ'), ('year', 'NOUN'), ('ending', 'VERB'), ('March', 'NOUN'), ('31', 'NUM'), ('sales', 'NOUN'), ('will', 'VERB'), ('climb', 'NOUN'), ('to', 'PRT'), ('600', 'NUM'), ('billion', 'NUM'), ('yen', 'NOUN'), ('from', 'ADP'), ('566.54', 'NOUN'), ('billion', 'NUM'), ('yen', 'NOUN'), (';', '.'), ('pretax', 'NOUN'), ('profit', 'NOUN'), ('was', 'VERB'), ('forecast', 'VERB'), ('*-1', 'X'), ('at', 'ADP'), ('35', 'NUM'), ('billion', 'NUM'), ('yen', 'NOUN'), (',', '.'), ('up', 'ADV'), ('from', 'ADP'), ('28.53', 'NOUN'), ('billion', 'NUM'), ('yen', 'NOUN'), ('in', 'ADP'), ('fiscal', 'ADJ'), ('1989', 'NUM'), ('.', '.'), ('In', 'ADP'), ('the', 'DET'), ('third', 'ADJ'), ('quarter', 'NOUN'), (',', '.'), ('Georgia', 'NOUN'), ('Gulf', 'NOUN'), ('earned', 'VERB'), ('$', '.'), ('46.1', 'NOUN'), ('million', 'NUM'), ('*U*', 'X'), (',', '.'), ('or', 'CONJ'), ('$', '.'), ('1.85', 'NOUN'), ('*U*', 'X'), ('a', 'DET'), ('share', 'NOUN'), (',', '.'), ('down', 'ADV'), ('from', 'ADP'), ('$', '.'), ('53', 'NUM'), ('million', 'NUM'), ('*U*', 'X'), (',', '.'), ('or', 'CONJ'), ('$', '.'), ('1.85', 'NOUN'), ('*U*', 'X'), ('a', 'DET'), ('share', 'NOUN'), ('on', 'ADP'), ('fewer', 'ADJ'), ('shares', 'NOUN'), ('outstanding', 'ADJ'), ('.', '.'), ('On', 'ADP'), ('the', 'DET'), ('other', 'ADJ'), ('hand', 'NOUN'), (',', '.'), ('if', 'ADP'), ('it', 'PRON'), ('goes', 'VERB'), ('way', 'NOUN'), ('sky', 'NOUN'), ('high', 'ADJ'), (',', '.'), ('I', 'PRON'), ('always', 'ADV'), ('sell', 'VERB'), ('.', '.'), ('``', '.'), ('All', 'DET'), ('of', 'ADP'), ('these', 'DET'), ('forces', 'NOUN'), ('came', 'VERB'), ('together', 'ADV'), ('in', 'ADP'), ('1988', 'NUM'), ('*', 'X'), ('to', 'PRT'), ('benefit', 'VERB'), ('agriculture', 'NOUN'), (',', '.'), (\"''\", '.'), ('Mr.', 'NOUN'), ('Collins', 'NOUN'), ('said', 'VERB'), ('*T*-1', 'X'), ('.', '.'), ('$', '.'), ('107', 'NUM'), ('million', 'NUM'), ('*U*', 'X'), ('of', 'ADP'), ('tax', 'NOUN'), ('allocation', 'NOUN'), ('bonds', 'NOUN'), (',', '.'), ('1989', 'NUM'), ('Series', 'NOUN'), ('A-D', 'NOUN'), (',', '.'), ('due', 'ADJ'), ('1991-1999', 'NOUN'), (',', '.'), ('2009', 'NUM'), ('and', 'CONJ'), ('2019', 'NUM'), (',', '.'), ('tentatively', 'ADV'), ('priced', 'VERB'), ('*', 'X'), ('by', 'ADP'), ('a', 'DET'), ('Donaldson', 'NOUN'), ('Lufkin', 'NOUN'), ('&', 'CONJ'), ('Jenrette', 'NOUN'), ('Securities', 'NOUN'), ('Corp.', 'NOUN'), ('group', 'NOUN'), ('*', 'X'), ('to', 'PRT'), ('yield', 'VERB'), ('from', 'ADP'), ('6.40', 'NUM'), ('%', 'NOUN'), ('in', 'ADP'), ('1991', 'NUM'), ('to', 'PRT'), ('7.458', 'NUM'), ('%', 'NOUN'), ('in', 'ADP'), ('2019', 'NUM'), ('.', '.'), ('Signs', 'NOUN'), ('of', 'ADP'), ('a', 'DET'), ('slowing', 'NOUN'), ('economy', 'NOUN'), ('are', 'VERB'), ('increasing', 'VERB'), ('pressure', 'NOUN'), ('*ICH*-2', 'X'), ('on', 'ADP'), ('the', 'DET'), ('Federal', 'NOUN'), ('Reserve', 'NOUN'), ('*', 'X'), ('to', 'PRT'), ('cut', 'VERB'), ('short-term', 'ADJ'), ('interest', 'NOUN'), ('rates', 'NOUN'), (',', '.'), ('but', 'CONJ'), ('it', 'PRON'), ('*EXP*-1', 'X'), ('is', 'VERB'), (\"n't\", 'ADV'), ('clear', 'ADJ'), ('whether', 'ADP'), ('the', 'DET'), ('central', 'ADJ'), ('bank', 'NOUN'), ('will', 'VERB'), ('do', 'VERB'), ('so', 'ADV'), ('.', '.'), ('Junk', 'NOUN'), ('bonds', 'NOUN'), ('trailed', 'VERB'), ('the', 'DET'), ('group', 'NOUN'), ('again', 'ADV'), ('.', '.'), ('``', '.'), ('Many', 'ADJ'), ('in', 'ADP'), ('the', 'DET'), ('United', 'NOUN'), ('States', 'NOUN'), (',', '.'), ('including', 'VERB'), ('many', 'ADJ'), ('friends', 'NOUN'), ('of', 'ADP'), ('China', 'NOUN'), (',', '.'), ('believe', 'VERB'), ('0', 'X'), ('the', 'DET'), ('crackdown', 'NOUN'), ('was', 'VERB'), ('excessive', 'ADJ'), ('and', 'CONJ'), ('unjustified', 'ADJ'), (',', '.'), (\"''\", '.'), ('Mr.', 'NOUN'), ('Nixon', 'NOUN'), ('told', 'VERB'), ('Mr.', 'NOUN'), ('Yang', 'NOUN'), (',', '.'), ('who', 'PRON'), ('*T*-242', 'NOUN'), ('was', 'VERB'), ('directly', 'ADV'), ('involved', 'VERB'), ('*-2', 'X'), ('in', 'ADP'), ('*', 'X'), ('ordering', 'NOUN'), ('the', 'DET'), ('attack', 'NOUN'), ('*T*-1', 'X'), ('.', '.'), ('``', '.'), ('The', 'DET'), ('unavailability', 'NOUN'), ('of', 'ADP'), ('federal', 'ADJ'), ('funds', 'NOUN'), (',', '.'), ('and', 'CONJ'), ('the', 'DET'), ('climate', 'NOUN'), ('in', 'ADP'), ('which', 'DET'), ('the', 'DET'), ('decision', 'NOUN'), ('was', 'VERB'), ('made', 'VERB'), ('*-2', 'X'), ('*T*-1', 'X'), (',', '.'), ('certainly', 'ADV'), ('do', 'VERB'), (\"n't\", 'ADV'), ('provide', 'VERB'), ('any', 'DET'), ('incentive', 'NOUN'), ('for', 'ADP'), ('one', 'NUM'), ('of', 'ADP'), ('the', 'DET'), ('more', 'ADJ'), ('visible', 'ADJ'), ('foundations', 'NOUN'), ('to', 'PRT'), ('provide', 'VERB'), ('support', 'VERB'), (',', '.'), (\"''\", '.'), ('he', 'PRON'), ('said', 'VERB'), ('*T*-3', 'X'), ('.', '.'), ('In', 'ADP'), ('any', 'DET'), ('case', 'NOUN'), (',', '.'), ('opinion', 'NOUN'), ('*ICH*-2', 'X'), ('is', 'VERB'), ('mixed', 'VERB'), ('on', 'ADP'), ('how', 'ADV'), ('much', 'ADV'), ('of', 'ADP'), ('a', 'DET'), ('boost', 'NOUN'), ('the', 'DET'), ('overall', 'ADJ'), ('stock', 'NOUN'), ('market', 'NOUN'), ('would', 'VERB'), ('get', 'VERB'), ('*T*-1', 'X'), ('even', 'ADV'), ('if', 'ADP'), ('dividend', 'NOUN'), ('growth', 'NOUN'), ('continues', 'VERB'), ('at', 'ADP'), ('double-digit', 'ADJ'), ('levels', 'NOUN'), ('.', '.'), ('Terms', 'NOUN'), ('were', 'VERB'), (\"n't\", 'ADV'), ('disclosed', 'VERB'), ('*-1', 'X'), ('.', '.'), ('Virtually', 'NOUN'), ('word', 'NOUN'), ('for', 'ADP'), ('word', 'NOUN'), (',', '.'), ('the', 'DET'), ('notes', 'NOUN'), ('matched', 'VERB'), ('questions', 'NOUN'), ('and', 'CONJ'), ('answers', 'NOUN'), ('on', 'ADP'), ('the', 'DET'), ('social-studies', 'NOUN'), ('section', 'NOUN'), ('of', 'ADP'), ('the', 'DET'), ('test', 'NOUN'), ('0', 'X'), ('the', 'DET'), ('student', 'NOUN'), ('was', 'VERB'), ('taking', 'VERB'), ('*T*-1', 'X'), ('.', '.'), ('Hallwood', 'NOUN'), (',', '.'), ('a', 'DET'), ('Cleveland', 'NOUN'), ('merchant', 'NOUN'), ('bank', 'NOUN'), (',', '.'), ('owns', 'VERB'), ('about', 'ADP'), ('11', 'NUM'), ('%', 'NOUN'), ('of', 'ADP'), ('Integra', 'NOUN'), ('.', '.'), ('After', 'ADP'), ('years', 'NOUN'), ('of', 'ADP'), ('struggling', 'VERB'), (',', '.'), ('the', 'DET'), ('Los', 'NOUN'), ('Angeles', 'NOUN'), ('Herald', 'NOUN'), ('Examiner', 'NOUN'), ('will', 'VERB'), ('publish', 'VERB'), ('its', 'PRON'), ('last', 'ADJ'), ('edition', 'NOUN'), ('today', 'NOUN'), (',', '.'), ('*-1', 'X'), ('shut', 'VERB'), ('down', 'ADV'), ('by', 'ADP'), ('its', 'PRON'), ('parent', 'NOUN'), (',', '.'), ('Hearst', 'NOUN'), ('Corp.', 'NOUN'), (',', '.'), ('following', 'VERB'), ('unsuccessful', 'ADJ'), ('efforts', 'NOUN'), ('*', 'X'), ('to', 'PRT'), ('sell', 'VERB'), ('the', 'DET'), ('venerable', 'ADJ'), ('newspaper', 'NOUN'), ('.', '.'), ('Compromises', 'NOUN'), ('are', 'VERB'), ('possible', 'ADJ'), ('.', '.'), ('Sir', 'NOUN'), ('Peter', 'NOUN'), ('will', 'VERB'), ('succeed', 'VERB'), ('Sir', 'NOUN'), ('John', 'NOUN'), ('Milne', 'NOUN'), (',', '.'), ('65', 'NUM'), (',', '.'), ('who', 'PRON'), ('*T*-158', 'NOUN'), ('retires', 'NOUN'), ('as', 'ADP'), ('Blue', 'NOUN'), ('Circle', 'NOUN'), ('nonexecutive', 'ADJ'), ('chairman', 'NOUN'), ('on', 'ADP'), ('June', 'NOUN'), ('1', 'NUM'), ('.', '.'), ('Partly', 'ADV'), ('because', 'ADP'), ('of', 'ADP'), ('worries', 'VERB'), ('about', 'ADP'), ('potential', 'ADJ'), ('abuse', 'NOUN'), (',', '.'), ('however', 'ADV'), (',', '.'), ('he', 'PRON'), ('says', 'VERB'), ('0', 'X'), ('the', 'DET'), ('state', 'NOUN'), ('will', 'VERB'), ('begin', 'VERB'), ('*-1', 'X'), ('keeping', 'VERB'), ('closer', 'ADV'), ('track', 'NOUN'), ('of', 'ADP'), ('achievement-test', 'NOUN'), ('preparation', 'NOUN'), ('booklets', 'NOUN'), ('next', 'ADP'), ('spring', 'NOUN'), ('.', '.'), ('Mr.', 'NOUN'), ('Egnuss', 'NOUN'), (\"'s\", 'PRT'), ('dislike', 'VERB'), ('of', 'ADP'), ('program', 'NOUN'), ('trading', 'NOUN'), ('is', 'VERB'), ('echoed', 'NOUN'), ('*-1', 'X'), ('by', 'ADP'), ('many', 'ADJ'), ('small', 'ADJ'), ('investors', 'NOUN'), ('interviewed', 'VERB'), ('*', 'X'), ('by', 'ADP'), ('Wall', 'NOUN'), ('Street', 'NOUN'), ('Journal', 'NOUN'), ('reporters', 'NOUN'), ('across', 'ADP'), ('the', 'DET'), ('country', 'NOUN'), ('.', '.'), ('Mrs.', 'NOUN'), ('Ward', 'NOUN'), ('says', 'VERB'), ('that', 'ADP'), ('when', 'ADV'), ('the', 'DET'), ('cheating', 'NOUN'), ('was', 'VERB'), ('discovered', 'VERB'), ('*-4', 'X'), ('*T*-1', 'X'), (',', '.'), ('she', 'PRON'), ('wanted', 'VERB'), ('*-2', 'X'), ('to', 'PRT'), ('avoid', 'VERB'), ('the', 'DET'), ('morale-damaging', 'NOUN'), ('public', 'NOUN'), ('disclosure', 'NOUN'), ('that', 'ADP'), ('a', 'DET'), ('trial', 'NOUN'), ('would', 'VERB'), ('bring', 'VERB'), ('*T*-3', 'X'), ('.', '.'), ('Any', 'DET'), ('question', 'NOUN'), ('as', 'ADP'), ('to', 'PRT'), ('why', 'ADV'), ('an', 'DET'), ('author', 'NOUN'), ('would', 'VERB'), ('believe', 'VERB'), ('0', 'X'), ('this', 'DET'), ('plaintive', 'NOUN'), (',', '.'), ('high-minded', 'NOUN'), ('note', 'NOUN'), ('of', 'ADP'), ('assurance', 'NOUN'), ('is', 'VERB'), ('necessary', 'ADJ'), ('*T*-2', 'X'), ('is', 'VERB'), ('answered', 'VERB'), ('*-1', 'X'), ('by', 'ADP'), ('*', 'X'), ('reading', 'NOUN'), ('this', 'DET'), ('book', 'NOUN'), ('about', 'ADP'), ('sticky', 'NOUN'), ('fingers', 'NOUN'), ('and', 'CONJ'), ('sweaty', 'NOUN'), ('scammers', 'NOUN'), ('.', '.'), ('That', 'DET'), ('explains', 'VERB'), ('why', 'ADV'), ('the', 'DET'), ('number', 'NOUN'), ('of', 'ADP'), ('these', 'DET'), ('wines', 'NOUN'), ('is', 'VERB'), ('expanding', 'VERB'), ('so', 'ADV'), ('rapidly', 'ADV'), ('.', '.'), ('The', 'DET'), ('utility', 'NOUN'), ('has', 'VERB'), ('been', 'VERB'), ('collecting', 'NOUN'), ('for', 'ADP'), ('the', 'DET'), ('plant', 'NOUN'), (\"'s\", 'PRT'), ('construction', 'NOUN'), ('cost', 'NOUN'), ('from', 'ADP'), ('its', 'PRON'), ('3.1', 'NUM'), ('million', 'NUM'), ('customers', 'NOUN'), ('subject', 'NOUN'), ('to', 'PRT'), ('a', 'DET'), ('refund', 'NOUN'), ('since', 'ADP'), ('1986', 'NUM'), ('.', '.'), ('Upjohn', 'NOUN'), ('officials', 'NOUN'), ('said', 'VERB'), ('0', 'X'), ('they', 'PRON'), ('could', 'VERB'), (\"n't\", 'ADV'), ('estimate', 'NOUN'), ('the', 'DET'), ('size', 'NOUN'), ('of', 'ADP'), ('the', 'DET'), ('charge', 'NOUN'), ('until', 'ADP'), ('they', 'PRON'), ('determine', 'VERB'), ('which', 'DET'), ('employees', 'NOUN'), (',', '.'), ('and', 'CONJ'), ('how', 'ADV'), ('many', 'ADJ'), (',', '.'), ('*T*-1', 'X'), ('will', 'VERB'), ('participate', 'VERB'), ('in', 'ADP'), ('the', 'DET'), ('retirement', 'NOUN'), ('plan', 'NOUN'), ('.', '.'), ('LSI', 'NOUN'), ('Logic', 'NOUN'), ('Corp.', 'NOUN'), ('reported', 'VERB'), ('a', 'DET'), ('surprise', 'NOUN'), ('$', '.'), ('35.7', 'NUM'), ('million', 'NUM'), ('*U*', 'X'), ('third-quarter', 'NOUN'), ('net', 'NOUN'), ('loss', 'NOUN'), (',', '.'), ('including', 'VERB'), ('a', 'DET'), ('special', 'ADJ'), ('restructuring', 'NOUN'), ('charge', 'NOUN'), ('that', 'ADP'), ('*T*-145', 'NOUN'), ('reflects', 'VERB'), ('a', 'DET'), ('continuing', 'VERB'), ('industry-wide', 'NOUN'), ('slowdown', 'NOUN'), ('in', 'ADP'), ('semiconductor', 'NOUN'), ('demand', 'NOUN'), ('.', '.'), ('Sony', 'NOUN'), ('is', 'VERB'), ('paying', 'VERB'), ('$', '.'), ('27', 'NUM'), ('*U*', 'X'), ('a', 'DET'), ('share', 'NOUN'), (',', '.'), ('or', 'CONJ'), ('$', '.'), ('3.55', 'NOUN'), ('billion', 'NUM'), ('*U*', 'X'), (',', '.'), ('cash', 'NOUN'), ('and', 'CONJ'), ('is', 'VERB'), ('assuming', 'VERB'), ('$', '.'), ('1.4', 'NOUN'), ('billion', 'NUM'), ('*U*', 'X'), ('of', 'ADP'), ('long-term', 'ADJ'), ('debt', 'NOUN'), ('.', '.'), ('The', 'DET'), ('Coleman', 'NOUN'), ('counterattack', 'NOUN'), ('featured', 'VERB'), ('a', 'DET'), ('close-up', 'NOUN'), ('of', 'ADP'), ('a', 'DET'), ('young', 'ADJ'), ('woman', 'NOUN'), ('in', 'ADP'), ('shadows', 'NOUN'), ('and', 'CONJ'), ('the', 'DET'), ('ad', 'NOUN'), ('suggested', 'VERB'), ('that', 'ADP'), ('she', 'PRON'), ('was', 'VERB'), ('recalling', 'NOUN'), ('an', 'DET'), ('unpleasant', 'NOUN'), ('courtroom', 'NOUN'), ('ordeal', 'NOUN'), ('.', '.'), ('The', 'DET'), ('nonprofit', 'ADJ'), (',', '.'), ('industry-supported', 'NOUN'), ('group', 'NOUN'), ('said', 'VERB'), ('0', 'X'), ('its', 'PRON'), ('Consumer', 'NOUN'), ('Confidence', 'NOUN'), ('Index', 'NOUN'), ('was', 'VERB'), ('116.4', 'NOUN'), ('in', 'ADP'), ('October', 'NOUN'), (',', '.'), ('*-1', 'X'), ('barely', 'NOUN'), ('changed', 'VERB'), ('*-2', 'X'), ('from', 'ADP'), ('a', 'DET'), ('revised', 'NOUN'), ('116.3', 'NOUN'), ('in', 'ADP'), ('September', 'NOUN'), ('.', '.'), ('``', '.'), ('What', 'PRON'), ('sector', 'NOUN'), ('is', 'VERB'), ('*T*-46', 'X'), ('stepping', 'VERB'), ('forward', 'ADV'), ('*-2', 'X'), ('to', 'PRT'), ('pick', 'VERB'), ('up', 'ADV'), ('the', 'DET'), ('slack', 'ADJ'), ('?', '.'), (\"''\", '.'), ('he', 'PRON'), ('asked', 'VERB'), ('*T*-1', 'X'), ('.', '.'), ('The', 'DET'), ('sweeping', 'ADJ'), ('nature', 'NOUN'), ('of', 'ADP'), ('the', 'DET'), ('bill', 'NOUN'), ('draws', 'NOUN'), ('a', 'DET'), ('variety', 'NOUN'), ('of', 'ADP'), ('special', 'ADJ'), ('interest', 'NOUN'), ('amendments', 'NOUN'), (',', '.'), ('running', 'VERB'), ('from', 'ADP'), ('an', 'DET'), ('import', 'NOUN'), ('exemption', 'NOUN'), ('for', 'ADP'), ('a', 'DET'), ('California', 'NOUN'), ('airplane', 'NOUN'), ('museum', 'NOUN'), ('to', 'PRT'), ('a', 'DET'), ('small', 'ADJ'), ('but', 'CONJ'), ('intriguing', 'NOUN'), ('struggle', 'NOUN'), ('among', 'ADP'), ('sugar', 'NOUN'), ('producing', 'VERB'), ('nations', 'NOUN'), ('over', 'ADP'), ('the', 'DET'), ('fate', 'NOUN'), ('of', 'ADP'), ('Panama', 'NOUN'), (\"'s\", 'PRT'), ('quota', 'NOUN'), ('of', 'ADP'), ('exports', 'NOUN'), ('to', 'PRT'), ('the', 'DET'), ('profitable', 'ADJ'), ('U.S.', 'NOUN'), ('market', 'NOUN'), ('.', '.'), ('Trinity', 'NOUN'), ('Industries', 'NOUN'), ('Inc.', 'NOUN'), ('said', 'VERB'), ('0', 'X'), ('it', 'PRON'), ('reached', 'VERB'), ('a', 'DET'), ('preliminary', 'ADJ'), ('agreement', 'NOUN'), ('*', 'X'), ('to', 'PRT'), ('sell', 'VERB'), ('500', 'NUM'), ('railcar', 'NOUN'), ('platforms', 'NOUN'), ('to', 'PRT'), ('Trailer', 'NOUN'), ('Train', 'NOUN'), ('Co.', 'NOUN'), ('of', 'ADP'), ('Chicago', 'NOUN'), ('.', '.'), ('20', 'NUM'), ('million', 'NUM'), ('Swiss', 'ADJ'), ('francs', 'NOUN'), ('of', 'ADP'), ('6', 'NUM'), ('1\\\\/2', 'NUM'), ('%', 'NOUN'), ('privately', 'ADV'), ('placed', 'VERB'), ('notes', 'NOUN'), ('due', 'ADJ'), ('Nov.', 'NOUN'), ('29', 'NUM'), (',', '.'), ('1996', 'NOUN'), (',', '.'), ('priced', 'VERB'), ('*', 'X'), ('at', 'ADP'), ('99', 'NUM'), ('1\\\\/2', 'NUM'), ('via', 'ADP'), ('Dai-Ichi', 'NOUN'), ('Kangyo', 'NOUN'), ('Bank', 'NOUN'), ('-LRB-', '.'), ('Schweiz', 'NOUN'), ('-RRB-', '.'), ('.', '.'), ('Highway', 'NOUN'), ('officials', 'NOUN'), ('insist', 'VERB'), ('0', 'X'), ('the', 'DET'), ('ornamental', 'NOUN'), ('railings', 'NOUN'), ('on', 'ADP'), ('older', 'ADJ'), ('bridges', 'NOUN'), ('are', 'VERB'), (\"n't\", 'ADV'), ('strong', 'ADJ'), ('enough', 'ADJ'), ('*', 'X'), ('to', 'PRT'), ('prevent', 'VERB'), ('vehicles', 'NOUN'), ('from', 'ADP'), ('*', 'X'), ('crashing', 'NOUN'), ('through', 'ADP'), ('.', '.'), ('Despite', 'ADP'), ('the', 'DET'), ('enormous', 'ADJ'), ('sums', 'NOUN'), ('of', 'ADP'), ('money', 'NOUN'), ('0', 'X'), ('they', 'PRON'), (\"'re\", 'VERB'), ('paid', 'VERB'), ('*T*-1', 'X'), ('*-2', 'X'), ('to', 'PRT'), ('stand', 'VERB'), ('up', 'ADV'), ('at', 'ADP'), ('a', 'DET'), ('Japanese', 'ADJ'), ('plate', 'NOUN'), (',', '.'), ('a', 'DET'), ('good', 'ADJ'), ('number', 'NOUN'), ('decide', 'VERB'), ('0', 'X'), ('it', 'PRON'), (\"'s\", 'VERB'), ('not', 'ADV'), ('worth', 'ADP'), ('it', 'PRON'), ('and', 'CONJ'), ('run', 'VERB'), ('for', 'ADP'), ('home', 'NOUN'), ('.', '.'), ('In', 'ADP'), ('early', 'ADJ'), ('trading', 'NOUN'), ('in', 'ADP'), ('Hong', 'NOUN'), ('Kong', 'NOUN'), ('Thursday', 'NOUN'), (',', '.'), ('gold', 'NOUN'), ('was', 'VERB'), ('quoted', 'VERB'), ('*-1', 'X'), ('at', 'ADP'), ('$', '.'), ('374.19', 'NOUN'), ('*U*', 'X'), ('an', 'DET'), ('ounce', 'NOUN'), ('.', '.'), ('A', 'DET'), ('Reuters', 'NOUN'), ('spokesman', 'NOUN'), ('said', 'VERB'), ('0', 'X'), ('the', 'DET'), ('departure', 'NOUN'), ('reflects', 'VERB'), ('``', '.'), ('no', 'DET'), ('change', 'NOUN'), ('in', 'ADP'), ('strategy', 'NOUN'), ('or', 'CONJ'), ('profits', 'NOUN'), ('.', '.'), (\"''\", '.'), ('The', 'DET'), ('1990', 'NUM'), ('appropriations', 'NOUN'), ('legislation', 'NOUN'), ('attempts', 'NOUN'), ('*-1', 'X'), ('to', 'PRT'), ('strip', 'NOUN'), ('the', 'DET'), ('president', 'NOUN'), ('of', 'ADP'), ('his', 'PRON'), ('powers', 'NOUN'), ('*', 'X'), ('to', 'PRT'), ('make', 'VERB'), ('certain', 'ADJ'), ('appointments', 'NOUN'), ('as', 'ADP'), ('*', 'X'), ('provided', 'VERB'), ('*-2', 'X'), ('by', 'ADP'), ('Article', 'NOUN'), ('II', 'NOUN'), ('.', '.'), ('Bob', 'NOUN'), ('has', 'VERB'), ('an', 'DET'), ('agenda', 'NOUN'), ('and', 'CONJ'), ('this', 'DET'), ('seemed', 'VERB'), ('like', 'ADP'), ('the', 'DET'), ('natural', 'ADJ'), ('time', 'NOUN'), ('.', '.'), (\"''\", '.'), ('He', 'PRON'), ('enters', 'VERB'), ('the', 'DET'), ('story', 'NOUN'), ('toward', 'ADP'), ('the', 'DET'), ('end', 'NOUN'), (',', '.'), ('just', 'ADV'), ('in', 'ADP'), ('time', 'NOUN'), ('0', 'X'), ('*', 'X'), ('to', 'PRT'), ('get', 'VERB'), ('*-1', 'X'), ('arrested', 'NOUN'), ('*-1', 'X'), ('*T*-2', 'X'), ('.', '.'), ('The', 'DET'), ('roofs', 'NOUN'), ('would', 'VERB'), ('be', 'VERB'), ('required', 'VERB'), ('*-1', 'X'), ('to', 'PRT'), ('withstand', 'VERB'), ('a', 'DET'), ('force', 'NOUN'), ('of', 'ADP'), ('1.5', 'NUM'), ('times', 'NOUN'), ('the', 'DET'), ('unloaded', 'NOUN'), ('weight', 'NOUN'), ('of', 'ADP'), ('the', 'DET'), ('vehicle', 'NOUN'), ('.', '.'), ('The', 'DET'), ('Central', 'NOUN'), ('Council', 'NOUN'), ('of', 'ADP'), ('Church', 'NOUN'), ('Bell', 'NOUN'), ('Ringers', 'NOUN'), (',', '.'), ('a', 'DET'), ('sort', 'NOUN'), ('of', 'ADP'), ('parliament', 'NOUN'), ('of', 'ADP'), ('ringing', 'NOUN'), ('groups', 'NOUN'), (',', '.'), ('aims', 'NOUN'), ('*-1', 'X'), ('to', 'PRT'), ('improve', 'VERB'), ('relations', 'NOUN'), ('with', 'ADP'), ('vicars', 'NOUN'), (',', '.'), ('says', 'VERB'), ('0', 'X'), ('*T*-2', 'X'), ('John', 'NOUN'), ('C.', 'NOUN'), ('Baldwin', 'NOUN'), (',', '.'), ('president', 'NOUN'), ('.', '.'), ('Workers', 'NOUN'), ('dumped', 'VERB'), ('large', 'ADJ'), ('burlap', 'NOUN'), ('sacks', 'NOUN'), ('of', 'ADP'), ('the', 'DET'), ('imported', 'VERB'), ('material', 'NOUN'), ('into', 'ADP'), ('a', 'DET'), ('huge', 'ADJ'), ('bin', 'NOUN'), (',', '.'), ('poured', 'NOUN'), ('in', 'ADP'), ('cotton', 'NOUN'), ('and', 'CONJ'), ('acetate', 'NOUN'), ('fibers', 'NOUN'), ('and', 'CONJ'), ('mechanically', 'NOUN'), ('mixed', 'VERB'), ('the', 'DET'), ('dry', 'ADJ'), ('fibers', 'NOUN'), ('in', 'ADP'), ('a', 'DET'), ('process', 'NOUN'), ('used', 'VERB'), ('*', 'X'), ('*', 'X'), ('to', 'PRT'), ('make', 'VERB'), ('filters', 'NOUN'), ('.', '.'), ('Then', 'ADV'), (',', '.'), ('just', 'ADV'), ('as', 'ADP'), ('an', 'DET'), ('image', 'NOUN'), ('of', 'ADP'), ('the', 'DET'), ('statue', 'NOUN'), ('of', 'ADP'), ('Thomas', 'NOUN'), ('Jefferson', 'NOUN'), ('dissolves', 'NOUN'), ('from', 'ADP'), ('the', 'DET'), ('screen', 'NOUN'), (',', '.'), ('the', 'DET'), ('announcer', 'NOUN'), ('continues', 'VERB'), (':', '.'), ('``', '.'), ('On', 'ADP'), ('the', 'DET'), ('issue', 'NOUN'), ('of', 'ADP'), ('abortion', 'NOUN'), (',', '.'), ('Marshall', 'NOUN'), ('Coleman', 'NOUN'), ('wants', 'VERB'), ('*-1', 'X'), ('to', 'PRT'), ('take', 'VERB'), ('away', 'ADV'), ('your', 'PRON'), ('right', 'NOUN'), ('*', 'X'), ('to', 'PRT'), ('choose', 'VERB'), ('and', 'CONJ'), ('*-1', 'X'), ('give', 'VERB'), ('it', 'PRON'), ('to', 'PRT'), ('the', 'DET'), ('politicians', 'NOUN'), ('.', '.'), (\"''\", '.'), ('``', '.'), ('There', 'DET'), ('is', 'VERB'), ('incredible', 'NOUN'), ('pressure', 'NOUN'), ('*ICH*-2', 'X'), ('on', 'ADP'), ('school', 'NOUN'), ('systems', 'NOUN'), ('and', 'CONJ'), ('teachers', 'NOUN'), ('*', 'X'), ('to', 'PRT'), ('raise', 'VERB'), ('test', 'NOUN'), ('scores', 'NOUN'), (',', '.'), (\"''\", '.'), ('says', 'VERB'), ('*T*-1', 'X'), ('Walt', 'NOUN'), ('Haney', 'NOUN'), (',', '.'), ('an', 'DET'), ('education', 'NOUN'), ('professor', 'NOUN'), ('and', 'CONJ'), ('testing', 'NOUN'), ('specialist', 'NOUN'), ('at', 'ADP'), ('Boston', 'NOUN'), ('College', 'NOUN'), ('.', '.'), ('Czechoslovakia', 'NOUN'), ('said', 'VERB'), ('in', 'ADP'), ('May', 'NOUN'), ('0', 'X'), ('it', 'PRON'), ('could', 'VERB'), ('seek', 'VERB'), ('$', '.'), ('2', 'NUM'), ('billion', 'NUM'), ('*U*', 'X'), ('from', 'ADP'), ('Hungary', 'NOUN'), ('if', 'ADP'), ('the', 'DET'), ('twindam', 'NOUN'), ('contract', 'NOUN'), ('were', 'VERB'), ('broken', 'VERB'), ('*-68', 'X'), ('.', '.'), ('Michael', 'NOUN'), ('Ross', 'NOUN'), (',', '.'), ('a', 'DET'), ('New', 'NOUN'), ('York', 'NOUN'), ('lawyer', 'NOUN'), ('who', 'PRON'), ('*T*-132', 'NOUN'), ('heads', 'VERB'), ('the', 'DET'), ('ABA', 'NOUN'), (\"'s\", 'PRT'), ('grand', 'NOUN'), ('jury', 'NOUN'), ('committee', 'NOUN'), (',', '.'), ('said', 'VERB'), ('that', 'ADP'), ('lawyers', 'NOUN'), ('are', 'VERB'), ('prohibited', 'NOUN'), ('*-1', 'X'), ('by', 'ADP'), ('the', 'DET'), ('ABA', 'NOUN'), (\"'s\", 'PRT'), ('code', 'NOUN'), ('of', 'ADP'), ('ethics', 'NOUN'), ('from', 'ADP'), ('*-1', 'X'), ('disclosing', 'NOUN'), ('information', 'NOUN'), ('about', 'ADP'), ('a', 'DET'), ('client', 'NOUN'), ('except', 'ADP'), ('where', 'ADV'), ('a', 'DET'), ('court', 'NOUN'), ('orders', 'NOUN'), ('it', 'PRON'), ('*T*-3', 'X'), ('or', 'CONJ'), ('*-1', 'X'), ('to', 'PRT'), ('prevent', 'VERB'), ('the', 'DET'), ('client', 'NOUN'), ('from', 'ADP'), ('*-4', 'X'), ('committing', 'NOUN'), ('a', 'DET'), ('criminal', 'ADJ'), ('act', 'NOUN'), ('that', 'ADP'), ('*T*-2', 'X'), ('could', 'VERB'), ('result', 'VERB'), ('in', 'ADP'), ('death', 'NOUN'), ('.', '.'), ('For', 'ADP'), ('their', 'PRON'), ('part', 'NOUN'), (',', '.'), ('Taiwan', 'NOUN'), ('and', 'CONJ'), ('South', 'NOUN'), ('Korea', 'NOUN'), ('are', 'VERB'), ('expected', 'VERB'), ('*-1', 'X'), ('to', 'PRT'), ('step', 'VERB'), ('up', 'ADV'), ('their', 'PRON'), ('own', 'ADJ'), ('investments', 'NOUN'), ('in', 'ADP'), ('the', 'DET'), ('next', 'ADJ'), ('decade', 'NOUN'), ('*-2', 'X'), ('to', 'PRT'), ('try', 'VERB'), ('*-3', 'X'), ('to', 'PRT'), ('slow', 'VERB'), ('the', 'DET'), ('Japanese', 'ADJ'), ('juggernaut', 'NOUN'), ('.', '.'), ('``', '.'), ('Insurance', 'NOUN'), ('agents', 'NOUN'), ('have', 'VERB'), ('been', 'VERB'), ('forced', 'VERB'), ('*-158', 'NOUN'), ('by', 'ADP'), ('their', 'PRON'), ('companies', 'NOUN'), ('into', 'ADP'), ('*-2', 'X'), ('becoming', 'VERB'), ('registered', 'VERB'), ('reps', 'NOUN'), (',', '.'), (\"''\", '.'), ('he', 'PRON'), ('said', 'VERB'), ('*T*-1', 'X'), (',', '.'), ('``', '.'), ('but', 'CONJ'), ('they', 'PRON'), ('are', 'VERB'), ('not', 'ADV'), ('providing', 'VERB'), ('compliance', 'NOUN'), ('and', 'CONJ'), ('security-type', 'NOUN'), ('training', 'NOUN'), ('so', 'ADV'), ('that', 'ADP'), ('we', 'PRON'), ('can', 'VERB'), ('avoid', 'VERB'), ('stupid', 'ADJ'), ('mistakes', 'NOUN'), ('.', '.'), (\"''\", '.'), ('An', 'DET'), ('official', 'NOUN'), ('for', 'ADP'), ('the', 'DET'), ('lead', 'NOUN'), ('underwriter', 'NOUN'), ('declined', 'VERB'), ('*-1', 'X'), ('to', 'PRT'), ('comment', 'VERB'), ('on', 'ADP'), ('the', 'DET'), ('reason', 'NOUN'), ('for', 'ADP'), ('the', 'DET'), ('delay', 'VERB'), (',', '.'), ('but', 'CONJ'), ('market', 'NOUN'), ('participants', 'NOUN'), ('speculated', 'VERB'), ('that', 'ADP'), ('a', 'DET'), ('number', 'NOUN'), ('of', 'ADP'), ('factors', 'NOUN'), (',', '.'), ('including', 'VERB'), ('a', 'DET'), ('lack', 'NOUN'), ('of', 'ADP'), ('investor', 'NOUN'), ('interest', 'NOUN'), (',', '.'), ('were', 'VERB'), ('responsible', 'ADJ'), ('.', '.'), ('Panama', 'NOUN'), ('was', 'VERB'), ('stripped', 'NOUN'), ('*-8', 'X'), ('of', 'ADP'), ('this', 'DET'), ('right', 'NOUN'), ('because', 'ADP'), ('of', 'ADP'), ('U.S.', 'NOUN'), ('differences', 'NOUN'), ('with', 'ADP'), ('the', 'DET'), ('Noriega', 'NOUN'), ('regime', 'NOUN'), (',', '.'), ('but', 'CONJ'), ('the', 'DET'), ('Central', 'NOUN'), ('American', 'NOUN'), ('country', 'NOUN'), ('would', 'VERB'), ('have', 'VERB'), ('received', 'VERB'), ('a', 'DET'), ('quota', 'NOUN'), ('of', 'ADP'), ('30,537', 'NOUN'), ('metric', 'ADJ'), ('tons', 'NOUN'), ('over', 'ADP'), ('a', 'DET'), ('21-month', 'NOUN'), ('period', 'NOUN'), ('ending', 'VERB'), ('Sept.', 'NOUN'), ('30', 'NUM'), (',', '.'), ('1990', 'NUM'), ('.', '.'), ('The', 'DET'), ('ban', 'NOUN'), ('on', 'ADP'), ('cross-border', 'NOUN'), ('movement', 'NOUN'), ('was', 'VERB'), ('imposed', 'VERB'), ('*-1', 'X'), ('last', 'ADJ'), ('month', 'NOUN'), ('after', 'ADP'), ('a', 'DET'), ('massive', 'ADJ'), ('exodus', 'NOUN'), ('of', 'ADP'), ('emigres', 'NOUN'), ('to', 'PRT'), ('West', 'NOUN'), ('Germany', 'NOUN'), ('.', '.'), ('``', '.'), ('The', 'DET'), ('events', 'NOUN'), ('of', 'ADP'), ('April', 'NOUN'), ('through', 'ADP'), ('June', 'NOUN'), ('damaged', 'VERB'), ('the', 'DET'), ('respect', 'NOUN'), ('and', 'CONJ'), ('confidence', 'NOUN'), ('which', 'DET'), ('most', 'ADJ'), ('Americans', 'NOUN'), ('previously', 'ADV'), ('had', 'VERB'), ('*T*-1', 'X'), ('for', 'ADP'), ('the', 'DET'), ('leaders', 'NOUN'), ('of', 'ADP'), ('China', 'NOUN'), ('.', '.'), (\"''\", '.'), ('The', 'DET'), ('plan', 'NOUN'), ('relies', 'VERB'), ('heavily', 'ADV'), ('on', 'ADP'), ('$', '.'), ('240', 'NUM'), ('million', 'NUM'), ('*U*', 'X'), ('in', 'ADP'), ('credit', 'NOUN'), ('and', 'CONJ'), ('loan', 'NOUN'), ('guarantees', 'NOUN'), ('in', 'ADP'), ('fiscal', 'ADJ'), ('1990', 'NUM'), ('in', 'ADP'), ('hopes', 'NOUN'), ('of', 'ADP'), ('*', 'X'), ('stimulating', 'VERB'), ('future', 'ADJ'), ('trade', 'NOUN'), ('and', 'CONJ'), ('investment', 'NOUN'), ('.', '.'), ('There', 'DET'), ('were', 'VERB'), ('many', 'ADJ'), ('pioneer', 'NOUN'), ('PC', 'NOUN'), ('contributors', 'NOUN'), ('.', '.'), ('In', 'ADP'), ('contrast', 'NOUN'), (',', '.'), ('the', 'DET'), ('lawyers', 'NOUN'), (\"'\", 'PRT'), ('association', 'NOUN'), ('gives', 'VERB'), ('a', 'DET'), ('``', '.'), ('well', 'ADV'), ('qualified', 'VERB'), (\"''\", '.'), ('rating', 'NOUN'), ('to', 'PRT'), ('those', 'DET'), ('``', '.'), ('regarded', 'VERB'), ('*', 'X'), ('as', 'ADP'), ('one', 'NUM'), ('of', 'ADP'), ('the', 'DET'), ('best', 'ADJ'), ('available', 'ADJ'), ('for', 'ADP'), ('the', 'DET'), ('vacancy', 'NOUN'), ('.', '.'), ('Susan', 'NOUN'), ('Del', 'NOUN'), ('Signore', 'NOUN'), (',', '.'), ('head', 'NOUN'), ('trader', 'NOUN'), ('at', 'ADP'), ('Travelers', 'NOUN'), ('Investment', 'NOUN'), ('Management', 'NOUN'), ('Co.', 'NOUN'), (',', '.'), ('says', 'VERB'), ('0', 'X'), ('critics', 'NOUN'), ('are', 'VERB'), ('ignoring', 'VERB'), ('``', '.'), ('the', 'DET'), ('role', 'NOUN'), ('0', 'X'), ('the', 'DET'), ('-LCB-', '.'), ('takeover', 'NOUN'), ('stock', 'NOUN'), ('-RCB-', '.'), ('speculator', 'NOUN'), ('is', 'VERB'), ('taking', 'VERB'), ('*T*-1', 'X'), ('in', 'ADP'), ('the', 'DET'), ('market', 'NOUN'), ('as', 'ADP'), ('a', 'DET'), ('source', 'NOUN'), ('of', 'ADP'), ('volatility', 'NOUN'), ('.', '.'), (\"''\", '.'), ('Earlier', 'ADJ'), ('this', 'DET'), ('year', 'NOUN'), ('Shaw', 'NOUN'), ('Publishing', 'NOUN'), ('Inc.', 'NOUN'), (',', '.'), ('Charlotte', 'NOUN'), (',', '.'), ('acquired', 'VERB'), ('30', 'NUM'), ('%', 'NOUN'), ('of', 'ADP'), ('American', 'ADJ'), ('City', 'NOUN'), ('*T*-1', 'X'), ('and', 'CONJ'), ('has', 'VERB'), ('an', 'DET'), ('agreement', 'NOUN'), ('*', 'X'), ('to', 'PRT'), ('acquire', 'VERB'), ('a', 'DET'), ('further', 'ADJ'), ('25', 'NUM'), ('%', 'NOUN'), ('from', 'ADP'), ('E.W.', 'NOUN'), ('Scripps', 'NOUN'), ('Co.', 'NOUN'), ('next', 'ADP'), ('year', 'NOUN'), ('.', '.'), ('The', 'DET'), ('Chinese', 'ADJ'), (',', '.'), ('in', 'ADP'), ('turn', 'NOUN'), (',', '.'), ('took', 'VERB'), ('aim', 'VERB'), ('at', 'ADP'), ('American', 'ADJ'), ('``', '.'), ('interference', 'NOUN'), (\"''\", '.'), ('in', 'ADP'), ('China', 'NOUN'), (\"'s\", 'PRT'), ('domestic', 'ADJ'), ('affairs', 'NOUN'), ('.', '.'), ('``', '.'), ('All', 'DET'), ('the', 'DET'), ('``', '.'), ('sogo-shosha', 'NOUN'), (\"''\", '.'), ('are', 'VERB'), ('looking', 'VERB'), ('for', 'ADP'), ('new', 'ADJ'), ('business', 'NOUN'), (',', '.'), (\"''\", '.'), ('says', 'VERB'), ('*T*-1', 'X'), ('Arthur', 'NOUN'), ('Klauser', 'NOUN'), (',', '.'), ('adviser', 'NOUN'), ('to', 'PRT'), ('the', 'DET'), ('president', 'NOUN'), ('of', 'ADP'), ('Mitsui', 'NOUN'), (',', '.'), ('U.S.A.', 'NOUN'), (',', '.'), ('*-2', 'X'), ('using', 'VERB'), ('the', 'DET'), ('Japanese', 'ADJ'), ('term', 'NOUN'), ('for', 'ADP'), ('the', 'DET'), ('largest', 'ADJ'), ('of', 'ADP'), ('the', 'DET'), ('global', 'ADJ'), ('trading', 'NOUN'), ('houses', 'NOUN'), ('.', '.'), ('Sterling', 'NOUN'), (\"'s\", 'PRT'), ('firm', 'NOUN'), ('tone', 'NOUN'), (',', '.'), ('combined', 'VERB'), ('with', 'ADP'), ('a', 'DET'), ('steady', 'ADJ'), ('opening', 'VERB'), ('on', 'ADP'), ('Wall', 'NOUN'), ('Street', 'NOUN'), (',', '.'), ('also', 'ADV'), ('tempted', 'NOUN'), ('some', 'DET'), ('investors', 'NOUN'), ('to', 'PRT'), ('come', 'VERB'), ('back', 'ADV'), ('to', 'PRT'), ('the', 'DET'), ('market', 'NOUN'), (',', '.'), ('dealers', 'NOUN'), ('said', 'VERB'), ('0', 'X'), ('*T*-1', 'X'), ('.', '.'), ('``', '.'), ('Little', 'NOUN'), ('wonder', 'NOUN'), ('that', 'ADP'), ('buyers', 'NOUN'), ('for', 'ADP'), ('junk', 'NOUN'), ('have', 'VERB'), ('been', 'VERB'), ('found', 'VERB'), ('*-1', 'X'), ('wanting', 'NOUN'), (',', '.'), (\"''\", '.'), ('he', 'PRON'), ('said', 'VERB'), ('*T*-2', 'X'), ('.', '.'), ('In', 'ADP'), ('this', 'DET'), ('one', 'NUM'), (',', '.'), ('the', 'DET'), ('screen', 'NOUN'), ('fills', 'VERB'), ('with', 'ADP'), ('photographs', 'NOUN'), ('of', 'ADP'), ('both', 'DET'), ('candidates', 'NOUN'), ('.', '.'), ('An', 'DET'), ('airline', 'NOUN'), ('buy-out', 'NOUN'), ('bill', 'NOUN'), ('was', 'VERB'), ('approved', 'VERB'), ('*-1', 'X'), ('by', 'ADP'), ('the', 'DET'), ('House', 'NOUN'), ('.', '.'), ('In', 'ADP'), ('a', 'DET'), ('joint-venture', 'NOUN'), ('deal', 'NOUN'), (',', '.'), ('Mitsui', 'NOUN'), ('guided', 'NOUN'), ('Candela', 'NOUN'), ('through', 'ADP'), ('Tokyo', 'NOUN'), (\"'s\", 'PRT'), ('bureaucratic', 'NOUN'), ('maze', 'NOUN'), ('.', '.'), ('Without', 'ADP'), ('*-1', 'X'), ('admitting', 'VERB'), ('or', 'CONJ'), ('denying', 'VERB'), ('wrongdoing', 'NOUN'), (',', '.'), ('the', 'DET'), ('firm', 'NOUN'), ('consented', 'VERB'), ('to', 'PRT'), ('findings', 'NOUN'), ('that', 'ADP'), ('it', 'PRON'), ('failed', 'VERB'), ('*-2', 'X'), ('to', 'PRT'), ('respond', 'VERB'), ('``', '.'), ('in', 'ADP'), ('a', 'DET'), ('timely', 'NOUN'), ('manner', 'NOUN'), (\"''\", '.'), ('to', 'PRT'), ('the', 'DET'), ('NASD', 'NOUN'), (\"'s\", 'PRT'), ('requests', 'NOUN'), ('for', 'ADP'), ('information', 'NOUN'), ('in', 'ADP'), ('connection', 'NOUN'), ('with', 'ADP'), ('a', 'DET'), ('customer', 'NOUN'), ('complaint', 'NOUN'), ('.', '.'), ('You', 'PRON'), ('did', 'VERB'), ('not', 'ADV'), ('note', 'VERB'), ('that', 'ADP'), ('the', 'DET'), ('homeless', 'ADJ'), ('people', 'NOUN'), ('0', 'X'), ('we', 'PRON'), ('examined', 'VERB'), ('*T*-1', 'X'), ('had', 'VERB'), ('a', 'DET'), ('multitude', 'NOUN'), ('of', 'ADP'), ('physical', 'ADJ'), ('disorders', 'NOUN'), ('in', 'ADP'), ('addition', 'NOUN'), ('to', 'PRT'), ('their', 'PRON'), ('psychiatric', 'ADJ'), ('problems', 'NOUN'), ('and', 'CONJ'), ('substance', 'NOUN'), ('abuse', 'NOUN'), ('.', '.'), ('Shearson', 'NOUN'), ('Lehman', 'NOUN'), ('Hutton', 'NOUN'), ('Inc.', 'NOUN'), (',', '.'), ('New', 'NOUN'), ('York', 'NOUN'), (',', '.'), ('which', 'DET'), ('*T*-251', 'NOUN'), ('is', 'VERB'), ('62%-owned', 'ADJ'), ('*-1', 'X'), ('by', 'ADP'), ('American', 'ADJ'), ('Express', 'NOUN'), ('Co.', 'NOUN'), (',', '.'), ('consented', 'VERB'), ('to', 'PRT'), ('a', 'DET'), ('$', '.'), ('10,000', 'NUM'), ('*U*', 'X'), ('fine', 'NOUN'), ('.', '.'), ('The', 'DET'), ('USX', 'NOUN'), ('citations', 'NOUN'), ('represented', 'VERB'), ('the', 'DET'), ('first', 'ADJ'), ('sizable', 'ADJ'), ('enforcement', 'NOUN'), ('action', 'NOUN'), ('taken', 'VERB'), ('*', 'X'), ('by', 'ADP'), ('OSHA', 'NOUN'), ('under', 'ADP'), ('Mr.', 'NOUN'), ('Scannell', 'NOUN'), ('.', '.'), ('Virginia', 'NOUN'), (':', '.'), ('The', 'DET'), ('Chinese', 'ADJ'), ('responded', 'VERB'), ('in', 'ADP'), ('an', 'DET'), ('equally', 'ADV'), ('undiplomatic', 'NOUN'), ('fashion', 'NOUN'), ('.', '.'), ('Here', 'ADV'), ('are', 'VERB'), ('*T*-1', 'X'), ('price', 'NOUN'), ('trends', 'NOUN'), ('on', 'ADP'), ('the', 'DET'), ('world', 'NOUN'), (\"'s\", 'PRT'), ('major', 'ADJ'), ('stock', 'NOUN'), ('markets', 'NOUN'), (',', '.'), ('as', 'ADP'), ('*', 'X'), ('calculated', 'NOUN'), ('*-2', 'X'), ('by', 'ADP'), ('Morgan', 'NOUN'), ('Stanley', 'NOUN'), ('Capital', 'NOUN'), ('International', 'NOUN'), ('Perspective', 'NOUN'), (',', '.'), ('Geneva', 'NOUN'), ('.', '.'), ('Moscow', 'NOUN'), ('has', 'VERB'), ('settled', 'VERB'), ('pre-1917', 'NOUN'), ('debts', 'NOUN'), ('with', 'ADP'), ('other', 'ADJ'), ('countries', 'NOUN'), ('in', 'ADP'), ('recent', 'ADJ'), ('years', 'NOUN'), ('at', 'ADP'), ('less', 'ADJ'), ('than', 'ADP'), ('face', 'NOUN'), ('value', 'NOUN'), ('.', '.'), ('And', 'CONJ'), ('after', 'ADP'), ('*-1', 'X'), ('losing', 'VERB'), ('a', 'DET'), ('battle', 'NOUN'), ('Tuesday', 'NOUN'), ('night', 'NOUN'), ('with', 'ADP'), ('the', 'DET'), ('Senate', 'NOUN'), ('Foreign', 'NOUN'), ('Relations', 'NOUN'), ('Committee', 'NOUN'), (',', '.'), ('appropriators', 'NOUN'), ('from', 'ADP'), ('both', 'DET'), ('houses', 'NOUN'), ('are', 'VERB'), ('expected', 'VERB'), ('*-1', 'X'), ('to', 'PRT'), ('be', 'VERB'), ('forced', 'VERB'), ('*-12', 'X'), ('back', 'PRT'), ('to', 'PRT'), ('conference', 'NOUN'), ('.', '.'), ('The', 'DET'), ('patent', 'NOUN'), ('covers', 'VERB'), ('BMP-1', 'NOUN'), ('type', 'NOUN'), ('proteins', 'NOUN'), ('and', 'CONJ'), ('pharmaceutical', 'ADJ'), ('compositions', 'NOUN'), ('and', 'CONJ'), ('methods', 'NOUN'), ('for', 'ADP'), ('*', 'X'), ('treating', 'VERB'), ('bone', 'NOUN'), ('or', 'CONJ'), ('cartilage', 'NOUN'), ('defects', 'NOUN'), (',', '.'), ('Genetics', 'NOUN'), ('Institute', 'NOUN'), ('said', 'VERB'), ('0', 'X'), ('*T*-1', 'X'), ('.', '.'), ('Mr.', 'NOUN'), ('Chase', 'NOUN'), ('did', 'VERB'), (\"n't\", 'ADV'), ('return', 'VERB'), ('a', 'DET'), ('telephone', 'NOUN'), ('call', 'VERB'), ('to', 'PRT'), ('his', 'PRON'), ('office', 'NOUN'), ('.', '.'), ('They', 'PRON'), ('know', 'VERB'), ('that', 'ADP'), ('whenever', 'NOUN'), ('government', 'NOUN'), ('is', 'VERB'), ('redistributing', 'NOUN'), ('wealth', 'NOUN'), (',', '.'), ('regulating', 'VERB'), ('commerce', 'NOUN'), ('or', 'CONJ'), ('maintaining', 'VERB'), ('a', 'DET'), ('large', 'ADJ'), ('defense', 'NOUN'), ('establishment', 'NOUN'), ('*T*-2', 'X'), (',', '.'), ('there', 'DET'), ('is', 'VERB'), ('big', 'ADJ'), ('money', 'NOUN'), ('0', 'X'), ('*T*-3', 'X'), ('to', 'PRT'), ('be', 'VERB'), ('made', 'VERB'), ('*-1', 'X'), ('in', 'ADP'), ('*', 'X'), ('influencing', 'NOUN'), (',', '.'), ('brokering', 'NOUN'), ('or', 'CONJ'), ('selling', 'VERB'), ('the', 'DET'), ('processes', 'NOUN'), ('and', 'CONJ'), ('decisions', 'NOUN'), ('of', 'ADP'), ('government', 'NOUN'), ('.', '.'), ('He', 'PRON'), ('has', 'VERB'), ('a', 'DET'), ('point', 'NOUN'), ('0', 'X'), ('he', 'PRON'), ('wants', 'VERB'), ('*-1', 'X'), ('to', 'PRT'), ('make', 'VERB'), ('*T*-2', 'X'), (',', '.'), ('and', 'CONJ'), ('he', 'PRON'), ('makes', 'VERB'), ('it', 'PRON'), (',', '.'), ('with', 'ADP'), ('a', 'DET'), ('great', 'ADJ'), ('deal', 'NOUN'), ('of', 'ADP'), ('force', 'NOUN'), ('.', '.'), ('The', 'DET'), ('Thai', 'NOUN'), ('cabinet', 'NOUN'), ('endorsed', 'VERB'), ('Finance', 'NOUN'), ('Minister', 'NOUN'), ('Pramual', 'NOUN'), ('Sabhavasu', 'NOUN'), (\"'s\", 'PRT'), ('proposal', 'NOUN'), ('*', 'X'), ('to', 'PRT'), ('build', 'VERB'), ('a', 'DET'), ('$', '.'), ('19', 'NUM'), ('million', 'NUM'), ('*U*', 'X'), ('conference', 'NOUN'), ('center', 'NOUN'), ('for', 'ADP'), ('a', 'DET'), ('joint', 'ADJ'), ('meeting', 'NOUN'), ('of', 'ADP'), ('the', 'DET'), ('World', 'NOUN'), ('Bank', 'NOUN'), ('and', 'CONJ'), ('International', 'NOUN'), ('Monetary', 'NOUN'), ('Fund', 'NOUN'), ('two', 'NUM'), ('years', 'NOUN'), ('from', 'ADP'), ('now', 'ADV'), ('.', '.'), ('-LCB-', '.'), ('The', 'DET'), ('court', 'NOUN'), ('has', 'VERB'), ('indicated', 'VERB'), ('0', 'X'), ('it', 'PRON'), ('will', 'VERB'), ('rule', 'NOUN'), ('on', 'ADP'), ('the', 'DET'), ('case', 'NOUN'), ('by', 'ADP'), ('the', 'DET'), ('end', 'NOUN'), ('of', 'ADP'), ('the', 'DET'), ('month', 'NOUN'), ('.', '.'), ('-RCB-', '.'), ('Wellcome', 'NOUN'), ('gained', 'VERB'), ('18', 'NUM'), ('to', 'PRT'), ('666', 'NOUN'), ('on', 'ADP'), ('a', 'DET'), ('modest', 'ADJ'), ('1.1', 'NUM'), ('million', 'NUM'), ('shares', 'NOUN'), ('.', '.'), ('A', 'DET'), ('Shearson', 'NOUN'), ('spokesman', 'NOUN'), ('had', 'VERB'), ('no', 'DET'), ('comment', 'NOUN'), ('.', '.'), ('It', 'PRON'), ('would', 'VERB'), ('be', 'VERB'), ('a', 'DET'), ('good', 'ADJ'), ('match', 'VERB'), (',', '.'), ('Mr.', 'NOUN'), ('Hahn', 'NOUN'), ('and', 'CONJ'), ('many', 'ADJ'), ('analysts', 'NOUN'), ('say', 'VERB'), ('0', 'X'), ('*T*-1', 'X'), (',', '.'), ('of', 'ADP'), ('two', 'NUM'), ('healthy', 'ADJ'), ('companies', 'NOUN'), ('with', 'ADP'), ('high-quality', 'NOUN'), ('assets', 'NOUN'), ('and', 'CONJ'), ('strong', 'ADJ'), ('cash', 'NOUN'), ('flows', 'NOUN'), ('.', '.'), ('But', 'CONJ'), ('for', 'ADP'), ('small', 'ADJ'), ('American', 'NOUN'), ('companies', 'NOUN'), (',', '.'), ('it', 'PRON'), ('also', 'ADV'), ('provides', 'VERB'), ('a', 'DET'), ('growing', 'VERB'), ('source', 'NOUN'), ('of', 'ADP'), ('capital', 'NOUN'), ('and', 'CONJ'), ('even', 'ADV'), ('marketing', 'VERB'), ('help', 'VERB'), ('.', '.'), ('The', 'DET'), ('theory', 'NOUN'), (':', '.'), ('Such', 'ADJ'), ('individuals', 'NOUN'), (',', '.'), ('many', 'ADJ'), ('with', 'ADP'), ('young', 'ADJ'), ('children', 'NOUN'), (',', '.'), ('are', 'VERB'), ('in', 'ADP'), ('their', 'PRON'), ('prime', 'ADJ'), ('borrowing', 'NOUN'), ('years', 'NOUN'), ('--', '.'), ('and', 'CONJ'), (',', '.'), ('*-1', 'X'), ('having', 'VERB'), ('borrowed', 'NOUN'), ('from', 'ADP'), ('the', 'DET'), ('bank', 'NOUN'), (',', '.'), ('they', 'PRON'), ('may', 'VERB'), ('continue', 'VERB'), ('*-1', 'X'), ('to', 'PRT'), ('use', 'VERB'), ('it', 'PRON'), ('for', 'ADP'), ('other', 'ADJ'), ('services', 'NOUN'), ('in', 'ADP'), ('later', 'ADJ'), ('years', 'NOUN'), ('.', '.'), ('In', 'ADP'), ('Detroit', 'NOUN'), (',', '.'), ('a', 'DET'), ('Chrysler', 'NOUN'), ('Corp.', 'NOUN'), ('official', 'NOUN'), ('said', 'VERB'), ('0', 'X'), ('the', 'DET'), ('company', 'NOUN'), ('currently', 'ADV'), ('has', 'VERB'), ('no', 'DET'), ('rear-seat', 'NOUN'), ('lap', 'NOUN'), ('and', 'CONJ'), ('shoulder', 'NOUN'), ('belts', 'NOUN'), ('in', 'ADP'), ('its', 'PRON'), ('light', 'ADJ'), ('trucks', 'NOUN'), (',', '.'), ('but', 'CONJ'), ('plans', 'VERB'), ('*-1', 'X'), ('to', 'PRT'), ('begin', 'VERB'), ('*-2', 'X'), ('phasing', 'VERB'), ('them', 'PRON'), ('in', 'ADP'), ('by', 'ADP'), ('the', 'DET'), ('end', 'NOUN'), ('of', 'ADP'), ('the', 'DET'), ('1990', 'NUM'), ('model', 'NOUN'), ('year', 'NOUN'), ('.', '.'), ('On', 'ADP'), ('the', 'DET'), ('other', 'ADJ'), ('hand', 'NOUN'), (',', '.'), ('had', 'VERB'), ('it', 'PRON'), ('existed', 'NOUN'), ('then', 'ADV'), (',', '.'), ('Cray', 'NOUN'), ('Computer', 'NOUN'), ('would', 'VERB'), ('have', 'VERB'), ('incurred', 'VERB'), ('a', 'DET'), ('$', '.'), ('20.5', 'NOUN'), ('million', 'NUM'), ('*U*', 'X'), ('loss', 'NOUN'), ('.', '.'), ('BRAMALEA', 'NOUN'), ('Ltd.', 'NOUN'), ('said', 'VERB'), ('0', 'X'), ('it', 'PRON'), ('agreed', 'VERB'), ('*-1', 'X'), ('to', 'PRT'), ('issue', 'NOUN'), ('100', 'NUM'), ('million', 'NUM'), ('Canadian', 'ADJ'), ('dollars', 'NOUN'), ('-LRB-', '.'), ('US$', '.'), ('85.1', 'NOUN'), ('million', 'NUM'), ('*U*', 'X'), ('-RRB-', '.'), ('of', 'ADP'), ('10.5', 'NOUN'), ('%', 'NOUN'), ('senior', 'ADJ'), ('debentures', 'NOUN'), ('due', 'ADJ'), ('Nov.', 'NOUN'), ('30', 'NUM'), (',', '.'), ('1999', 'NUM'), (',', '.'), ('together', 'ADV'), ('with', 'ADP'), ('100,000', 'NUM'), ('bond', 'NOUN'), ('purchase', 'NOUN'), ('warrants', 'NOUN'), ('.', '.'), ('This', 'DET'), ('is', 'VERB'), ('a', 'DET'), ('Johnson-era', 'NOUN'), (',', '.'), ('Great', 'NOUN'), ('Society', 'NOUN'), ('creation', 'NOUN'), ('that', 'ADP'), ('*T*-2', 'X'), ('mandates', 'NOUN'), ('0', 'X'), ('certain', 'ADJ'), ('government', 'NOUN'), ('contracts', 'NOUN'), ('be', 'VERB'), ('awarded', 'VERB'), ('*-1', 'X'), ('noncompetitively', 'NOUN'), ('to', 'PRT'), ('minority', 'NOUN'), ('businesses', 'NOUN'), ('.', '.'), ('Garbage', 'NOUN'), ('magazine', 'NOUN'), (',', '.'), ('billed', 'NOUN'), ('*', 'X'), ('as', 'ADP'), ('``', '.'), ('The', 'DET'), ('Practical', 'NOUN'), ('Journal', 'NOUN'), ('for', 'ADP'), ('the', 'DET'), ('Environment', 'NOUN'), (',', '.'), (\"''\", '.'), ('is', 'VERB'), ('about', 'ADP'), ('*-1', 'X'), ('to', 'PRT'), ('find', 'VERB'), ('out', 'PRT'), ('0', 'X'), ('*?*', 'X'), ('.', '.'), ('The', 'DET'), ('charge', 'NOUN'), ('on', 'ADP'), ('loans', 'NOUN'), ('to', 'PRT'), ('brokers', 'NOUN'), ('on', 'ADP'), ('stock', 'NOUN'), ('exchange', 'NOUN'), ('collateral', 'NOUN'), ('.', '.'), ('Mr.', 'NOUN'), ('Martin', 'NOUN'), ('has', 'VERB'), ('increased', 'VERB'), ('prices', 'NOUN'), ('on', 'ADP'), ('some', 'DET'), ('wines', 'NOUN'), ('-LRB-', '.'), ('like', 'ADP'), ('Grgich', 'NOUN'), ('Hills', 'NOUN'), ('Chardonnay', 'NOUN'), (',', '.'), ('now', 'ADV'), ('$', '.'), ('32', 'NUM'), ('*U*', 'X'), ('-RRB-', '.'), ('just', 'ADV'), ('*-1', 'X'), ('to', 'PRT'), ('slow', 'VERB'), ('down', 'ADV'), ('movement', 'NOUN'), (',', '.'), ('but', 'CONJ'), ('he', 'PRON'), ('is', 'VERB'), ('beginning', 'VERB'), ('*-2', 'X'), ('to', 'PRT'), ('see', 'VERB'), ('some', 'DET'), ('resistance', 'NOUN'), ('to', 'PRT'), ('high-priced', 'ADJ'), ('red', 'NOUN'), ('Burgundies', 'NOUN'), ('and', 'CONJ'), ('Cabernets', 'NOUN'), ('and', 'CONJ'), ('Chardonnays', 'NOUN'), ('in', 'ADP'), ('the', 'DET'), ('$', '.'), ('30', 'NUM'), ('to', 'PRT'), ('$', '.'), ('40', 'NUM'), ('*U*', 'X'), ('range', 'VERB'), ('.', '.'), ('SCI', 'NOUN'), ('Systems', 'NOUN'), ('slipped', 'VERB'), ('7\\\\/8', 'NUM'), ('to', 'PRT'), ('10', 'NUM'), ('on', 'ADP'), ('volume', 'NOUN'), ('of', 'ADP'), ('858,000', 'NOUN'), ('shares', 'NOUN'), ('.', '.'), ('Proper', 'NOUN'), ('English', 'NOUN'), ('bells', 'NOUN'), ('are', 'VERB'), ('started', 'VERB'), ('*-1', 'X'), ('off', 'PRT'), ('in', 'ADP'), ('``', '.'), ('rounds', 'NOUN'), (',', '.'), (\"''\", '.'), ('from', 'ADP'), ('the', 'DET'), ('highest-pitched', 'NOUN'), ('bell', 'NOUN'), ('to', 'PRT'), ('the', 'DET'), ('lowest', 'ADJ'), ('--', '.'), ('a', 'DET'), ('simple', 'ADJ'), ('descending', 'NOUN'), ('scale', 'NOUN'), ('using', 'VERB'), (',', '.'), ('in', 'ADP'), ('larger', 'ADJ'), ('churches', 'NOUN'), (',', '.'), ('as', 'ADP'), ('many', 'ADJ'), ('as', 'ADP'), ('12', 'NUM'), ('bells', 'NOUN'), ('.', '.'), ('In', 'ADP'), ('point', 'NOUN'), ('of', 'ADP'), ('fact', 'NOUN'), (',', '.'), ('volatility', 'NOUN'), ('as', 'ADP'), ('*', 'X'), ('measured', 'VERB'), ('*-2', 'X'), ('by', 'ADP'), ('the', 'DET'), ('annualized', 'NOUN'), ('standard', 'NOUN'), ('deviation', 'NOUN'), ('of', 'ADP'), ('daily', 'ADJ'), ('stock', 'NOUN'), ('price', 'NOUN'), ('movements', 'NOUN'), ('has', 'VERB'), ('frequently', 'ADV'), ('been', 'VERB'), ('much', 'ADV'), ('higher', 'ADJ'), ('than', 'ADP'), ('it', 'PRON'), ('is', 'VERB'), ('*?*', 'X'), ('today', 'NOUN'), ('.', '.'), ('She', 'PRON'), ('says', 'VERB'), ('0', 'X'), ('she', 'PRON'), ('offered', 'VERB'), ('Mrs.', 'NOUN'), ('Yeargin', 'NOUN'), ('a', 'DET'), ('quiet', 'ADJ'), ('resignation', 'NOUN'), ('and', 'CONJ'), ('thought', 'VERB'), ('0', 'X'), ('she', 'PRON'), ('could', 'VERB'), ('help', 'VERB'), ('*-1', 'X'), ('save', 'VERB'), ('her', 'PRON'), ('teaching', 'NOUN'), ('certificate', 'NOUN'), ('.', '.'), ('GAF', 'NOUN'), ('TRIAL', 'NOUN'), ('goes', 'VERB'), ('to', 'PRT'), ('round', 'NOUN'), ('three', 'NUM'), ('.', '.'), ('It', 'PRON'), ('plans', 'VERB'), ('*-1', 'X'), ('to', 'PRT'), ('sell', 'VERB'), ('the', 'DET'), ('ad', 'NOUN'), ('time', 'NOUN'), ('to', 'PRT'), ('its', 'PRON'), ('clients', 'NOUN'), ('at', 'ADP'), ('a', 'DET'), ('discount', 'NOUN'), ('.', '.'), ('In', 'ADP'), ('CAT', 'NOUN'), ('sections', 'NOUN'), ('where', 'ADV'), ('students', 'NOUN'), (\"'\", 'PRT'), ('knowledge', 'NOUN'), ('of', 'ADP'), ('two-letter', 'NOUN'), ('consonant', 'NOUN'), ('sounds', 'VERB'), ('is', 'VERB'), ('tested', 'VERB'), ('*-1', 'X'), ('*T*-2', 'X'), (',', '.'), ('the', 'DET'), ('authors', 'NOUN'), ('noted', 'VERB'), ('that', 'ADP'), ('Scoring', 'NOUN'), ('High', 'NOUN'), ('concentrated', 'VERB'), ('on', 'ADP'), ('the', 'DET'), ('same', 'ADJ'), ('sounds', 'VERB'), ('that', 'ADP'), ('the', 'DET'), ('test', 'NOUN'), ('does', 'VERB'), ('*?*', 'X'), ('*T*-4', 'X'), ('--', '.'), ('to', 'PRT'), ('the', 'DET'), ('exclusion', 'NOUN'), ('of', 'ADP'), ('other', 'ADJ'), ('sounds', 'VERB'), ('that', 'ADP'), ('fifth', 'ADJ'), ('graders', 'NOUN'), ('should', 'VERB'), ('know', 'VERB'), ('*T*-3', 'X'), ('.', '.'), ('Structural', 'NOUN'), ('Dynamics', 'NOUN'), ('Research', 'NOUN'), ('Corp.', 'NOUN'), (',', '.'), ('which', 'DET'), ('*T*-143', 'NOUN'), ('makes', 'VERB'), ('computer-aided', 'NOUN'), ('engineering', 'NOUN'), ('software', 'NOUN'), (',', '.'), ('said', 'VERB'), ('0', 'X'), ('it', 'PRON'), ('introduced', 'VERB'), ('new', 'ADJ'), ('technology', 'NOUN'), ('in', 'ADP'), ('mechanical', 'ADJ'), ('design', 'NOUN'), ('automation', 'NOUN'), ('that', 'ADP'), ('*T*-144', 'NOUN'), ('will', 'VERB'), ('improve', 'VERB'), ('mechanical', 'ADJ'), ('engineering', 'NOUN'), ('productivity', 'NOUN'), ('.', '.'), ('The', 'DET'), ('two', 'NUM'), ('partners', 'NOUN'), ('merely', 'ADV'), ('had', 'VERB'), ('*-1', 'X'), ('to', 'PRT'), ('falsify', 'NOUN'), ('the', 'DET'), ('true', 'ADJ'), ('ownership', 'NOUN'), ('of', 'ADP'), ('the', 'DET'), ('corporation', 'NOUN'), ('.', '.'), ('According', 'VERB'), ('to', 'PRT'), ('reports', 'NOUN'), ('carried', 'VERB'), ('*', 'X'), ('by', 'ADP'), ('various', 'ADJ'), ('news', 'NOUN'), ('services', 'NOUN'), (',', '.'), ('the', 'DET'), ('Brazilian', 'ADJ'), ('government', 'NOUN'), ('told', 'VERB'), ('its', 'PRON'), ('sugar', 'NOUN'), ('producers', 'NOUN'), ('that', 'ADP'), ('they', 'PRON'), ('wo', 'VERB'), (\"n't\", 'ADV'), ('be', 'VERB'), ('allowed', 'VERB'), ('*-1', 'X'), ('to', 'PRT'), ('export', 'NOUN'), ('sugar', 'NOUN'), ('during', 'ADP'), ('the', 'DET'), ('current', 'ADJ'), ('1989-90', 'NUM'), ('season', 'NOUN'), (',', '.'), ('which', 'DET'), ('*T*-92', 'X'), ('began', 'VERB'), ('May', 'NOUN'), ('1', 'NUM'), (',', '.'), ('and', 'CONJ'), ('the', 'DET'), ('1990-91', 'NOUN'), ('season', 'NOUN'), ('so', 'ADV'), ('that', 'ADP'), ('it', 'PRON'), ('can', 'VERB'), ('be', 'VERB'), ('used', 'VERB'), ('*-2', 'X'), ('*', 'X'), ('to', 'PRT'), ('produce', 'VERB'), ('alcohol', 'NOUN'), ('for', 'ADP'), ('automobile', 'NOUN'), ('fuel', 'NOUN'), ('.', '.'), ('He', 'PRON'), ('did', 'VERB'), (\"n't\", 'ADV'), ('see', 'VERB'), ('why', 'ADV'), ('the', 'DET'), ('taxpayers', 'NOUN'), ('should', 'VERB'), ('help', 'VERB'), ('*-2', 'X'), ('build', 'VERB'), ('something', 'NOUN'), ('0', 'X'), ('he', 'PRON'), ('would', 'VERB'), ('then', 'ADV'), ('use', 'VERB'), ('*T*-1', 'X'), ('*', 'X'), ('to', 'PRT'), ('turn', 'VERB'), ('a', 'DET'), ('healthy', 'ADJ'), ('profit', 'NOUN'), ('.', '.'), ('John', 'NOUN'), ('F.', 'NOUN'), ('Barrett', 'NOUN'), (',', '.'), ('40', 'NUM'), (',', '.'), ('formerly', 'ADV'), ('executive', 'ADJ'), ('vice', 'NOUN'), ('president', 'NOUN'), ('and', 'CONJ'), ('chief', 'NOUN'), ('financial', 'ADJ'), ('officer', 'NOUN'), (',', '.'), ('was', 'VERB'), ('named', 'VERB'), ('*-1', 'X'), ('president', 'NOUN'), ('and', 'CONJ'), ('chief', 'NOUN'), ('operating', 'NOUN'), ('officer', 'NOUN'), (',', '.'), ('posts', 'NOUN'), ('which', 'DET'), ('*T*-2', 'X'), ('had', 'VERB'), ('been', 'VERB'), ('vacant', 'ADJ'), ('.', '.'), ('The', 'DET'), ('Stamford', 'NOUN'), (',', '.'), ('Conn.', 'NOUN'), (',', '.'), ('concern', 'NOUN'), ('has', 'VERB'), ('agreed', 'VERB'), ('to', 'PRT'), ('a', 'DET'), ('buy-out', 'NOUN'), ('by', 'ADP'), ('Bank', 'NOUN'), ('of', 'ADP'), ('New', 'NOUN'), ('York', 'NOUN'), ('in', 'ADP'), ('a', 'DET'), ('transaction', 'NOUN'), ('with', 'ADP'), ('an', 'DET'), ('indicated', 'VERB'), ('value', 'NOUN'), ('of', 'ADP'), ('about', 'ADP'), ('$', '.'), ('100', 'NUM'), ('*U*', 'X'), ('a', 'DET'), ('share', 'NOUN'), ('that', 'ADP'), ('*T*-119', 'NOUN'), ('expires', 'NOUN'), ('next', 'ADP'), ('August', 'NOUN'), ('.', '.'), ('Those', 'DET'), ('who', 'PRON'), ('*T*-1', 'X'), ('still', 'ADV'), ('want', 'VERB'), ('*-2', 'X'), ('to', 'PRT'), ('do', 'VERB'), ('it', 'PRON'), ('``', '.'), ('will', 'VERB'), ('just', 'ADV'), ('find', 'VERB'), ('some', 'DET'), ('way', 'NOUN'), ('0', 'X'), ('*', 'X'), ('to', 'PRT'), ('get', 'VERB'), ('around', 'ADP'), (\"''\", '.'), ('any', 'DET'), ('attempt', 'NOUN'), ('*', 'X'), ('to', 'PRT'), ('curb', 'VERB'), ('it', 'PRON'), ('*T*-3', 'X'), ('.', '.'), ('PHOTOGRAPH', 'NOUN'), ('COLLECTING', 'NOUN'), ('gains', 'NOUN'), ('new', 'ADJ'), ('stature', 'NOUN'), ('as', 'ADP'), ('prices', 'NOUN'), ('rise', 'VERB'), ('.', '.'), ('And', 'CONJ'), ('8', 'NUM'), ('%', 'NOUN'), ('*ICH*-1', 'X'), ('said', 'VERB'), ('0', 'X'), ('export', 'NOUN'), ('orders', 'NOUN'), ('were', 'VERB'), ('down', 'ADV'), ('last', 'ADJ'), ('month', 'NOUN'), (',', '.'), ('compared', 'VERB'), ('with', 'ADP'), ('6', 'NUM'), ('%', 'NOUN'), ('the', 'DET'), ('month', 'NOUN'), ('before', 'ADP'), ('.', '.'), ('Big', 'NOUN'), ('Board', 'NOUN'), ('volume', 'NOUN'), ('amounted', 'VERB'), ('to', 'PRT'), ('154,240,000', 'NUM'), ('shares', 'NOUN'), (',', '.'), ('down', 'ADV'), ('from', 'ADP'), ('176.1', 'NOUN'), ('million', 'NUM'), ('Tuesday', 'NOUN'), ('.', '.'), ('``', '.'), ('The', 'DET'), ('situation', 'NOUN'), ('is', 'VERB'), ('that', 'ADP'), ('the', 'DET'), ('bankruptcy', 'NOUN'), ('court', 'NOUN'), ('will', 'VERB'), ('get', 'VERB'), ('out', 'PRT'), ('of', 'ADP'), ('the', 'DET'), ('shipbuilding', 'NOUN'), ('business', 'NOUN'), ('.', '.'), ('The', 'DET'), ('promotion', 'NOUN'), ('helped', 'VERB'), ('Riviera', 'NOUN'), ('sales', 'NOUN'), ('exceed', 'VERB'), ('the', 'DET'), ('division', 'NOUN'), (\"'s\", 'PRT'), ('forecast', 'VERB'), ('by', 'ADP'), ('more', 'ADJ'), ('than', 'ADP'), ('10', 'NUM'), ('%', 'NOUN'), (',', '.'), ('Buick', 'NOUN'), ('said', 'VERB'), ('0', 'X'), ('*T*-1', 'X'), ('at', 'ADP'), ('the', 'DET'), ('time', 'NOUN'), ('.', '.'), ('Wilbur', 'NOUN'), ('Ross', 'NOUN'), ('Jr.', 'NOUN'), ('of', 'ADP'), ('Rothschild', 'NOUN'), ('Inc.', 'NOUN'), (',', '.'), ('the', 'DET'), ('financial', 'ADJ'), ('adviser', 'NOUN'), ('to', 'PRT'), ('the', 'DET'), ('troubled', 'ADJ'), ('company', 'NOUN'), (\"'s\", 'PRT'), ('equity', 'NOUN'), ('holders', 'NOUN'), (',', '.'), ('said', 'VERB'), ('0', 'X'), ('the', 'DET'), ('withdrawal', 'NOUN'), ('of', 'ADP'), ('New', 'NOUN'), ('England', 'NOUN'), ('Electric', 'NOUN'), ('might', 'VERB'), ('speed', 'NOUN'), ('up', 'PRT'), ('the', 'DET'), ('reorganization', 'NOUN'), ('process', 'NOUN'), ('.', '.'), ('The', 'DET'), ('last', 'ADJ'), ('time', 'NOUN'), ('0', 'X'), ('the', 'DET'), ('S&P', 'NOUN'), ('500', 'NUM'), ('yield', 'NOUN'), ('dropped', 'VERB'), ('below', 'ADP'), ('3', 'NUM'), ('%', 'NOUN'), ('*T*-1', 'X'), ('was', 'VERB'), ('in', 'ADP'), ('the', 'DET'), ('summer', 'NOUN'), ('of', 'ADP'), ('1987', 'NUM'), ('.', '.'), ('The', 'DET'), ('following', 'NOUN'), ('*ICH*-2', 'X'), ('were', 'VERB'), ('neither', 'DET'), ('barred', 'VERB'), ('nor', 'CONJ'), ('suspended', 'VERB'), ('*-1', 'X'), (':', '.'), ('Stephanie', 'NOUN'), ('Veselich', 'NOUN'), ('Enright', 'NOUN'), (',', '.'), ('Rolling', 'NOUN'), ('Hills', 'NOUN'), (',', '.'), ('Calif.', 'NOUN'), (',', '.'), ('fined', 'VERB'), ('*-3', 'X'), ('$', '.'), ('2,500', 'NUM'), ('*U*', 'X'), ('and', 'CONJ'), ('ordered', 'VERB'), ('*-3', 'X'), ('*-4', 'X'), ('to', 'PRT'), ('disgorge', 'VERB'), ('$', '.'), ('11,762', 'NOUN'), ('*U*', 'X'), (';', '.'), ('Stuart', 'NOUN'), ('Lane', 'NOUN'), ('Russel', 'NOUN'), (',', '.'), ('Glendale', 'NOUN'), (',', '.'), ('Calif.', 'NOUN'), (',', '.'), ('fined', 'VERB'), ('*-5', 'X'), ('$', '.'), ('2,500', 'NUM'), ('*U*', 'X'), ('and', 'CONJ'), ('ordered', 'VERB'), ('*-5', 'X'), ('*-6', 'X'), ('to', 'PRT'), ('disgorge', 'VERB'), ('$', '.'), ('14,821', 'NOUN'), ('*U*', 'X'), (';', '.'), ('Devon', 'NOUN'), ('Nilson', 'NOUN'), ('Dahl', 'NOUN'), (',', '.'), ('Fountain', 'NOUN'), ('Valley', 'NOUN'), (',', '.'), ('Calif.', 'NOUN'), (',', '.'), ('fined', 'VERB'), ('*-7', 'X'), ('$', '.'), ('82,389', 'NOUN'), ('*U*', 'X'), ('.', '.'), ('Altogether', 'NOUN'), (',', '.'), ('NBI', 'NOUN'), ('said', 'VERB'), ('0', 'X'), ('it', 'PRON'), ('will', 'VERB'), ('eliminate', 'VERB'), ('266', 'NOUN'), ('jobs', 'NOUN'), ('at', 'ADP'), ('its', 'PRON'), ('Boulder', 'NOUN'), ('headquarters', 'NOUN'), (',', '.'), ('176', 'NOUN'), ('field', 'NOUN'), ('sales', 'NOUN'), ('jobs', 'NOUN'), ('and', 'CONJ'), ('50', 'NUM'), ('jobs', 'NOUN'), ('at', 'ADP'), ('its', 'PRON'), ('Canadian', 'ADJ'), ('and', 'CONJ'), ('United', 'NOUN'), ('Kingdom', 'NOUN'), ('headquarters', 'NOUN'), ('.', '.'), ('You', 'PRON'), ('look', 'VERB'), ('around', 'ADP'), ('at', 'ADP'), ('professional', 'ADJ'), ('ballplayers', 'NOUN'), ('or', 'CONJ'), ('accountants', 'NOUN'), ('...', '.'), ('and', 'CONJ'), ('nobody', 'NOUN'), ('blinks', 'NOUN'), ('an', 'DET'), ('eye', 'NOUN'), ('.', '.'), ('RMS', 'NOUN'), ('distributes', 'NOUN'), ('electronic', 'ADJ'), ('devices', 'NOUN'), ('and', 'CONJ'), ('produces', 'NOUN'), ('power', 'NOUN'), ('supplies', 'VERB'), ('and', 'CONJ'), ('plastic', 'ADJ'), ('literature', 'NOUN'), ('displays', 'NOUN'), ('.', '.'), ('Mr.', 'NOUN'), ('Nixon', 'NOUN'), ('met', 'VERB'), ('Mr.', 'NOUN'), ('Bush', 'NOUN'), ('and', 'CONJ'), ('his', 'PRON'), ('national', 'ADJ'), ('security', 'NOUN'), ('adviser', 'NOUN'), (',', '.'), ('Brent', 'NOUN'), ('Scowcroft', 'NOUN'), (',', '.'), ('before', 'ADP'), ('*-1', 'X'), ('coming', 'VERB'), ('to', 'PRT'), ('China', 'NOUN'), ('on', 'ADP'), ('Saturday', 'NOUN'), ('.', '.'), ('First', 'NOUN'), ('Constitution', 'NOUN'), ('has', 'VERB'), ('signed', 'VERB'), ('a', 'DET'), ('merger', 'NOUN'), ('agreement', 'NOUN'), ('*ICH*-1', 'X'), ('with', 'ADP'), ('WFRR', 'NOUN'), ('L.P.', 'NOUN'), ('and', 'CONJ'), ('GHKM', 'NOUN'), ('Corp.', 'NOUN'), (',', '.'), ('under', 'ADP'), ('which', 'DET'), ('all', 'DET'), ('of', 'ADP'), ('its', 'PRON'), ('common', 'ADJ'), ('shares', 'NOUN'), ('will', 'VERB'), ('be', 'VERB'), ('acquired', 'VERB'), ('*-3', 'X'), ('for', 'ADP'), ('$', '.'), ('25', 'NUM'), ('*U*', 'X'), ('each', 'DET'), (',', '.'), ('or', 'CONJ'), ('$', '.'), ('273.5', 'NOUN'), ('million', 'NUM'), ('*U*', 'X'), ('*T*-2', 'X'), ('.', '.'), ('For', 'ADP'), ('all', 'DET'), ('the', 'DET'), ('furor', 'NOUN'), (',', '.'), ('there', 'DET'), ('is', 'VERB'), ('nothing', 'NOUN'), ('particularly', 'ADV'), ('complex', 'ADJ'), ('about', 'ADP'), ('the', 'DET'), ('concept', 'NOUN'), ('of', 'ADP'), ('stock-index', 'ADJ'), ('arbitrage', 'NOUN'), (',', '.'), ('the', 'DET'), ('most', 'ADJ'), ('controversial', 'ADJ'), ('type', 'NOUN'), ('of', 'ADP'), ('computer-assisted', 'ADJ'), ('program', 'NOUN'), ('trading', 'NOUN'), ('.', '.'), ('Primerica', 'NOUN'), ('closed', 'VERB'), ('at', 'ADP'), ('$', '.'), ('28.25', 'NOUN'), ('*U*', 'X'), (',', '.'), ('down', 'ADV'), ('50', 'NUM'), ('cents', 'NOUN'), ('.', '.'), ('This', 'DET'), ('is', 'VERB'), (\"n't\", 'ADV'), ('Buick', 'NOUN'), (\"'s\", 'PRT'), ('first', 'ADJ'), ('travel-related', 'NOUN'), ('promotion', 'NOUN'), ('.', '.'), ('The', 'DET'), ('reaction', 'NOUN'), ('in', 'ADP'), ('the', 'DET'), ('newsroom', 'NOUN'), ('was', 'VERB'), ('emotional', 'NOUN'), ('.', '.'), ('Reuters', 'NOUN'), ('Holdings', 'NOUN'), ('PLC', 'NOUN'), ('said', 'VERB'), ('0', 'X'), ('Michael', 'NOUN'), ('Reupke', 'NOUN'), ('resigned', 'VERB'), ('as', 'ADP'), ('general', 'ADJ'), ('manager', 'NOUN'), ('*-1', 'X'), ('to', 'PRT'), ('pursue', 'VERB'), ('unspecified', 'NOUN'), ('interests', 'NOUN'), (',', '.'), ('a', 'DET'), ('move', 'NOUN'), ('0', 'X'), ('the', 'DET'), ('news', 'NOUN'), ('organization', 'NOUN'), ('termed', 'NOUN'), ('*T*-2', 'X'), ('an', 'DET'), ('``', '.'), ('amicable', 'NOUN'), ('separation', 'NOUN'), ('.', '.'), (\"''\", '.'), ('They', 'PRON'), ('read', 'VERB'), ('Mickey', 'NOUN'), ('Spillane', 'NOUN'), ('and', 'CONJ'), ('talk', 'VERB'), ('about', 'ADP'), ('Groucho', 'NOUN'), ('and', 'CONJ'), ('Harpo', 'NOUN'), ('.', '.'), ('Marubeni', 'NOUN'), ('advanced', 'VERB'), ('11', 'NUM'), ('to', 'PRT'), ('890', 'NOUN'), ('.', '.'), ('China', 'NOUN'), ('was', 'VERB'), ('the', 'DET'), ('real', 'ADJ'), ('victim', 'NOUN'), ('and', 'CONJ'), ('it', 'PRON'), ('*EXP*-1', 'X'), ('is', 'VERB'), ('unjust', 'ADJ'), ('*', 'X'), ('to', 'PRT'), ('reprove', 'NOUN'), ('China', 'NOUN'), ('for', 'ADP'), ('it', 'PRON'), ('.', '.'), (\"''\", '.'), ('Yet', 'CONJ'), ('Section', 'NOUN'), ('605', 'NUM'), ('of', 'ADP'), ('the', 'DET'), ('appropriations', 'NOUN'), ('bill', 'NOUN'), ('for', 'ADP'), ('the', 'DET'), ('executive', 'NOUN'), ('office', 'NOUN'), ('provides', 'VERB'), (':', '.'), ('``', '.'), ('No', 'DET'), ('part', 'NOUN'), ('of', 'ADP'), ('any', 'DET'), ('appropriation', 'NOUN'), ('for', 'ADP'), ('the', 'DET'), ('current', 'ADJ'), ('fiscal', 'ADJ'), ('year', 'NOUN'), ('contained', 'VERB'), ('*', 'X'), ('in', 'ADP'), ('this', 'DET'), ('or', 'CONJ'), ('any', 'DET'), ('other', 'ADJ'), ('Act', 'NOUN'), ('shall', 'VERB'), ('be', 'VERB'), ('paid', 'VERB'), ('*-53', 'X'), ('to', 'PRT'), ('any', 'DET'), ('person', 'NOUN'), ('for', 'ADP'), ('the', 'DET'), ('filling', 'VERB'), ('of', 'ADP'), ('any', 'DET'), ('position', 'NOUN'), ('for', 'ADP'), ('which', 'DET'), ('he', 'PRON'), ('or', 'CONJ'), ('she', 'PRON'), ('has', 'VERB'), ('been', 'VERB'), ('nominated', 'VERB'), ('*-54', 'X'), ('*T*-1', 'X'), ('after', 'ADP'), ('the', 'DET'), ('Senate', 'NOUN'), ('has', 'VERB'), ('voted', 'VERB'), ('*-2', 'X'), ('not', 'ADV'), ('to', 'PRT'), ('approve', 'VERB'), ('the', 'DET'), ('nomination', 'NOUN'), ('of', 'ADP'), ('said', 'VERB'), ('person', 'NOUN'), ('.', '.'), (\"''\", '.'), ('The', 'DET'), ('collapse', 'NOUN'), ('of', 'ADP'), ('junk', 'NOUN'), ('bond', 'NOUN'), ('prices', 'NOUN'), ('and', 'CONJ'), ('the', 'DET'), ('cancellation', 'NOUN'), ('of', 'ADP'), ('many', 'ADJ'), ('junk', 'NOUN'), ('bond', 'NOUN'), ('financings', 'NOUN'), ('apparently', 'ADV'), ('have', 'VERB'), ('taken', 'VERB'), ('their', 'PRON'), ('toll', 'NOUN'), ('on', 'ADP'), ('closely', 'ADV'), ('held', 'VERB'), ('Drexel', 'NOUN'), (',', '.'), ('the', 'DET'), ('leading', 'ADJ'), ('underwriter', 'NOUN'), ('in', 'ADP'), ('that', 'DET'), ('market', 'NOUN'), ('.', '.'), ('But', 'CONJ'), ('in', 'ADP'), ('1988', 'NUM'), (',', '.'), ('McGraw-Hill', 'NOUN'), ('purchased', 'VERB'), ('the', 'DET'), ('Random', 'NOUN'), ('House', 'NOUN'), ('unit', 'NOUN'), ('that', 'ADP'), ('*T*-108', 'NOUN'), ('publishes', 'VERB'), ('Scoring', 'NOUN'), ('High', 'NOUN'), (',', '.'), ('which', 'DET'), ('*T*-109', 'NOUN'), ('later', 'ADJ'), ('became', 'VERB'), ('part', 'NOUN'), ('of', 'ADP'), ('Macmillan\\\\/McGraw', 'NOUN'), ('.', '.'), ('Just', 'ADV'), ('as', 'ADP'), ('all', 'DET'), ('plaintiffs', 'NOUN'), ('are', 'VERB'), ('not', 'ADV'), ('alike', 'NOUN'), (',', '.'), ('it', 'PRON'), ('turns', 'VERB'), ('out', 'PRT'), ('that', 'DET'), ('DES', 'NOUN'), ('defendants', 'NOUN'), ('marketed', 'VERB'), ('the', 'DET'), ('drugs', 'NOUN'), ('differently', 'NOUN'), ('and', 'CONJ'), ('may', 'VERB'), ('have', 'VERB'), ('offered', 'VERB'), ('different', 'ADJ'), ('warranties', 'NOUN'), ('.', '.'), ('``', '.'), ('And', 'CONJ'), ('recessionary', 'ADJ'), ('environments', 'NOUN'), ('are', 'VERB'), (\"n't\", 'ADV'), ('hospitable', 'NOUN'), ('to', 'PRT'), ('the', 'DET'), ('stock', 'NOUN'), ('market', 'NOUN'), ('.', '.'), (\"''\", '.'), ('American', 'NOUN'), ('City', 'NOUN'), ('Business', 'NOUN'), ('Journals', 'NOUN'), ('Inc.', 'NOUN'), ('said', 'VERB'), ('0', 'X'), ('its', 'PRON'), ('president', 'NOUN'), (',', '.'), ('Michael', 'NOUN'), ('K.', 'NOUN'), ('Russell', 'NOUN'), (',', '.'), ('will', 'VERB'), ('resign', 'NOUN'), ('rather', 'ADV'), ('than', 'ADP'), ('relocate', 'NOUN'), ('to', 'PRT'), ('new', 'ADJ'), ('headquarters', 'NOUN'), ('in', 'ADP'), ('Charlotte', 'NOUN'), (',', '.'), ('N.C', 'NOUN'), ('.', '.'), ('Many', 'ADJ'), ('auto', 'NOUN'), ('dealers', 'NOUN'), ('now', 'ADV'), ('let', 'VERB'), ('car', 'NOUN'), ('buyers', 'NOUN'), ('charge', 'NOUN'), ('part', 'NOUN'), ('or', 'CONJ'), ('all', 'DET'), ('of', 'ADP'), ('their', 'PRON'), ('purchase', 'NOUN'), ('on', 'ADP'), ('the', 'DET'), ('American', 'ADJ'), ('Express', 'NOUN'), ('card', 'NOUN'), (',', '.'), ('but', 'CONJ'), ('few', 'ADJ'), ('card', 'NOUN'), ('holders', 'NOUN'), ('realize', 'VERB'), ('this', 'DET'), (',', '.'), ('Mr.', 'NOUN'), ('Riese', 'NOUN'), ('says', 'VERB'), ('0', 'X'), ('*T*-1', 'X'), ('.', '.'), ('A', 'DET'), ('line-item', 'ADJ'), ('veto', 'NOUN'), ('is', 'VERB'), ('a', 'DET'), ('procedure', 'NOUN'), ('that', 'ADP'), ('*T*-1', 'X'), ('would', 'VERB'), ('allow', 'VERB'), ('a', 'DET'), ('president', 'NOUN'), ('to', 'PRT'), ('veto', 'NOUN'), ('part', 'NOUN'), ('of', 'ADP'), ('a', 'DET'), ('big', 'ADJ'), ('congressional', 'ADJ'), ('spending', 'NOUN'), ('bill', 'NOUN'), ('without', 'ADP'), ('*-2', 'X'), ('having', 'VERB'), ('*-3', 'X'), ('to', 'PRT'), ('scuttle', 'NOUN'), ('the', 'DET'), ('entire', 'ADJ'), ('measure', 'NOUN'), ('.', '.'), ('``', '.'), ('She', 'PRON'), ('was', 'VERB'), ('an', 'DET'), ('inspirational', 'NOUN'), ('lady', 'NOUN'), (';', '.'), ('she', 'PRON'), ('had', 'VERB'), ('it', 'PRON'), ('all', 'DET'), ('together', 'ADV'), (',', '.'), (\"''\", '.'), ('says', 'VERB'), ('*T*-1', 'X'), ('Laura', 'NOUN'), ('Dobson', 'NOUN'), (',', '.'), ('a', 'DET'), ('freshman', 'NOUN'), ('at', 'ADP'), ('the', 'DET'), ('University', 'NOUN'), ('of', 'ADP'), ('South', 'NOUN'), ('Carolina', 'NOUN'), ('who', 'PRON'), ('*T*-90', 'NOUN'), ('had', 'VERB'), ('Mrs.', 'NOUN'), ('Yeargin', 'NOUN'), ('in', 'ADP'), ('the', 'DET'), ('teacher-cadet', 'NOUN'), ('class', 'NOUN'), ('last', 'ADJ'), ('year', 'NOUN'), ('.', '.'), ('Any', 'DET'), ('reading', 'NOUN'), ('below', 'ADP'), ('50', 'NUM'), ('%', 'NOUN'), ('suggests', 'VERB'), ('0', 'X'), ('the', 'DET'), ('manufacturing', 'NOUN'), ('sector', 'NOUN'), ('is', 'VERB'), ('generally', 'ADV'), ('declining', 'VERB'), ('.', '.'), ('He', 'PRON'), ('said', 'VERB'), ('0', 'X'), ('disciplinary', 'ADJ'), ('proceedings', 'NOUN'), ('are', 'VERB'), ('confidential', 'ADJ'), ('and', 'CONJ'), ('declined', 'VERB'), ('*-1', 'X'), ('to', 'PRT'), ('comment', 'VERB'), ('on', 'ADP'), ('whether', 'ADP'), ('any', 'DET'), ('are', 'VERB'), ('being', 'VERB'), ('held', 'VERB'), ('*-2', 'X'), ('against', 'ADP'), ('Mr.', 'NOUN'), ('Trudeau', 'NOUN'), ('.', '.'), ('It', 'PRON'), ('also', 'ADV'), ('asks', 'VERB'), ('them', 'PRON'), ('*-1', 'X'), ('to', 'PRT'), ('add', 'VERB'), ('two-sevenths', 'NOUN'), ('and', 'CONJ'), ('three-sevenths', 'NOUN'), ('.', '.'), ('In', 'ADP'), ('the', 'DET'), ('classroom', 'NOUN'), (',', '.'), ('students', 'NOUN'), ('say', 'VERB'), ('0', 'X'), ('*T*-3', 'X'), (',', '.'), ('Mrs.', 'NOUN'), ('Yeargin', 'NOUN'), ('distinguished', 'NOUN'), ('herself', 'NOUN'), ('by', 'ADP'), ('*', 'X'), ('varying', 'VERB'), ('teaching', 'NOUN'), ('approaches', 'NOUN'), ('--', '.'), ('*-1', 'X'), ('forcing', 'VERB'), ('kids', 'NOUN'), ('to', 'PRT'), ('pair', 'NOUN'), ('up', 'PRT'), ('*-2', 'X'), ('to', 'PRT'), ('complete', 'VERB'), ('classroom', 'NOUN'), ('work', 'NOUN'), ('or', 'CONJ'), ('using', 'VERB'), ('college-bowl', 'NOUN'), ('type', 'NOUN'), ('competitions', 'NOUN'), ('.', '.'), ('Many', 'ADJ'), ('lost', 'VERB'), ('their', 'PRON'), ('farms', 'NOUN'), ('.', '.'), ('And', 'CONJ'), ('unlike', 'ADJ'), ('some', 'DET'), ('trays', 'NOUN'), (',', '.'), ('there', 'DET'), (\"'s\", 'VERB'), ('no', 'DET'), ('place', 'NOUN'), ('for', 'ADP'), ('food', 'NOUN'), ('.', '.'), ('The', 'DET'), ('FT', 'NOUN'), ('30-share', 'NOUN'), ('index', 'NOUN'), ('settled', 'VERB'), ('16.7', 'NUM'), ('points', 'NOUN'), ('higher', 'ADJ'), ('at', 'ADP'), ('1738.1', 'NOUN'), ('.', '.'), ('The', 'DET'), ('city', 'NOUN'), ('had', 'VERB'), ('expected', 'VERB'), ('*-1', 'X'), ('to', 'PRT'), ('pay', 'VERB'), ('about', 'ADP'), ('11', 'NUM'), ('million', 'NUM'), ('yen', 'NOUN'), ('-LRB-', '.'), ('$', '.'), ('77,000', 'NOUN'), ('*U*', 'X'), ('-RRB-', '.'), (',', '.'), ('but', 'CONJ'), ('Fujitsu', 'NOUN'), ('essentially', 'ADV'), ('offered', 'VERB'), ('*-2', 'X'), ('to', 'PRT'), ('do', 'VERB'), ('it', 'PRON'), ('for', 'ADP'), ('free', 'ADJ'), ('.', '.'), ('``', '.'), ('They', 'PRON'), ('said', 'VERB'), ('universally', 'NOUN'), (',', '.'), ('without', 'ADP'), ('a', 'DET'), ('single', 'ADJ'), ('exception', 'NOUN'), (':', '.'), ('*', 'X'), ('Do', 'VERB'), (\"n't\", 'ADV'), ('even', 'ADV'), ('compromise', 'VERB'), ('.', '.'), ('The', 'DET'), ('Spiegel', 'NOUN'), ('family', 'NOUN'), ('has', 'VERB'), ('25', 'NUM'), ('%', 'NOUN'), ('of', 'ADP'), ('the', 'DET'), ('common', 'ADJ'), ('and', 'CONJ'), ('75', 'NUM'), ('%', 'NOUN'), ('of', 'ADP'), ('the', 'DET'), ('votes', 'NOUN'), ('.', '.'), ('The', 'DET'), ('one', 'NUM'), ('character', 'NOUN'), ('at', 'ADP'), ('least', 'ADJ'), ('somewhat', 'ADV'), ('interesting', 'ADJ'), ('was', 'VERB'), ('Irving', 'NOUN'), ('Louis', 'NOUN'), ('Lobsenz', 'NOUN'), (',', '.'), ('a', 'DET'), ('pediatrician', 'NOUN'), ('who', 'PRON'), ('*T*-1', 'X'), ('changed', 'VERB'), ('his', 'PRON'), ('name', 'NOUN'), ('to', 'PRT'), ('Rusty', 'NOUN'), ('Kent', 'NOUN'), ('London', 'NOUN'), ('and', 'CONJ'), ('became', 'VERB'), ('a', 'DET'), ('master', 'NOUN'), ('gambler', 'NOUN'), ('and', 'CONJ'), ('author', 'NOUN'), ('of', 'ADP'), ('a', 'DET'), ('book', 'NOUN'), ('on', 'ADP'), ('blackjack', 'NOUN'), ('.', '.'), ('The', 'DET'), ('first', 'ADJ'), ('Champagne', 'NOUN'), ('0', 'X'), ('*T*-1', 'X'), ('to', 'PRT'), ('crack', 'NOUN'), ('that', 'ADP'), ('price', 'NOUN'), ('barrier', 'NOUN'), ('was', 'VERB'), ('the', 'DET'), ('1979', 'NUM'), ('Salon', 'NOUN'), ('de', 'ADP'), ('Mesnil', 'NOUN'), ('Blanc', 'NOUN'), ('de', 'ADP'), ('Blancs', 'NOUN'), ('.', '.'), ('Behind', 'NOUN'), ('all', 'DET'), ('the', 'DET'), ('hoopla', 'NOUN'), ('is', 'VERB'), ('*T*-1', 'X'), ('some', 'DET'), ('heavy-duty', 'NOUN'), ('competition', 'NOUN'), ('.', '.'), ('It', 'PRON'), ('shed', 'NOUN'), ('about', 'ADP'), ('7', 'NUM'), ('pence', 'NOUN'), (',', '.'), ('however', 'ADV'), (',', '.'), ('after', 'ADP'), ('dealers', 'NOUN'), ('said', 'VERB'), ('0', 'X'), ('the', 'DET'), ('market', 'NOUN'), ('was', 'VERB'), ('disappointed', 'VERB'), ('that', 'ADP'), ('Ford', 'NOUN'), ('did', 'VERB'), (\"n't\", 'ADV'), ('move', 'VERB'), ('*-1', 'X'), ('to', 'PRT'), ('tender', 'NOUN'), ('a', 'DET'), ('bid', 'NOUN'), ('for', 'ADP'), ('control', 'NOUN'), ('of', 'ADP'), ('the', 'DET'), ('company', 'NOUN'), ('.', '.'), ('Under', 'ADP'), ('that', 'DET'), ('law', 'NOUN'), (',', '.'), ('parties', 'NOUN'), ('proposing', 'VERB'), ('mergers', 'NOUN'), ('or', 'CONJ'), ('acquisitions', 'NOUN'), ('valued', 'VERB'), ('*', 'X'), ('at', 'ADP'), ('$', '.'), ('15', 'NUM'), ('million', 'NUM'), ('*U*', 'X'), ('or', 'CONJ'), ('more', 'ADJ'), ('must', 'VERB'), ('notify', 'NOUN'), ('FTC', 'NOUN'), ('and', 'CONJ'), ('Justice', 'NOUN'), ('Department', 'NOUN'), ('antitrust', 'ADJ'), ('regulators', 'NOUN'), ('before', 'ADP'), ('*-1', 'X'), ('completing', 'NOUN'), ('the', 'DET'), ('transactions', 'NOUN'), ('.', '.'), ('While', 'ADP'), ('market', 'NOUN'), ('sentiment', 'NOUN'), ('remains', 'VERB'), ('cautiously', 'NOUN'), ('bearish', 'NOUN'), ('on', 'ADP'), ('the', 'DET'), ('dollar', 'NOUN'), ('based', 'VERB'), ('on', 'ADP'), ('sluggish', 'ADJ'), ('U.S.', 'NOUN'), ('economic', 'ADJ'), ('indicators', 'NOUN'), (',', '.'), ('dealers', 'NOUN'), ('note', 'NOUN'), ('that', 'ADP'), ('Japanese', 'ADJ'), ('demand', 'NOUN'), ('has', 'VERB'), ('helped', 'VERB'), ('*-1', 'X'), ('underpin', 'NOUN'), ('the', 'DET'), ('dollar', 'NOUN'), ('against', 'ADP'), ('the', 'DET'), ('yen', 'NOUN'), ('and', 'CONJ'), ('has', 'VERB'), ('kept', 'VERB'), ('the', 'DET'), ('U.S.', 'NOUN'), ('currency', 'NOUN'), ('from', 'ADP'), ('*-2', 'X'), ('plunging', 'VERB'), ('below', 'ADP'), ('key', 'ADJ'), ('levels', 'NOUN'), ('against', 'ADP'), ('the', 'DET'), ('mark', 'NOUN'), ('.', '.'), ('Scoring', 'NOUN'), ('High', 'NOUN'), ('matched', 'VERB'), ('on', 'ADP'), ('64.5', 'NOUN'), ('.', '.'), ('Mr.', 'NOUN'), ('Cray', 'NOUN'), (',', '.'), ('who', 'PRON'), ('*T*-1', 'X'), ('could', 'VERB'), (\"n't\", 'ADV'), ('be', 'VERB'), ('reached', 'VERB'), ('*-24', 'X'), ('for', 'ADP'), ('comment', 'NOUN'), (',', '.'), ('will', 'VERB'), ('work', 'VERB'), ('for', 'ADP'), ('the', 'DET'), ('new', 'ADJ'), ('Colorado', 'NOUN'), ('Springs', 'NOUN'), (',', '.'), ('Colo.', 'NOUN'), (',', '.'), ('company', 'NOUN'), ('as', 'ADP'), ('an', 'DET'), ('independent', 'ADJ'), ('contractor', 'NOUN'), ('--', '.'), ('the', 'DET'), ('arrangement', 'NOUN'), ('0', 'X'), ('he', 'PRON'), ('had', 'VERB'), ('*T*-2', 'X'), ('with', 'ADP'), ('Cray', 'NOUN'), ('Research', 'NOUN'), ('.', '.'), ('In', 'ADP'), ('response', 'NOUN'), ('to', 'PRT'), ('the', 'DET'), ('ruling', 'NOUN'), (',', '.'), ('gilt', 'NOUN'), ('futures', 'NOUN'), ('swiftly', 'ADV'), ('plunged', 'VERB'), ('more', 'ADV'), ('than', 'ADP'), ('a', 'DET'), ('point', 'NOUN'), ('yesterday', 'NOUN'), ('before', 'ADP'), ('*-1', 'X'), ('recovering', 'NOUN'), ('much', 'ADV'), ('of', 'ADP'), ('the', 'DET'), ('loss', 'NOUN'), ('by', 'ADP'), ('the', 'DET'), ('end', 'NOUN'), ('of', 'ADP'), ('the', 'DET'), ('session', 'NOUN'), ('.', '.'), ('PAPERS', 'NOUN'), (':', '.'), ('CERTIFICATES', 'NOUN'), ('OF', 'ADP'), ('DEPOSIT', 'NOUN'), (':', '.'), ('8.07', 'NUM'), ('%', 'NOUN'), ('one', 'NUM'), ('month', 'NOUN'), (';', '.'), ('8.06', 'NOUN'), ('%', 'NOUN'), ('two', 'NUM'), ('months', 'NOUN'), (';', '.'), ('8.04', 'NOUN'), ('%', 'NOUN'), ('three', 'NUM'), ('months', 'NOUN'), (';', '.'), ('7.95', 'NUM'), ('%', 'NOUN'), ('six', 'NUM'), ('months', 'NOUN'), (';', '.'), ('7.88', 'NUM'), ('%', 'NOUN'), ('one', 'NUM'), ('year', 'NOUN'), ('.', '.'), ('Fujitsu', 'NOUN'), ('Ltd.', 'NOUN'), (\"'s\", 'PRT'), ('top', 'ADJ'), ('executive', 'NOUN'), ('took', 'VERB'), ('the', 'DET'), ('unusual', 'ADJ'), ('step', 'NOUN'), ('of', 'ADP'), ('*', 'X'), ('publicly', 'ADV'), ('apologizing', 'NOUN'), ('for', 'ADP'), ('his', 'PRON'), ('company', 'NOUN'), (\"'s\", 'PRT'), ('making', 'VERB'), ('bids', 'NOUN'), ('of', 'ADP'), ('just', 'ADV'), ('one', 'NUM'), ('yen', 'NOUN'), ('for', 'ADP'), ('several', 'ADJ'), ('local', 'ADJ'), ('government', 'NOUN'), ('projects', 'NOUN'), (',', '.'), ('while', 'ADP'), ('computer', 'NOUN'), ('rival', 'NOUN'), ('NEC', 'NOUN'), ('Corp.', 'NOUN'), ('made', 'VERB'), ('a', 'DET'), ('written', 'VERB'), ('apology', 'NOUN'), ('for', 'ADP'), ('*', 'X'), ('indulging', 'NOUN'), ('in', 'ADP'), ('the', 'DET'), ('same', 'ADJ'), ('practice', 'NOUN'), ('.', '.'), ('``', '.'), ('Little', 'NOUN'), ('by', 'ADP'), ('little', 'ADJ'), (',', '.'), ('there', 'DET'), ('is', 'VERB'), ('progress', 'NOUN'), (',', '.'), (\"''\", '.'), ('says', 'VERB'), ('*T*-1', 'X'), ('the', 'DET'), ('MITI', 'NOUN'), ('official', 'NOUN'), ('.', '.'), ('Hammacher', 'NOUN'), ('Schlemmer', 'NOUN'), ('&', 'CONJ'), ('Co.', 'NOUN'), ('offers', 'VERB'), ('a', 'DET'), ('fiber-optic', 'NOUN'), ('Christmas', 'NOUN'), ('tree', 'NOUN'), ('that', 'ADP'), ('*T*-1', 'X'), ('eliminates', 'VERB'), ('the', 'DET'), ('need', 'NOUN'), ('*', 'X'), ('to', 'PRT'), ('string', 'NOUN'), ('lights', 'NOUN'), ('.', '.'), ('The', 'DET'), ('law', 'NOUN'), ('defines', 'NOUN'), ('unfairly', 'ADV'), ('low', 'ADJ'), ('prices', 'NOUN'), ('as', 'ADP'), ('ones', 'NOUN'), ('below', 'ADP'), ('the', 'DET'), ('cost', 'NOUN'), ('of', 'ADP'), ('production', 'NOUN'), ('or', 'CONJ'), ('below', 'ADP'), ('prices', 'NOUN'), ('in', 'ADP'), ('an', 'DET'), ('exporter', 'NOUN'), (\"'s\", 'PRT'), ('home', 'NOUN'), ('market', 'NOUN'), ('.', '.'), ('The', 'DET'), ('decline', 'NOUN'), ('was', 'VERB'), ('even', 'ADV'), ('steeper', 'ADJ'), ('than', 'ADP'), ('in', 'ADP'), ('September', 'NOUN'), ('.', '.'), ('The', 'DET'), ('latest', 'ADJ'), ('results', 'NOUN'), ('include', 'VERB'), ('some', 'DET'), ('unusual', 'ADJ'), ('write-downs', 'NOUN'), (',', '.'), ('which', 'DET'), ('*T*-1', 'X'), ('had', 'VERB'), ('an', 'DET'), ('after-tax', 'ADJ'), ('impact', 'NOUN'), ('of', 'ADP'), ('$', '.'), ('4.9', 'NOUN'), ('million', 'NUM'), ('*U*', 'X'), ('.', '.'), ('Program', 'NOUN'), ('trading', 'NOUN'), ('is', 'VERB'), ('``', '.'), ('a', 'DET'), ('racket', 'NOUN'), (',', '.'), (\"''\", '.'), ('complains', 'VERB'), ('0', 'X'), ('*T*-1', 'X'), ('Edward', 'NOUN'), ('Egnuss', 'NOUN'), (',', '.'), ('a', 'DET'), ('White', 'NOUN'), ('Plains', 'NOUN'), (',', '.'), ('N.Y.', 'NOUN'), (',', '.'), ('investor', 'NOUN'), ('and', 'CONJ'), ('electronics', 'NOUN'), ('sales', 'NOUN'), ('executive', 'NOUN'), (',', '.'), ('``', '.'), ('and', 'CONJ'), ('it', 'PRON'), (\"'s\", 'VERB'), ('not', 'ADV'), ('to', 'PRT'), ('the', 'DET'), ('benefit', 'NOUN'), ('of', 'ADP'), ('the', 'DET'), ('small', 'ADJ'), ('investor', 'NOUN'), (',', '.'), ('that', 'DET'), (\"'s\", 'VERB'), ('for', 'ADP'), ('sure', 'ADJ'), ('.', '.'), (\"''\", '.'), ('Officials', 'NOUN'), ('of', 'ADP'), ('Triton', 'NOUN'), ('could', 'VERB'), (\"n't\", 'ADV'), ('be', 'VERB'), ('reached', 'VERB'), ('*-157', 'NOUN'), ('for', 'ADP'), ('comment', 'NOUN'), ('.', '.'), ('Mr.', 'NOUN'), ('Icahn', 'NOUN'), ('has', 'VERB'), ('said', 'VERB'), ('0', 'X'), ('he', 'PRON'), ('believes', 'VERB'), ('0', 'X'), ('USX', 'NOUN'), ('would', 'VERB'), ('be', 'VERB'), ('worth', 'ADP'), ('more', 'ADJ'), ('if', 'ADP'), ('*-1', 'X'), ('broken', 'VERB'), ('up', 'ADV'), ('*-2', 'X'), ('into', 'ADP'), ('steel', 'NOUN'), ('and', 'CONJ'), ('energy', 'NOUN'), ('segments', 'NOUN'), ('.', '.'), ('The', 'DET'), ('battle', 'NOUN'), ('has', 'VERB'), ('turned', 'VERB'), ('into', 'ADP'), ('a', 'DET'), ('civil', 'NOUN'), ('war', 'NOUN'), ('at', 'ADP'), ('some', 'DET'), ('firms', 'NOUN'), ('and', 'CONJ'), ('organizations', 'NOUN'), (',', '.'), ('*-1', 'X'), ('causing', 'VERB'), ('internal', 'ADJ'), ('contradictions', 'NOUN'), ('and', 'CONJ'), ('pitting', 'NOUN'), ('employee', 'NOUN'), ('against', 'ADP'), ('employee', 'NOUN'), ('.', '.'), ('It', 'PRON'), ('should', 'VERB'), ('be', 'VERB'), ('constantly', 'ADV'), ('stressed', 'VERB'), ('that', 'ADP'), ('Poland', 'NOUN'), (\"'s\", 'PRT'), ('farmers', 'NOUN'), ('mostly', 'ADV'), ('need', 'VERB'), ('a', 'DET'), ('real', 'ADJ'), ('market', 'NOUN'), ('for', 'ADP'), ('their', 'PRON'), ('products', 'NOUN'), ('.', '.'), ('In', 'ADP'), ('other', 'ADJ'), ('transactions', 'NOUN'), (',', '.'), ('Mr.', 'NOUN'), ('Simmons', 'NOUN'), ('has', 'VERB'), ('followed', 'VERB'), ('friendly', 'ADJ'), ('offers', 'NOUN'), ('with', 'ADP'), ('a', 'DET'), ('hostile', 'ADJ'), ('tender', 'NOUN'), ('offer', 'NOUN'), ('.', '.'), ('Since', 'ADP'), ('then', 'ADV'), (',', '.'), ('a', 'DET'), ('team', 'NOUN'), ('of', 'ADP'), ('about', 'ADP'), ('15', 'NUM'), ('MITI', 'NOUN'), ('and', 'CONJ'), ('U.S.', 'NOUN'), ('Commerce', 'NOUN'), ('Department', 'NOUN'), ('officials', 'NOUN'), ('have', 'VERB'), ('crossed', 'NOUN'), ('the', 'DET'), ('globe', 'NOUN'), ('*-1', 'X'), ('gauging', 'NOUN'), ('consumer', 'NOUN'), ('prices', 'NOUN'), ('.', '.'), ('The', 'DET'), ('yield', 'NOUN'), ('on', 'ADP'), ('six-month', 'ADJ'), ('Treasury', 'NOUN'), ('bills', 'NOUN'), ('sold', 'VERB'), ('*', 'X'), ('at', 'ADP'), ('Monday', 'NOUN'), (\"'s\", 'PRT'), ('auction', 'NOUN'), (',', '.'), ('for', 'ADP'), ('example', 'NOUN'), (',', '.'), ('rose', 'VERB'), ('to', 'PRT'), ('8.04', 'NOUN'), ('%', 'NOUN'), ('from', 'ADP'), ('7.90', 'NUM'), ('%', 'NOUN'), ('.', '.'), ('U.S.', 'NOUN'), ('stock-index', 'NOUN'), ('futures', 'NOUN'), ('are', 'VERB'), (\"n't\", 'ADV'), ('even', 'ADV'), ('traded', 'VERB'), ('*-1', 'X'), ('in', 'ADP'), ('Japan', 'NOUN'), ('now', 'ADV'), ('.', '.'), ('Like', 'ADP'), ('other', 'ADJ'), ('forms', 'NOUN'), ('of', 'ADP'), ('arbitrage', 'NOUN'), (',', '.'), ('it', 'PRON'), ('merely', 'ADV'), ('seeks', 'VERB'), ('*-1', 'X'), ('to', 'PRT'), ('take', 'VERB'), ('advantage', 'NOUN'), ('of', 'ADP'), ('momentary', 'NOUN'), ('discrepancies', 'NOUN'), ('in', 'ADP'), ('the', 'DET'), ('price', 'NOUN'), ('of', 'ADP'), ('a', 'DET'), ('single', 'ADJ'), ('product', 'NOUN'), ('--', '.'), ('in', 'ADP'), ('this', 'DET'), ('case', 'NOUN'), (',', '.'), ('a', 'DET'), ('basket', 'NOUN'), ('of', 'ADP'), ('stocks', 'NOUN'), ('--', '.'), ('in', 'ADP'), ('different', 'ADJ'), ('markets', 'NOUN'), ('--', '.'), ('in', 'ADP'), ('this', 'DET'), ('case', 'NOUN'), ('the', 'DET'), ('New', 'NOUN'), ('York', 'NOUN'), ('Stock', 'NOUN'), ('Exchange', 'NOUN'), ('and', 'CONJ'), ('the', 'DET'), ('Chicago', 'NOUN'), ('futures', 'NOUN'), ('markets', 'NOUN'), ('.', '.'), ('Says', 'VERB'), ('*ICH*-1', 'X'), ('Mr.', 'NOUN'), ('Sale', 'NOUN'), (':', '.'), ('``', '.'), ('I', 'PRON'), ('think', 'VERB'), ('0', 'X'), ('more', 'ADV'), ('banks', 'NOUN'), ('are', 'VERB'), ('starting', 'VERB'), ('*-2', 'X'), ('to', 'PRT'), ('realize', 'VERB'), ('that', 'ADP'), ('we', 'PRON'), ('have', 'VERB'), ('*-3', 'X'), ('to', 'PRT'), ('be', 'VERB'), ('more', 'ADV'), ('like', 'ADP'), ('the', 'DET'), ('department', 'NOUN'), ('store', 'VERB'), (',', '.'), ('not', 'ADV'), ('the', 'DET'), ('boutique', 'NOUN'), ('.', '.'), (\"''\", '.'), ('These', 'DET'), ('prices', 'NOUN'), ('seem', 'VERB'), ('rather', 'ADV'), ('modest', 'ADJ'), (',', '.'), ('however', 'ADV'), (',', '.'), ('in', 'ADP'), ('light', 'ADJ'), ('of', 'ADP'), ('other', 'ADJ'), ('French', 'ADJ'), ('wines', 'NOUN'), ('from', 'ADP'), ('current', 'ADJ'), ('vintages', 'NOUN'), ('.', '.'), ('The', 'DET'), ('Treasury', 'NOUN'), ('said', 'VERB'), ('0', 'X'), ('it', 'PRON'), ('needs', 'VERB'), ('*-1', 'X'), ('to', 'PRT'), ('raise', 'VERB'), ('$', '.'), ('47.5', 'NOUN'), ('billion', 'NUM'), ('*U*', 'X'), ('in', 'ADP'), ('the', 'DET'), ('current', 'ADJ'), ('quarter', 'NOUN'), ('in', 'ADP'), ('order', 'NOUN'), ('*-1', 'X'), ('to', 'PRT'), ('end', 'VERB'), ('December', 'NOUN'), ('with', 'ADP'), ('a', 'DET'), ('$', '.'), ('20', 'NUM'), ('billion', 'NUM'), ('*U*', 'X'), ('cash', 'NOUN'), ('balance', 'NOUN'), ('.', '.'), ('Year', 'NOUN'), ('ended', 'VERB'), ('Dec.', 'NOUN'), ('31', 'NUM'), (',', '.'), ('1988', 'NUM'), (':', '.'), ('Net', 'ADJ'), ('income', 'NOUN'), (':', '.'), ('$', '.'), ('65', 'NUM'), ('million', 'NUM'), ('*U*', 'X'), (';', '.'), ('or', 'CONJ'), ('$', '.'), ('1.49', 'NOUN'), ('*U*', 'X'), ('a', 'DET'), ('share', 'NOUN')]\n",
      "\n",
      "\n",
      "test_run_base:\n",
      "\n",
      "[('Few', 'ADJ'), ('people', 'NOUN'), ('think', 'VERB'), ('0', 'X'), ('Mr.', 'NOUN'), ('Spiegel', 'NOUN'), ('wants', 'VERB'), ('*-1', 'X'), ('to', 'PRT'), ('run', 'VERB'), ('a', 'DET'), ('bread-and-butter', 'ADJ'), ('thrift', 'NOUN'), (',', '.'), ('which', 'DET'), ('current', 'ADJ'), ('rules', 'NOUN'), ('would', 'VERB'), ('force', 'VERB'), ('Columbia', 'NOUN'), ('to', 'PRT'), ('become', 'VERB'), ('*T*-2', 'X'), ('.', '.'), ('Too', 'ADV'), ('often', 'ADV'), ('now', 'ADV'), (',', '.'), ('a', 'DET'), ('single', 'ADJ'), ('court', 'NOUN'), ('decision', 'NOUN'), ('becomes', 'VERB'), ('the', 'DET'), ('precedent', 'NOUN'), ('for', 'ADP'), ('other', 'ADJ'), (',', '.'), ('less', 'ADV'), ('compelling', 'ADJ'), ('cases', 'NOUN'), ('.', '.'), ('The', 'DET'), ('next', 'ADJ'), ('province', 'NOUN'), ('?', '.'), ('After', 'ADP'), ('the', 'DET'), ('race', 'NOUN'), (',', '.'), ('Fortune', 'NOUN'), ('500', 'NUM'), ('executives', 'NOUN'), ('drooled', 'VERB'), ('like', 'ADP'), ('schoolboys', 'NOUN'), ('over', 'ADP'), ('the', 'DET'), ('cars', 'NOUN'), ('and', 'CONJ'), ('drivers', 'NOUN'), ('.', '.'), ('Michael', 'NOUN'), ('Basham', 'NOUN'), (',', '.'), ('deputy', 'NOUN'), ('assistant', 'NOUN'), ('secretary', 'NOUN'), ('for', 'ADP'), ('federal', 'ADJ'), ('finance', 'NOUN'), (',', '.'), ('said', 'VERB'), ('0', 'X'), ('the', 'DET'), ('Treasury', 'NOUN'), ('may', 'VERB'), ('wait', 'VERB'), ('until', 'ADP'), ('late', 'ADJ'), ('Monday', 'NOUN'), ('or', 'CONJ'), ('even', 'ADV'), ('early', 'ADJ'), ('Tuesday', 'NOUN'), ('*-2', 'X'), ('to', 'PRT'), ('announce', 'VERB'), ('whether', 'ADP'), ('the', 'DET'), ('autions', 'NOUN'), ('are', 'VERB'), ('*-1', 'X'), ('to', 'PRT'), ('be', 'VERB'), ('rescheduled', 'VERB'), ('*-106', 'X'), ('.', '.'), ('*-1', 'X'), ('Encouraged', 'ADJ'), ('*-2', 'X'), ('by', 'ADP'), ('Mrs.', 'NOUN'), ('Ward', 'NOUN'), (',', '.'), ('Mrs.', 'NOUN'), ('Yeargin', 'NOUN'), ('taught', 'VERB'), ('honor', 'NOUN'), ('students', 'NOUN'), ('in', 'ADP'), ('the', 'DET'), ('state', 'NOUN'), ('``', '.'), ('teacher', 'NOUN'), ('cadet', 'NOUN'), (\"''\", '.'), ('program', 'NOUN'), (',', '.'), ('a', 'DET'), ('reform', 'NOUN'), ('creation', 'NOUN'), ('designed', 'VERB'), ('*', 'X'), ('*-3', 'X'), ('to', 'PRT'), ('encourage', 'VERB'), ('good', 'ADJ'), ('students', 'NOUN'), ('to', 'PRT'), ('consider', 'VERB'), ('teaching', 'NOUN'), ('as', 'ADP'), ('a', 'DET'), ('career', 'NOUN'), ('.', '.'), ('Even', 'ADV'), ('a', 'DET'), ('low-tech', 'ADJ'), ('product', 'NOUN'), ('like', 'ADP'), ('plate', 'NOUN'), ('glass', 'NOUN'), ('can', 'VERB'), ('catch', 'VERB'), ('a', 'DET'), ('trading', 'NOUN'), ('company', 'NOUN'), (\"'s\", 'PRT'), ('fancy', 'NOUN'), ('if', 'ADP'), ('there', 'DET'), (\"'s\", 'VERB'), ('a', 'DET'), ('strategic', 'ADJ'), ('fit', 'NOUN'), ('.', '.'), ('Buying', 'VERB'), ('for', 'ADP'), ('the', 'DET'), ('most', 'ADJ'), ('part', 'NOUN'), ('carried', 'VERB'), ('over', 'PRT'), ('from', 'ADP'), ('the', 'DET'), ('previous', 'ADJ'), ('session', 'NOUN'), (',', '.'), ('and', 'CONJ'), ('traders', 'NOUN'), ('apparently', 'ADV'), ('ignored', 'VERB'), ('reports', 'NOUN'), ('that', 'ADP'), ('a', 'DET'), ('Chilean', 'ADJ'), ('mine', 'ADJ'), ('strike', 'NOUN'), ('may', 'VERB'), ('have', 'VERB'), ('ended', 'VERB'), ('almost', 'ADV'), ('before', 'ADP'), ('it', 'PRON'), ('began', 'VERB'), (',', '.'), ('an', 'DET'), ('analyst', 'NOUN'), ('said', 'VERB'), ('0', 'X'), ('*T*-1', 'X'), ('.', '.'), ('A', 'DET'), ('1', 'NUM'), ('%', 'NOUN'), ('to', 'PRT'), ('2', 'NUM'), ('%', 'NOUN'), ('*U*', 'X'), ('return', 'NOUN'), ('on', 'ADP'), ('$', '.'), ('17', 'NUM'), ('billion', 'NUM'), ('*U*', 'X'), ('``', '.'), ('ai', 'VERB'), (\"n't\", 'ADV'), ('hay', 'NOUN'), (',', '.'), (\"''\", '.'), ('Mr.', 'NOUN'), ('Klauser', 'NOUN'), ('says', 'VERB'), ('0', 'X'), ('*T*-1', 'X'), ('.', '.'), ('Such', 'ADJ'), ('problems', 'NOUN'), ('will', 'VERB'), ('require', 'VERB'), ('considerable', 'ADJ'), ('skill', 'NOUN'), ('*', 'X'), ('to', 'PRT'), ('resolve', 'VERB'), ('.', '.'), ('Mortgage-Backed', 'NOUN'), ('Issues', 'NOUN'), ('Polls', 'NOUN'), ('once', 'ADV'), ('named', 'VERB'), ('Tokyo', 'NOUN'), ('Giants', 'NOUN'), ('star', 'NOUN'), ('Tatsunori', 'NOUN'), ('Hara', 'NOUN'), (',', '.'), ('a', 'DET'), ('``', '.'), ('humble', 'ADJ'), (',', '.'), ('uncomplaining', 'ADJ'), (',', '.'), ('obedient', 'ADJ'), ('soul', 'NOUN'), (',', '.'), (\"''\", '.'), ('as', 'ADP'), ('the', 'DET'), ('male', 'ADJ'), ('symbol', 'NOUN'), ('of', 'ADP'), ('Japan', 'NOUN'), ('.', '.'), ('The', 'DET'), ('service', 'NOUN'), ('--', '.'), ('which', 'DET'), ('*T*-2', 'X'), ('costs', 'VERB'), ('the', 'DET'), ('caller', 'NOUN'), ('from', 'ADP'), ('30', 'NUM'), ('cents', 'NOUN'), ('to', 'PRT'), ('$', '.'), ('25', 'NUM'), ('*U*', 'X'), ('a', 'DET'), ('minute', 'NOUN'), ('--', '.'), ('currently', 'ADV'), ('is', 'VERB'), ('dominated', 'VERB'), ('*-1', 'X'), ('by', 'ADP'), ('celebrity', 'NOUN'), ('chatter', 'NOUN'), (',', '.'), ('horoscopes', 'NOUN'), ('and', 'CONJ'), ('romance', 'NOUN'), ('lines', 'NOUN'), ('.', '.'), ('ENERGY', 'NOUN'), (':', '.'), ('Crude', 'ADJ'), ('oil', 'NOUN'), ('futures', 'NOUN'), ('prices', 'NOUN'), ('increased', 'VERB'), ('in', 'ADP'), ('moderate', 'ADJ'), ('trading', 'NOUN'), (',', '.'), ('but', 'CONJ'), ('much', 'ADJ'), ('of', 'ADP'), ('the', 'DET'), ('action', 'NOUN'), ('was', 'VERB'), ('in', 'ADP'), ('heating', 'NOUN'), ('oil', 'NOUN'), ('.', '.'), ('Sometimes', 'ADV'), ('you', 'PRON'), ('just', 'ADV'), ('go', 'VERB'), ('with', 'ADP'), ('your', 'PRON'), ('gut', 'NOUN'), ('.', '.'), (\"''\", '.'), ('Sales', 'NOUN'), ('rose', 'VERB'), ('11', 'NUM'), ('%', 'NOUN'), ('to', 'PRT'), ('292.32', 'NUM'), ('billion', 'NUM'), ('yen', 'NOUN'), ('from', 'ADP'), ('263.07', 'NUM'), ('billion', 'NUM'), ('yen', 'NOUN'), ('.', '.'), ('Transamerica', 'NOUN'), ('Corp.', 'NOUN'), (',', '.'), ('San', 'NOUN'), ('Francisco', 'NOUN'), (',', '.'), ('said', 'VERB'), ('0', 'X'), ('third-quarter', 'NOUN'), ('profit', 'NOUN'), ('was', 'VERB'), ('essentially', 'ADV'), ('flat', 'ADJ'), ('despite', 'ADP'), ('a', 'DET'), ('large', 'ADJ'), ('one-time', 'ADJ'), ('gain', 'NOUN'), ('a', 'DET'), ('year', 'NOUN'), ('earlier', 'ADJ'), ('.', '.'), ('The', 'DET'), ('offer', 'NOUN'), (',', '.'), ('which', 'DET'), ('*T*-2', 'X'), ('follows', 'VERB'), ('a', 'DET'), ('$', '.'), ('55-a-share', 'ADJ'), ('*U*', 'X'), ('bid', 'NOUN'), ('that', 'DET'), ('*T*-3', 'X'), ('was', 'VERB'), ('rejected', 'VERB'), ('*-1', 'X'), ('in', 'ADP'), ('September', 'NOUN'), (',', '.'), ('steps', 'VERB'), ('up', 'PRT'), ('pressure', 'NOUN'), ('on', 'ADP'), ('the', 'DET'), ('chemicals', 'NOUN'), ('concern', 'NOUN'), ('.', '.'), ('Also', 'ADV'), (',', '.'), ('substantially', 'ADV'), ('lower', 'ADJ'), ('Dutch', 'ADJ'), ('corporate', 'ADJ'), ('tax', 'NOUN'), ('rates', 'NOUN'), ('helped', 'VERB'), ('the', 'DET'), ('company', 'NOUN'), ('keep', 'VERB'), ('its', 'PRON'), ('tax', 'NOUN'), ('outlay', 'NOUN'), ('flat', 'ADJ'), ('relative', 'ADJ'), ('to', 'PRT'), ('earnings', 'NOUN'), ('growth', 'NOUN'), (',', '.'), ('the', 'DET'), ('company', 'NOUN'), ('added', 'VERB'), ('0', 'X'), ('*T*-1', 'X'), ('.', '.'), ('IBM', 'NOUN'), (',', '.'), ('the', 'DET'), ('world', 'NOUN'), ('leader', 'NOUN'), ('in', 'ADP'), ('computers', 'NOUN'), (',', '.'), ('did', 'VERB'), (\"n't\", 'ADV'), ('offer', 'VERB'), ('its', 'PRON'), ('first', 'ADJ'), ('PC', 'NOUN'), ('until', 'ADP'), ('August', 'NOUN'), ('1981', 'NUM'), ('as', 'ADP'), ('many', 'ADJ'), ('other', 'ADJ'), ('companies', 'NOUN'), ('entered', 'VERB'), ('the', 'DET'), ('market', 'NOUN'), ('.', '.'), ('The', 'DET'), ('30-day', 'ADJ'), ('simple', 'ADJ'), ('yield', 'NOUN'), ('fell', 'VERB'), ('to', 'PRT'), ('an', 'DET'), ('average', 'ADJ'), ('8.19', 'NUM'), ('%', 'NOUN'), ('from', 'ADP'), ('8.22', 'NUM'), ('%', 'NOUN'), (';', '.'), ('the', 'DET'), ('30-day', 'ADJ'), ('compound', 'NOUN'), ('yield', 'NOUN'), ('slid', 'VERB'), ('to', 'PRT'), ('an', 'DET'), ('average', 'ADJ'), ('8.53', 'NUM'), ('%', 'NOUN'), ('from', 'ADP'), ('8.56', 'NUM'), ('%', 'NOUN'), ('.', '.'), ('Komatsu', 'NOUN'), ('predicted', 'VERB'), ('that', 'ADP'), ('for', 'ADP'), ('the', 'DET'), ('fiscal', 'ADJ'), ('year', 'NOUN'), ('ending', 'VERB'), ('March', 'NOUN'), ('31', 'NUM'), ('sales', 'NOUN'), ('will', 'VERB'), ('climb', 'VERB'), ('to', 'PRT'), ('600', 'NUM'), ('billion', 'NUM'), ('yen', 'NOUN'), ('from', 'ADP'), ('566.54', 'NUM'), ('billion', 'NUM'), ('yen', 'NOUN'), (';', '.'), ('pretax', 'NOUN'), ('profit', 'NOUN'), ('was', 'VERB'), ('forecast', 'VERB'), ('*-1', 'X'), ('at', 'ADP'), ('35', 'NUM'), ('billion', 'NUM'), ('yen', 'NOUN'), (',', '.'), ('up', 'ADV'), ('from', 'ADP'), ('28.53', 'NUM'), ('billion', 'NUM'), ('yen', 'NOUN'), ('in', 'ADP'), ('fiscal', 'ADJ'), ('1989', 'NUM'), ('.', '.'), ('In', 'ADP'), ('the', 'DET'), ('third', 'ADJ'), ('quarter', 'NOUN'), (',', '.'), ('Georgia', 'NOUN'), ('Gulf', 'NOUN'), ('earned', 'VERB'), ('$', '.'), ('46.1', 'NUM'), ('million', 'NUM'), ('*U*', 'X'), (',', '.'), ('or', 'CONJ'), ('$', '.'), ('1.85', 'NUM'), ('*U*', 'X'), ('a', 'DET'), ('share', 'NOUN'), (',', '.'), ('down', 'ADV'), ('from', 'ADP'), ('$', '.'), ('53', 'NUM'), ('million', 'NUM'), ('*U*', 'X'), (',', '.'), ('or', 'CONJ'), ('$', '.'), ('1.85', 'NUM'), ('*U*', 'X'), ('a', 'DET'), ('share', 'NOUN'), ('on', 'ADP'), ('fewer', 'ADJ'), ('shares', 'NOUN'), ('outstanding', 'ADJ'), ('.', '.'), ('On', 'ADP'), ('the', 'DET'), ('other', 'ADJ'), ('hand', 'NOUN'), (',', '.'), ('if', 'ADP'), ('it', 'PRON'), ('goes', 'VERB'), ('way', 'NOUN'), ('sky', 'NOUN'), ('high', 'ADV'), (',', '.'), ('I', 'PRON'), ('always', 'ADV'), ('sell', 'VERB'), ('.', '.'), ('``', '.'), ('All', 'DET'), ('of', 'ADP'), ('these', 'DET'), ('forces', 'NOUN'), ('came', 'VERB'), ('together', 'ADV'), ('in', 'ADP'), ('1988', 'NUM'), ('*', 'X'), ('to', 'PRT'), ('benefit', 'VERB'), ('agriculture', 'NOUN'), (',', '.'), (\"''\", '.'), ('Mr.', 'NOUN'), ('Collins', 'NOUN'), ('said', 'VERB'), ('*T*-1', 'X'), ('.', '.'), ('$', '.'), ('107', 'NUM'), ('million', 'NUM'), ('*U*', 'X'), ('of', 'ADP'), ('tax', 'NOUN'), ('allocation', 'NOUN'), ('bonds', 'NOUN'), (',', '.'), ('1989', 'NUM'), ('Series', 'NOUN'), ('A-D', 'NOUN'), (',', '.'), ('due', 'ADJ'), ('1991-1999', 'NUM'), (',', '.'), ('2009', 'NUM'), ('and', 'CONJ'), ('2019', 'NUM'), (',', '.'), ('tentatively', 'ADV'), ('priced', 'VERB'), ('*', 'X'), ('by', 'ADP'), ('a', 'DET'), ('Donaldson', 'NOUN'), ('Lufkin', 'NOUN'), ('&', 'CONJ'), ('Jenrette', 'NOUN'), ('Securities', 'NOUN'), ('Corp.', 'NOUN'), ('group', 'NOUN'), ('*', 'X'), ('to', 'PRT'), ('yield', 'VERB'), ('from', 'ADP'), ('6.40', 'NUM'), ('%', 'NOUN'), ('in', 'ADP'), ('1991', 'NUM'), ('to', 'PRT'), ('7.458', 'NUM'), ('%', 'NOUN'), ('in', 'ADP'), ('2019', 'NUM'), ('.', '.'), ('Signs', 'NOUN'), ('of', 'ADP'), ('a', 'DET'), ('slowing', 'VERB'), ('economy', 'NOUN'), ('are', 'VERB'), ('increasing', 'VERB'), ('pressure', 'NOUN'), ('*ICH*-2', 'X'), ('on', 'ADP'), ('the', 'DET'), ('Federal', 'NOUN'), ('Reserve', 'NOUN'), ('*', 'X'), ('to', 'PRT'), ('cut', 'VERB'), ('short-term', 'ADJ'), ('interest', 'NOUN'), ('rates', 'NOUN'), (',', '.'), ('but', 'CONJ'), ('it', 'PRON'), ('*EXP*-1', 'X'), ('is', 'VERB'), (\"n't\", 'ADV'), ('clear', 'ADJ'), ('whether', 'ADP'), ('the', 'DET'), ('central', 'ADJ'), ('bank', 'NOUN'), ('will', 'VERB'), ('do', 'VERB'), ('so', 'ADV'), ('.', '.'), ('Junk', 'NOUN'), ('bonds', 'NOUN'), ('trailed', 'VERB'), ('the', 'DET'), ('group', 'NOUN'), ('again', 'ADV'), ('.', '.'), ('``', '.'), ('Many', 'ADJ'), ('in', 'ADP'), ('the', 'DET'), ('United', 'NOUN'), ('States', 'NOUN'), (',', '.'), ('including', 'VERB'), ('many', 'ADJ'), ('friends', 'NOUN'), ('of', 'ADP'), ('China', 'NOUN'), (',', '.'), ('believe', 'VERB'), ('0', 'X'), ('the', 'DET'), ('crackdown', 'NOUN'), ('was', 'VERB'), ('excessive', 'ADJ'), ('and', 'CONJ'), ('unjustified', 'ADJ'), (',', '.'), (\"''\", '.'), ('Mr.', 'NOUN'), ('Nixon', 'NOUN'), ('told', 'VERB'), ('Mr.', 'NOUN'), ('Yang', 'NOUN'), (',', '.'), ('who', 'PRON'), ('*T*-242', 'X'), ('was', 'VERB'), ('directly', 'ADV'), ('involved', 'VERB'), ('*-2', 'X'), ('in', 'ADP'), ('*', 'X'), ('ordering', 'VERB'), ('the', 'DET'), ('attack', 'NOUN'), ('*T*-1', 'X'), ('.', '.'), ('``', '.'), ('The', 'DET'), ('unavailability', 'NOUN'), ('of', 'ADP'), ('federal', 'ADJ'), ('funds', 'NOUN'), (',', '.'), ('and', 'CONJ'), ('the', 'DET'), ('climate', 'NOUN'), ('in', 'ADP'), ('which', 'DET'), ('the', 'DET'), ('decision', 'NOUN'), ('was', 'VERB'), ('made', 'VERB'), ('*-2', 'X'), ('*T*-1', 'X'), (',', '.'), ('certainly', 'ADV'), ('do', 'VERB'), (\"n't\", 'ADV'), ('provide', 'VERB'), ('any', 'DET'), ('incentive', 'NOUN'), ('for', 'ADP'), ('one', 'NUM'), ('of', 'ADP'), ('the', 'DET'), ('more', 'ADV'), ('visible', 'ADJ'), ('foundations', 'NOUN'), ('to', 'PRT'), ('provide', 'VERB'), ('support', 'NOUN'), (',', '.'), (\"''\", '.'), ('he', 'PRON'), ('said', 'VERB'), ('*T*-3', 'X'), ('.', '.'), ('In', 'ADP'), ('any', 'DET'), ('case', 'NOUN'), (',', '.'), ('opinion', 'NOUN'), ('*ICH*-2', 'X'), ('is', 'VERB'), ('mixed', 'VERB'), ('on', 'ADP'), ('how', 'ADV'), ('much', 'ADJ'), ('of', 'ADP'), ('a', 'DET'), ('boost', 'NOUN'), ('the', 'DET'), ('overall', 'ADJ'), ('stock', 'NOUN'), ('market', 'NOUN'), ('would', 'VERB'), ('get', 'VERB'), ('*T*-1', 'X'), ('even', 'ADV'), ('if', 'ADP'), ('dividend', 'NOUN'), ('growth', 'NOUN'), ('continues', 'VERB'), ('at', 'ADP'), ('double-digit', 'ADJ'), ('levels', 'NOUN'), ('.', '.'), ('Terms', 'NOUN'), ('were', 'VERB'), (\"n't\", 'ADV'), ('disclosed', 'VERB'), ('*-1', 'X'), ('.', '.'), ('Virtually', 'ADV'), ('word', 'NOUN'), ('for', 'ADP'), ('word', 'NOUN'), (',', '.'), ('the', 'DET'), ('notes', 'NOUN'), ('matched', 'VERB'), ('questions', 'NOUN'), ('and', 'CONJ'), ('answers', 'NOUN'), ('on', 'ADP'), ('the', 'DET'), ('social-studies', 'NOUN'), ('section', 'NOUN'), ('of', 'ADP'), ('the', 'DET'), ('test', 'NOUN'), ('0', 'X'), ('the', 'DET'), ('student', 'NOUN'), ('was', 'VERB'), ('taking', 'VERB'), ('*T*-1', 'X'), ('.', '.'), ('Hallwood', 'NOUN'), (',', '.'), ('a', 'DET'), ('Cleveland', 'NOUN'), ('merchant', 'NOUN'), ('bank', 'NOUN'), (',', '.'), ('owns', 'VERB'), ('about', 'PRT'), ('11', 'NUM'), ('%', 'NOUN'), ('of', 'ADP'), ('Integra', 'NOUN'), ('.', '.'), ('After', 'ADP'), ('years', 'NOUN'), ('of', 'ADP'), ('struggling', 'VERB'), (',', '.'), ('the', 'DET'), ('Los', 'NOUN'), ('Angeles', 'NOUN'), ('Herald', 'NOUN'), ('Examiner', 'NOUN'), ('will', 'VERB'), ('publish', 'VERB'), ('its', 'PRON'), ('last', 'ADJ'), ('edition', 'NOUN'), ('today', 'NOUN'), (',', '.'), ('*-1', 'X'), ('shut', 'VERB'), ('down', 'PRT'), ('by', 'ADP'), ('its', 'PRON'), ('parent', 'NOUN'), (',', '.'), ('Hearst', 'NOUN'), ('Corp.', 'NOUN'), (',', '.'), ('following', 'VERB'), ('unsuccessful', 'ADJ'), ('efforts', 'NOUN'), ('*', 'X'), ('to', 'PRT'), ('sell', 'VERB'), ('the', 'DET'), ('venerable', 'ADJ'), ('newspaper', 'NOUN'), ('.', '.'), ('Compromises', 'NOUN'), ('are', 'VERB'), ('possible', 'ADJ'), ('.', '.'), ('Sir', 'NOUN'), ('Peter', 'NOUN'), ('will', 'VERB'), ('succeed', 'VERB'), ('Sir', 'NOUN'), ('John', 'NOUN'), ('Milne', 'NOUN'), (',', '.'), ('65', 'NUM'), (',', '.'), ('who', 'PRON'), ('*T*-158', 'X'), ('retires', 'VERB'), ('as', 'ADP'), ('Blue', 'NOUN'), ('Circle', 'NOUN'), ('nonexecutive', 'ADJ'), ('chairman', 'NOUN'), ('on', 'ADP'), ('June', 'NOUN'), ('1', 'NUM'), ('.', '.'), ('Partly', 'ADV'), ('because', 'ADP'), ('of', 'ADP'), ('worries', 'NOUN'), ('about', 'ADP'), ('potential', 'ADJ'), ('abuse', 'NOUN'), (',', '.'), ('however', 'ADV'), (',', '.'), ('he', 'PRON'), ('says', 'VERB'), ('0', 'X'), ('the', 'DET'), ('state', 'NOUN'), ('will', 'VERB'), ('begin', 'VERB'), ('*-1', 'X'), ('keeping', 'VERB'), ('closer', 'ADJ'), ('track', 'NOUN'), ('of', 'ADP'), ('achievement-test', 'NOUN'), ('preparation', 'NOUN'), ('booklets', 'NOUN'), ('next', 'ADJ'), ('spring', 'NOUN'), ('.', '.'), ('Mr.', 'NOUN'), ('Egnuss', 'NOUN'), (\"'s\", 'PRT'), ('dislike', 'NOUN'), ('of', 'ADP'), ('program', 'NOUN'), ('trading', 'NOUN'), ('is', 'VERB'), ('echoed', 'VERB'), ('*-1', 'X'), ('by', 'ADP'), ('many', 'ADJ'), ('small', 'ADJ'), ('investors', 'NOUN'), ('interviewed', 'VERB'), ('*', 'X'), ('by', 'ADP'), ('Wall', 'NOUN'), ('Street', 'NOUN'), ('Journal', 'NOUN'), ('reporters', 'NOUN'), ('across', 'ADP'), ('the', 'DET'), ('country', 'NOUN'), ('.', '.'), ('Mrs.', 'NOUN'), ('Ward', 'NOUN'), ('says', 'VERB'), ('that', 'ADP'), ('when', 'ADV'), ('the', 'DET'), ('cheating', 'NOUN'), ('was', 'VERB'), ('discovered', 'VERB'), ('*-4', 'X'), ('*T*-1', 'X'), (',', '.'), ('she', 'PRON'), ('wanted', 'VERB'), ('*-2', 'X'), ('to', 'PRT'), ('avoid', 'VERB'), ('the', 'DET'), ('morale-damaging', 'ADJ'), ('public', 'ADJ'), ('disclosure', 'NOUN'), ('that', 'ADP'), ('a', 'DET'), ('trial', 'NOUN'), ('would', 'VERB'), ('bring', 'VERB'), ('*T*-3', 'X'), ('.', '.'), ('Any', 'DET'), ('question', 'NOUN'), ('as', 'ADP'), ('to', 'PRT'), ('why', 'ADV'), ('an', 'DET'), ('author', 'NOUN'), ('would', 'VERB'), ('believe', 'VERB'), ('0', 'X'), ('this', 'DET'), ('plaintive', 'ADJ'), (',', '.'), ('high-minded', 'ADJ'), ('note', 'NOUN'), ('of', 'ADP'), ('assurance', 'NOUN'), ('is', 'VERB'), ('necessary', 'ADJ'), ('*T*-2', 'X'), ('is', 'VERB'), ('answered', 'VERB'), ('*-1', 'X'), ('by', 'ADP'), ('*', 'X'), ('reading', 'VERB'), ('this', 'DET'), ('book', 'NOUN'), ('about', 'ADP'), ('sticky', 'ADJ'), ('fingers', 'NOUN'), ('and', 'CONJ'), ('sweaty', 'ADJ'), ('scammers', 'NOUN'), ('.', '.'), ('That', 'DET'), ('explains', 'VERB'), ('why', 'ADV'), ('the', 'DET'), ('number', 'NOUN'), ('of', 'ADP'), ('these', 'DET'), ('wines', 'NOUN'), ('is', 'VERB'), ('expanding', 'VERB'), ('so', 'ADV'), ('rapidly', 'ADV'), ('.', '.'), ('The', 'DET'), ('utility', 'NOUN'), ('has', 'VERB'), ('been', 'VERB'), ('collecting', 'VERB'), ('for', 'ADP'), ('the', 'DET'), ('plant', 'NOUN'), (\"'s\", 'PRT'), ('construction', 'NOUN'), ('cost', 'NOUN'), ('from', 'ADP'), ('its', 'PRON'), ('3.1', 'NUM'), ('million', 'NUM'), ('customers', 'NOUN'), ('subject', 'ADJ'), ('to', 'PRT'), ('a', 'DET'), ('refund', 'NOUN'), ('since', 'ADP'), ('1986', 'NUM'), ('.', '.'), ('Upjohn', 'NOUN'), ('officials', 'NOUN'), ('said', 'VERB'), ('0', 'X'), ('they', 'PRON'), ('could', 'VERB'), (\"n't\", 'ADV'), ('estimate', 'VERB'), ('the', 'DET'), ('size', 'NOUN'), ('of', 'ADP'), ('the', 'DET'), ('charge', 'NOUN'), ('until', 'ADP'), ('they', 'PRON'), ('determine', 'VERB'), ('which', 'DET'), ('employees', 'NOUN'), (',', '.'), ('and', 'CONJ'), ('how', 'ADV'), ('many', 'ADJ'), (',', '.'), ('*T*-1', 'X'), ('will', 'VERB'), ('participate', 'VERB'), ('in', 'ADP'), ('the', 'DET'), ('retirement', 'NOUN'), ('plan', 'NOUN'), ('.', '.'), ('LSI', 'NOUN'), ('Logic', 'NOUN'), ('Corp.', 'NOUN'), ('reported', 'VERB'), ('a', 'DET'), ('surprise', 'NOUN'), ('$', '.'), ('35.7', 'NUM'), ('million', 'NUM'), ('*U*', 'X'), ('third-quarter', 'ADJ'), ('net', 'ADJ'), ('loss', 'NOUN'), (',', '.'), ('including', 'VERB'), ('a', 'DET'), ('special', 'ADJ'), ('restructuring', 'NOUN'), ('charge', 'NOUN'), ('that', 'DET'), ('*T*-145', 'X'), ('reflects', 'VERB'), ('a', 'DET'), ('continuing', 'VERB'), ('industry-wide', 'ADJ'), ('slowdown', 'NOUN'), ('in', 'ADP'), ('semiconductor', 'NOUN'), ('demand', 'NOUN'), ('.', '.'), ('Sony', 'NOUN'), ('is', 'VERB'), ('paying', 'VERB'), ('$', '.'), ('27', 'NUM'), ('*U*', 'X'), ('a', 'DET'), ('share', 'NOUN'), (',', '.'), ('or', 'CONJ'), ('$', '.'), ('3.55', 'NUM'), ('billion', 'NUM'), ('*U*', 'X'), (',', '.'), ('cash', 'NOUN'), ('and', 'CONJ'), ('is', 'VERB'), ('assuming', 'VERB'), ('$', '.'), ('1.4', 'NUM'), ('billion', 'NUM'), ('*U*', 'X'), ('of', 'ADP'), ('long-term', 'ADJ'), ('debt', 'NOUN'), ('.', '.'), ('The', 'DET'), ('Coleman', 'NOUN'), ('counterattack', 'NOUN'), ('featured', 'VERB'), ('a', 'DET'), ('close-up', 'NOUN'), ('of', 'ADP'), ('a', 'DET'), ('young', 'ADJ'), ('woman', 'NOUN'), ('in', 'ADP'), ('shadows', 'NOUN'), ('and', 'CONJ'), ('the', 'DET'), ('ad', 'NOUN'), ('suggested', 'VERB'), ('that', 'ADP'), ('she', 'PRON'), ('was', 'VERB'), ('recalling', 'VERB'), ('an', 'DET'), ('unpleasant', 'ADJ'), ('courtroom', 'NOUN'), ('ordeal', 'NOUN'), ('.', '.'), ('The', 'DET'), ('nonprofit', 'ADJ'), (',', '.'), ('industry-supported', 'ADJ'), ('group', 'NOUN'), ('said', 'VERB'), ('0', 'X'), ('its', 'PRON'), ('Consumer', 'NOUN'), ('Confidence', 'NOUN'), ('Index', 'NOUN'), ('was', 'VERB'), ('116.4', 'NUM'), ('in', 'ADP'), ('October', 'NOUN'), (',', '.'), ('*-1', 'X'), ('barely', 'ADV'), ('changed', 'VERB'), ('*-2', 'X'), ('from', 'ADP'), ('a', 'DET'), ('revised', 'VERB'), ('116.3', 'NUM'), ('in', 'ADP'), ('September', 'NOUN'), ('.', '.'), ('``', '.'), ('What', 'PRON'), ('sector', 'NOUN'), ('is', 'VERB'), ('*T*-46', 'X'), ('stepping', 'VERB'), ('forward', 'ADV'), ('*-2', 'X'), ('to', 'PRT'), ('pick', 'VERB'), ('up', 'PRT'), ('the', 'DET'), ('slack', 'NOUN'), ('?', '.'), (\"''\", '.'), ('he', 'PRON'), ('asked', 'VERB'), ('*T*-1', 'X'), ('.', '.'), ('The', 'DET'), ('sweeping', 'ADJ'), ('nature', 'NOUN'), ('of', 'ADP'), ('the', 'DET'), ('bill', 'NOUN'), ('draws', 'VERB'), ('a', 'DET'), ('variety', 'NOUN'), ('of', 'ADP'), ('special', 'ADJ'), ('interest', 'NOUN'), ('amendments', 'NOUN'), (',', '.'), ('running', 'VERB'), ('from', 'ADP'), ('an', 'DET'), ('import', 'NOUN'), ('exemption', 'NOUN'), ('for', 'ADP'), ('a', 'DET'), ('California', 'NOUN'), ('airplane', 'NOUN'), ('museum', 'NOUN'), ('to', 'PRT'), ('a', 'DET'), ('small', 'ADJ'), ('but', 'CONJ'), ('intriguing', 'ADJ'), ('struggle', 'NOUN'), ('among', 'ADP'), ('sugar', 'NOUN'), ('producing', 'VERB'), ('nations', 'NOUN'), ('over', 'ADP'), ('the', 'DET'), ('fate', 'NOUN'), ('of', 'ADP'), ('Panama', 'NOUN'), (\"'s\", 'PRT'), ('quota', 'NOUN'), ('of', 'ADP'), ('exports', 'NOUN'), ('to', 'PRT'), ('the', 'DET'), ('profitable', 'ADJ'), ('U.S.', 'NOUN'), ('market', 'NOUN'), ('.', '.'), ('Trinity', 'NOUN'), ('Industries', 'NOUN'), ('Inc.', 'NOUN'), ('said', 'VERB'), ('0', 'X'), ('it', 'PRON'), ('reached', 'VERB'), ('a', 'DET'), ('preliminary', 'ADJ'), ('agreement', 'NOUN'), ('*', 'X'), ('to', 'PRT'), ('sell', 'VERB'), ('500', 'NUM'), ('railcar', 'NOUN'), ('platforms', 'NOUN'), ('to', 'PRT'), ('Trailer', 'NOUN'), ('Train', 'NOUN'), ('Co.', 'NOUN'), ('of', 'ADP'), ('Chicago', 'NOUN'), ('.', '.'), ('20', 'NUM'), ('million', 'NUM'), ('Swiss', 'ADJ'), ('francs', 'NOUN'), ('of', 'ADP'), ('6', 'NUM'), ('1\\\\/2', 'NUM'), ('%', 'NOUN'), ('privately', 'ADV'), ('placed', 'VERB'), ('notes', 'NOUN'), ('due', 'ADJ'), ('Nov.', 'NOUN'), ('29', 'NUM'), (',', '.'), ('1996', 'NUM'), (',', '.'), ('priced', 'VERB'), ('*', 'X'), ('at', 'ADP'), ('99', 'NUM'), ('1\\\\/2', 'NUM'), ('via', 'ADP'), ('Dai-Ichi', 'NOUN'), ('Kangyo', 'NOUN'), ('Bank', 'NOUN'), ('-LRB-', '.'), ('Schweiz', 'NOUN'), ('-RRB-', '.'), ('.', '.'), ('Highway', 'NOUN'), ('officials', 'NOUN'), ('insist', 'VERB'), ('0', 'X'), ('the', 'DET'), ('ornamental', 'ADJ'), ('railings', 'NOUN'), ('on', 'ADP'), ('older', 'ADJ'), ('bridges', 'NOUN'), ('are', 'VERB'), (\"n't\", 'ADV'), ('strong', 'ADJ'), ('enough', 'ADV'), ('*', 'X'), ('to', 'PRT'), ('prevent', 'VERB'), ('vehicles', 'NOUN'), ('from', 'ADP'), ('*', 'X'), ('crashing', 'VERB'), ('through', 'ADP'), ('.', '.'), ('Despite', 'ADP'), ('the', 'DET'), ('enormous', 'ADJ'), ('sums', 'NOUN'), ('of', 'ADP'), ('money', 'NOUN'), ('0', 'X'), ('they', 'PRON'), (\"'re\", 'VERB'), ('paid', 'VERB'), ('*T*-1', 'X'), ('*-2', 'X'), ('to', 'PRT'), ('stand', 'VERB'), ('up', 'PRT'), ('at', 'ADP'), ('a', 'DET'), ('Japanese', 'ADJ'), ('plate', 'NOUN'), (',', '.'), ('a', 'DET'), ('good', 'ADJ'), ('number', 'NOUN'), ('decide', 'VERB'), ('0', 'X'), ('it', 'PRON'), (\"'s\", 'VERB'), ('not', 'ADV'), ('worth', 'ADJ'), ('it', 'PRON'), ('and', 'CONJ'), ('run', 'VERB'), ('for', 'ADP'), ('home', 'NOUN'), ('.', '.'), ('In', 'ADP'), ('early', 'ADV'), ('trading', 'NOUN'), ('in', 'ADP'), ('Hong', 'NOUN'), ('Kong', 'NOUN'), ('Thursday', 'NOUN'), (',', '.'), ('gold', 'NOUN'), ('was', 'VERB'), ('quoted', 'VERB'), ('*-1', 'X'), ('at', 'ADP'), ('$', '.'), ('374.19', 'NUM'), ('*U*', 'X'), ('an', 'DET'), ('ounce', 'NOUN'), ('.', '.'), ('A', 'DET'), ('Reuters', 'NOUN'), ('spokesman', 'NOUN'), ('said', 'VERB'), ('0', 'X'), ('the', 'DET'), ('departure', 'NOUN'), ('reflects', 'VERB'), ('``', '.'), ('no', 'DET'), ('change', 'NOUN'), ('in', 'ADP'), ('strategy', 'NOUN'), ('or', 'CONJ'), ('profits', 'NOUN'), ('.', '.'), (\"''\", '.'), ('The', 'DET'), ('1990', 'NUM'), ('appropriations', 'NOUN'), ('legislation', 'NOUN'), ('attempts', 'VERB'), ('*-1', 'X'), ('to', 'PRT'), ('strip', 'VERB'), ('the', 'DET'), ('president', 'NOUN'), ('of', 'ADP'), ('his', 'PRON'), ('powers', 'NOUN'), ('*', 'X'), ('to', 'PRT'), ('make', 'VERB'), ('certain', 'ADJ'), ('appointments', 'NOUN'), ('as', 'ADP'), ('*', 'X'), ('provided', 'VERB'), ('*-2', 'X'), ('by', 'ADP'), ('Article', 'NOUN'), ('II', 'NOUN'), ('.', '.'), ('Bob', 'NOUN'), ('has', 'VERB'), ('an', 'DET'), ('agenda', 'NOUN'), ('and', 'CONJ'), ('this', 'DET'), ('seemed', 'VERB'), ('like', 'ADP'), ('the', 'DET'), ('natural', 'ADJ'), ('time', 'NOUN'), ('.', '.'), (\"''\", '.'), ('He', 'PRON'), ('enters', 'VERB'), ('the', 'DET'), ('story', 'NOUN'), ('toward', 'ADP'), ('the', 'DET'), ('end', 'NOUN'), (',', '.'), ('just', 'ADV'), ('in', 'ADP'), ('time', 'NOUN'), ('0', 'X'), ('*', 'X'), ('to', 'PRT'), ('get', 'VERB'), ('*-1', 'X'), ('arrested', 'VERB'), ('*-1', 'X'), ('*T*-2', 'X'), ('.', '.'), ('The', 'DET'), ('roofs', 'NOUN'), ('would', 'VERB'), ('be', 'VERB'), ('required', 'VERB'), ('*-1', 'X'), ('to', 'PRT'), ('withstand', 'VERB'), ('a', 'DET'), ('force', 'NOUN'), ('of', 'ADP'), ('1.5', 'NUM'), ('times', 'NOUN'), ('the', 'DET'), ('unloaded', 'ADJ'), ('weight', 'NOUN'), ('of', 'ADP'), ('the', 'DET'), ('vehicle', 'NOUN'), ('.', '.'), ('The', 'DET'), ('Central', 'NOUN'), ('Council', 'NOUN'), ('of', 'ADP'), ('Church', 'NOUN'), ('Bell', 'NOUN'), ('Ringers', 'NOUN'), (',', '.'), ('a', 'DET'), ('sort', 'NOUN'), ('of', 'ADP'), ('parliament', 'NOUN'), ('of', 'ADP'), ('ringing', 'NOUN'), ('groups', 'NOUN'), (',', '.'), ('aims', 'VERB'), ('*-1', 'X'), ('to', 'PRT'), ('improve', 'VERB'), ('relations', 'NOUN'), ('with', 'ADP'), ('vicars', 'NOUN'), (',', '.'), ('says', 'VERB'), ('0', 'X'), ('*T*-2', 'X'), ('John', 'NOUN'), ('C.', 'NOUN'), ('Baldwin', 'NOUN'), (',', '.'), ('president', 'NOUN'), ('.', '.'), ('Workers', 'NOUN'), ('dumped', 'VERB'), ('large', 'ADJ'), ('burlap', 'NOUN'), ('sacks', 'NOUN'), ('of', 'ADP'), ('the', 'DET'), ('imported', 'VERB'), ('material', 'NOUN'), ('into', 'ADP'), ('a', 'DET'), ('huge', 'ADJ'), ('bin', 'NOUN'), (',', '.'), ('poured', 'VERB'), ('in', 'PRT'), ('cotton', 'NOUN'), ('and', 'CONJ'), ('acetate', 'NOUN'), ('fibers', 'NOUN'), ('and', 'CONJ'), ('mechanically', 'ADV'), ('mixed', 'VERB'), ('the', 'DET'), ('dry', 'ADJ'), ('fibers', 'NOUN'), ('in', 'ADP'), ('a', 'DET'), ('process', 'NOUN'), ('used', 'VERB'), ('*', 'X'), ('*', 'X'), ('to', 'PRT'), ('make', 'VERB'), ('filters', 'NOUN'), ('.', '.'), ('Then', 'ADV'), (',', '.'), ('just', 'ADV'), ('as', 'ADP'), ('an', 'DET'), ('image', 'NOUN'), ('of', 'ADP'), ('the', 'DET'), ('statue', 'NOUN'), ('of', 'ADP'), ('Thomas', 'NOUN'), ('Jefferson', 'NOUN'), ('dissolves', 'VERB'), ('from', 'ADP'), ('the', 'DET'), ('screen', 'NOUN'), (',', '.'), ('the', 'DET'), ('announcer', 'NOUN'), ('continues', 'VERB'), (':', '.'), ('``', '.'), ('On', 'ADP'), ('the', 'DET'), ('issue', 'NOUN'), ('of', 'ADP'), ('abortion', 'NOUN'), (',', '.'), ('Marshall', 'NOUN'), ('Coleman', 'NOUN'), ('wants', 'VERB'), ('*-1', 'X'), ('to', 'PRT'), ('take', 'VERB'), ('away', 'PRT'), ('your', 'PRON'), ('right', 'NOUN'), ('*', 'X'), ('to', 'PRT'), ('choose', 'VERB'), ('and', 'CONJ'), ('*-1', 'X'), ('give', 'VERB'), ('it', 'PRON'), ('to', 'PRT'), ('the', 'DET'), ('politicians', 'NOUN'), ('.', '.'), (\"''\", '.'), ('``', '.'), ('There', 'DET'), ('is', 'VERB'), ('incredible', 'ADJ'), ('pressure', 'NOUN'), ('*ICH*-2', 'X'), ('on', 'ADP'), ('school', 'NOUN'), ('systems', 'NOUN'), ('and', 'CONJ'), ('teachers', 'NOUN'), ('*', 'X'), ('to', 'PRT'), ('raise', 'VERB'), ('test', 'NOUN'), ('scores', 'NOUN'), (',', '.'), (\"''\", '.'), ('says', 'VERB'), ('*T*-1', 'X'), ('Walt', 'NOUN'), ('Haney', 'NOUN'), (',', '.'), ('an', 'DET'), ('education', 'NOUN'), ('professor', 'NOUN'), ('and', 'CONJ'), ('testing', 'NOUN'), ('specialist', 'NOUN'), ('at', 'ADP'), ('Boston', 'NOUN'), ('College', 'NOUN'), ('.', '.'), ('Czechoslovakia', 'NOUN'), ('said', 'VERB'), ('in', 'ADP'), ('May', 'NOUN'), ('0', 'X'), ('it', 'PRON'), ('could', 'VERB'), ('seek', 'VERB'), ('$', '.'), ('2', 'NUM'), ('billion', 'NUM'), ('*U*', 'X'), ('from', 'ADP'), ('Hungary', 'NOUN'), ('if', 'ADP'), ('the', 'DET'), ('twindam', 'NOUN'), ('contract', 'NOUN'), ('were', 'VERB'), ('broken', 'VERB'), ('*-68', 'X'), ('.', '.'), ('Michael', 'NOUN'), ('Ross', 'NOUN'), (',', '.'), ('a', 'DET'), ('New', 'NOUN'), ('York', 'NOUN'), ('lawyer', 'NOUN'), ('who', 'PRON'), ('*T*-132', 'X'), ('heads', 'VERB'), ('the', 'DET'), ('ABA', 'NOUN'), (\"'s\", 'PRT'), ('grand', 'ADJ'), ('jury', 'NOUN'), ('committee', 'NOUN'), (',', '.'), ('said', 'VERB'), ('that', 'ADP'), ('lawyers', 'NOUN'), ('are', 'VERB'), ('prohibited', 'VERB'), ('*-1', 'X'), ('by', 'ADP'), ('the', 'DET'), ('ABA', 'NOUN'), (\"'s\", 'PRT'), ('code', 'NOUN'), ('of', 'ADP'), ('ethics', 'NOUN'), ('from', 'ADP'), ('*-1', 'X'), ('disclosing', 'VERB'), ('information', 'NOUN'), ('about', 'ADP'), ('a', 'DET'), ('client', 'NOUN'), ('except', 'ADP'), ('where', 'ADV'), ('a', 'DET'), ('court', 'NOUN'), ('orders', 'VERB'), ('it', 'PRON'), ('*T*-3', 'X'), ('or', 'CONJ'), ('*-1', 'X'), ('to', 'PRT'), ('prevent', 'VERB'), ('the', 'DET'), ('client', 'NOUN'), ('from', 'ADP'), ('*-4', 'X'), ('committing', 'VERB'), ('a', 'DET'), ('criminal', 'ADJ'), ('act', 'NOUN'), ('that', 'DET'), ('*T*-2', 'X'), ('could', 'VERB'), ('result', 'VERB'), ('in', 'ADP'), ('death', 'NOUN'), ('.', '.'), ('For', 'ADP'), ('their', 'PRON'), ('part', 'NOUN'), (',', '.'), ('Taiwan', 'NOUN'), ('and', 'CONJ'), ('South', 'NOUN'), ('Korea', 'NOUN'), ('are', 'VERB'), ('expected', 'VERB'), ('*-1', 'X'), ('to', 'PRT'), ('step', 'VERB'), ('up', 'PRT'), ('their', 'PRON'), ('own', 'ADJ'), ('investments', 'NOUN'), ('in', 'ADP'), ('the', 'DET'), ('next', 'ADJ'), ('decade', 'NOUN'), ('*-2', 'X'), ('to', 'PRT'), ('try', 'VERB'), ('*-3', 'X'), ('to', 'PRT'), ('slow', 'VERB'), ('the', 'DET'), ('Japanese', 'ADJ'), ('juggernaut', 'NOUN'), ('.', '.'), ('``', '.'), ('Insurance', 'NOUN'), ('agents', 'NOUN'), ('have', 'VERB'), ('been', 'VERB'), ('forced', 'VERB'), ('*-158', 'X'), ('by', 'ADP'), ('their', 'PRON'), ('companies', 'NOUN'), ('into', 'ADP'), ('*-2', 'X'), ('becoming', 'VERB'), ('registered', 'VERB'), ('reps', 'NOUN'), (',', '.'), (\"''\", '.'), ('he', 'PRON'), ('said', 'VERB'), ('*T*-1', 'X'), (',', '.'), ('``', '.'), ('but', 'CONJ'), ('they', 'PRON'), ('are', 'VERB'), ('not', 'ADV'), ('providing', 'VERB'), ('compliance', 'NOUN'), ('and', 'CONJ'), ('security-type', 'ADJ'), ('training', 'NOUN'), ('so', 'ADP'), ('that', 'ADP'), ('we', 'PRON'), ('can', 'VERB'), ('avoid', 'VERB'), ('stupid', 'ADJ'), ('mistakes', 'NOUN'), ('.', '.'), (\"''\", '.'), ('An', 'DET'), ('official', 'NOUN'), ('for', 'ADP'), ('the', 'DET'), ('lead', 'NOUN'), ('underwriter', 'NOUN'), ('declined', 'VERB'), ('*-1', 'X'), ('to', 'PRT'), ('comment', 'VERB'), ('on', 'ADP'), ('the', 'DET'), ('reason', 'NOUN'), ('for', 'ADP'), ('the', 'DET'), ('delay', 'NOUN'), (',', '.'), ('but', 'CONJ'), ('market', 'NOUN'), ('participants', 'NOUN'), ('speculated', 'VERB'), ('that', 'ADP'), ('a', 'DET'), ('number', 'NOUN'), ('of', 'ADP'), ('factors', 'NOUN'), (',', '.'), ('including', 'VERB'), ('a', 'DET'), ('lack', 'NOUN'), ('of', 'ADP'), ('investor', 'NOUN'), ('interest', 'NOUN'), (',', '.'), ('were', 'VERB'), ('responsible', 'ADJ'), ('.', '.'), ('Panama', 'NOUN'), ('was', 'VERB'), ('stripped', 'VERB'), ('*-8', 'X'), ('of', 'ADP'), ('this', 'DET'), ('right', 'NOUN'), ('because', 'ADP'), ('of', 'ADP'), ('U.S.', 'NOUN'), ('differences', 'NOUN'), ('with', 'ADP'), ('the', 'DET'), ('Noriega', 'NOUN'), ('regime', 'NOUN'), (',', '.'), ('but', 'CONJ'), ('the', 'DET'), ('Central', 'NOUN'), ('American', 'NOUN'), ('country', 'NOUN'), ('would', 'VERB'), ('have', 'VERB'), ('received', 'VERB'), ('a', 'DET'), ('quota', 'NOUN'), ('of', 'ADP'), ('30,537', 'NUM'), ('metric', 'ADJ'), ('tons', 'NOUN'), ('over', 'ADP'), ('a', 'DET'), ('21-month', 'ADJ'), ('period', 'NOUN'), ('ending', 'VERB'), ('Sept.', 'NOUN'), ('30', 'NUM'), (',', '.'), ('1990', 'NUM'), ('.', '.'), ('The', 'DET'), ('ban', 'NOUN'), ('on', 'ADP'), ('cross-border', 'ADJ'), ('movement', 'NOUN'), ('was', 'VERB'), ('imposed', 'VERB'), ('*-1', 'X'), ('last', 'ADJ'), ('month', 'NOUN'), ('after', 'ADP'), ('a', 'DET'), ('massive', 'ADJ'), ('exodus', 'NOUN'), ('of', 'ADP'), ('emigres', 'NOUN'), ('to', 'PRT'), ('West', 'NOUN'), ('Germany', 'NOUN'), ('.', '.'), ('``', '.'), ('The', 'DET'), ('events', 'NOUN'), ('of', 'ADP'), ('April', 'NOUN'), ('through', 'ADP'), ('June', 'NOUN'), ('damaged', 'VERB'), ('the', 'DET'), ('respect', 'NOUN'), ('and', 'CONJ'), ('confidence', 'NOUN'), ('which', 'DET'), ('most', 'ADJ'), ('Americans', 'NOUN'), ('previously', 'ADV'), ('had', 'VERB'), ('*T*-1', 'X'), ('for', 'ADP'), ('the', 'DET'), ('leaders', 'NOUN'), ('of', 'ADP'), ('China', 'NOUN'), ('.', '.'), (\"''\", '.'), ('The', 'DET'), ('plan', 'NOUN'), ('relies', 'VERB'), ('heavily', 'ADV'), ('on', 'ADP'), ('$', '.'), ('240', 'NUM'), ('million', 'NUM'), ('*U*', 'X'), ('in', 'ADP'), ('credit', 'NOUN'), ('and', 'CONJ'), ('loan', 'NOUN'), ('guarantees', 'NOUN'), ('in', 'ADP'), ('fiscal', 'ADJ'), ('1990', 'NUM'), ('in', 'ADP'), ('hopes', 'NOUN'), ('of', 'ADP'), ('*', 'X'), ('stimulating', 'VERB'), ('future', 'ADJ'), ('trade', 'NOUN'), ('and', 'CONJ'), ('investment', 'NOUN'), ('.', '.'), ('There', 'DET'), ('were', 'VERB'), ('many', 'ADJ'), ('pioneer', 'NOUN'), ('PC', 'NOUN'), ('contributors', 'NOUN'), ('.', '.'), ('In', 'ADP'), ('contrast', 'NOUN'), (',', '.'), ('the', 'DET'), ('lawyers', 'NOUN'), (\"'\", 'PRT'), ('association', 'NOUN'), ('gives', 'VERB'), ('a', 'DET'), ('``', '.'), ('well', 'ADV'), ('qualified', 'VERB'), (\"''\", '.'), ('rating', 'NOUN'), ('to', 'PRT'), ('those', 'DET'), ('``', '.'), ('regarded', 'VERB'), ('*', 'X'), ('as', 'ADP'), ('one', 'NUM'), ('of', 'ADP'), ('the', 'DET'), ('best', 'ADJ'), ('available', 'ADJ'), ('for', 'ADP'), ('the', 'DET'), ('vacancy', 'NOUN'), ('.', '.'), ('Susan', 'NOUN'), ('Del', 'NOUN'), ('Signore', 'NOUN'), (',', '.'), ('head', 'NOUN'), ('trader', 'NOUN'), ('at', 'ADP'), ('Travelers', 'NOUN'), ('Investment', 'NOUN'), ('Management', 'NOUN'), ('Co.', 'NOUN'), (',', '.'), ('says', 'VERB'), ('0', 'X'), ('critics', 'NOUN'), ('are', 'VERB'), ('ignoring', 'VERB'), ('``', '.'), ('the', 'DET'), ('role', 'NOUN'), ('0', 'X'), ('the', 'DET'), ('-LCB-', '.'), ('takeover', 'NOUN'), ('stock', 'NOUN'), ('-RCB-', '.'), ('speculator', 'NOUN'), ('is', 'VERB'), ('taking', 'VERB'), ('*T*-1', 'X'), ('in', 'ADP'), ('the', 'DET'), ('market', 'NOUN'), ('as', 'ADP'), ('a', 'DET'), ('source', 'NOUN'), ('of', 'ADP'), ('volatility', 'NOUN'), ('.', '.'), (\"''\", '.'), ('Earlier', 'ADV'), ('this', 'DET'), ('year', 'NOUN'), ('Shaw', 'NOUN'), ('Publishing', 'NOUN'), ('Inc.', 'NOUN'), (',', '.'), ('Charlotte', 'NOUN'), (',', '.'), ('acquired', 'VERB'), ('30', 'NUM'), ('%', 'NOUN'), ('of', 'ADP'), ('American', 'NOUN'), ('City', 'NOUN'), ('*T*-1', 'X'), ('and', 'CONJ'), ('has', 'VERB'), ('an', 'DET'), ('agreement', 'NOUN'), ('*', 'X'), ('to', 'PRT'), ('acquire', 'VERB'), ('a', 'DET'), ('further', 'ADJ'), ('25', 'NUM'), ('%', 'NOUN'), ('from', 'ADP'), ('E.W.', 'NOUN'), ('Scripps', 'NOUN'), ('Co.', 'NOUN'), ('next', 'ADJ'), ('year', 'NOUN'), ('.', '.'), ('The', 'DET'), ('Chinese', 'NOUN'), (',', '.'), ('in', 'ADP'), ('turn', 'NOUN'), (',', '.'), ('took', 'VERB'), ('aim', 'NOUN'), ('at', 'ADP'), ('American', 'ADJ'), ('``', '.'), ('interference', 'NOUN'), (\"''\", '.'), ('in', 'ADP'), ('China', 'NOUN'), (\"'s\", 'PRT'), ('domestic', 'ADJ'), ('affairs', 'NOUN'), ('.', '.'), ('``', '.'), ('All', 'DET'), ('the', 'DET'), ('``', '.'), ('sogo-shosha', 'NOUN'), (\"''\", '.'), ('are', 'VERB'), ('looking', 'VERB'), ('for', 'ADP'), ('new', 'ADJ'), ('business', 'NOUN'), (',', '.'), (\"''\", '.'), ('says', 'VERB'), ('*T*-1', 'X'), ('Arthur', 'NOUN'), ('Klauser', 'NOUN'), (',', '.'), ('adviser', 'NOUN'), ('to', 'PRT'), ('the', 'DET'), ('president', 'NOUN'), ('of', 'ADP'), ('Mitsui', 'NOUN'), (',', '.'), ('U.S.A.', 'NOUN'), (',', '.'), ('*-2', 'X'), ('using', 'VERB'), ('the', 'DET'), ('Japanese', 'NOUN'), ('term', 'NOUN'), ('for', 'ADP'), ('the', 'DET'), ('largest', 'ADJ'), ('of', 'ADP'), ('the', 'DET'), ('global', 'ADJ'), ('trading', 'VERB'), ('houses', 'NOUN'), ('.', '.'), ('Sterling', 'NOUN'), (\"'s\", 'PRT'), ('firm', 'ADJ'), ('tone', 'NOUN'), (',', '.'), ('combined', 'VERB'), ('with', 'ADP'), ('a', 'DET'), ('steady', 'ADJ'), ('opening', 'NOUN'), ('on', 'ADP'), ('Wall', 'NOUN'), ('Street', 'NOUN'), (',', '.'), ('also', 'ADV'), ('tempted', 'VERB'), ('some', 'DET'), ('investors', 'NOUN'), ('to', 'PRT'), ('come', 'VERB'), ('back', 'ADV'), ('to', 'PRT'), ('the', 'DET'), ('market', 'NOUN'), (',', '.'), ('dealers', 'NOUN'), ('said', 'VERB'), ('0', 'X'), ('*T*-1', 'X'), ('.', '.'), ('``', '.'), ('Little', 'ADJ'), ('wonder', 'NOUN'), ('that', 'ADP'), ('buyers', 'NOUN'), ('for', 'ADP'), ('junk', 'NOUN'), ('have', 'VERB'), ('been', 'VERB'), ('found', 'VERB'), ('*-1', 'X'), ('wanting', 'VERB'), (',', '.'), (\"''\", '.'), ('he', 'PRON'), ('said', 'VERB'), ('*T*-2', 'X'), ('.', '.'), ('In', 'ADP'), ('this', 'DET'), ('one', 'NOUN'), (',', '.'), ('the', 'DET'), ('screen', 'NOUN'), ('fills', 'VERB'), ('with', 'ADP'), ('photographs', 'NOUN'), ('of', 'ADP'), ('both', 'DET'), ('candidates', 'NOUN'), ('.', '.'), ('An', 'DET'), ('airline', 'NOUN'), ('buy-out', 'NOUN'), ('bill', 'NOUN'), ('was', 'VERB'), ('approved', 'VERB'), ('*-1', 'X'), ('by', 'ADP'), ('the', 'DET'), ('House', 'NOUN'), ('.', '.'), ('In', 'ADP'), ('a', 'DET'), ('joint-venture', 'ADJ'), ('deal', 'NOUN'), (',', '.'), ('Mitsui', 'NOUN'), ('guided', 'VERB'), ('Candela', 'NOUN'), ('through', 'ADP'), ('Tokyo', 'NOUN'), (\"'s\", 'PRT'), ('bureaucratic', 'ADJ'), ('maze', 'NOUN'), ('.', '.'), ('Without', 'ADP'), ('*-1', 'X'), ('admitting', 'VERB'), ('or', 'CONJ'), ('denying', 'VERB'), ('wrongdoing', 'NOUN'), (',', '.'), ('the', 'DET'), ('firm', 'NOUN'), ('consented', 'VERB'), ('to', 'PRT'), ('findings', 'NOUN'), ('that', 'ADP'), ('it', 'PRON'), ('failed', 'VERB'), ('*-2', 'X'), ('to', 'PRT'), ('respond', 'VERB'), ('``', '.'), ('in', 'ADP'), ('a', 'DET'), ('timely', 'ADJ'), ('manner', 'NOUN'), (\"''\", '.'), ('to', 'PRT'), ('the', 'DET'), ('NASD', 'NOUN'), (\"'s\", 'PRT'), ('requests', 'NOUN'), ('for', 'ADP'), ('information', 'NOUN'), ('in', 'ADP'), ('connection', 'NOUN'), ('with', 'ADP'), ('a', 'DET'), ('customer', 'NOUN'), ('complaint', 'NOUN'), ('.', '.'), ('You', 'PRON'), ('did', 'VERB'), ('not', 'ADV'), ('note', 'VERB'), ('that', 'ADP'), ('the', 'DET'), ('homeless', 'ADJ'), ('people', 'NOUN'), ('0', 'X'), ('we', 'PRON'), ('examined', 'VERB'), ('*T*-1', 'X'), ('had', 'VERB'), ('a', 'DET'), ('multitude', 'NOUN'), ('of', 'ADP'), ('physical', 'ADJ'), ('disorders', 'NOUN'), ('in', 'ADP'), ('addition', 'NOUN'), ('to', 'PRT'), ('their', 'PRON'), ('psychiatric', 'ADJ'), ('problems', 'NOUN'), ('and', 'CONJ'), ('substance', 'NOUN'), ('abuse', 'NOUN'), ('.', '.'), ('Shearson', 'NOUN'), ('Lehman', 'NOUN'), ('Hutton', 'NOUN'), ('Inc.', 'NOUN'), (',', '.'), ('New', 'NOUN'), ('York', 'NOUN'), (',', '.'), ('which', 'DET'), ('*T*-251', 'X'), ('is', 'VERB'), ('62%-owned', 'ADJ'), ('*-1', 'X'), ('by', 'ADP'), ('American', 'NOUN'), ('Express', 'NOUN'), ('Co.', 'NOUN'), (',', '.'), ('consented', 'VERB'), ('to', 'PRT'), ('a', 'DET'), ('$', '.'), ('10,000', 'NUM'), ('*U*', 'X'), ('fine', 'NOUN'), ('.', '.'), ('The', 'DET'), ('USX', 'NOUN'), ('citations', 'NOUN'), ('represented', 'VERB'), ('the', 'DET'), ('first', 'ADJ'), ('sizable', 'ADJ'), ('enforcement', 'NOUN'), ('action', 'NOUN'), ('taken', 'VERB'), ('*', 'X'), ('by', 'ADP'), ('OSHA', 'NOUN'), ('under', 'ADP'), ('Mr.', 'NOUN'), ('Scannell', 'NOUN'), ('.', '.'), ('Virginia', 'NOUN'), (':', '.'), ('The', 'DET'), ('Chinese', 'NOUN'), ('responded', 'VERB'), ('in', 'ADP'), ('an', 'DET'), ('equally', 'ADV'), ('undiplomatic', 'ADJ'), ('fashion', 'NOUN'), ('.', '.'), ('Here', 'ADV'), ('are', 'VERB'), ('*T*-1', 'X'), ('price', 'NOUN'), ('trends', 'NOUN'), ('on', 'ADP'), ('the', 'DET'), ('world', 'NOUN'), (\"'s\", 'PRT'), ('major', 'ADJ'), ('stock', 'NOUN'), ('markets', 'NOUN'), (',', '.'), ('as', 'ADP'), ('*', 'X'), ('calculated', 'VERB'), ('*-2', 'X'), ('by', 'ADP'), ('Morgan', 'NOUN'), ('Stanley', 'NOUN'), ('Capital', 'NOUN'), ('International', 'NOUN'), ('Perspective', 'NOUN'), (',', '.'), ('Geneva', 'NOUN'), ('.', '.'), ('Moscow', 'NOUN'), ('has', 'VERB'), ('settled', 'VERB'), ('pre-1917', 'ADJ'), ('debts', 'NOUN'), ('with', 'ADP'), ('other', 'ADJ'), ('countries', 'NOUN'), ('in', 'ADP'), ('recent', 'ADJ'), ('years', 'NOUN'), ('at', 'ADP'), ('less', 'ADJ'), ('than', 'ADP'), ('face', 'NOUN'), ('value', 'NOUN'), ('.', '.'), ('And', 'CONJ'), ('after', 'ADP'), ('*-1', 'X'), ('losing', 'VERB'), ('a', 'DET'), ('battle', 'NOUN'), ('Tuesday', 'NOUN'), ('night', 'NOUN'), ('with', 'ADP'), ('the', 'DET'), ('Senate', 'NOUN'), ('Foreign', 'NOUN'), ('Relations', 'NOUN'), ('Committee', 'NOUN'), (',', '.'), ('appropriators', 'NOUN'), ('from', 'ADP'), ('both', 'DET'), ('houses', 'NOUN'), ('are', 'VERB'), ('expected', 'VERB'), ('*-1', 'X'), ('to', 'PRT'), ('be', 'VERB'), ('forced', 'VERB'), ('*-12', 'X'), ('back', 'ADV'), ('to', 'PRT'), ('conference', 'NOUN'), ('.', '.'), ('The', 'DET'), ('patent', 'NOUN'), ('covers', 'VERB'), ('BMP-1', 'NOUN'), ('type', 'NOUN'), ('proteins', 'NOUN'), ('and', 'CONJ'), ('pharmaceutical', 'ADJ'), ('compositions', 'NOUN'), ('and', 'CONJ'), ('methods', 'NOUN'), ('for', 'ADP'), ('*', 'X'), ('treating', 'VERB'), ('bone', 'NOUN'), ('or', 'CONJ'), ('cartilage', 'NOUN'), ('defects', 'NOUN'), (',', '.'), ('Genetics', 'NOUN'), ('Institute', 'NOUN'), ('said', 'VERB'), ('0', 'X'), ('*T*-1', 'X'), ('.', '.'), ('Mr.', 'NOUN'), ('Chase', 'NOUN'), ('did', 'VERB'), (\"n't\", 'ADV'), ('return', 'VERB'), ('a', 'DET'), ('telephone', 'NOUN'), ('call', 'NOUN'), ('to', 'PRT'), ('his', 'PRON'), ('office', 'NOUN'), ('.', '.'), ('They', 'PRON'), ('know', 'VERB'), ('that', 'ADP'), ('whenever', 'ADV'), ('government', 'NOUN'), ('is', 'VERB'), ('redistributing', 'VERB'), ('wealth', 'NOUN'), (',', '.'), ('regulating', 'VERB'), ('commerce', 'NOUN'), ('or', 'CONJ'), ('maintaining', 'VERB'), ('a', 'DET'), ('large', 'ADJ'), ('defense', 'NOUN'), ('establishment', 'NOUN'), ('*T*-2', 'X'), (',', '.'), ('there', 'DET'), ('is', 'VERB'), ('big', 'ADJ'), ('money', 'NOUN'), ('0', 'X'), ('*T*-3', 'X'), ('to', 'PRT'), ('be', 'VERB'), ('made', 'VERB'), ('*-1', 'X'), ('in', 'ADP'), ('*', 'X'), ('influencing', 'VERB'), (',', '.'), ('brokering', 'VERB'), ('or', 'CONJ'), ('selling', 'VERB'), ('the', 'DET'), ('processes', 'NOUN'), ('and', 'CONJ'), ('decisions', 'NOUN'), ('of', 'ADP'), ('government', 'NOUN'), ('.', '.'), ('He', 'PRON'), ('has', 'VERB'), ('a', 'DET'), ('point', 'NOUN'), ('0', 'X'), ('he', 'PRON'), ('wants', 'VERB'), ('*-1', 'X'), ('to', 'PRT'), ('make', 'VERB'), ('*T*-2', 'X'), (',', '.'), ('and', 'CONJ'), ('he', 'PRON'), ('makes', 'VERB'), ('it', 'PRON'), (',', '.'), ('with', 'ADP'), ('a', 'DET'), ('great', 'ADJ'), ('deal', 'NOUN'), ('of', 'ADP'), ('force', 'NOUN'), ('.', '.'), ('The', 'DET'), ('Thai', 'NOUN'), ('cabinet', 'NOUN'), ('endorsed', 'VERB'), ('Finance', 'NOUN'), ('Minister', 'NOUN'), ('Pramual', 'NOUN'), ('Sabhavasu', 'NOUN'), (\"'s\", 'PRT'), ('proposal', 'NOUN'), ('*', 'X'), ('to', 'PRT'), ('build', 'VERB'), ('a', 'DET'), ('$', '.'), ('19', 'NUM'), ('million', 'NUM'), ('*U*', 'X'), ('conference', 'NOUN'), ('center', 'NOUN'), ('for', 'ADP'), ('a', 'DET'), ('joint', 'ADJ'), ('meeting', 'NOUN'), ('of', 'ADP'), ('the', 'DET'), ('World', 'NOUN'), ('Bank', 'NOUN'), ('and', 'CONJ'), ('International', 'NOUN'), ('Monetary', 'NOUN'), ('Fund', 'NOUN'), ('two', 'NUM'), ('years', 'NOUN'), ('from', 'ADP'), ('now', 'ADV'), ('.', '.'), ('-LCB-', '.'), ('The', 'DET'), ('court', 'NOUN'), ('has', 'VERB'), ('indicated', 'VERB'), ('0', 'X'), ('it', 'PRON'), ('will', 'VERB'), ('rule', 'VERB'), ('on', 'ADP'), ('the', 'DET'), ('case', 'NOUN'), ('by', 'ADP'), ('the', 'DET'), ('end', 'NOUN'), ('of', 'ADP'), ('the', 'DET'), ('month', 'NOUN'), ('.', '.'), ('-RCB-', '.'), ('Wellcome', 'NOUN'), ('gained', 'VERB'), ('18', 'NUM'), ('to', 'PRT'), ('666', 'NUM'), ('on', 'ADP'), ('a', 'DET'), ('modest', 'ADJ'), ('1.1', 'NUM'), ('million', 'NUM'), ('shares', 'NOUN'), ('.', '.'), ('A', 'DET'), ('Shearson', 'NOUN'), ('spokesman', 'NOUN'), ('had', 'VERB'), ('no', 'DET'), ('comment', 'NOUN'), ('.', '.'), ('It', 'PRON'), ('would', 'VERB'), ('be', 'VERB'), ('a', 'DET'), ('good', 'ADJ'), ('match', 'NOUN'), (',', '.'), ('Mr.', 'NOUN'), ('Hahn', 'NOUN'), ('and', 'CONJ'), ('many', 'ADJ'), ('analysts', 'NOUN'), ('say', 'VERB'), ('0', 'X'), ('*T*-1', 'X'), (',', '.'), ('of', 'ADP'), ('two', 'NUM'), ('healthy', 'ADJ'), ('companies', 'NOUN'), ('with', 'ADP'), ('high-quality', 'ADJ'), ('assets', 'NOUN'), ('and', 'CONJ'), ('strong', 'ADJ'), ('cash', 'NOUN'), ('flows', 'VERB'), ('.', '.'), ('But', 'CONJ'), ('for', 'ADP'), ('small', 'ADJ'), ('American', 'ADJ'), ('companies', 'NOUN'), (',', '.'), ('it', 'PRON'), ('also', 'ADV'), ('provides', 'VERB'), ('a', 'DET'), ('growing', 'VERB'), ('source', 'NOUN'), ('of', 'ADP'), ('capital', 'NOUN'), ('and', 'CONJ'), ('even', 'ADV'), ('marketing', 'NOUN'), ('help', 'NOUN'), ('.', '.'), ('The', 'DET'), ('theory', 'NOUN'), (':', '.'), ('Such', 'ADJ'), ('individuals', 'NOUN'), (',', '.'), ('many', 'ADJ'), ('with', 'ADP'), ('young', 'ADJ'), ('children', 'NOUN'), (',', '.'), ('are', 'VERB'), ('in', 'ADP'), ('their', 'PRON'), ('prime', 'ADJ'), ('borrowing', 'VERB'), ('years', 'NOUN'), ('--', '.'), ('and', 'ADJ'), (',', '.'), ('*-1', 'X'), ('having', 'VERB'), ('borrowed', 'VERB'), ('from', 'ADP'), ('the', 'DET'), ('bank', 'NOUN'), (',', '.'), ('they', 'PRON'), ('may', 'VERB'), ('continue', 'VERB'), ('*-1', 'X'), ('to', 'PRT'), ('use', 'VERB'), ('it', 'PRON'), ('for', 'ADP'), ('other', 'ADJ'), ('services', 'NOUN'), ('in', 'ADP'), ('later', 'ADJ'), ('years', 'NOUN'), ('.', '.'), ('In', 'ADP'), ('Detroit', 'NOUN'), (',', '.'), ('a', 'DET'), ('Chrysler', 'NOUN'), ('Corp.', 'NOUN'), ('official', 'NOUN'), ('said', 'VERB'), ('0', 'X'), ('the', 'DET'), ('company', 'NOUN'), ('currently', 'ADV'), ('has', 'VERB'), ('no', 'DET'), ('rear-seat', 'NOUN'), ('lap', 'NOUN'), ('and', 'CONJ'), ('shoulder', 'NOUN'), ('belts', 'NOUN'), ('in', 'ADP'), ('its', 'PRON'), ('light', 'ADJ'), ('trucks', 'NOUN'), (',', '.'), ('but', 'CONJ'), ('plans', 'VERB'), ('*-1', 'X'), ('to', 'PRT'), ('begin', 'VERB'), ('*-2', 'X'), ('phasing', 'VERB'), ('them', 'PRON'), ('in', 'PRT'), ('by', 'ADP'), ('the', 'DET'), ('end', 'NOUN'), ('of', 'ADP'), ('the', 'DET'), ('1990', 'NUM'), ('model', 'NOUN'), ('year', 'NOUN'), ('.', '.'), ('On', 'ADP'), ('the', 'DET'), ('other', 'ADJ'), ('hand', 'NOUN'), (',', '.'), ('had', 'VERB'), ('it', 'PRON'), ('existed', 'VERB'), ('then', 'ADV'), (',', '.'), ('Cray', 'NOUN'), ('Computer', 'NOUN'), ('would', 'VERB'), ('have', 'VERB'), ('incurred', 'VERB'), ('a', 'DET'), ('$', '.'), ('20.5', 'NUM'), ('million', 'NUM'), ('*U*', 'X'), ('loss', 'NOUN'), ('.', '.'), ('BRAMALEA', 'NOUN'), ('Ltd.', 'NOUN'), ('said', 'VERB'), ('0', 'X'), ('it', 'PRON'), ('agreed', 'VERB'), ('*-1', 'X'), ('to', 'PRT'), ('issue', 'VERB'), ('100', 'NUM'), ('million', 'NUM'), ('Canadian', 'ADJ'), ('dollars', 'NOUN'), ('-LRB-', '.'), ('US$', '.'), ('85.1', 'NUM'), ('million', 'NUM'), ('*U*', 'X'), ('-RRB-', '.'), ('of', 'ADP'), ('10.5', 'NUM'), ('%', 'NOUN'), ('senior', 'ADJ'), ('debentures', 'NOUN'), ('due', 'ADJ'), ('Nov.', 'NOUN'), ('30', 'NUM'), (',', '.'), ('1999', 'NUM'), (',', '.'), ('together', 'ADV'), ('with', 'ADP'), ('100,000', 'NUM'), ('bond', 'NOUN'), ('purchase', 'NOUN'), ('warrants', 'NOUN'), ('.', '.'), ('This', 'DET'), ('is', 'VERB'), ('a', 'DET'), ('Johnson-era', 'NOUN'), (',', '.'), ('Great', 'NOUN'), ('Society', 'NOUN'), ('creation', 'NOUN'), ('that', 'DET'), ('*T*-2', 'X'), ('mandates', 'VERB'), ('0', 'X'), ('certain', 'ADJ'), ('government', 'NOUN'), ('contracts', 'NOUN'), ('be', 'VERB'), ('awarded', 'VERB'), ('*-1', 'X'), ('noncompetitively', 'ADV'), ('to', 'PRT'), ('minority', 'NOUN'), ('businesses', 'NOUN'), ('.', '.'), ('Garbage', 'NOUN'), ('magazine', 'NOUN'), (',', '.'), ('billed', 'VERB'), ('*', 'X'), ('as', 'ADP'), ('``', '.'), ('The', 'NOUN'), ('Practical', 'NOUN'), ('Journal', 'NOUN'), ('for', 'ADP'), ('the', 'DET'), ('Environment', 'NOUN'), (',', '.'), (\"''\", '.'), ('is', 'VERB'), ('about', 'ADP'), ('*-1', 'X'), ('to', 'PRT'), ('find', 'VERB'), ('out', 'PRT'), ('0', 'X'), ('*?*', 'X'), ('.', '.'), ('The', 'DET'), ('charge', 'NOUN'), ('on', 'ADP'), ('loans', 'NOUN'), ('to', 'PRT'), ('brokers', 'NOUN'), ('on', 'ADP'), ('stock', 'NOUN'), ('exchange', 'NOUN'), ('collateral', 'NOUN'), ('.', '.'), ('Mr.', 'NOUN'), ('Martin', 'NOUN'), ('has', 'VERB'), ('increased', 'VERB'), ('prices', 'NOUN'), ('on', 'ADP'), ('some', 'DET'), ('wines', 'NOUN'), ('-LRB-', '.'), ('like', 'ADP'), ('Grgich', 'NOUN'), ('Hills', 'NOUN'), ('Chardonnay', 'NOUN'), (',', '.'), ('now', 'ADV'), ('$', '.'), ('32', 'NUM'), ('*U*', 'X'), ('-RRB-', '.'), ('just', 'ADV'), ('*-1', 'X'), ('to', 'PRT'), ('slow', 'VERB'), ('down', 'PRT'), ('movement', 'NOUN'), (',', '.'), ('but', 'CONJ'), ('he', 'PRON'), ('is', 'VERB'), ('beginning', 'VERB'), ('*-2', 'X'), ('to', 'PRT'), ('see', 'VERB'), ('some', 'DET'), ('resistance', 'NOUN'), ('to', 'PRT'), ('high-priced', 'ADJ'), ('red', 'ADJ'), ('Burgundies', 'NOUN'), ('and', 'CONJ'), ('Cabernets', 'NOUN'), ('and', 'CONJ'), ('Chardonnays', 'NOUN'), ('in', 'ADP'), ('the', 'DET'), ('$', '.'), ('30', 'NUM'), ('to', 'PRT'), ('$', '.'), ('40', 'NUM'), ('*U*', 'X'), ('range', 'NOUN'), ('.', '.'), ('SCI', 'NOUN'), ('Systems', 'NOUN'), ('slipped', 'VERB'), ('7\\\\/8', 'NUM'), ('to', 'PRT'), ('10', 'NUM'), ('on', 'ADP'), ('volume', 'NOUN'), ('of', 'ADP'), ('858,000', 'NUM'), ('shares', 'NOUN'), ('.', '.'), ('Proper', 'ADJ'), ('English', 'ADJ'), ('bells', 'NOUN'), ('are', 'VERB'), ('started', 'VERB'), ('*-1', 'X'), ('off', 'PRT'), ('in', 'ADP'), ('``', '.'), ('rounds', 'NOUN'), (',', '.'), (\"''\", '.'), ('from', 'ADP'), ('the', 'DET'), ('highest-pitched', 'ADJ'), ('bell', 'NOUN'), ('to', 'PRT'), ('the', 'DET'), ('lowest', 'ADJ'), ('--', '.'), ('a', 'DET'), ('simple', 'ADJ'), ('descending', 'VERB'), ('scale', 'NOUN'), ('using', 'VERB'), (',', '.'), ('in', 'ADP'), ('larger', 'ADJ'), ('churches', 'NOUN'), (',', '.'), ('as', 'ADV'), ('many', 'ADJ'), ('as', 'ADP'), ('12', 'NUM'), ('bells', 'NOUN'), ('.', '.'), ('In', 'ADP'), ('point', 'NOUN'), ('of', 'ADP'), ('fact', 'NOUN'), (',', '.'), ('volatility', 'NOUN'), ('as', 'ADP'), ('*', 'X'), ('measured', 'VERB'), ('*-2', 'X'), ('by', 'ADP'), ('the', 'DET'), ('annualized', 'ADJ'), ('standard', 'ADJ'), ('deviation', 'NOUN'), ('of', 'ADP'), ('daily', 'ADJ'), ('stock', 'NOUN'), ('price', 'NOUN'), ('movements', 'NOUN'), ('has', 'VERB'), ('frequently', 'ADV'), ('been', 'VERB'), ('much', 'ADV'), ('higher', 'ADJ'), ('than', 'ADP'), ('it', 'PRON'), ('is', 'VERB'), ('*?*', 'X'), ('today', 'NOUN'), ('.', '.'), ('She', 'PRON'), ('says', 'VERB'), ('0', 'X'), ('she', 'PRON'), ('offered', 'VERB'), ('Mrs.', 'NOUN'), ('Yeargin', 'NOUN'), ('a', 'DET'), ('quiet', 'ADJ'), ('resignation', 'NOUN'), ('and', 'CONJ'), ('thought', 'VERB'), ('0', 'X'), ('she', 'PRON'), ('could', 'VERB'), ('help', 'VERB'), ('*-1', 'X'), ('save', 'VERB'), ('her', 'PRON'), ('teaching', 'NOUN'), ('certificate', 'NOUN'), ('.', '.'), ('GAF', 'NOUN'), ('TRIAL', 'NOUN'), ('goes', 'VERB'), ('to', 'PRT'), ('round', 'NOUN'), ('three', 'NUM'), ('.', '.'), ('It', 'PRON'), ('plans', 'VERB'), ('*-1', 'X'), ('to', 'PRT'), ('sell', 'VERB'), ('the', 'DET'), ('ad', 'NOUN'), ('time', 'NOUN'), ('to', 'PRT'), ('its', 'PRON'), ('clients', 'NOUN'), ('at', 'ADP'), ('a', 'DET'), ('discount', 'NOUN'), ('.', '.'), ('In', 'ADP'), ('CAT', 'NOUN'), ('sections', 'NOUN'), ('where', 'ADV'), ('students', 'NOUN'), (\"'\", 'PRT'), ('knowledge', 'NOUN'), ('of', 'ADP'), ('two-letter', 'ADJ'), ('consonant', 'ADJ'), ('sounds', 'NOUN'), ('is', 'VERB'), ('tested', 'VERB'), ('*-1', 'X'), ('*T*-2', 'X'), (',', '.'), ('the', 'DET'), ('authors', 'NOUN'), ('noted', 'VERB'), ('that', 'ADP'), ('Scoring', 'NOUN'), ('High', 'NOUN'), ('concentrated', 'VERB'), ('on', 'ADP'), ('the', 'DET'), ('same', 'ADJ'), ('sounds', 'NOUN'), ('that', 'ADP'), ('the', 'DET'), ('test', 'NOUN'), ('does', 'VERB'), ('*?*', 'X'), ('*T*-4', 'X'), ('--', '.'), ('to', 'ADP'), ('the', 'DET'), ('exclusion', 'NOUN'), ('of', 'ADP'), ('other', 'ADJ'), ('sounds', 'NOUN'), ('that', 'ADP'), ('fifth', 'ADJ'), ('graders', 'NOUN'), ('should', 'VERB'), ('know', 'VERB'), ('*T*-3', 'X'), ('.', '.'), ('Structural', 'NOUN'), ('Dynamics', 'NOUN'), ('Research', 'NOUN'), ('Corp.', 'NOUN'), (',', '.'), ('which', 'DET'), ('*T*-143', 'X'), ('makes', 'VERB'), ('computer-aided', 'ADJ'), ('engineering', 'NOUN'), ('software', 'NOUN'), (',', '.'), ('said', 'VERB'), ('0', 'X'), ('it', 'PRON'), ('introduced', 'VERB'), ('new', 'ADJ'), ('technology', 'NOUN'), ('in', 'ADP'), ('mechanical', 'ADJ'), ('design', 'NOUN'), ('automation', 'NOUN'), ('that', 'DET'), ('*T*-144', 'X'), ('will', 'VERB'), ('improve', 'VERB'), ('mechanical', 'ADJ'), ('engineering', 'NOUN'), ('productivity', 'NOUN'), ('.', '.'), ('The', 'DET'), ('two', 'NUM'), ('partners', 'NOUN'), ('merely', 'ADV'), ('had', 'VERB'), ('*-1', 'X'), ('to', 'PRT'), ('falsify', 'VERB'), ('the', 'DET'), ('true', 'ADJ'), ('ownership', 'NOUN'), ('of', 'ADP'), ('the', 'DET'), ('corporation', 'NOUN'), ('.', '.'), ('According', 'VERB'), ('to', 'PRT'), ('reports', 'NOUN'), ('carried', 'VERB'), ('*', 'X'), ('by', 'ADP'), ('various', 'ADJ'), ('news', 'NOUN'), ('services', 'NOUN'), (',', '.'), ('the', 'DET'), ('Brazilian', 'ADJ'), ('government', 'NOUN'), ('told', 'VERB'), ('its', 'PRON'), ('sugar', 'NOUN'), ('producers', 'NOUN'), ('that', 'ADP'), ('they', 'PRON'), ('wo', 'VERB'), (\"n't\", 'ADV'), ('be', 'VERB'), ('allowed', 'VERB'), ('*-1', 'X'), ('to', 'PRT'), ('export', 'VERB'), ('sugar', 'NOUN'), ('during', 'ADP'), ('the', 'DET'), ('current', 'ADJ'), ('1989-90', 'NUM'), ('season', 'NOUN'), (',', '.'), ('which', 'DET'), ('*T*-92', 'X'), ('began', 'VERB'), ('May', 'NOUN'), ('1', 'NUM'), (',', '.'), ('and', 'CONJ'), ('the', 'DET'), ('1990-91', 'NUM'), ('season', 'NOUN'), ('so', 'ADP'), ('that', 'ADP'), ('it', 'PRON'), ('can', 'VERB'), ('be', 'VERB'), ('used', 'VERB'), ('*-2', 'X'), ('*', 'X'), ('to', 'PRT'), ('produce', 'VERB'), ('alcohol', 'NOUN'), ('for', 'ADP'), ('automobile', 'NOUN'), ('fuel', 'NOUN'), ('.', '.'), ('He', 'PRON'), ('did', 'VERB'), (\"n't\", 'ADV'), ('see', 'VERB'), ('why', 'ADV'), ('the', 'DET'), ('taxpayers', 'NOUN'), ('should', 'VERB'), ('help', 'VERB'), ('*-2', 'X'), ('build', 'VERB'), ('something', 'NOUN'), ('0', 'X'), ('he', 'PRON'), ('would', 'VERB'), ('then', 'ADV'), ('use', 'VERB'), ('*T*-1', 'X'), ('*', 'X'), ('to', 'PRT'), ('turn', 'VERB'), ('a', 'DET'), ('healthy', 'ADJ'), ('profit', 'NOUN'), ('.', '.'), ('John', 'NOUN'), ('F.', 'NOUN'), ('Barrett', 'NOUN'), (',', '.'), ('40', 'NUM'), (',', '.'), ('formerly', 'ADV'), ('executive', 'ADJ'), ('vice', 'NOUN'), ('president', 'NOUN'), ('and', 'CONJ'), ('chief', 'NOUN'), ('financial', 'ADJ'), ('officer', 'NOUN'), (',', '.'), ('was', 'VERB'), ('named', 'VERB'), ('*-1', 'X'), ('president', 'NOUN'), ('and', 'CONJ'), ('chief', 'NOUN'), ('operating', 'VERB'), ('officer', 'NOUN'), (',', '.'), ('posts', 'NOUN'), ('which', 'DET'), ('*T*-2', 'X'), ('had', 'VERB'), ('been', 'VERB'), ('vacant', 'ADJ'), ('.', '.'), ('The', 'DET'), ('Stamford', 'NOUN'), (',', '.'), ('Conn.', 'NOUN'), (',', '.'), ('concern', 'NOUN'), ('has', 'VERB'), ('agreed', 'VERB'), ('to', 'PRT'), ('a', 'DET'), ('buy-out', 'NOUN'), ('by', 'ADP'), ('Bank', 'NOUN'), ('of', 'ADP'), ('New', 'NOUN'), ('York', 'NOUN'), ('in', 'ADP'), ('a', 'DET'), ('transaction', 'NOUN'), ('with', 'ADP'), ('an', 'DET'), ('indicated', 'VERB'), ('value', 'NOUN'), ('of', 'ADP'), ('about', 'ADP'), ('$', '.'), ('100', 'NUM'), ('*U*', 'X'), ('a', 'DET'), ('share', 'NOUN'), ('that', 'DET'), ('*T*-119', 'X'), ('expires', 'VERB'), ('next', 'ADJ'), ('August', 'NOUN'), ('.', '.'), ('Those', 'DET'), ('who', 'PRON'), ('*T*-1', 'X'), ('still', 'ADV'), ('want', 'VERB'), ('*-2', 'X'), ('to', 'PRT'), ('do', 'VERB'), ('it', 'PRON'), ('``', '.'), ('will', 'VERB'), ('just', 'ADV'), ('find', 'VERB'), ('some', 'DET'), ('way', 'NOUN'), ('0', 'X'), ('*', 'X'), ('to', 'PRT'), ('get', 'VERB'), ('around', 'ADP'), (\"''\", '.'), ('any', 'DET'), ('attempt', 'NOUN'), ('*', 'X'), ('to', 'PRT'), ('curb', 'VERB'), ('it', 'PRON'), ('*T*-3', 'X'), ('.', '.'), ('PHOTOGRAPH', 'NOUN'), ('COLLECTING', 'NOUN'), ('gains', 'VERB'), ('new', 'ADJ'), ('stature', 'NOUN'), ('as', 'ADP'), ('prices', 'NOUN'), ('rise', 'VERB'), ('.', '.'), ('And', 'CONJ'), ('8', 'NUM'), ('%', 'NOUN'), ('*ICH*-1', 'X'), ('said', 'VERB'), ('0', 'X'), ('export', 'NOUN'), ('orders', 'NOUN'), ('were', 'VERB'), ('down', 'ADV'), ('last', 'ADJ'), ('month', 'NOUN'), (',', '.'), ('compared', 'VERB'), ('with', 'ADP'), ('6', 'NUM'), ('%', 'NOUN'), ('the', 'DET'), ('month', 'NOUN'), ('before', 'ADV'), ('.', '.'), ('Big', 'NOUN'), ('Board', 'NOUN'), ('volume', 'NOUN'), ('amounted', 'VERB'), ('to', 'PRT'), ('154,240,000', 'NUM'), ('shares', 'NOUN'), (',', '.'), ('down', 'ADP'), ('from', 'ADP'), ('176.1', 'NUM'), ('million', 'NUM'), ('Tuesday', 'NOUN'), ('.', '.'), ('``', '.'), ('The', 'DET'), ('situation', 'NOUN'), ('is', 'VERB'), ('that', 'ADP'), ('the', 'DET'), ('bankruptcy', 'NOUN'), ('court', 'NOUN'), ('will', 'VERB'), ('get', 'VERB'), ('out', 'ADP'), ('of', 'ADP'), ('the', 'DET'), ('shipbuilding', 'NOUN'), ('business', 'NOUN'), ('.', '.'), ('The', 'DET'), ('promotion', 'NOUN'), ('helped', 'VERB'), ('Riviera', 'NOUN'), ('sales', 'NOUN'), ('exceed', 'VERB'), ('the', 'DET'), ('division', 'NOUN'), (\"'s\", 'PRT'), ('forecast', 'NOUN'), ('by', 'ADP'), ('more', 'ADJ'), ('than', 'ADP'), ('10', 'NUM'), ('%', 'NOUN'), (',', '.'), ('Buick', 'NOUN'), ('said', 'VERB'), ('0', 'X'), ('*T*-1', 'X'), ('at', 'ADP'), ('the', 'DET'), ('time', 'NOUN'), ('.', '.'), ('Wilbur', 'NOUN'), ('Ross', 'NOUN'), ('Jr.', 'NOUN'), ('of', 'ADP'), ('Rothschild', 'NOUN'), ('Inc.', 'NOUN'), (',', '.'), ('the', 'DET'), ('financial', 'ADJ'), ('adviser', 'NOUN'), ('to', 'PRT'), ('the', 'DET'), ('troubled', 'ADJ'), ('company', 'NOUN'), (\"'s\", 'PRT'), ('equity', 'NOUN'), ('holders', 'NOUN'), (',', '.'), ('said', 'VERB'), ('0', 'X'), ('the', 'DET'), ('withdrawal', 'NOUN'), ('of', 'ADP'), ('New', 'NOUN'), ('England', 'NOUN'), ('Electric', 'NOUN'), ('might', 'VERB'), ('speed', 'VERB'), ('up', 'PRT'), ('the', 'DET'), ('reorganization', 'NOUN'), ('process', 'NOUN'), ('.', '.'), ('The', 'DET'), ('last', 'ADJ'), ('time', 'NOUN'), ('0', 'X'), ('the', 'DET'), ('S&P', 'NOUN'), ('500', 'NUM'), ('yield', 'NOUN'), ('dropped', 'VERB'), ('below', 'ADP'), ('3', 'NUM'), ('%', 'NOUN'), ('*T*-1', 'X'), ('was', 'VERB'), ('in', 'ADP'), ('the', 'DET'), ('summer', 'NOUN'), ('of', 'ADP'), ('1987', 'NUM'), ('.', '.'), ('The', 'DET'), ('following', 'VERB'), ('*ICH*-2', 'X'), ('were', 'VERB'), ('neither', 'DET'), ('barred', 'VERB'), ('nor', 'CONJ'), ('suspended', 'VERB'), ('*-1', 'X'), (':', '.'), ('Stephanie', 'NOUN'), ('Veselich', 'NOUN'), ('Enright', 'NOUN'), (',', '.'), ('Rolling', 'NOUN'), ('Hills', 'NOUN'), (',', '.'), ('Calif.', 'NOUN'), (',', '.'), ('fined', 'VERB'), ('*-3', 'X'), ('$', '.'), ('2,500', 'NUM'), ('*U*', 'X'), ('and', 'CONJ'), ('ordered', 'VERB'), ('*-3', 'X'), ('*-4', 'X'), ('to', 'PRT'), ('disgorge', 'VERB'), ('$', '.'), ('11,762', 'NUM'), ('*U*', 'X'), (';', '.'), ('Stuart', 'NOUN'), ('Lane', 'NOUN'), ('Russel', 'NOUN'), (',', '.'), ('Glendale', 'NOUN'), (',', '.'), ('Calif.', 'NOUN'), (',', '.'), ('fined', 'VERB'), ('*-5', 'X'), ('$', '.'), ('2,500', 'NUM'), ('*U*', 'X'), ('and', 'CONJ'), ('ordered', 'VERB'), ('*-5', 'X'), ('*-6', 'X'), ('to', 'PRT'), ('disgorge', 'VERB'), ('$', '.'), ('14,821', 'NUM'), ('*U*', 'X'), (';', '.'), ('Devon', 'NOUN'), ('Nilson', 'NOUN'), ('Dahl', 'NOUN'), (',', '.'), ('Fountain', 'NOUN'), ('Valley', 'NOUN'), (',', '.'), ('Calif.', 'NOUN'), (',', '.'), ('fined', 'VERB'), ('*-7', 'X'), ('$', '.'), ('82,389', 'NUM'), ('*U*', 'X'), ('.', '.'), ('Altogether', 'ADV'), (',', '.'), ('NBI', 'NOUN'), ('said', 'VERB'), ('0', 'X'), ('it', 'PRON'), ('will', 'VERB'), ('eliminate', 'VERB'), ('266', 'NUM'), ('jobs', 'NOUN'), ('at', 'ADP'), ('its', 'PRON'), ('Boulder', 'NOUN'), ('headquarters', 'NOUN'), (',', '.'), ('176', 'NUM'), ('field', 'NOUN'), ('sales', 'NOUN'), ('jobs', 'NOUN'), ('and', 'CONJ'), ('50', 'NUM'), ('jobs', 'NOUN'), ('at', 'ADP'), ('its', 'PRON'), ('Canadian', 'ADJ'), ('and', 'CONJ'), ('United', 'NOUN'), ('Kingdom', 'NOUN'), ('headquarters', 'NOUN'), ('.', '.'), ('You', 'PRON'), ('look', 'VERB'), ('around', 'PRT'), ('at', 'ADP'), ('professional', 'ADJ'), ('ballplayers', 'NOUN'), ('or', 'CONJ'), ('accountants', 'NOUN'), ('...', '.'), ('and', 'CONJ'), ('nobody', 'NOUN'), ('blinks', 'VERB'), ('an', 'DET'), ('eye', 'NOUN'), ('.', '.'), ('RMS', 'NOUN'), ('distributes', 'VERB'), ('electronic', 'ADJ'), ('devices', 'NOUN'), ('and', 'CONJ'), ('produces', 'VERB'), ('power', 'NOUN'), ('supplies', 'NOUN'), ('and', 'CONJ'), ('plastic', 'ADJ'), ('literature', 'NOUN'), ('displays', 'NOUN'), ('.', '.'), ('Mr.', 'NOUN'), ('Nixon', 'NOUN'), ('met', 'VERB'), ('Mr.', 'NOUN'), ('Bush', 'NOUN'), ('and', 'CONJ'), ('his', 'PRON'), ('national', 'ADJ'), ('security', 'NOUN'), ('adviser', 'NOUN'), (',', '.'), ('Brent', 'NOUN'), ('Scowcroft', 'NOUN'), (',', '.'), ('before', 'ADP'), ('*-1', 'X'), ('coming', 'VERB'), ('to', 'PRT'), ('China', 'NOUN'), ('on', 'ADP'), ('Saturday', 'NOUN'), ('.', '.'), ('First', 'NOUN'), ('Constitution', 'NOUN'), ('has', 'VERB'), ('signed', 'VERB'), ('a', 'DET'), ('merger', 'NOUN'), ('agreement', 'NOUN'), ('*ICH*-1', 'X'), ('with', 'ADP'), ('WFRR', 'NOUN'), ('L.P.', 'NOUN'), ('and', 'CONJ'), ('GHKM', 'NOUN'), ('Corp.', 'NOUN'), (',', '.'), ('under', 'ADP'), ('which', 'DET'), ('all', 'DET'), ('of', 'ADP'), ('its', 'PRON'), ('common', 'ADJ'), ('shares', 'NOUN'), ('will', 'VERB'), ('be', 'VERB'), ('acquired', 'VERB'), ('*-3', 'X'), ('for', 'ADP'), ('$', '.'), ('25', 'NUM'), ('*U*', 'X'), ('each', 'DET'), (',', '.'), ('or', 'CONJ'), ('$', '.'), ('273.5', 'NUM'), ('million', 'NUM'), ('*U*', 'X'), ('*T*-2', 'X'), ('.', '.'), ('For', 'ADP'), ('all', 'DET'), ('the', 'DET'), ('furor', 'NOUN'), (',', '.'), ('there', 'DET'), ('is', 'VERB'), ('nothing', 'NOUN'), ('particularly', 'ADV'), ('complex', 'ADJ'), ('about', 'ADP'), ('the', 'DET'), ('concept', 'NOUN'), ('of', 'ADP'), ('stock-index', 'ADJ'), ('arbitrage', 'NOUN'), (',', '.'), ('the', 'DET'), ('most', 'ADV'), ('controversial', 'ADJ'), ('type', 'NOUN'), ('of', 'ADP'), ('computer-assisted', 'ADJ'), ('program', 'NOUN'), ('trading', 'NOUN'), ('.', '.'), ('Primerica', 'NOUN'), ('closed', 'VERB'), ('at', 'ADP'), ('$', '.'), ('28.25', 'NUM'), ('*U*', 'X'), (',', '.'), ('down', 'ADV'), ('50', 'NUM'), ('cents', 'NOUN'), ('.', '.'), ('This', 'DET'), ('is', 'VERB'), (\"n't\", 'ADV'), ('Buick', 'NOUN'), (\"'s\", 'PRT'), ('first', 'ADJ'), ('travel-related', 'ADJ'), ('promotion', 'NOUN'), ('.', '.'), ('The', 'DET'), ('reaction', 'NOUN'), ('in', 'ADP'), ('the', 'DET'), ('newsroom', 'NOUN'), ('was', 'VERB'), ('emotional', 'ADJ'), ('.', '.'), ('Reuters', 'NOUN'), ('Holdings', 'NOUN'), ('PLC', 'NOUN'), ('said', 'VERB'), ('0', 'X'), ('Michael', 'NOUN'), ('Reupke', 'NOUN'), ('resigned', 'VERB'), ('as', 'ADP'), ('general', 'ADJ'), ('manager', 'NOUN'), ('*-1', 'X'), ('to', 'PRT'), ('pursue', 'VERB'), ('unspecified', 'ADJ'), ('interests', 'NOUN'), (',', '.'), ('a', 'DET'), ('move', 'NOUN'), ('0', 'X'), ('the', 'DET'), ('news', 'NOUN'), ('organization', 'NOUN'), ('termed', 'VERB'), ('*T*-2', 'X'), ('an', 'DET'), ('``', '.'), ('amicable', 'ADJ'), ('separation', 'NOUN'), ('.', '.'), (\"''\", '.'), ('They', 'PRON'), ('read', 'VERB'), ('Mickey', 'NOUN'), ('Spillane', 'NOUN'), ('and', 'CONJ'), ('talk', 'VERB'), ('about', 'ADP'), ('Groucho', 'NOUN'), ('and', 'CONJ'), ('Harpo', 'NOUN'), ('.', '.'), ('Marubeni', 'NOUN'), ('advanced', 'VERB'), ('11', 'NUM'), ('to', 'PRT'), ('890', 'NUM'), ('.', '.'), ('China', 'NOUN'), ('was', 'VERB'), ('the', 'DET'), ('real', 'ADJ'), ('victim', 'NOUN'), ('and', 'CONJ'), ('it', 'PRON'), ('*EXP*-1', 'X'), ('is', 'VERB'), ('unjust', 'ADJ'), ('*', 'X'), ('to', 'PRT'), ('reprove', 'VERB'), ('China', 'NOUN'), ('for', 'ADP'), ('it', 'PRON'), ('.', '.'), (\"''\", '.'), ('Yet', 'ADV'), ('Section', 'NOUN'), ('605', 'NUM'), ('of', 'ADP'), ('the', 'DET'), ('appropriations', 'NOUN'), ('bill', 'NOUN'), ('for', 'ADP'), ('the', 'DET'), ('executive', 'ADJ'), ('office', 'NOUN'), ('provides', 'VERB'), (':', '.'), ('``', '.'), ('No', 'DET'), ('part', 'NOUN'), ('of', 'ADP'), ('any', 'DET'), ('appropriation', 'NOUN'), ('for', 'ADP'), ('the', 'DET'), ('current', 'ADJ'), ('fiscal', 'ADJ'), ('year', 'NOUN'), ('contained', 'VERB'), ('*', 'X'), ('in', 'ADP'), ('this', 'DET'), ('or', 'CONJ'), ('any', 'DET'), ('other', 'ADJ'), ('Act', 'NOUN'), ('shall', 'VERB'), ('be', 'VERB'), ('paid', 'VERB'), ('*-53', 'X'), ('to', 'PRT'), ('any', 'DET'), ('person', 'NOUN'), ('for', 'ADP'), ('the', 'DET'), ('filling', 'NOUN'), ('of', 'ADP'), ('any', 'DET'), ('position', 'NOUN'), ('for', 'ADP'), ('which', 'DET'), ('he', 'PRON'), ('or', 'CONJ'), ('she', 'PRON'), ('has', 'VERB'), ('been', 'VERB'), ('nominated', 'VERB'), ('*-54', 'X'), ('*T*-1', 'X'), ('after', 'ADP'), ('the', 'DET'), ('Senate', 'NOUN'), ('has', 'VERB'), ('voted', 'VERB'), ('*-2', 'X'), ('not', 'ADV'), ('to', 'PRT'), ('approve', 'VERB'), ('the', 'DET'), ('nomination', 'NOUN'), ('of', 'ADP'), ('said', 'VERB'), ('person', 'NOUN'), ('.', '.'), (\"''\", '.'), ('The', 'DET'), ('collapse', 'NOUN'), ('of', 'ADP'), ('junk', 'NOUN'), ('bond', 'NOUN'), ('prices', 'NOUN'), ('and', 'CONJ'), ('the', 'DET'), ('cancellation', 'NOUN'), ('of', 'ADP'), ('many', 'ADJ'), ('junk', 'NOUN'), ('bond', 'NOUN'), ('financings', 'NOUN'), ('apparently', 'ADV'), ('have', 'VERB'), ('taken', 'VERB'), ('their', 'PRON'), ('toll', 'NOUN'), ('on', 'ADP'), ('closely', 'ADV'), ('held', 'VERB'), ('Drexel', 'NOUN'), (',', '.'), ('the', 'DET'), ('leading', 'VERB'), ('underwriter', 'NOUN'), ('in', 'ADP'), ('that', 'DET'), ('market', 'NOUN'), ('.', '.'), ('But', 'CONJ'), ('in', 'ADP'), ('1988', 'NUM'), (',', '.'), ('McGraw-Hill', 'NOUN'), ('purchased', 'VERB'), ('the', 'DET'), ('Random', 'NOUN'), ('House', 'NOUN'), ('unit', 'NOUN'), ('that', 'DET'), ('*T*-108', 'X'), ('publishes', 'VERB'), ('Scoring', 'NOUN'), ('High', 'NOUN'), (',', '.'), ('which', 'DET'), ('*T*-109', 'X'), ('later', 'ADV'), ('became', 'VERB'), ('part', 'NOUN'), ('of', 'ADP'), ('Macmillan\\\\/McGraw', 'NOUN'), ('.', '.'), ('Just', 'ADV'), ('as', 'ADP'), ('all', 'DET'), ('plaintiffs', 'NOUN'), ('are', 'VERB'), ('not', 'ADV'), ('alike', 'ADV'), (',', '.'), ('it', 'PRON'), ('turns', 'VERB'), ('out', 'PRT'), ('that', 'ADP'), ('DES', 'NOUN'), ('defendants', 'NOUN'), ('marketed', 'VERB'), ('the', 'DET'), ('drugs', 'NOUN'), ('differently', 'ADV'), ('and', 'CONJ'), ('may', 'VERB'), ('have', 'VERB'), ('offered', 'VERB'), ('different', 'ADJ'), ('warranties', 'NOUN'), ('.', '.'), ('``', '.'), ('And', 'CONJ'), ('recessionary', 'ADJ'), ('environments', 'NOUN'), ('are', 'VERB'), (\"n't\", 'ADV'), ('hospitable', 'ADJ'), ('to', 'PRT'), ('the', 'DET'), ('stock', 'NOUN'), ('market', 'NOUN'), ('.', '.'), (\"''\", '.'), ('American', 'NOUN'), ('City', 'NOUN'), ('Business', 'NOUN'), ('Journals', 'NOUN'), ('Inc.', 'NOUN'), ('said', 'VERB'), ('0', 'X'), ('its', 'PRON'), ('president', 'NOUN'), (',', '.'), ('Michael', 'NOUN'), ('K.', 'NOUN'), ('Russell', 'NOUN'), (',', '.'), ('will', 'VERB'), ('resign', 'VERB'), ('rather', 'ADV'), ('than', 'ADP'), ('relocate', 'NOUN'), ('to', 'PRT'), ('new', 'ADJ'), ('headquarters', 'NOUN'), ('in', 'ADP'), ('Charlotte', 'NOUN'), (',', '.'), ('N.C', 'NOUN'), ('.', '.'), ('Many', 'ADJ'), ('auto', 'NOUN'), ('dealers', 'NOUN'), ('now', 'ADV'), ('let', 'VERB'), ('car', 'NOUN'), ('buyers', 'NOUN'), ('charge', 'VERB'), ('part', 'NOUN'), ('or', 'CONJ'), ('all', 'DET'), ('of', 'ADP'), ('their', 'PRON'), ('purchase', 'NOUN'), ('on', 'ADP'), ('the', 'DET'), ('American', 'NOUN'), ('Express', 'NOUN'), ('card', 'NOUN'), (',', '.'), ('but', 'CONJ'), ('few', 'ADJ'), ('card', 'NOUN'), ('holders', 'NOUN'), ('realize', 'VERB'), ('this', 'DET'), (',', '.'), ('Mr.', 'NOUN'), ('Riese', 'NOUN'), ('says', 'VERB'), ('0', 'X'), ('*T*-1', 'X'), ('.', '.'), ('A', 'DET'), ('line-item', 'ADJ'), ('veto', 'NOUN'), ('is', 'VERB'), ('a', 'DET'), ('procedure', 'NOUN'), ('that', 'DET'), ('*T*-1', 'X'), ('would', 'VERB'), ('allow', 'VERB'), ('a', 'DET'), ('president', 'NOUN'), ('to', 'PRT'), ('veto', 'VERB'), ('part', 'NOUN'), ('of', 'ADP'), ('a', 'DET'), ('big', 'ADJ'), ('congressional', 'ADJ'), ('spending', 'NOUN'), ('bill', 'NOUN'), ('without', 'ADP'), ('*-2', 'X'), ('having', 'VERB'), ('*-3', 'X'), ('to', 'PRT'), ('scuttle', 'VERB'), ('the', 'DET'), ('entire', 'ADJ'), ('measure', 'NOUN'), ('.', '.'), ('``', '.'), ('She', 'PRON'), ('was', 'VERB'), ('an', 'DET'), ('inspirational', 'ADJ'), ('lady', 'NOUN'), (';', '.'), ('she', 'PRON'), ('had', 'VERB'), ('it', 'PRON'), ('all', 'ADV'), ('together', 'ADV'), (',', '.'), (\"''\", '.'), ('says', 'VERB'), ('*T*-1', 'X'), ('Laura', 'NOUN'), ('Dobson', 'NOUN'), (',', '.'), ('a', 'DET'), ('freshman', 'NOUN'), ('at', 'ADP'), ('the', 'DET'), ('University', 'NOUN'), ('of', 'ADP'), ('South', 'NOUN'), ('Carolina', 'NOUN'), ('who', 'PRON'), ('*T*-90', 'X'), ('had', 'VERB'), ('Mrs.', 'NOUN'), ('Yeargin', 'NOUN'), ('in', 'ADP'), ('the', 'DET'), ('teacher-cadet', 'ADJ'), ('class', 'NOUN'), ('last', 'ADJ'), ('year', 'NOUN'), ('.', '.'), ('Any', 'DET'), ('reading', 'NOUN'), ('below', 'ADP'), ('50', 'NUM'), ('%', 'NOUN'), ('suggests', 'VERB'), ('0', 'X'), ('the', 'DET'), ('manufacturing', 'NOUN'), ('sector', 'NOUN'), ('is', 'VERB'), ('generally', 'ADV'), ('declining', 'VERB'), ('.', '.'), ('He', 'PRON'), ('said', 'VERB'), ('0', 'X'), ('disciplinary', 'ADJ'), ('proceedings', 'NOUN'), ('are', 'VERB'), ('confidential', 'ADJ'), ('and', 'CONJ'), ('declined', 'VERB'), ('*-1', 'X'), ('to', 'PRT'), ('comment', 'VERB'), ('on', 'ADP'), ('whether', 'ADP'), ('any', 'DET'), ('are', 'VERB'), ('being', 'VERB'), ('held', 'VERB'), ('*-2', 'X'), ('against', 'ADP'), ('Mr.', 'NOUN'), ('Trudeau', 'NOUN'), ('.', '.'), ('It', 'PRON'), ('also', 'ADV'), ('asks', 'VERB'), ('them', 'PRON'), ('*-1', 'X'), ('to', 'PRT'), ('add', 'VERB'), ('two-sevenths', 'NOUN'), ('and', 'CONJ'), ('three-sevenths', 'NOUN'), ('.', '.'), ('In', 'ADP'), ('the', 'DET'), ('classroom', 'NOUN'), (',', '.'), ('students', 'NOUN'), ('say', 'VERB'), ('0', 'X'), ('*T*-3', 'X'), (',', '.'), ('Mrs.', 'NOUN'), ('Yeargin', 'NOUN'), ('distinguished', 'VERB'), ('herself', 'PRON'), ('by', 'ADP'), ('*', 'X'), ('varying', 'VERB'), ('teaching', 'NOUN'), ('approaches', 'NOUN'), ('--', '.'), ('*-1', 'X'), ('forcing', 'ADJ'), ('kids', 'NOUN'), ('to', 'PRT'), ('pair', 'VERB'), ('up', 'PRT'), ('*-2', 'X'), ('to', 'PRT'), ('complete', 'VERB'), ('classroom', 'NOUN'), ('work', 'NOUN'), ('or', 'CONJ'), ('using', 'VERB'), ('college-bowl', 'NOUN'), ('type', 'NOUN'), ('competitions', 'NOUN'), ('.', '.'), ('Many', 'ADJ'), ('lost', 'VERB'), ('their', 'PRON'), ('farms', 'NOUN'), ('.', '.'), ('And', 'CONJ'), ('unlike', 'ADP'), ('some', 'DET'), ('trays', 'NOUN'), (',', '.'), ('there', 'DET'), (\"'s\", 'VERB'), ('no', 'DET'), ('place', 'NOUN'), ('for', 'ADP'), ('food', 'NOUN'), ('.', '.'), ('The', 'DET'), ('FT', 'NOUN'), ('30-share', 'ADJ'), ('index', 'NOUN'), ('settled', 'VERB'), ('16.7', 'NUM'), ('points', 'NOUN'), ('higher', 'ADJ'), ('at', 'ADP'), ('1738.1', 'NUM'), ('.', '.'), ('The', 'DET'), ('city', 'NOUN'), ('had', 'VERB'), ('expected', 'VERB'), ('*-1', 'X'), ('to', 'PRT'), ('pay', 'VERB'), ('about', 'ADV'), ('11', 'NUM'), ('million', 'NUM'), ('yen', 'NOUN'), ('-LRB-', '.'), ('$', '.'), ('77,000', 'NUM'), ('*U*', 'X'), ('-RRB-', '.'), (',', '.'), ('but', 'CONJ'), ('Fujitsu', 'NOUN'), ('essentially', 'ADV'), ('offered', 'VERB'), ('*-2', 'X'), ('to', 'PRT'), ('do', 'VERB'), ('it', 'PRON'), ('for', 'ADP'), ('free', 'ADV'), ('.', '.'), ('``', '.'), ('They', 'PRON'), ('said', 'VERB'), ('universally', 'ADV'), (',', '.'), ('without', 'ADP'), ('a', 'DET'), ('single', 'ADJ'), ('exception', 'NOUN'), (':', '.'), ('*', 'X'), ('Do', 'VERB'), (\"n't\", 'ADV'), ('even', 'ADV'), ('compromise', 'VERB'), ('.', '.'), ('The', 'DET'), ('Spiegel', 'NOUN'), ('family', 'NOUN'), ('has', 'VERB'), ('25', 'NUM'), ('%', 'NOUN'), ('of', 'ADP'), ('the', 'DET'), ('common', 'ADJ'), ('and', 'CONJ'), ('75', 'NUM'), ('%', 'NOUN'), ('of', 'ADP'), ('the', 'DET'), ('votes', 'NOUN'), ('.', '.'), ('The', 'DET'), ('one', 'NUM'), ('character', 'NOUN'), ('at', 'ADP'), ('least', 'ADJ'), ('somewhat', 'ADV'), ('interesting', 'ADJ'), ('was', 'VERB'), ('Irving', 'NOUN'), ('Louis', 'NOUN'), ('Lobsenz', 'NOUN'), (',', '.'), ('a', 'DET'), ('pediatrician', 'NOUN'), ('who', 'PRON'), ('*T*-1', 'X'), ('changed', 'VERB'), ('his', 'PRON'), ('name', 'NOUN'), ('to', 'PRT'), ('Rusty', 'NOUN'), ('Kent', 'NOUN'), ('London', 'NOUN'), ('and', 'CONJ'), ('became', 'VERB'), ('a', 'DET'), ('master', 'NOUN'), ('gambler', 'NOUN'), ('and', 'CONJ'), ('author', 'NOUN'), ('of', 'ADP'), ('a', 'DET'), ('book', 'NOUN'), ('on', 'ADP'), ('blackjack', 'NOUN'), ('.', '.'), ('The', 'DET'), ('first', 'ADJ'), ('Champagne', 'NOUN'), ('0', 'X'), ('*T*-1', 'X'), ('to', 'PRT'), ('crack', 'VERB'), ('that', 'DET'), ('price', 'NOUN'), ('barrier', 'NOUN'), ('was', 'VERB'), ('the', 'DET'), ('1979', 'NUM'), ('Salon', 'NOUN'), ('de', 'ADP'), ('Mesnil', 'NOUN'), ('Blanc', 'NOUN'), ('de', 'ADP'), ('Blancs', 'NOUN'), ('.', '.'), ('Behind', 'ADP'), ('all', 'DET'), ('the', 'DET'), ('hoopla', 'NOUN'), ('is', 'VERB'), ('*T*-1', 'X'), ('some', 'DET'), ('heavy-duty', 'ADJ'), ('competition', 'NOUN'), ('.', '.'), ('It', 'PRON'), ('shed', 'VERB'), ('about', 'ADP'), ('7', 'NUM'), ('pence', 'NOUN'), (',', '.'), ('however', 'ADV'), (',', '.'), ('after', 'ADP'), ('dealers', 'NOUN'), ('said', 'VERB'), ('0', 'X'), ('the', 'DET'), ('market', 'NOUN'), ('was', 'VERB'), ('disappointed', 'VERB'), ('that', 'ADP'), ('Ford', 'NOUN'), ('did', 'VERB'), (\"n't\", 'ADV'), ('move', 'VERB'), ('*-1', 'X'), ('to', 'PRT'), ('tender', 'VERB'), ('a', 'DET'), ('bid', 'NOUN'), ('for', 'ADP'), ('control', 'NOUN'), ('of', 'ADP'), ('the', 'DET'), ('company', 'NOUN'), ('.', '.'), ('Under', 'ADP'), ('that', 'DET'), ('law', 'NOUN'), (',', '.'), ('parties', 'NOUN'), ('proposing', 'VERB'), ('mergers', 'NOUN'), ('or', 'CONJ'), ('acquisitions', 'NOUN'), ('valued', 'VERB'), ('*', 'X'), ('at', 'ADP'), ('$', '.'), ('15', 'NUM'), ('million', 'NUM'), ('*U*', 'X'), ('or', 'CONJ'), ('more', 'ADV'), ('must', 'VERB'), ('notify', 'VERB'), ('FTC', 'NOUN'), ('and', 'CONJ'), ('Justice', 'NOUN'), ('Department', 'NOUN'), ('antitrust', 'ADJ'), ('regulators', 'NOUN'), ('before', 'ADP'), ('*-1', 'X'), ('completing', 'VERB'), ('the', 'DET'), ('transactions', 'NOUN'), ('.', '.'), ('While', 'ADP'), ('market', 'NOUN'), ('sentiment', 'NOUN'), ('remains', 'VERB'), ('cautiously', 'ADV'), ('bearish', 'ADJ'), ('on', 'ADP'), ('the', 'DET'), ('dollar', 'NOUN'), ('based', 'VERB'), ('on', 'ADP'), ('sluggish', 'ADJ'), ('U.S.', 'NOUN'), ('economic', 'ADJ'), ('indicators', 'NOUN'), (',', '.'), ('dealers', 'NOUN'), ('note', 'VERB'), ('that', 'ADP'), ('Japanese', 'ADJ'), ('demand', 'NOUN'), ('has', 'VERB'), ('helped', 'VERB'), ('*-1', 'X'), ('underpin', 'VERB'), ('the', 'DET'), ('dollar', 'NOUN'), ('against', 'ADP'), ('the', 'DET'), ('yen', 'NOUN'), ('and', 'CONJ'), ('has', 'VERB'), ('kept', 'VERB'), ('the', 'DET'), ('U.S.', 'NOUN'), ('currency', 'NOUN'), ('from', 'ADP'), ('*-2', 'X'), ('plunging', 'VERB'), ('below', 'ADP'), ('key', 'ADJ'), ('levels', 'NOUN'), ('against', 'ADP'), ('the', 'DET'), ('mark', 'NOUN'), ('.', '.'), ('Scoring', 'NOUN'), ('High', 'NOUN'), ('matched', 'VERB'), ('on', 'ADP'), ('64.5', 'NUM'), ('.', '.'), ('Mr.', 'NOUN'), ('Cray', 'NOUN'), (',', '.'), ('who', 'PRON'), ('*T*-1', 'X'), ('could', 'VERB'), (\"n't\", 'ADV'), ('be', 'VERB'), ('reached', 'VERB'), ('*-24', 'X'), ('for', 'ADP'), ('comment', 'NOUN'), (',', '.'), ('will', 'VERB'), ('work', 'VERB'), ('for', 'ADP'), ('the', 'DET'), ('new', 'ADJ'), ('Colorado', 'NOUN'), ('Springs', 'NOUN'), (',', '.'), ('Colo.', 'NOUN'), (',', '.'), ('company', 'NOUN'), ('as', 'ADP'), ('an', 'DET'), ('independent', 'ADJ'), ('contractor', 'NOUN'), ('--', '.'), ('the', 'DET'), ('arrangement', 'NOUN'), ('0', 'X'), ('he', 'PRON'), ('had', 'VERB'), ('*T*-2', 'X'), ('with', 'ADP'), ('Cray', 'NOUN'), ('Research', 'NOUN'), ('.', '.'), ('In', 'ADP'), ('response', 'NOUN'), ('to', 'PRT'), ('the', 'DET'), ('ruling', 'NOUN'), (',', '.'), ('gilt', 'ADJ'), ('futures', 'NOUN'), ('swiftly', 'ADV'), ('plunged', 'VERB'), ('more', 'ADJ'), ('than', 'ADP'), ('a', 'DET'), ('point', 'NOUN'), ('yesterday', 'NOUN'), ('before', 'ADP'), ('*-1', 'X'), ('recovering', 'VERB'), ('much', 'ADJ'), ('of', 'ADP'), ('the', 'DET'), ('loss', 'NOUN'), ('by', 'ADP'), ('the', 'DET'), ('end', 'NOUN'), ('of', 'ADP'), ('the', 'DET'), ('session', 'NOUN'), ('.', '.'), ('PAPERS', 'NOUN'), (':', '.'), ('CERTIFICATES', 'NOUN'), ('OF', 'ADP'), ('DEPOSIT', 'NOUN'), (':', '.'), ('8.07', 'NUM'), ('%', 'NOUN'), ('one', 'NUM'), ('month', 'NOUN'), (';', '.'), ('8.06', 'NUM'), ('%', 'NOUN'), ('two', 'NUM'), ('months', 'NOUN'), (';', '.'), ('8.04', 'NUM'), ('%', 'NOUN'), ('three', 'NUM'), ('months', 'NOUN'), (';', '.'), ('7.95', 'NUM'), ('%', 'NOUN'), ('six', 'NUM'), ('months', 'NOUN'), (';', '.'), ('7.88', 'NUM'), ('%', 'NOUN'), ('one', 'NUM'), ('year', 'NOUN'), ('.', '.'), ('Fujitsu', 'NOUN'), ('Ltd.', 'NOUN'), (\"'s\", 'PRT'), ('top', 'ADJ'), ('executive', 'NOUN'), ('took', 'VERB'), ('the', 'DET'), ('unusual', 'ADJ'), ('step', 'NOUN'), ('of', 'ADP'), ('*', 'X'), ('publicly', 'ADV'), ('apologizing', 'VERB'), ('for', 'ADP'), ('his', 'PRON'), ('company', 'NOUN'), (\"'s\", 'PRT'), ('making', 'VERB'), ('bids', 'NOUN'), ('of', 'ADP'), ('just', 'ADV'), ('one', 'NUM'), ('yen', 'NOUN'), ('for', 'ADP'), ('several', 'ADJ'), ('local', 'ADJ'), ('government', 'NOUN'), ('projects', 'NOUN'), (',', '.'), ('while', 'ADP'), ('computer', 'NOUN'), ('rival', 'NOUN'), ('NEC', 'NOUN'), ('Corp.', 'NOUN'), ('made', 'VERB'), ('a', 'DET'), ('written', 'VERB'), ('apology', 'NOUN'), ('for', 'ADP'), ('*', 'X'), ('indulging', 'VERB'), ('in', 'ADP'), ('the', 'DET'), ('same', 'ADJ'), ('practice', 'NOUN'), ('.', '.'), ('``', '.'), ('Little', 'ADV'), ('by', 'ADP'), ('little', 'ADV'), (',', '.'), ('there', 'DET'), ('is', 'VERB'), ('progress', 'NOUN'), (',', '.'), (\"''\", '.'), ('says', 'VERB'), ('*T*-1', 'X'), ('the', 'DET'), ('MITI', 'NOUN'), ('official', 'NOUN'), ('.', '.'), ('Hammacher', 'NOUN'), ('Schlemmer', 'NOUN'), ('&', 'CONJ'), ('Co.', 'NOUN'), ('offers', 'VERB'), ('a', 'DET'), ('fiber-optic', 'ADJ'), ('Christmas', 'NOUN'), ('tree', 'NOUN'), ('that', 'DET'), ('*T*-1', 'X'), ('eliminates', 'VERB'), ('the', 'DET'), ('need', 'NOUN'), ('*', 'X'), ('to', 'PRT'), ('string', 'VERB'), ('lights', 'NOUN'), ('.', '.'), ('The', 'DET'), ('law', 'NOUN'), ('defines', 'VERB'), ('unfairly', 'ADV'), ('low', 'ADJ'), ('prices', 'NOUN'), ('as', 'ADP'), ('ones', 'NOUN'), ('below', 'ADP'), ('the', 'DET'), ('cost', 'NOUN'), ('of', 'ADP'), ('production', 'NOUN'), ('or', 'CONJ'), ('below', 'ADP'), ('prices', 'NOUN'), ('in', 'ADP'), ('an', 'DET'), ('exporter', 'NOUN'), (\"'s\", 'PRT'), ('home', 'NOUN'), ('market', 'NOUN'), ('.', '.'), ('The', 'DET'), ('decline', 'NOUN'), ('was', 'VERB'), ('even', 'ADV'), ('steeper', 'ADJ'), ('than', 'ADP'), ('in', 'ADP'), ('September', 'NOUN'), ('.', '.'), ('The', 'DET'), ('latest', 'ADJ'), ('results', 'NOUN'), ('include', 'VERB'), ('some', 'DET'), ('unusual', 'ADJ'), ('write-downs', 'NOUN'), (',', '.'), ('which', 'DET'), ('*T*-1', 'X'), ('had', 'VERB'), ('an', 'DET'), ('after-tax', 'ADJ'), ('impact', 'NOUN'), ('of', 'ADP'), ('$', '.'), ('4.9', 'NUM'), ('million', 'NUM'), ('*U*', 'X'), ('.', '.'), ('Program', 'NOUN'), ('trading', 'NOUN'), ('is', 'VERB'), ('``', '.'), ('a', 'DET'), ('racket', 'NOUN'), (',', '.'), (\"''\", '.'), ('complains', 'VERB'), ('0', 'X'), ('*T*-1', 'X'), ('Edward', 'NOUN'), ('Egnuss', 'NOUN'), (',', '.'), ('a', 'DET'), ('White', 'NOUN'), ('Plains', 'NOUN'), (',', '.'), ('N.Y.', 'NOUN'), (',', '.'), ('investor', 'NOUN'), ('and', 'CONJ'), ('electronics', 'NOUN'), ('sales', 'NOUN'), ('executive', 'NOUN'), (',', '.'), ('``', '.'), ('and', 'CONJ'), ('it', 'PRON'), (\"'s\", 'VERB'), ('not', 'ADV'), ('to', 'PRT'), ('the', 'DET'), ('benefit', 'NOUN'), ('of', 'ADP'), ('the', 'DET'), ('small', 'ADJ'), ('investor', 'NOUN'), (',', '.'), ('that', 'DET'), (\"'s\", 'VERB'), ('for', 'ADP'), ('sure', 'ADV'), ('.', '.'), (\"''\", '.'), ('Officials', 'NOUN'), ('of', 'ADP'), ('Triton', 'NOUN'), ('could', 'VERB'), (\"n't\", 'ADV'), ('be', 'VERB'), ('reached', 'VERB'), ('*-157', 'X'), ('for', 'ADP'), ('comment', 'NOUN'), ('.', '.'), ('Mr.', 'NOUN'), ('Icahn', 'NOUN'), ('has', 'VERB'), ('said', 'VERB'), ('0', 'X'), ('he', 'PRON'), ('believes', 'VERB'), ('0', 'X'), ('USX', 'NOUN'), ('would', 'VERB'), ('be', 'VERB'), ('worth', 'ADJ'), ('more', 'ADV'), ('if', 'ADP'), ('*-1', 'X'), ('broken', 'VERB'), ('up', 'PRT'), ('*-2', 'X'), ('into', 'ADP'), ('steel', 'NOUN'), ('and', 'CONJ'), ('energy', 'NOUN'), ('segments', 'NOUN'), ('.', '.'), ('The', 'DET'), ('battle', 'NOUN'), ('has', 'VERB'), ('turned', 'VERB'), ('into', 'ADP'), ('a', 'DET'), ('civil', 'ADJ'), ('war', 'NOUN'), ('at', 'ADP'), ('some', 'DET'), ('firms', 'NOUN'), ('and', 'CONJ'), ('organizations', 'NOUN'), (',', '.'), ('*-1', 'X'), ('causing', 'VERB'), ('internal', 'ADJ'), ('contradictions', 'NOUN'), ('and', 'CONJ'), ('pitting', 'VERB'), ('employee', 'NOUN'), ('against', 'ADP'), ('employee', 'NOUN'), ('.', '.'), ('It', 'PRON'), ('should', 'VERB'), ('be', 'VERB'), ('constantly', 'ADV'), ('stressed', 'VERB'), ('that', 'ADP'), ('Poland', 'NOUN'), (\"'s\", 'PRT'), ('farmers', 'NOUN'), ('mostly', 'ADV'), ('need', 'VERB'), ('a', 'DET'), ('real', 'ADJ'), ('market', 'NOUN'), ('for', 'ADP'), ('their', 'PRON'), ('products', 'NOUN'), ('.', '.'), ('In', 'ADP'), ('other', 'ADJ'), ('transactions', 'NOUN'), (',', '.'), ('Mr.', 'NOUN'), ('Simmons', 'NOUN'), ('has', 'VERB'), ('followed', 'VERB'), ('friendly', 'ADJ'), ('offers', 'NOUN'), ('with', 'ADP'), ('a', 'DET'), ('hostile', 'NOUN'), ('tender', 'NOUN'), ('offer', 'NOUN'), ('.', '.'), ('Since', 'ADP'), ('then', 'ADV'), (',', '.'), ('a', 'DET'), ('team', 'NOUN'), ('of', 'ADP'), ('about', 'ADV'), ('15', 'NUM'), ('MITI', 'NOUN'), ('and', 'CONJ'), ('U.S.', 'NOUN'), ('Commerce', 'NOUN'), ('Department', 'NOUN'), ('officials', 'NOUN'), ('have', 'VERB'), ('crossed', 'VERB'), ('the', 'DET'), ('globe', 'NOUN'), ('*-1', 'X'), ('gauging', 'VERB'), ('consumer', 'NOUN'), ('prices', 'NOUN'), ('.', '.'), ('The', 'DET'), ('yield', 'NOUN'), ('on', 'ADP'), ('six-month', 'ADJ'), ('Treasury', 'NOUN'), ('bills', 'NOUN'), ('sold', 'VERB'), ('*', 'X'), ('at', 'ADP'), ('Monday', 'NOUN'), (\"'s\", 'PRT'), ('auction', 'NOUN'), (',', '.'), ('for', 'ADP'), ('example', 'NOUN'), (',', '.'), ('rose', 'VERB'), ('to', 'PRT'), ('8.04', 'NUM'), ('%', 'NOUN'), ('from', 'ADP'), ('7.90', 'NUM'), ('%', 'NOUN'), ('.', '.'), ('U.S.', 'NOUN'), ('stock-index', 'NOUN'), ('futures', 'NOUN'), ('are', 'VERB'), (\"n't\", 'ADV'), ('even', 'ADV'), ('traded', 'VERB'), ('*-1', 'X'), ('in', 'ADP'), ('Japan', 'NOUN'), ('now', 'ADV'), ('.', '.'), ('Like', 'ADP'), ('other', 'ADJ'), ('forms', 'NOUN'), ('of', 'ADP'), ('arbitrage', 'NOUN'), (',', '.'), ('it', 'PRON'), ('merely', 'ADV'), ('seeks', 'VERB'), ('*-1', 'X'), ('to', 'PRT'), ('take', 'VERB'), ('advantage', 'NOUN'), ('of', 'ADP'), ('momentary', 'ADJ'), ('discrepancies', 'NOUN'), ('in', 'ADP'), ('the', 'DET'), ('price', 'NOUN'), ('of', 'ADP'), ('a', 'DET'), ('single', 'ADJ'), ('product', 'NOUN'), ('--', '.'), ('in', 'ADP'), ('this', 'DET'), ('case', 'NOUN'), (',', '.'), ('a', 'DET'), ('basket', 'NOUN'), ('of', 'ADP'), ('stocks', 'NOUN'), ('--', '.'), ('in', 'ADP'), ('different', 'ADJ'), ('markets', 'NOUN'), ('--', '.'), ('in', 'ADP'), ('this', 'DET'), ('case', 'NOUN'), ('the', 'DET'), ('New', 'NOUN'), ('York', 'NOUN'), ('Stock', 'NOUN'), ('Exchange', 'NOUN'), ('and', 'CONJ'), ('the', 'DET'), ('Chicago', 'NOUN'), ('futures', 'NOUN'), ('markets', 'NOUN'), ('.', '.'), ('Says', 'VERB'), ('*ICH*-1', 'X'), ('Mr.', 'NOUN'), ('Sale', 'NOUN'), (':', '.'), ('``', '.'), ('I', 'PRON'), ('think', 'VERB'), ('0', 'X'), ('more', 'ADJ'), ('banks', 'NOUN'), ('are', 'VERB'), ('starting', 'VERB'), ('*-2', 'X'), ('to', 'PRT'), ('realize', 'VERB'), ('that', 'ADP'), ('we', 'PRON'), ('have', 'VERB'), ('*-3', 'X'), ('to', 'PRT'), ('be', 'VERB'), ('more', 'ADJ'), ('like', 'ADP'), ('the', 'DET'), ('department', 'NOUN'), ('store', 'NOUN'), (',', '.'), ('not', 'ADV'), ('the', 'DET'), ('boutique', 'NOUN'), ('.', '.'), (\"''\", '.'), ('These', 'DET'), ('prices', 'NOUN'), ('seem', 'VERB'), ('rather', 'ADV'), ('modest', 'ADJ'), (',', '.'), ('however', 'ADV'), (',', '.'), ('in', 'ADP'), ('light', 'NOUN'), ('of', 'ADP'), ('other', 'ADJ'), ('French', 'ADJ'), ('wines', 'NOUN'), ('from', 'ADP'), ('current', 'ADJ'), ('vintages', 'NOUN'), ('.', '.'), ('The', 'DET'), ('Treasury', 'NOUN'), ('said', 'VERB'), ('0', 'X'), ('it', 'PRON'), ('needs', 'VERB'), ('*-1', 'X'), ('to', 'PRT'), ('raise', 'VERB'), ('$', '.'), ('47.5', 'NUM'), ('billion', 'NUM'), ('*U*', 'X'), ('in', 'ADP'), ('the', 'DET'), ('current', 'ADJ'), ('quarter', 'NOUN'), ('in', 'ADP'), ('order', 'NOUN'), ('*-1', 'X'), ('to', 'PRT'), ('end', 'VERB'), ('December', 'NOUN'), ('with', 'ADP'), ('a', 'DET'), ('$', '.'), ('20', 'NUM'), ('billion', 'NUM'), ('*U*', 'X'), ('cash', 'NOUN'), ('balance', 'NOUN'), ('.', '.'), ('Year', 'NOUN'), ('ended', 'VERB'), ('Dec.', 'NOUN'), ('31', 'NUM'), (',', '.'), ('1988', 'NUM'), (':', '.'), ('Net', 'ADJ'), ('income', 'NOUN'), (':', '.'), ('$', '.'), ('65', 'NUM'), ('million', 'NUM'), ('*U*', 'X'), (';', '.'), ('or', 'CONJ'), ('$', '.'), ('1.49', 'NUM'), ('*U*', 'X'), ('a', 'DET'), ('share', 'NOUN')]\n"
     ]
    }
   ],
   "source": [
    "print(\"Time taken in seconds: \", difference)\n",
    "print('Tagged_Seq:\\n')\n",
    "print(tagged_seq)\n",
    "print('\\n')\n",
    "print('test_run_base:\\n')\n",
    "print(test_run_base)"
   ]
  },
  {
   "cell_type": "code",
   "execution_count": 78,
   "metadata": {},
   "outputs": [],
   "source": [
    "# accuracy\n",
    "check = [i for i, j in zip(tagged_seq, test_run_base) if i == j] "
   ]
  },
  {
   "cell_type": "code",
   "execution_count": 79,
   "metadata": {},
   "outputs": [],
   "source": [
    "accuracy = len(check)/len(tagged_seq)"
   ]
  },
  {
   "cell_type": "code",
   "execution_count": 80,
   "metadata": {},
   "outputs": [
    {
     "data": {
      "text/plain": [
       "0.9029835599756444"
      ]
     },
     "execution_count": 80,
     "metadata": {},
     "output_type": "execute_result"
    }
   ],
   "source": [
    "accuracy"
   ]
  },
  {
   "cell_type": "markdown",
   "metadata": {},
   "source": [
    "We could see accuracy is ~90%, approx 10% loss in accuracy is due to unknown words."
   ]
  },
  {
   "cell_type": "code",
   "execution_count": 81,
   "metadata": {},
   "outputs": [],
   "source": [
    "# Incorrect tagged words\n",
    "incorrect_tagged_cases = [[test_run_base[i-1],j] for i, j in enumerate(zip(tagged_seq, test_run_base)) if j[0]!=j[1]]"
   ]
  },
  {
   "cell_type": "code",
   "execution_count": 82,
   "metadata": {},
   "outputs": [
    {
     "data": {
      "text/plain": [
       "[[('a', 'DET'), (('bread-and-butter', 'PRT'), ('bread-and-butter', 'ADJ'))],\n",
       " [(',', '.'), (('less', 'ADJ'), ('less', 'ADV'))],\n",
       " [('less', 'ADV'), (('compelling', 'PRT'), ('compelling', 'ADJ'))],\n",
       " [('next', 'ADJ'), (('province', 'PRT'), ('province', 'NOUN'))],\n",
       " [(',', '.'), (('Fortune', 'PRT'), ('Fortune', 'NOUN'))],\n",
       " [('executives', 'NOUN'), (('drooled', 'PRT'), ('drooled', 'VERB'))],\n",
       " [('drooled', 'VERB'), (('like', 'VERB'), ('like', 'ADP'))],\n",
       " [('like', 'ADP'), (('schoolboys', 'PRT'), ('schoolboys', 'NOUN'))],\n",
       " [('the', 'DET'), (('autions', 'PRT'), ('autions', 'NOUN'))],\n",
       " [('be', 'VERB'), (('rescheduled', 'PRT'), ('rescheduled', 'VERB'))],\n",
       " [('rescheduled', 'VERB'), (('*-106', 'PRT'), ('*-106', 'X'))],\n",
       " [('*-1', 'X'), (('Encouraged', 'PRT'), ('Encouraged', 'ADJ'))],\n",
       " [('taught', 'VERB'), (('honor', 'VERB'), ('honor', 'NOUN'))],\n",
       " [('a', 'DET'), (('low-tech', 'PRT'), ('low-tech', 'ADJ'))],\n",
       " [('like', 'ADP'), (('plate', 'PRT'), ('plate', 'NOUN'))],\n",
       " [('can', 'VERB'), (('catch', 'NOUN'), ('catch', 'VERB'))],\n",
       " [(\"'s\", 'PRT'), (('fancy', 'PRT'), ('fancy', 'NOUN'))],\n",
       " [('a', 'DET'), (('strategic', 'PRT'), ('strategic', 'ADJ'))],\n",
       " [('strategic', 'ADJ'), (('fit', 'ADJ'), ('fit', 'NOUN'))],\n",
       " [('carried', 'VERB'), (('over', 'ADP'), ('over', 'PRT'))],\n",
       " [('apparently', 'ADV'), (('ignored', 'PRT'), ('ignored', 'VERB'))],\n",
       " [('Chilean', 'ADJ'), (('mine', 'NOUN'), ('mine', 'ADJ'))],\n",
       " [('*U*', 'X'), (('return', 'VERB'), ('return', 'NOUN'))],\n",
       " [('``', '.'), (('ai', 'PRT'), ('ai', 'VERB'))],\n",
       " [('considerable', 'ADJ'), (('skill', 'PRT'), ('skill', 'NOUN'))],\n",
       " [('.', '.'), (('Mortgage-Backed', 'PRT'), ('Mortgage-Backed', 'NOUN'))],\n",
       " [('Issues', 'NOUN'), (('Polls', 'PRT'), ('Polls', 'NOUN'))],\n",
       " [('star', 'NOUN'), (('Tatsunori', 'PRT'), ('Tatsunori', 'NOUN'))],\n",
       " [('Tatsunori', 'NOUN'), (('Hara', 'PRT'), ('Hara', 'NOUN'))],\n",
       " [('``', '.'), (('humble', 'PRT'), ('humble', 'ADJ'))],\n",
       " [(',', '.'), (('uncomplaining', 'PRT'), ('uncomplaining', 'ADJ'))],\n",
       " [(',', '.'), (('obedient', 'PRT'), ('obedient', 'ADJ'))],\n",
       " [('obedient', 'ADJ'), (('soul', 'PRT'), ('soul', 'NOUN'))],\n",
       " [('the', 'DET'), (('male', 'NOUN'), ('male', 'ADJ'))],\n",
       " [('*T*-2', 'X'), (('costs', 'NOUN'), ('costs', 'VERB'))],\n",
       " [('the', 'DET'), (('caller', 'PRT'), ('caller', 'NOUN'))],\n",
       " [('a', 'DET'), (('minute', 'ADJ'), ('minute', 'NOUN'))],\n",
       " [('by', 'ADP'), (('celebrity', 'PRT'), ('celebrity', 'NOUN'))],\n",
       " [('celebrity', 'NOUN'), (('chatter', 'PRT'), ('chatter', 'NOUN'))],\n",
       " [(',', '.'), (('horoscopes', 'PRT'), ('horoscopes', 'NOUN'))],\n",
       " [('but', 'CONJ'), (('much', 'ADV'), ('much', 'ADJ'))],\n",
       " [('your', 'PRON'), (('gut', 'PRT'), ('gut', 'NOUN'))],\n",
       " [('to', 'PRT'), (('292.32', 'PRT'), ('292.32', 'NUM'))],\n",
       " [('from', 'ADP'), (('263.07', 'PRT'), ('263.07', 'NUM'))],\n",
       " [('year', 'NOUN'), (('earlier', 'ADV'), ('earlier', 'ADJ'))],\n",
       " [('$', '.'), (('55-a-share', 'PRT'), ('55-a-share', 'ADJ'))],\n",
       " [('*U*', 'X'), (('bid', 'VERB'), ('bid', 'NOUN'))],\n",
       " [('bid', 'NOUN'), (('that', 'ADP'), ('that', 'DET'))],\n",
       " [(',', '.'), (('steps', 'NOUN'), ('steps', 'VERB'))],\n",
       " [('lower', 'ADJ'), (('Dutch', 'NOUN'), ('Dutch', 'ADJ'))],\n",
       " [('tax', 'NOUN'), (('outlay', 'PRT'), ('outlay', 'NOUN'))],\n",
       " [('average', 'ADJ'), (('8.19', 'PRT'), ('8.19', 'NUM'))],\n",
       " [('from', 'ADP'), (('8.22', 'PRT'), ('8.22', 'NUM'))],\n",
       " [('compound', 'NOUN'), (('yield', 'VERB'), ('yield', 'NOUN'))],\n",
       " [('average', 'ADJ'), (('8.53', 'PRT'), ('8.53', 'NUM'))],\n",
       " [('from', 'ADP'), (('8.56', 'PRT'), ('8.56', 'NUM'))],\n",
       " [('will', 'VERB'), (('climb', 'PRT'), ('climb', 'VERB'))],\n",
       " [('from', 'ADP'), (('566.54', 'PRT'), ('566.54', 'NUM'))],\n",
       " [('from', 'ADP'), (('28.53', 'PRT'), ('28.53', 'NUM'))],\n",
       " [('$', '.'), (('46.1', 'PRT'), ('46.1', 'NUM'))],\n",
       " [('$', '.'), (('1.85', 'PRT'), ('1.85', 'NUM'))],\n",
       " [('$', '.'), (('1.85', 'PRT'), ('1.85', 'NUM'))],\n",
       " [('way', 'NOUN'), (('sky', 'PRT'), ('sky', 'NOUN'))],\n",
       " [('sky', 'NOUN'), (('high', 'ADJ'), ('high', 'ADV'))],\n",
       " [('benefit', 'VERB'), (('agriculture', 'PRT'), ('agriculture', 'NOUN'))],\n",
       " [('Series', 'NOUN'), (('A-D', 'PRT'), ('A-D', 'NOUN'))],\n",
       " [('due', 'ADJ'), (('1991-1999', 'PRT'), ('1991-1999', 'NUM'))],\n",
       " [('.', '.'), (('Signs', 'PRT'), ('Signs', 'NOUN'))],\n",
       " [('a', 'DET'), (('slowing', 'NOUN'), ('slowing', 'VERB'))],\n",
       " [('.', '.'), (('Junk', 'PRT'), ('Junk', 'NOUN'))],\n",
       " [('who', 'PRON'), (('*T*-242', 'PRT'), ('*T*-242', 'X'))],\n",
       " [('*', 'X'), (('ordering', 'PRT'), ('ordering', 'VERB'))],\n",
       " [('The', 'DET'), (('unavailability', 'PRT'), ('unavailability', 'NOUN'))],\n",
       " [('the', 'DET'), (('more', 'ADJ'), ('more', 'ADV'))],\n",
       " [('visible', 'ADJ'), (('foundations', 'PRT'), ('foundations', 'NOUN'))],\n",
       " [('provide', 'VERB'), (('support', 'VERB'), ('support', 'NOUN'))],\n",
       " [('how', 'ADV'), (('much', 'ADV'), ('much', 'ADJ'))],\n",
       " [('.', '.'), (('Virtually', 'PRT'), ('Virtually', 'ADV'))],\n",
       " [('owns', 'VERB'), (('about', 'ADP'), ('about', 'PRT'))],\n",
       " [('shut', 'VERB'), (('down', 'ADV'), ('down', 'PRT'))],\n",
       " [('.', '.'), (('Compromises', 'PRT'), ('Compromises', 'NOUN'))],\n",
       " [('John', 'NOUN'), (('Milne', 'PRT'), ('Milne', 'NOUN'))],\n",
       " [('who', 'PRON'), (('*T*-158', 'PRT'), ('*T*-158', 'X'))],\n",
       " [('*T*-158', 'X'), (('retires', 'PRT'), ('retires', 'VERB'))],\n",
       " [('as', 'ADP'), (('Blue', 'PRT'), ('Blue', 'NOUN'))],\n",
       " [('Blue', 'NOUN'), (('Circle', 'PRT'), ('Circle', 'NOUN'))],\n",
       " [('of', 'ADP'), (('worries', 'VERB'), ('worries', 'NOUN'))],\n",
       " [('keeping', 'VERB'), (('closer', 'ADV'), ('closer', 'ADJ'))],\n",
       " [('closer', 'ADJ'), (('track', 'PRT'), ('track', 'NOUN'))],\n",
       " [('of', 'ADP'), (('achievement-test', 'PRT'), ('achievement-test', 'NOUN'))],\n",
       " [('booklets', 'NOUN'), (('next', 'ADP'), ('next', 'ADJ'))],\n",
       " [(\"'s\", 'PRT'), (('dislike', 'VERB'), ('dislike', 'NOUN'))],\n",
       " [('is', 'VERB'), (('echoed', 'PRT'), ('echoed', 'VERB'))],\n",
       " [('the', 'DET'), (('morale-damaging', 'PRT'), ('morale-damaging', 'ADJ'))],\n",
       " [('this', 'DET'), (('plaintive', 'PRT'), ('plaintive', 'ADJ'))],\n",
       " [(',', '.'), (('high-minded', 'PRT'), ('high-minded', 'ADJ'))],\n",
       " [('of', 'ADP'), (('assurance', 'PRT'), ('assurance', 'NOUN'))],\n",
       " [('*', 'X'), (('reading', 'NOUN'), ('reading', 'VERB'))],\n",
       " [('about', 'ADP'), (('sticky', 'PRT'), ('sticky', 'ADJ'))],\n",
       " [('sticky', 'ADJ'), (('fingers', 'PRT'), ('fingers', 'NOUN'))],\n",
       " [('and', 'CONJ'), (('sweaty', 'PRT'), ('sweaty', 'ADJ'))],\n",
       " [('been', 'VERB'), (('collecting', 'PRT'), ('collecting', 'VERB'))],\n",
       " [('customers', 'NOUN'), (('subject', 'NOUN'), ('subject', 'ADJ'))],\n",
       " [(\"n't\", 'ADV'), (('estimate', 'NOUN'), ('estimate', 'VERB'))],\n",
       " [('.', '.'), (('LSI', 'PRT'), ('LSI', 'NOUN'))],\n",
       " [('LSI', 'NOUN'), (('Logic', 'PRT'), ('Logic', 'NOUN'))],\n",
       " [('*U*', 'X'), (('third-quarter', 'NOUN'), ('third-quarter', 'ADJ'))],\n",
       " [('third-quarter', 'ADJ'), (('net', 'NOUN'), ('net', 'ADJ'))],\n",
       " [('charge', 'NOUN'), (('that', 'ADP'), ('that', 'DET'))],\n",
       " [('that', 'DET'), (('*T*-145', 'PRT'), ('*T*-145', 'X'))],\n",
       " [('continuing', 'VERB'),\n",
       "  (('industry-wide', 'PRT'), ('industry-wide', 'ADJ'))],\n",
       " [('in', 'ADP'), (('semiconductor', 'PRT'), ('semiconductor', 'NOUN'))],\n",
       " [('$', '.'), (('3.55', 'PRT'), ('3.55', 'NUM'))],\n",
       " [('$', '.'), (('1.4', 'PRT'), ('1.4', 'NUM'))],\n",
       " [('Coleman', 'NOUN'), (('counterattack', 'PRT'), ('counterattack', 'NOUN'))],\n",
       " [('a', 'DET'), (('close-up', 'PRT'), ('close-up', 'NOUN'))],\n",
       " [('in', 'ADP'), (('shadows', 'PRT'), ('shadows', 'NOUN'))],\n",
       " [('was', 'VERB'), (('recalling', 'PRT'), ('recalling', 'VERB'))],\n",
       " [('an', 'DET'), (('unpleasant', 'PRT'), ('unpleasant', 'ADJ'))],\n",
       " [('courtroom', 'NOUN'), (('ordeal', 'PRT'), ('ordeal', 'NOUN'))],\n",
       " [(',', '.'), (('industry-supported', 'PRT'), ('industry-supported', 'ADJ'))],\n",
       " [('Consumer', 'NOUN'), (('Confidence', 'PRT'), ('Confidence', 'NOUN'))],\n",
       " [('was', 'VERB'), (('116.4', 'PRT'), ('116.4', 'NUM'))],\n",
       " [('*-1', 'X'), (('barely', 'PRT'), ('barely', 'ADV'))],\n",
       " [('a', 'DET'), (('revised', 'PRT'), ('revised', 'VERB'))],\n",
       " [('revised', 'VERB'), (('116.3', 'PRT'), ('116.3', 'NUM'))],\n",
       " [('pick', 'VERB'), (('up', 'ADV'), ('up', 'PRT'))],\n",
       " [('the', 'DET'), (('slack', 'ADJ'), ('slack', 'NOUN'))],\n",
       " [('bill', 'NOUN'), (('draws', 'PRT'), ('draws', 'VERB'))],\n",
       " [('California', 'NOUN'), (('airplane', 'PRT'), ('airplane', 'NOUN'))],\n",
       " [('but', 'CONJ'), (('intriguing', 'PRT'), ('intriguing', 'ADJ'))],\n",
       " [('500', 'NUM'), (('railcar', 'PRT'), ('railcar', 'NOUN'))],\n",
       " [('railcar', 'NOUN'), (('platforms', 'PRT'), ('platforms', 'NOUN'))],\n",
       " [('to', 'PRT'), (('Trailer', 'PRT'), ('Trailer', 'NOUN'))],\n",
       " [('Trailer', 'NOUN'), (('Train', 'PRT'), ('Train', 'NOUN'))],\n",
       " [(',', '.'), (('1996', 'PRT'), ('1996', 'NUM'))],\n",
       " [('-LRB-', '.'), (('Schweiz', 'PRT'), ('Schweiz', 'NOUN'))],\n",
       " [('the', 'DET'), (('ornamental', 'PRT'), ('ornamental', 'ADJ'))],\n",
       " [('strong', 'ADJ'), (('enough', 'ADJ'), ('enough', 'ADV'))],\n",
       " [('*', 'X'), (('crashing', 'PRT'), ('crashing', 'VERB'))],\n",
       " [('stand', 'VERB'), (('up', 'ADV'), ('up', 'PRT'))],\n",
       " [('Japanese', 'ADJ'), (('plate', 'PRT'), ('plate', 'NOUN'))],\n",
       " [('not', 'ADV'), (('worth', 'ADP'), ('worth', 'ADJ'))],\n",
       " [('In', 'ADP'), (('early', 'ADJ'), ('early', 'ADV'))],\n",
       " [('$', '.'), (('374.19', 'PRT'), ('374.19', 'NUM'))],\n",
       " [('legislation', 'NOUN'), (('attempts', 'NOUN'), ('attempts', 'VERB'))],\n",
       " [('to', 'PRT'), (('strip', 'NOUN'), ('strip', 'VERB'))],\n",
       " [('*-1', 'X'), (('arrested', 'PRT'), ('arrested', 'VERB'))],\n",
       " [('the', 'DET'), (('unloaded', 'PRT'), ('unloaded', 'ADJ'))],\n",
       " [('unloaded', 'ADJ'), (('weight', 'PRT'), ('weight', 'NOUN'))],\n",
       " [(',', '.'), (('aims', 'PRT'), ('aims', 'VERB'))],\n",
       " [('large', 'ADJ'), (('burlap', 'PRT'), ('burlap', 'NOUN'))],\n",
       " [('burlap', 'NOUN'), (('sacks', 'PRT'), ('sacks', 'NOUN'))],\n",
       " [('huge', 'ADJ'), (('bin', 'PRT'), ('bin', 'NOUN'))],\n",
       " [(',', '.'), (('poured', 'PRT'), ('poured', 'VERB'))],\n",
       " [('poured', 'VERB'), (('in', 'ADP'), ('in', 'PRT'))],\n",
       " [('in', 'PRT'), (('cotton', 'PRT'), ('cotton', 'NOUN'))],\n",
       " [('and', 'CONJ'), (('acetate', 'PRT'), ('acetate', 'NOUN'))],\n",
       " [('and', 'CONJ'), (('mechanically', 'PRT'), ('mechanically', 'ADV'))],\n",
       " [('the', 'DET'), (('statue', 'PRT'), ('statue', 'NOUN'))],\n",
       " [('Thomas', 'NOUN'), (('Jefferson', 'PRT'), ('Jefferson', 'NOUN'))],\n",
       " [('Jefferson', 'NOUN'), (('dissolves', 'PRT'), ('dissolves', 'VERB'))],\n",
       " [('take', 'VERB'), (('away', 'ADV'), ('away', 'PRT'))],\n",
       " [('is', 'VERB'), (('incredible', 'PRT'), ('incredible', 'ADJ'))],\n",
       " [('*T*-1', 'X'), (('Walt', 'PRT'), ('Walt', 'NOUN'))],\n",
       " [('Walt', 'NOUN'), (('Haney', 'PRT'), ('Haney', 'NOUN'))],\n",
       " [('the', 'DET'), (('twindam', 'PRT'), ('twindam', 'NOUN'))],\n",
       " [('who', 'PRON'), (('*T*-132', 'PRT'), ('*T*-132', 'X'))],\n",
       " [(\"'s\", 'PRT'), (('grand', 'PRT'), ('grand', 'ADJ'))],\n",
       " [('are', 'VERB'), (('prohibited', 'PRT'), ('prohibited', 'VERB'))],\n",
       " [('of', 'ADP'), (('ethics', 'PRT'), ('ethics', 'NOUN'))],\n",
       " [('*-1', 'X'), (('disclosing', 'PRT'), ('disclosing', 'VERB'))],\n",
       " [('court', 'NOUN'), (('orders', 'NOUN'), ('orders', 'VERB'))],\n",
       " [('*-4', 'X'), (('committing', 'PRT'), ('committing', 'VERB'))],\n",
       " [('act', 'NOUN'), (('that', 'ADP'), ('that', 'DET'))],\n",
       " [('step', 'VERB'), (('up', 'ADV'), ('up', 'PRT'))],\n",
       " [('Japanese', 'ADJ'), (('juggernaut', 'PRT'), ('juggernaut', 'NOUN'))],\n",
       " [('forced', 'VERB'), (('*-158', 'PRT'), ('*-158', 'X'))],\n",
       " [('registered', 'VERB'), (('reps', 'PRT'), ('reps', 'NOUN'))],\n",
       " [('and', 'CONJ'), (('security-type', 'PRT'), ('security-type', 'ADJ'))],\n",
       " [('training', 'NOUN'), (('so', 'ADV'), ('so', 'ADP'))],\n",
       " [('stupid', 'ADJ'), (('mistakes', 'PRT'), ('mistakes', 'NOUN'))],\n",
       " [('the', 'DET'), (('delay', 'VERB'), ('delay', 'NOUN'))],\n",
       " [('was', 'VERB'), (('stripped', 'PRT'), ('stripped', 'VERB'))],\n",
       " [('the', 'DET'), (('Noriega', 'PRT'), ('Noriega', 'NOUN'))],\n",
       " [('Noriega', 'NOUN'), (('regime', 'PRT'), ('regime', 'NOUN'))],\n",
       " [('of', 'ADP'), (('30,537', 'PRT'), ('30,537', 'NUM'))],\n",
       " [('a', 'DET'), (('21-month', 'PRT'), ('21-month', 'ADJ'))],\n",
       " [('on', 'ADP'), (('cross-border', 'PRT'), ('cross-border', 'ADJ'))],\n",
       " [('of', 'ADP'), (('emigres', 'PRT'), ('emigres', 'NOUN'))],\n",
       " [('PC', 'NOUN'), (('contributors', 'PRT'), ('contributors', 'NOUN'))],\n",
       " [('the', 'DET'), (('vacancy', 'PRT'), ('vacancy', 'NOUN'))],\n",
       " [('Susan', 'NOUN'), (('Del', 'PRT'), ('Del', 'NOUN'))],\n",
       " [('Del', 'NOUN'), (('Signore', 'PRT'), ('Signore', 'NOUN'))],\n",
       " [('-RCB-', '.'), (('speculator', 'PRT'), ('speculator', 'NOUN'))],\n",
       " [(\"''\", '.'), (('Earlier', 'ADJ'), ('Earlier', 'ADV'))],\n",
       " [('of', 'ADP'), (('American', 'ADJ'), ('American', 'NOUN'))],\n",
       " [('from', 'ADP'), (('E.W.', 'PRT'), ('E.W.', 'NOUN'))],\n",
       " [('E.W.', 'NOUN'), (('Scripps', 'PRT'), ('Scripps', 'NOUN'))],\n",
       " [('Co.', 'NOUN'), (('next', 'ADP'), ('next', 'ADJ'))],\n",
       " [('The', 'DET'), (('Chinese', 'ADJ'), ('Chinese', 'NOUN'))],\n",
       " [('took', 'VERB'), (('aim', 'VERB'), ('aim', 'NOUN'))],\n",
       " [('``', '.'), (('sogo-shosha', 'PRT'), ('sogo-shosha', 'NOUN'))],\n",
       " [('the', 'DET'), (('Japanese', 'ADJ'), ('Japanese', 'NOUN'))],\n",
       " [('global', 'ADJ'), (('trading', 'NOUN'), ('trading', 'VERB'))],\n",
       " [(\"'s\", 'PRT'), (('firm', 'NOUN'), ('firm', 'ADJ'))],\n",
       " [('steady', 'ADJ'), (('opening', 'VERB'), ('opening', 'NOUN'))],\n",
       " [('also', 'ADV'), (('tempted', 'PRT'), ('tempted', 'VERB'))],\n",
       " [('``', '.'), (('Little', 'NOUN'), ('Little', 'ADJ'))],\n",
       " [('*-1', 'X'), (('wanting', 'PRT'), ('wanting', 'VERB'))],\n",
       " [('this', 'DET'), (('one', 'NUM'), ('one', 'NOUN'))],\n",
       " [('a', 'DET'), (('joint-venture', 'PRT'), ('joint-venture', 'ADJ'))],\n",
       " [('Mitsui', 'NOUN'), (('guided', 'PRT'), ('guided', 'VERB'))],\n",
       " [(\"'s\", 'PRT'), (('bureaucratic', 'PRT'), ('bureaucratic', 'ADJ'))],\n",
       " [('bureaucratic', 'ADJ'), (('maze', 'PRT'), ('maze', 'NOUN'))],\n",
       " [('a', 'DET'), (('timely', 'PRT'), ('timely', 'ADJ'))],\n",
       " [(\"'s\", 'PRT'), (('requests', 'PRT'), ('requests', 'NOUN'))],\n",
       " [('a', 'DET'), (('multitude', 'PRT'), ('multitude', 'NOUN'))],\n",
       " [('which', 'DET'), (('*T*-251', 'PRT'), ('*T*-251', 'X'))],\n",
       " [('by', 'ADP'), (('American', 'ADJ'), ('American', 'NOUN'))],\n",
       " [('The', 'DET'), (('Chinese', 'ADJ'), ('Chinese', 'NOUN'))],\n",
       " [('equally', 'ADV'), (('undiplomatic', 'PRT'), ('undiplomatic', 'ADJ'))],\n",
       " [('undiplomatic', 'ADJ'), (('fashion', 'PRT'), ('fashion', 'NOUN'))],\n",
       " [('*', 'X'), (('calculated', 'PRT'), ('calculated', 'VERB'))],\n",
       " [('International', 'NOUN'),\n",
       "  (('Perspective', 'PRT'), ('Perspective', 'NOUN'))],\n",
       " [(',', '.'), (('Geneva', 'PRT'), ('Geneva', 'NOUN'))],\n",
       " [('settled', 'VERB'), (('pre-1917', 'PRT'), ('pre-1917', 'ADJ'))],\n",
       " [('*-12', 'X'), (('back', 'PRT'), ('back', 'ADV'))],\n",
       " [('pharmaceutical', 'ADJ'),\n",
       "  (('compositions', 'PRT'), ('compositions', 'NOUN'))],\n",
       " [('cartilage', 'NOUN'), (('defects', 'PRT'), ('defects', 'NOUN'))],\n",
       " [('telephone', 'NOUN'), (('call', 'VERB'), ('call', 'NOUN'))],\n",
       " [('that', 'ADP'), (('whenever', 'PRT'), ('whenever', 'ADV'))],\n",
       " [('is', 'VERB'), (('redistributing', 'PRT'), ('redistributing', 'VERB'))],\n",
       " [('*', 'X'), (('influencing', 'PRT'), ('influencing', 'VERB'))],\n",
       " [(',', '.'), (('brokering', 'PRT'), ('brokering', 'VERB'))],\n",
       " [('The', 'DET'), (('Thai', 'PRT'), ('Thai', 'NOUN'))],\n",
       " [('Thai', 'NOUN'), (('cabinet', 'PRT'), ('cabinet', 'NOUN'))],\n",
       " [('Minister', 'NOUN'), (('Pramual', 'PRT'), ('Pramual', 'NOUN'))],\n",
       " [('Pramual', 'NOUN'), (('Sabhavasu', 'PRT'), ('Sabhavasu', 'NOUN'))],\n",
       " [('Sabhavasu', 'NOUN'), ((\"'s\", 'VERB'), (\"'s\", 'PRT'))],\n",
       " [('will', 'VERB'), (('rule', 'NOUN'), ('rule', 'VERB'))],\n",
       " [('-RCB-', '.'), (('Wellcome', 'PRT'), ('Wellcome', 'NOUN'))],\n",
       " [('to', 'PRT'), (('666', 'PRT'), ('666', 'NUM'))],\n",
       " [('good', 'ADJ'), (('match', 'VERB'), ('match', 'NOUN'))],\n",
       " [('with', 'ADP'), (('high-quality', 'PRT'), ('high-quality', 'ADJ'))],\n",
       " [('cash', 'NOUN'), (('flows', 'NOUN'), ('flows', 'VERB'))],\n",
       " [('small', 'ADJ'), (('American', 'NOUN'), ('American', 'ADJ'))],\n",
       " [('even', 'ADV'), (('marketing', 'VERB'), ('marketing', 'NOUN'))],\n",
       " [('marketing', 'NOUN'), (('help', 'VERB'), ('help', 'NOUN'))],\n",
       " [('prime', 'ADJ'), (('borrowing', 'NOUN'), ('borrowing', 'VERB'))],\n",
       " [('--', '.'), (('and', 'CONJ'), ('and', 'ADJ'))],\n",
       " [('having', 'VERB'), (('borrowed', 'PRT'), ('borrowed', 'VERB'))],\n",
       " [('rear-seat', 'NOUN'), (('lap', 'PRT'), ('lap', 'NOUN'))],\n",
       " [('them', 'PRON'), (('in', 'ADP'), ('in', 'PRT'))],\n",
       " [('it', 'PRON'), (('existed', 'PRT'), ('existed', 'VERB'))],\n",
       " [('$', '.'), (('20.5', 'PRT'), ('20.5', 'NUM'))],\n",
       " [('.', '.'), (('BRAMALEA', 'PRT'), ('BRAMALEA', 'NOUN'))],\n",
       " [('to', 'PRT'), (('issue', 'NOUN'), ('issue', 'VERB'))],\n",
       " [('US$', '.'), (('85.1', 'PRT'), ('85.1', 'NUM'))],\n",
       " [('of', 'ADP'), (('10.5', 'PRT'), ('10.5', 'NUM'))],\n",
       " [('a', 'DET'), (('Johnson-era', 'PRT'), ('Johnson-era', 'NOUN'))],\n",
       " [('creation', 'NOUN'), (('that', 'ADP'), ('that', 'DET'))],\n",
       " [('*T*-2', 'X'), (('mandates', 'PRT'), ('mandates', 'VERB'))],\n",
       " [('*-1', 'X'), (('noncompetitively', 'PRT'), ('noncompetitively', 'ADV'))],\n",
       " [(',', '.'), (('billed', 'PRT'), ('billed', 'VERB'))],\n",
       " [('``', '.'), (('The', 'DET'), ('The', 'NOUN'))],\n",
       " [('The', 'NOUN'), (('Practical', 'PRT'), ('Practical', 'NOUN'))],\n",
       " [('the', 'DET'), (('Environment', 'PRT'), ('Environment', 'NOUN'))],\n",
       " [('exchange', 'NOUN'), (('collateral', 'PRT'), ('collateral', 'NOUN'))],\n",
       " [('like', 'ADP'), (('Grgich', 'PRT'), ('Grgich', 'NOUN'))],\n",
       " [('Hills', 'NOUN'), (('Chardonnay', 'PRT'), ('Chardonnay', 'NOUN'))],\n",
       " [('slow', 'VERB'), (('down', 'ADV'), ('down', 'PRT'))],\n",
       " [('high-priced', 'ADJ'), (('red', 'NOUN'), ('red', 'ADJ'))],\n",
       " [('and', 'CONJ'), (('Chardonnays', 'PRT'), ('Chardonnays', 'NOUN'))],\n",
       " [('*U*', 'X'), (('range', 'VERB'), ('range', 'NOUN'))],\n",
       " [('of', 'ADP'), (('858,000', 'PRT'), ('858,000', 'NUM'))],\n",
       " [('.', '.'), (('Proper', 'PRT'), ('Proper', 'ADJ'))],\n",
       " [('Proper', 'ADJ'), (('English', 'NOUN'), ('English', 'ADJ'))],\n",
       " [('``', '.'), (('rounds', 'PRT'), ('rounds', 'NOUN'))],\n",
       " [('the', 'DET'), (('highest-pitched', 'PRT'), ('highest-pitched', 'ADJ'))],\n",
       " [('simple', 'ADJ'), (('descending', 'PRT'), ('descending', 'VERB'))],\n",
       " [(',', '.'), (('as', 'ADP'), ('as', 'ADV'))],\n",
       " [('the', 'DET'), (('annualized', 'PRT'), ('annualized', 'ADJ'))],\n",
       " [('standard', 'ADJ'), (('deviation', 'PRT'), ('deviation', 'NOUN'))],\n",
       " [('GAF', 'NOUN'), (('TRIAL', 'PRT'), ('TRIAL', 'NOUN'))],\n",
       " [('of', 'ADP'), (('two-letter', 'PRT'), ('two-letter', 'ADJ'))],\n",
       " [('two-letter', 'ADJ'), (('consonant', 'PRT'), ('consonant', 'ADJ'))],\n",
       " [('consonant', 'ADJ'), (('sounds', 'VERB'), ('sounds', 'NOUN'))],\n",
       " [('same', 'ADJ'), (('sounds', 'VERB'), ('sounds', 'NOUN'))],\n",
       " [('--', '.'), (('to', 'PRT'), ('to', 'ADP'))],\n",
       " [('the', 'DET'), (('exclusion', 'PRT'), ('exclusion', 'NOUN'))],\n",
       " [('other', 'ADJ'), (('sounds', 'VERB'), ('sounds', 'NOUN'))],\n",
       " [('Structural', 'NOUN'), (('Dynamics', 'PRT'), ('Dynamics', 'NOUN'))],\n",
       " [('which', 'DET'), (('*T*-143', 'PRT'), ('*T*-143', 'X'))],\n",
       " [('makes', 'VERB'), (('computer-aided', 'PRT'), ('computer-aided', 'ADJ'))],\n",
       " [('design', 'NOUN'), (('automation', 'PRT'), ('automation', 'NOUN'))],\n",
       " [('that', 'DET'), (('*T*-144', 'PRT'), ('*T*-144', 'X'))],\n",
       " [('engineering', 'NOUN'),\n",
       "  (('productivity', 'PRT'), ('productivity', 'NOUN'))],\n",
       " [('to', 'PRT'), (('falsify', 'PRT'), ('falsify', 'VERB'))],\n",
       " [('to', 'PRT'), (('export', 'NOUN'), ('export', 'VERB'))],\n",
       " [('the', 'DET'), (('1990-91', 'PRT'), ('1990-91', 'NUM'))],\n",
       " [('season', 'NOUN'), (('so', 'ADV'), ('so', 'ADP'))],\n",
       " [('for', 'ADP'), (('automobile', 'PRT'), ('automobile', 'NOUN'))],\n",
       " [('automobile', 'NOUN'), (('fuel', 'VERB'), ('fuel', 'NOUN'))],\n",
       " [('F.', 'NOUN'), (('Barrett', 'PRT'), ('Barrett', 'NOUN'))],\n",
       " [('chief', 'NOUN'), (('operating', 'NOUN'), ('operating', 'VERB'))],\n",
       " [('share', 'NOUN'), (('that', 'ADP'), ('that', 'DET'))],\n",
       " [('that', 'DET'), (('*T*-119', 'PRT'), ('*T*-119', 'X'))],\n",
       " [('*T*-119', 'X'), (('expires', 'PRT'), ('expires', 'VERB'))],\n",
       " [('.', '.'), (('PHOTOGRAPH', 'PRT'), ('PHOTOGRAPH', 'NOUN'))],\n",
       " [('PHOTOGRAPH', 'NOUN'), (('COLLECTING', 'PRT'), ('COLLECTING', 'NOUN'))],\n",
       " [('COLLECTING', 'NOUN'), (('gains', 'NOUN'), ('gains', 'VERB'))],\n",
       " [('month', 'NOUN'), (('before', 'ADP'), ('before', 'ADV'))],\n",
       " [(',', '.'), (('down', 'ADV'), ('down', 'ADP'))],\n",
       " [('from', 'ADP'), (('176.1', 'PRT'), ('176.1', 'NUM'))],\n",
       " [('get', 'VERB'), (('out', 'PRT'), ('out', 'ADP'))],\n",
       " [(\"'s\", 'PRT'), (('forecast', 'VERB'), ('forecast', 'NOUN'))],\n",
       " [('.', '.'), (('Wilbur', 'PRT'), ('Wilbur', 'NOUN'))],\n",
       " [('of', 'ADP'), (('Rothschild', 'PRT'), ('Rothschild', 'NOUN'))],\n",
       " [('might', 'VERB'), (('speed', 'NOUN'), ('speed', 'VERB'))],\n",
       " [('The', 'DET'), (('following', 'NOUN'), ('following', 'VERB'))],\n",
       " [('Stephanie', 'NOUN'), (('Veselich', 'PRT'), ('Veselich', 'NOUN'))],\n",
       " [('Veselich', 'NOUN'), (('Enright', 'PRT'), ('Enright', 'NOUN'))],\n",
       " [(',', '.'), (('Rolling', 'PRT'), ('Rolling', 'NOUN'))],\n",
       " [('$', '.'), (('11,762', 'PRT'), ('11,762', 'NUM'))],\n",
       " [(';', '.'), (('Stuart', 'PRT'), ('Stuart', 'NOUN'))],\n",
       " [('Lane', 'NOUN'), (('Russel', 'PRT'), ('Russel', 'NOUN'))],\n",
       " [(',', '.'), (('Glendale', 'PRT'), ('Glendale', 'NOUN'))],\n",
       " [('$', '.'), (('14,821', 'PRT'), ('14,821', 'NUM'))],\n",
       " [('Devon', 'NOUN'), (('Nilson', 'PRT'), ('Nilson', 'NOUN'))],\n",
       " [(',', '.'), (('Fountain', 'PRT'), ('Fountain', 'NOUN'))],\n",
       " [('$', '.'), (('82,389', 'PRT'), ('82,389', 'NUM'))],\n",
       " [('.', '.'), (('Altogether', 'PRT'), ('Altogether', 'ADV'))],\n",
       " [('eliminate', 'VERB'), (('266', 'PRT'), ('266', 'NUM'))],\n",
       " [(',', '.'), (('176', 'PRT'), ('176', 'NUM'))],\n",
       " [('look', 'VERB'), (('around', 'ADP'), ('around', 'PRT'))],\n",
       " [('or', 'CONJ'), (('accountants', 'PRT'), ('accountants', 'NOUN'))],\n",
       " [('nobody', 'NOUN'), (('blinks', 'PRT'), ('blinks', 'VERB'))],\n",
       " [('RMS', 'NOUN'), (('distributes', 'PRT'), ('distributes', 'VERB'))],\n",
       " [('and', 'CONJ'), (('produces', 'PRT'), ('produces', 'VERB'))],\n",
       " [('power', 'NOUN'), (('supplies', 'VERB'), ('supplies', 'NOUN'))],\n",
       " [('plastic', 'ADJ'), (('literature', 'PRT'), ('literature', 'NOUN'))],\n",
       " [('literature', 'NOUN'), (('displays', 'PRT'), ('displays', 'NOUN'))],\n",
       " [(',', '.'), (('Brent', 'PRT'), ('Brent', 'NOUN'))],\n",
       " [('Brent', 'NOUN'), (('Scowcroft', 'PRT'), ('Scowcroft', 'NOUN'))],\n",
       " [('on', 'ADP'), (('Saturday', 'PRT'), ('Saturday', 'NOUN'))],\n",
       " [('with', 'ADP'), (('WFRR', 'PRT'), ('WFRR', 'NOUN'))],\n",
       " [('WFRR', 'NOUN'), (('L.P.', 'PRT'), ('L.P.', 'NOUN'))],\n",
       " [('and', 'CONJ'), (('GHKM', 'PRT'), ('GHKM', 'NOUN'))],\n",
       " [('$', '.'), (('273.5', 'PRT'), ('273.5', 'NUM'))],\n",
       " [('the', 'DET'), (('most', 'ADJ'), ('most', 'ADV'))],\n",
       " [('$', '.'), (('28.25', 'PRT'), ('28.25', 'NUM'))],\n",
       " [('first', 'ADJ'), (('travel-related', 'PRT'), ('travel-related', 'ADJ'))],\n",
       " [('was', 'VERB'), (('emotional', 'PRT'), ('emotional', 'ADJ'))],\n",
       " [('pursue', 'VERB'), (('unspecified', 'PRT'), ('unspecified', 'ADJ'))],\n",
       " [('organization', 'NOUN'), (('termed', 'PRT'), ('termed', 'VERB'))],\n",
       " [('``', '.'), (('amicable', 'PRT'), ('amicable', 'ADJ'))],\n",
       " [('read', 'VERB'), (('Mickey', 'PRT'), ('Mickey', 'NOUN'))],\n",
       " [('Mickey', 'NOUN'), (('Spillane', 'PRT'), ('Spillane', 'NOUN'))],\n",
       " [('about', 'ADP'), (('Groucho', 'PRT'), ('Groucho', 'NOUN'))],\n",
       " [('and', 'CONJ'), (('Harpo', 'PRT'), ('Harpo', 'NOUN'))],\n",
       " [('.', '.'), (('Marubeni', 'PRT'), ('Marubeni', 'NOUN'))],\n",
       " [('to', 'PRT'), (('890', 'PRT'), ('890', 'NUM'))],\n",
       " [('to', 'PRT'), (('reprove', 'PRT'), ('reprove', 'VERB'))],\n",
       " [(\"''\", '.'), (('Yet', 'CONJ'), ('Yet', 'ADV'))],\n",
       " [('the', 'DET'), (('executive', 'NOUN'), ('executive', 'ADJ'))],\n",
       " [('any', 'DET'), (('appropriation', 'PRT'), ('appropriation', 'NOUN'))],\n",
       " [('the', 'DET'), (('filling', 'VERB'), ('filling', 'NOUN'))],\n",
       " [('their', 'PRON'), (('toll', 'PRT'), ('toll', 'NOUN'))],\n",
       " [('the', 'DET'), (('leading', 'ADJ'), ('leading', 'VERB'))],\n",
       " [('unit', 'NOUN'), (('that', 'ADP'), ('that', 'DET'))],\n",
       " [('that', 'DET'), (('*T*-108', 'PRT'), ('*T*-108', 'X'))],\n",
       " [('which', 'DET'), (('*T*-109', 'PRT'), ('*T*-109', 'X'))],\n",
       " [('*T*-109', 'X'), (('later', 'ADJ'), ('later', 'ADV'))],\n",
       " [('not', 'ADV'), (('alike', 'PRT'), ('alike', 'ADV'))],\n",
       " [('out', 'PRT'), (('that', 'DET'), ('that', 'ADP'))],\n",
       " [('drugs', 'NOUN'), (('differently', 'PRT'), ('differently', 'ADV'))],\n",
       " [('different', 'ADJ'), (('warranties', 'PRT'), ('warranties', 'NOUN'))],\n",
       " [(\"n't\", 'ADV'), (('hospitable', 'PRT'), ('hospitable', 'ADJ'))],\n",
       " [('Business', 'NOUN'), (('Journals', 'PRT'), ('Journals', 'NOUN'))],\n",
       " [('will', 'VERB'), (('resign', 'PRT'), ('resign', 'VERB'))],\n",
       " [('than', 'ADP'), (('relocate', 'PRT'), ('relocate', 'NOUN'))],\n",
       " [('buyers', 'NOUN'), (('charge', 'NOUN'), ('charge', 'VERB'))],\n",
       " [('the', 'DET'), (('American', 'ADJ'), ('American', 'NOUN'))],\n",
       " [('procedure', 'NOUN'), (('that', 'ADP'), ('that', 'DET'))],\n",
       " [('to', 'PRT'), (('veto', 'NOUN'), ('veto', 'VERB'))],\n",
       " [('to', 'PRT'), (('scuttle', 'PRT'), ('scuttle', 'VERB'))],\n",
       " [('an', 'DET'), (('inspirational', 'PRT'), ('inspirational', 'ADJ'))],\n",
       " [('it', 'PRON'), (('all', 'DET'), ('all', 'ADV'))],\n",
       " [('*T*-1', 'X'), (('Laura', 'PRT'), ('Laura', 'NOUN'))],\n",
       " [('Laura', 'NOUN'), (('Dobson', 'PRT'), ('Dobson', 'NOUN'))],\n",
       " [('a', 'DET'), (('freshman', 'PRT'), ('freshman', 'NOUN'))],\n",
       " [('who', 'PRON'), (('*T*-90', 'PRT'), ('*T*-90', 'X'))],\n",
       " [('the', 'DET'), (('teacher-cadet', 'PRT'), ('teacher-cadet', 'ADJ'))],\n",
       " [('add', 'VERB'), (('two-sevenths', 'PRT'), ('two-sevenths', 'NOUN'))],\n",
       " [('and', 'CONJ'), (('three-sevenths', 'PRT'), ('three-sevenths', 'NOUN'))],\n",
       " [('Yeargin', 'NOUN'), (('distinguished', 'PRT'), ('distinguished', 'VERB'))],\n",
       " [('distinguished', 'VERB'), (('herself', 'PRT'), ('herself', 'PRON'))],\n",
       " [('teaching', 'NOUN'), (('approaches', 'PRT'), ('approaches', 'NOUN'))],\n",
       " [('*-1', 'X'), (('forcing', 'VERB'), ('forcing', 'ADJ'))],\n",
       " [('to', 'PRT'), (('pair', 'PRT'), ('pair', 'VERB'))],\n",
       " [('pair', 'VERB'), (('up', 'ADV'), ('up', 'PRT'))],\n",
       " [('using', 'VERB'), (('college-bowl', 'PRT'), ('college-bowl', 'NOUN'))],\n",
       " [('type', 'NOUN'), (('competitions', 'PRT'), ('competitions', 'NOUN'))],\n",
       " [('their', 'PRON'), (('farms', 'PRT'), ('farms', 'NOUN'))],\n",
       " [('And', 'CONJ'), (('unlike', 'ADJ'), ('unlike', 'ADP'))],\n",
       " [('The', 'DET'), (('FT', 'PRT'), ('FT', 'NOUN'))],\n",
       " [('FT', 'NOUN'), (('30-share', 'PRT'), ('30-share', 'ADJ'))],\n",
       " [('at', 'ADP'), (('1738.1', 'PRT'), ('1738.1', 'NUM'))],\n",
       " [('pay', 'VERB'), (('about', 'ADP'), ('about', 'ADV'))],\n",
       " [('$', '.'), (('77,000', 'PRT'), ('77,000', 'NUM'))],\n",
       " [('for', 'ADP'), (('free', 'ADJ'), ('free', 'ADV'))],\n",
       " [('said', 'VERB'), (('universally', 'PRT'), ('universally', 'ADV'))],\n",
       " [('was', 'VERB'), (('Irving', 'PRT'), ('Irving', 'NOUN'))],\n",
       " [('Louis', 'NOUN'), (('Lobsenz', 'PRT'), ('Lobsenz', 'NOUN'))],\n",
       " [('a', 'DET'), (('pediatrician', 'PRT'), ('pediatrician', 'NOUN'))],\n",
       " [('to', 'PRT'), (('Rusty', 'PRT'), ('Rusty', 'NOUN'))],\n",
       " [('master', 'NOUN'), (('gambler', 'PRT'), ('gambler', 'NOUN'))],\n",
       " [('on', 'ADP'), (('blackjack', 'PRT'), ('blackjack', 'NOUN'))],\n",
       " [('to', 'PRT'), (('crack', 'NOUN'), ('crack', 'VERB'))],\n",
       " [('crack', 'VERB'), (('that', 'ADP'), ('that', 'DET'))],\n",
       " [('.', '.'), (('Behind', 'PRT'), ('Behind', 'ADP'))],\n",
       " [('the', 'DET'), (('hoopla', 'PRT'), ('hoopla', 'NOUN'))],\n",
       " [('some', 'DET'), (('heavy-duty', 'PRT'), ('heavy-duty', 'ADJ'))],\n",
       " [('It', 'PRON'), (('shed', 'PRT'), ('shed', 'VERB'))],\n",
       " [('to', 'PRT'), (('tender', 'NOUN'), ('tender', 'VERB'))],\n",
       " [('or', 'CONJ'), (('more', 'ADJ'), ('more', 'ADV'))],\n",
       " [('must', 'VERB'), (('notify', 'PRT'), ('notify', 'VERB'))],\n",
       " [('*-1', 'X'), (('completing', 'PRT'), ('completing', 'VERB'))],\n",
       " [('remains', 'VERB'), (('cautiously', 'PRT'), ('cautiously', 'ADV'))],\n",
       " [('cautiously', 'ADV'), (('bearish', 'PRT'), ('bearish', 'ADJ'))],\n",
       " [('dealers', 'NOUN'), (('note', 'NOUN'), ('note', 'VERB'))],\n",
       " [('*-1', 'X'), (('underpin', 'PRT'), ('underpin', 'VERB'))],\n",
       " [('on', 'ADP'), (('64.5', 'PRT'), ('64.5', 'NUM'))],\n",
       " [(',', '.'), (('gilt', 'PRT'), ('gilt', 'ADJ'))],\n",
       " [('plunged', 'VERB'), (('more', 'ADV'), ('more', 'ADJ'))],\n",
       " [('*-1', 'X'), (('recovering', 'PRT'), ('recovering', 'VERB'))],\n",
       " [('.', '.'), (('PAPERS', 'PRT'), ('PAPERS', 'NOUN'))],\n",
       " [(':', '.'), (('CERTIFICATES', 'PRT'), ('CERTIFICATES', 'NOUN'))],\n",
       " [('OF', 'ADP'), (('DEPOSIT', 'PRT'), ('DEPOSIT', 'NOUN'))],\n",
       " [(';', '.'), (('8.06', 'PRT'), ('8.06', 'NUM'))],\n",
       " [(';', '.'), (('8.04', 'PRT'), ('8.04', 'NUM'))],\n",
       " [('publicly', 'ADV'), (('apologizing', 'PRT'), ('apologizing', 'VERB'))],\n",
       " [('*', 'X'), (('indulging', 'PRT'), ('indulging', 'VERB'))],\n",
       " [('``', '.'), (('Little', 'NOUN'), ('Little', 'ADV'))],\n",
       " [('by', 'ADP'), (('little', 'ADJ'), ('little', 'ADV'))],\n",
       " [('the', 'DET'), (('MITI', 'PRT'), ('MITI', 'NOUN'))],\n",
       " [('.', '.'), (('Hammacher', 'PRT'), ('Hammacher', 'NOUN'))],\n",
       " [('Hammacher', 'NOUN'), (('Schlemmer', 'PRT'), ('Schlemmer', 'NOUN'))],\n",
       " [('a', 'DET'), (('fiber-optic', 'PRT'), ('fiber-optic', 'ADJ'))],\n",
       " [('fiber-optic', 'ADJ'), (('Christmas', 'PRT'), ('Christmas', 'NOUN'))],\n",
       " [('tree', 'NOUN'), (('that', 'ADP'), ('that', 'DET'))],\n",
       " [('to', 'PRT'), (('string', 'PRT'), ('string', 'VERB'))],\n",
       " [('law', 'NOUN'), (('defines', 'PRT'), ('defines', 'VERB'))],\n",
       " [('unusual', 'ADJ'), (('write-downs', 'PRT'), ('write-downs', 'NOUN'))],\n",
       " [('$', '.'), (('4.9', 'PRT'), ('4.9', 'NUM'))],\n",
       " [('for', 'ADP'), (('sure', 'ADJ'), ('sure', 'ADV'))],\n",
       " [('reached', 'VERB'), (('*-157', 'PRT'), ('*-157', 'X'))],\n",
       " [('be', 'VERB'), (('worth', 'ADP'), ('worth', 'ADJ'))],\n",
       " [('worth', 'ADJ'), (('more', 'ADJ'), ('more', 'ADV'))],\n",
       " [('broken', 'VERB'), (('up', 'ADV'), ('up', 'PRT'))],\n",
       " [('a', 'DET'), (('civil', 'PRT'), ('civil', 'ADJ'))],\n",
       " [('internal', 'ADJ'),\n",
       "  (('contradictions', 'PRT'), ('contradictions', 'NOUN'))],\n",
       " [('and', 'CONJ'), (('pitting', 'PRT'), ('pitting', 'VERB'))],\n",
       " [('a', 'DET'), (('hostile', 'ADJ'), ('hostile', 'NOUN'))],\n",
       " [('of', 'ADP'), (('about', 'ADP'), ('about', 'ADV'))],\n",
       " [('15', 'NUM'), (('MITI', 'PRT'), ('MITI', 'NOUN'))],\n",
       " [('have', 'VERB'), (('crossed', 'PRT'), ('crossed', 'VERB'))],\n",
       " [('*-1', 'X'), (('gauging', 'PRT'), ('gauging', 'VERB'))],\n",
       " [('to', 'PRT'), (('8.04', 'PRT'), ('8.04', 'NUM'))],\n",
       " [('of', 'ADP'), (('momentary', 'PRT'), ('momentary', 'ADJ'))],\n",
       " [('0', 'X'), (('more', 'ADV'), ('more', 'ADJ'))],\n",
       " [('be', 'VERB'), (('more', 'ADV'), ('more', 'ADJ'))],\n",
       " [('department', 'NOUN'), (('store', 'VERB'), ('store', 'NOUN'))],\n",
       " [('the', 'DET'), (('boutique', 'PRT'), ('boutique', 'NOUN'))],\n",
       " [('in', 'ADP'), (('light', 'ADJ'), ('light', 'NOUN'))],\n",
       " [('$', '.'), (('47.5', 'PRT'), ('47.5', 'NUM'))],\n",
       " [('$', '.'), (('1.49', 'PRT'), ('1.49', 'NUM'))]]"
      ]
     },
     "execution_count": 82,
     "metadata": {},
     "output_type": "execute_result"
    }
   ],
   "source": [
    "incorrect_tagged_cases"
   ]
  },
  {
   "cell_type": "markdown",
   "metadata": {},
   "source": [
    "Unkown words are moslty tagged with 'PRT' POS, since 'PRT' is the first POS. Like  the words province, schoolboys, plate are tagged with 'PRT' POS."
   ]
  },
  {
   "cell_type": "markdown",
   "metadata": {},
   "source": [
    "### POS Tagging on the test set Using original Viterbi Algorithm"
   ]
  },
  {
   "cell_type": "code",
   "execution_count": 149,
   "metadata": {},
   "outputs": [],
   "source": [
    "## Testing\n",
    "#Reading the text file provided in the given assignment.\n",
    "\n",
    "with open('Test_sentences.txt') as f:\n",
    "    sentence_test  = f.read()\n",
    "\n",
    "words = word_tokenize(sentence_test)\n",
    "start = time.time()\n",
    "tagged_seq01 = Viterbi(words)\n",
    "end = time.time()\n",
    "difference = end-start"
   ]
  },
  {
   "cell_type": "code",
   "execution_count": 150,
   "metadata": {},
   "outputs": [
    {
     "name": "stdout",
     "output_type": "stream",
     "text": [
      "[('Android', 'PRT'), ('is', 'VERB'), ('a', 'DET'), ('mobile', 'ADJ'), ('operating', 'NOUN'), ('system', 'NOUN'), ('developed', 'VERB'), ('by', 'ADP'), ('Google', 'PRT'), ('.', '.'), ('Android', 'PRT'), ('has', 'VERB'), ('been', 'VERB'), ('the', 'DET'), ('best-selling', 'ADJ'), ('OS', 'PRT'), ('worldwide', 'PRT'), ('on', 'ADP'), ('smartphones', 'PRT'), ('since', 'ADP'), ('2011', 'PRT'), ('and', 'CONJ'), ('on', 'ADP'), ('tablets', 'NOUN'), ('since', 'ADP'), ('2013', 'PRT'), ('.', '.'), ('Google', 'PRT'), ('and', 'CONJ'), ('Twitter', 'PRT'), ('made', 'VERB'), ('a', 'DET'), ('deal', 'NOUN'), ('in', 'ADP'), ('2015', 'PRT'), ('that', 'DET'), ('gave', 'VERB'), ('Google', 'PRT'), ('access', 'NOUN'), ('to', 'PRT'), ('Twitter', 'PRT'), (\"'s\", 'VERB'), ('firehose', 'PRT'), ('.', '.'), ('Twitter', 'PRT'), ('is', 'VERB'), ('an', 'DET'), ('online', 'PRT'), ('news', 'NOUN'), ('and', 'CONJ'), ('social', 'ADJ'), ('networking', 'NOUN'), ('service', 'NOUN'), ('on', 'ADP'), ('which', 'DET'), ('users', 'NOUN'), ('post', 'NOUN'), ('and', 'CONJ'), ('interact', 'PRT'), ('with', 'ADP'), ('messages', 'PRT'), ('known', 'VERB'), ('as', 'ADP'), ('tweets', 'PRT'), ('.', '.'), ('Before', 'ADP'), ('entering', 'VERB'), ('politics', 'NOUN'), (',', '.'), ('Donald', 'NOUN'), ('Trump', 'NOUN'), ('was', 'VERB'), ('a', 'DET'), ('domineering', 'PRT'), ('businessman', 'NOUN'), ('and', 'CONJ'), ('a', 'DET'), ('television', 'NOUN'), ('personality', 'PRT'), ('.', '.'), ('The', 'DET'), ('2018', 'PRT'), ('FIFA', 'PRT'), ('World', 'NOUN'), ('Cup', 'PRT'), ('is', 'VERB'), ('the', 'DET'), ('21st', 'PRT'), ('FIFA', 'PRT'), ('World', 'NOUN'), ('Cup', 'PRT'), (',', '.'), ('an', 'DET'), ('international', 'ADJ'), ('football', 'NOUN'), ('tournament', 'PRT'), ('contested', 'PRT'), ('once', 'ADV'), ('every', 'DET'), ('four', 'NUM'), ('years', 'NOUN'), ('.', '.'), ('This', 'DET'), ('is', 'VERB'), ('the', 'DET'), ('first', 'ADJ'), ('World', 'NOUN'), ('Cup', 'PRT'), ('to', 'PRT'), ('be', 'VERB'), ('held', 'VERB'), ('in', 'ADP'), ('Eastern', 'NOUN'), ('Europe', 'NOUN'), ('and', 'CONJ'), ('the', 'DET'), ('11th', 'ADJ'), ('time', 'NOUN'), ('that', 'ADP'), ('it', 'PRON'), ('has', 'VERB'), ('been', 'VERB'), ('held', 'VERB'), ('in', 'ADP'), ('Europe', 'NOUN'), ('.', '.'), ('Show', 'NOUN'), ('me', 'PRON'), ('the', 'DET'), ('cheapest', 'ADJ'), ('round', 'NOUN'), ('trips', 'PRT'), ('from', 'ADP'), ('Dallas', 'NOUN'), ('to', 'PRT'), ('Atlanta', 'NOUN'), ('I', 'PRON'), ('would', 'VERB'), ('like', 'ADP'), ('to', 'PRT'), ('see', 'VERB'), ('flights', 'NOUN'), ('from', 'ADP'), ('Denver', 'NOUN'), ('to', 'PRT'), ('Philadelphia', 'NOUN'), ('.', '.'), ('Show', 'NOUN'), ('me', 'PRON'), ('the', 'DET'), ('price', 'NOUN'), ('of', 'ADP'), ('the', 'DET'), ('flights', 'NOUN'), ('leaving', 'VERB'), ('Atlanta', 'NOUN'), ('at', 'ADP'), ('about', 'ADP'), ('3', 'NUM'), ('in', 'ADP'), ('the', 'DET'), ('afternoon', 'NOUN'), ('and', 'CONJ'), ('arriving', 'PRT'), ('in', 'ADP'), ('San', 'NOUN'), ('Francisco', 'NOUN'), ('.', '.'), ('NASA', 'PRT'), ('invited', 'PRT'), ('social', 'ADJ'), ('media', 'NOUN'), ('users', 'NOUN'), ('to', 'PRT'), ('experience', 'NOUN'), ('the', 'DET'), ('launch', 'NOUN'), ('of', 'ADP'), ('ICESAT-2', 'PRT'), ('Satellite', 'PRT'), ('.', '.')]\n",
      "42.523908615112305\n"
     ]
    }
   ],
   "source": [
    "print(tagged_seq01)\n",
    "print(difference)"
   ]
  },
  {
   "cell_type": "markdown",
   "metadata": {},
   "source": [
    "Here, we could see most of the unknown words like Android, Google, Twitter etc are tagged with \"PRT\", since this is the first tag."
   ]
  },
  {
   "cell_type": "markdown",
   "metadata": {},
   "source": [
    "### Solving the problem of unknown words"
   ]
  },
  {
   "cell_type": "markdown",
   "metadata": {},
   "source": [
    "#### Approach 1: Modified Viterbi Heuristic algorithm. Since most commonn tag in the corpus is NOUN,  Tagging the words which are not in the corpus with most common tag i.e 'NOUN'"
   ]
  },
  {
   "cell_type": "code",
   "execution_count": 85,
   "metadata": {},
   "outputs": [],
   "source": [
    "# Approach 1: Modified Viterbi Heuristic algorithm. Since most commonn tag in the corpus is NOUN,  \n",
    "# Tagging the words which are not in the corpus with most common tag i.e 'NOUN'\n",
    "\n",
    "def Viterbi_1(words, train_bag = train_tagged_words):\n",
    "    state = []\n",
    "    T = list(set([pair[1] for pair in train_bag]))\n",
    "    \n",
    "    for key, word in enumerate(words):\n",
    "        #initialise list of probability column for a given observation\n",
    "        p = [] \n",
    "        for tag in T:\n",
    "            if key == 0:\n",
    "                transition_p = tags_df.loc['.', tag]\n",
    "            else:\n",
    "                transition_p = tags_df.loc[state[-1], tag]\n",
    "                \n",
    "            # compute emission and state probabilities\n",
    "            emission_p = word_given_tag(words[key], tag)[0]/word_given_tag(words[key], tag)[1]\n",
    "            state_probability = emission_p * transition_p    \n",
    "            p.append(state_probability)\n",
    "            \n",
    "        pmax = max(p)\n",
    "        # getting state for which probability is maximum\n",
    "        if pmax == 0:\n",
    "            state.append('NOUN')\n",
    "        else: \n",
    "            state_max = T[p.index(pmax)] \n",
    "            state.append(state_max)\n",
    "    return list(zip(words, state))"
   ]
  },
  {
   "cell_type": "markdown",
   "metadata": {},
   "source": [
    "#### POS Tagging on the Validation dataset"
   ]
  },
  {
   "cell_type": "code",
   "execution_count": 91,
   "metadata": {},
   "outputs": [],
   "source": [
    "# tagging the test sentences\n",
    "start = time.time()\n",
    "tagged_seq1 = Viterbi_1(test_tagged_words)\n",
    "end = time.time()\n",
    "difference = end-start"
   ]
  },
  {
   "cell_type": "code",
   "execution_count": 92,
   "metadata": {},
   "outputs": [
    {
     "name": "stdout",
     "output_type": "stream",
     "text": [
      "Time taken in seconds:  965.7043826580048\n",
      "[('Few', 'ADJ'), ('people', 'NOUN'), ('think', 'VERB'), ('0', 'X'), ('Mr.', 'NOUN'), ('Spiegel', 'NOUN'), ('wants', 'VERB'), ('*-1', 'X'), ('to', 'PRT'), ('run', 'VERB'), ('a', 'DET'), ('bread-and-butter', 'NOUN'), ('thrift', 'NOUN'), (',', '.'), ('which', 'DET'), ('current', 'ADJ'), ('rules', 'NOUN'), ('would', 'VERB'), ('force', 'VERB'), ('Columbia', 'NOUN'), ('to', 'PRT'), ('become', 'VERB'), ('*T*-2', 'X'), ('.', '.'), ('Too', 'ADV'), ('often', 'ADV'), ('now', 'ADV'), (',', '.'), ('a', 'DET'), ('single', 'ADJ'), ('court', 'NOUN'), ('decision', 'NOUN'), ('becomes', 'VERB'), ('the', 'DET'), ('precedent', 'NOUN'), ('for', 'ADP'), ('other', 'ADJ'), (',', '.'), ('less', 'ADJ'), ('compelling', 'NOUN'), ('cases', 'NOUN'), ('.', '.'), ('The', 'DET'), ('next', 'ADJ'), ('province', 'NOUN'), ('?', '.'), ('After', 'ADP'), ('the', 'DET'), ('race', 'NOUN'), (',', '.'), ('Fortune', 'NOUN'), ('500', 'NUM'), ('executives', 'NOUN'), ('drooled', 'NOUN'), ('like', 'ADP'), ('schoolboys', 'NOUN'), ('over', 'ADP'), ('the', 'DET'), ('cars', 'NOUN'), ('and', 'CONJ'), ('drivers', 'NOUN'), ('.', '.'), ('Michael', 'NOUN'), ('Basham', 'NOUN'), (',', '.'), ('deputy', 'NOUN'), ('assistant', 'NOUN'), ('secretary', 'NOUN'), ('for', 'ADP'), ('federal', 'ADJ'), ('finance', 'NOUN'), (',', '.'), ('said', 'VERB'), ('0', 'X'), ('the', 'DET'), ('Treasury', 'NOUN'), ('may', 'VERB'), ('wait', 'VERB'), ('until', 'ADP'), ('late', 'ADJ'), ('Monday', 'NOUN'), ('or', 'CONJ'), ('even', 'ADV'), ('early', 'ADJ'), ('Tuesday', 'NOUN'), ('*-2', 'X'), ('to', 'PRT'), ('announce', 'VERB'), ('whether', 'ADP'), ('the', 'DET'), ('autions', 'NOUN'), ('are', 'VERB'), ('*-1', 'X'), ('to', 'PRT'), ('be', 'VERB'), ('rescheduled', 'NOUN'), ('*-106', 'NOUN'), ('.', '.'), ('*-1', 'X'), ('Encouraged', 'NOUN'), ('*-2', 'X'), ('by', 'ADP'), ('Mrs.', 'NOUN'), ('Ward', 'NOUN'), (',', '.'), ('Mrs.', 'NOUN'), ('Yeargin', 'NOUN'), ('taught', 'VERB'), ('honor', 'VERB'), ('students', 'NOUN'), ('in', 'ADP'), ('the', 'DET'), ('state', 'NOUN'), ('``', '.'), ('teacher', 'NOUN'), ('cadet', 'NOUN'), (\"''\", '.'), ('program', 'NOUN'), (',', '.'), ('a', 'DET'), ('reform', 'NOUN'), ('creation', 'NOUN'), ('designed', 'VERB'), ('*', 'X'), ('*-3', 'X'), ('to', 'PRT'), ('encourage', 'VERB'), ('good', 'ADJ'), ('students', 'NOUN'), ('to', 'PRT'), ('consider', 'VERB'), ('teaching', 'NOUN'), ('as', 'ADP'), ('a', 'DET'), ('career', 'NOUN'), ('.', '.'), ('Even', 'ADV'), ('a', 'DET'), ('low-tech', 'NOUN'), ('product', 'NOUN'), ('like', 'ADP'), ('plate', 'NOUN'), ('glass', 'NOUN'), ('can', 'VERB'), ('catch', 'NOUN'), ('a', 'DET'), ('trading', 'NOUN'), ('company', 'NOUN'), (\"'s\", 'PRT'), ('fancy', 'NOUN'), ('if', 'ADP'), ('there', 'DET'), (\"'s\", 'VERB'), ('a', 'DET'), ('strategic', 'NOUN'), ('fit', 'NOUN'), ('.', '.'), ('Buying', 'VERB'), ('for', 'ADP'), ('the', 'DET'), ('most', 'ADJ'), ('part', 'NOUN'), ('carried', 'VERB'), ('over', 'ADP'), ('from', 'ADP'), ('the', 'DET'), ('previous', 'ADJ'), ('session', 'NOUN'), (',', '.'), ('and', 'CONJ'), ('traders', 'NOUN'), ('apparently', 'ADV'), ('ignored', 'NOUN'), ('reports', 'NOUN'), ('that', 'ADP'), ('a', 'DET'), ('Chilean', 'ADJ'), ('mine', 'NOUN'), ('strike', 'NOUN'), ('may', 'VERB'), ('have', 'VERB'), ('ended', 'VERB'), ('almost', 'ADV'), ('before', 'ADP'), ('it', 'PRON'), ('began', 'VERB'), (',', '.'), ('an', 'DET'), ('analyst', 'NOUN'), ('said', 'VERB'), ('0', 'X'), ('*T*-1', 'X'), ('.', '.'), ('A', 'DET'), ('1', 'NUM'), ('%', 'NOUN'), ('to', 'PRT'), ('2', 'NUM'), ('%', 'NOUN'), ('*U*', 'X'), ('return', 'VERB'), ('on', 'ADP'), ('$', '.'), ('17', 'NUM'), ('billion', 'NUM'), ('*U*', 'X'), ('``', '.'), ('ai', 'NOUN'), (\"n't\", 'ADV'), ('hay', 'NOUN'), (',', '.'), (\"''\", '.'), ('Mr.', 'NOUN'), ('Klauser', 'NOUN'), ('says', 'VERB'), ('0', 'X'), ('*T*-1', 'X'), ('.', '.'), ('Such', 'ADJ'), ('problems', 'NOUN'), ('will', 'VERB'), ('require', 'VERB'), ('considerable', 'ADJ'), ('skill', 'NOUN'), ('*', 'X'), ('to', 'PRT'), ('resolve', 'VERB'), ('.', '.'), ('Mortgage-Backed', 'NOUN'), ('Issues', 'NOUN'), ('Polls', 'NOUN'), ('once', 'ADV'), ('named', 'VERB'), ('Tokyo', 'NOUN'), ('Giants', 'NOUN'), ('star', 'NOUN'), ('Tatsunori', 'NOUN'), ('Hara', 'NOUN'), (',', '.'), ('a', 'DET'), ('``', '.'), ('humble', 'NOUN'), (',', '.'), ('uncomplaining', 'NOUN'), (',', '.'), ('obedient', 'NOUN'), ('soul', 'NOUN'), (',', '.'), (\"''\", '.'), ('as', 'ADP'), ('the', 'DET'), ('male', 'NOUN'), ('symbol', 'NOUN'), ('of', 'ADP'), ('Japan', 'NOUN'), ('.', '.'), ('The', 'DET'), ('service', 'NOUN'), ('--', '.'), ('which', 'DET'), ('*T*-2', 'X'), ('costs', 'NOUN'), ('the', 'DET'), ('caller', 'NOUN'), ('from', 'ADP'), ('30', 'NUM'), ('cents', 'NOUN'), ('to', 'PRT'), ('$', '.'), ('25', 'NUM'), ('*U*', 'X'), ('a', 'DET'), ('minute', 'ADJ'), ('--', '.'), ('currently', 'ADV'), ('is', 'VERB'), ('dominated', 'VERB'), ('*-1', 'X'), ('by', 'ADP'), ('celebrity', 'NOUN'), ('chatter', 'NOUN'), (',', '.'), ('horoscopes', 'NOUN'), ('and', 'CONJ'), ('romance', 'NOUN'), ('lines', 'NOUN'), ('.', '.'), ('ENERGY', 'NOUN'), (':', '.'), ('Crude', 'ADJ'), ('oil', 'NOUN'), ('futures', 'NOUN'), ('prices', 'NOUN'), ('increased', 'VERB'), ('in', 'ADP'), ('moderate', 'ADJ'), ('trading', 'NOUN'), (',', '.'), ('but', 'CONJ'), ('much', 'ADV'), ('of', 'ADP'), ('the', 'DET'), ('action', 'NOUN'), ('was', 'VERB'), ('in', 'ADP'), ('heating', 'NOUN'), ('oil', 'NOUN'), ('.', '.'), ('Sometimes', 'ADV'), ('you', 'PRON'), ('just', 'ADV'), ('go', 'VERB'), ('with', 'ADP'), ('your', 'PRON'), ('gut', 'NOUN'), ('.', '.'), (\"''\", '.'), ('Sales', 'NOUN'), ('rose', 'VERB'), ('11', 'NUM'), ('%', 'NOUN'), ('to', 'PRT'), ('292.32', 'NOUN'), ('billion', 'NUM'), ('yen', 'NOUN'), ('from', 'ADP'), ('263.07', 'NOUN'), ('billion', 'NUM'), ('yen', 'NOUN'), ('.', '.'), ('Transamerica', 'NOUN'), ('Corp.', 'NOUN'), (',', '.'), ('San', 'NOUN'), ('Francisco', 'NOUN'), (',', '.'), ('said', 'VERB'), ('0', 'X'), ('third-quarter', 'NOUN'), ('profit', 'NOUN'), ('was', 'VERB'), ('essentially', 'ADV'), ('flat', 'ADJ'), ('despite', 'ADP'), ('a', 'DET'), ('large', 'ADJ'), ('one-time', 'ADJ'), ('gain', 'NOUN'), ('a', 'DET'), ('year', 'NOUN'), ('earlier', 'ADV'), ('.', '.'), ('The', 'DET'), ('offer', 'NOUN'), (',', '.'), ('which', 'DET'), ('*T*-2', 'X'), ('follows', 'VERB'), ('a', 'DET'), ('$', '.'), ('55-a-share', 'NOUN'), ('*U*', 'X'), ('bid', 'VERB'), ('that', 'ADP'), ('*T*-3', 'X'), ('was', 'VERB'), ('rejected', 'VERB'), ('*-1', 'X'), ('in', 'ADP'), ('September', 'NOUN'), (',', '.'), ('steps', 'NOUN'), ('up', 'PRT'), ('pressure', 'NOUN'), ('on', 'ADP'), ('the', 'DET'), ('chemicals', 'NOUN'), ('concern', 'NOUN'), ('.', '.'), ('Also', 'ADV'), (',', '.'), ('substantially', 'ADV'), ('lower', 'ADJ'), ('Dutch', 'NOUN'), ('corporate', 'ADJ'), ('tax', 'NOUN'), ('rates', 'NOUN'), ('helped', 'VERB'), ('the', 'DET'), ('company', 'NOUN'), ('keep', 'VERB'), ('its', 'PRON'), ('tax', 'NOUN'), ('outlay', 'NOUN'), ('flat', 'ADJ'), ('relative', 'ADJ'), ('to', 'PRT'), ('earnings', 'NOUN'), ('growth', 'NOUN'), (',', '.'), ('the', 'DET'), ('company', 'NOUN'), ('added', 'VERB'), ('0', 'X'), ('*T*-1', 'X'), ('.', '.'), ('IBM', 'NOUN'), (',', '.'), ('the', 'DET'), ('world', 'NOUN'), ('leader', 'NOUN'), ('in', 'ADP'), ('computers', 'NOUN'), (',', '.'), ('did', 'VERB'), (\"n't\", 'ADV'), ('offer', 'VERB'), ('its', 'PRON'), ('first', 'ADJ'), ('PC', 'NOUN'), ('until', 'ADP'), ('August', 'NOUN'), ('1981', 'NUM'), ('as', 'ADP'), ('many', 'ADJ'), ('other', 'ADJ'), ('companies', 'NOUN'), ('entered', 'VERB'), ('the', 'DET'), ('market', 'NOUN'), ('.', '.'), ('The', 'DET'), ('30-day', 'ADJ'), ('simple', 'ADJ'), ('yield', 'NOUN'), ('fell', 'VERB'), ('to', 'PRT'), ('an', 'DET'), ('average', 'ADJ'), ('8.19', 'NOUN'), ('%', 'NOUN'), ('from', 'ADP'), ('8.22', 'NOUN'), ('%', 'NOUN'), (';', '.'), ('the', 'DET'), ('30-day', 'ADJ'), ('compound', 'NOUN'), ('yield', 'VERB'), ('slid', 'VERB'), ('to', 'PRT'), ('an', 'DET'), ('average', 'ADJ'), ('8.53', 'NOUN'), ('%', 'NOUN'), ('from', 'ADP'), ('8.56', 'NOUN'), ('%', 'NOUN'), ('.', '.'), ('Komatsu', 'NOUN'), ('predicted', 'VERB'), ('that', 'ADP'), ('for', 'ADP'), ('the', 'DET'), ('fiscal', 'ADJ'), ('year', 'NOUN'), ('ending', 'VERB'), ('March', 'NOUN'), ('31', 'NUM'), ('sales', 'NOUN'), ('will', 'VERB'), ('climb', 'NOUN'), ('to', 'PRT'), ('600', 'NUM'), ('billion', 'NUM'), ('yen', 'NOUN'), ('from', 'ADP'), ('566.54', 'NOUN'), ('billion', 'NUM'), ('yen', 'NOUN'), (';', '.'), ('pretax', 'NOUN'), ('profit', 'NOUN'), ('was', 'VERB'), ('forecast', 'VERB'), ('*-1', 'X'), ('at', 'ADP'), ('35', 'NUM'), ('billion', 'NUM'), ('yen', 'NOUN'), (',', '.'), ('up', 'ADV'), ('from', 'ADP'), ('28.53', 'NOUN'), ('billion', 'NUM'), ('yen', 'NOUN'), ('in', 'ADP'), ('fiscal', 'ADJ'), ('1989', 'NUM'), ('.', '.'), ('In', 'ADP'), ('the', 'DET'), ('third', 'ADJ'), ('quarter', 'NOUN'), (',', '.'), ('Georgia', 'NOUN'), ('Gulf', 'NOUN'), ('earned', 'VERB'), ('$', '.'), ('46.1', 'NOUN'), ('million', 'NUM'), ('*U*', 'X'), (',', '.'), ('or', 'CONJ'), ('$', '.'), ('1.85', 'NOUN'), ('*U*', 'X'), ('a', 'DET'), ('share', 'NOUN'), (',', '.'), ('down', 'ADV'), ('from', 'ADP'), ('$', '.'), ('53', 'NUM'), ('million', 'NUM'), ('*U*', 'X'), (',', '.'), ('or', 'CONJ'), ('$', '.'), ('1.85', 'NOUN'), ('*U*', 'X'), ('a', 'DET'), ('share', 'NOUN'), ('on', 'ADP'), ('fewer', 'ADJ'), ('shares', 'NOUN'), ('outstanding', 'ADJ'), ('.', '.'), ('On', 'ADP'), ('the', 'DET'), ('other', 'ADJ'), ('hand', 'NOUN'), (',', '.'), ('if', 'ADP'), ('it', 'PRON'), ('goes', 'VERB'), ('way', 'NOUN'), ('sky', 'NOUN'), ('high', 'ADJ'), (',', '.'), ('I', 'PRON'), ('always', 'ADV'), ('sell', 'VERB'), ('.', '.'), ('``', '.'), ('All', 'DET'), ('of', 'ADP'), ('these', 'DET'), ('forces', 'NOUN'), ('came', 'VERB'), ('together', 'ADV'), ('in', 'ADP'), ('1988', 'NUM'), ('*', 'X'), ('to', 'PRT'), ('benefit', 'VERB'), ('agriculture', 'NOUN'), (',', '.'), (\"''\", '.'), ('Mr.', 'NOUN'), ('Collins', 'NOUN'), ('said', 'VERB'), ('*T*-1', 'X'), ('.', '.'), ('$', '.'), ('107', 'NUM'), ('million', 'NUM'), ('*U*', 'X'), ('of', 'ADP'), ('tax', 'NOUN'), ('allocation', 'NOUN'), ('bonds', 'NOUN'), (',', '.'), ('1989', 'NUM'), ('Series', 'NOUN'), ('A-D', 'NOUN'), (',', '.'), ('due', 'ADJ'), ('1991-1999', 'NOUN'), (',', '.'), ('2009', 'NUM'), ('and', 'CONJ'), ('2019', 'NUM'), (',', '.'), ('tentatively', 'ADV'), ('priced', 'VERB'), ('*', 'X'), ('by', 'ADP'), ('a', 'DET'), ('Donaldson', 'NOUN'), ('Lufkin', 'NOUN'), ('&', 'CONJ'), ('Jenrette', 'NOUN'), ('Securities', 'NOUN'), ('Corp.', 'NOUN'), ('group', 'NOUN'), ('*', 'X'), ('to', 'PRT'), ('yield', 'VERB'), ('from', 'ADP'), ('6.40', 'NUM'), ('%', 'NOUN'), ('in', 'ADP'), ('1991', 'NUM'), ('to', 'PRT'), ('7.458', 'NUM'), ('%', 'NOUN'), ('in', 'ADP'), ('2019', 'NUM'), ('.', '.'), ('Signs', 'NOUN'), ('of', 'ADP'), ('a', 'DET'), ('slowing', 'NOUN'), ('economy', 'NOUN'), ('are', 'VERB'), ('increasing', 'VERB'), ('pressure', 'NOUN'), ('*ICH*-2', 'X'), ('on', 'ADP'), ('the', 'DET'), ('Federal', 'NOUN'), ('Reserve', 'NOUN'), ('*', 'X'), ('to', 'PRT'), ('cut', 'VERB'), ('short-term', 'ADJ'), ('interest', 'NOUN'), ('rates', 'NOUN'), (',', '.'), ('but', 'CONJ'), ('it', 'PRON'), ('*EXP*-1', 'X'), ('is', 'VERB'), (\"n't\", 'ADV'), ('clear', 'ADJ'), ('whether', 'ADP'), ('the', 'DET'), ('central', 'ADJ'), ('bank', 'NOUN'), ('will', 'VERB'), ('do', 'VERB'), ('so', 'ADV'), ('.', '.'), ('Junk', 'NOUN'), ('bonds', 'NOUN'), ('trailed', 'VERB'), ('the', 'DET'), ('group', 'NOUN'), ('again', 'ADV'), ('.', '.'), ('``', '.'), ('Many', 'ADJ'), ('in', 'ADP'), ('the', 'DET'), ('United', 'NOUN'), ('States', 'NOUN'), (',', '.'), ('including', 'VERB'), ('many', 'ADJ'), ('friends', 'NOUN'), ('of', 'ADP'), ('China', 'NOUN'), (',', '.'), ('believe', 'VERB'), ('0', 'X'), ('the', 'DET'), ('crackdown', 'NOUN'), ('was', 'VERB'), ('excessive', 'ADJ'), ('and', 'CONJ'), ('unjustified', 'ADJ'), (',', '.'), (\"''\", '.'), ('Mr.', 'NOUN'), ('Nixon', 'NOUN'), ('told', 'VERB'), ('Mr.', 'NOUN'), ('Yang', 'NOUN'), (',', '.'), ('who', 'PRON'), ('*T*-242', 'NOUN'), ('was', 'VERB'), ('directly', 'ADV'), ('involved', 'VERB'), ('*-2', 'X'), ('in', 'ADP'), ('*', 'X'), ('ordering', 'NOUN'), ('the', 'DET'), ('attack', 'NOUN'), ('*T*-1', 'X'), ('.', '.'), ('``', '.'), ('The', 'DET'), ('unavailability', 'NOUN'), ('of', 'ADP'), ('federal', 'ADJ'), ('funds', 'NOUN'), (',', '.'), ('and', 'CONJ'), ('the', 'DET'), ('climate', 'NOUN'), ('in', 'ADP'), ('which', 'DET'), ('the', 'DET'), ('decision', 'NOUN'), ('was', 'VERB'), ('made', 'VERB'), ('*-2', 'X'), ('*T*-1', 'X'), (',', '.'), ('certainly', 'ADV'), ('do', 'VERB'), (\"n't\", 'ADV'), ('provide', 'VERB'), ('any', 'DET'), ('incentive', 'NOUN'), ('for', 'ADP'), ('one', 'NUM'), ('of', 'ADP'), ('the', 'DET'), ('more', 'ADJ'), ('visible', 'ADJ'), ('foundations', 'NOUN'), ('to', 'PRT'), ('provide', 'VERB'), ('support', 'VERB'), (',', '.'), (\"''\", '.'), ('he', 'PRON'), ('said', 'VERB'), ('*T*-3', 'X'), ('.', '.'), ('In', 'ADP'), ('any', 'DET'), ('case', 'NOUN'), (',', '.'), ('opinion', 'NOUN'), ('*ICH*-2', 'X'), ('is', 'VERB'), ('mixed', 'VERB'), ('on', 'ADP'), ('how', 'ADV'), ('much', 'ADV'), ('of', 'ADP'), ('a', 'DET'), ('boost', 'NOUN'), ('the', 'DET'), ('overall', 'ADJ'), ('stock', 'NOUN'), ('market', 'NOUN'), ('would', 'VERB'), ('get', 'VERB'), ('*T*-1', 'X'), ('even', 'ADV'), ('if', 'ADP'), ('dividend', 'NOUN'), ('growth', 'NOUN'), ('continues', 'VERB'), ('at', 'ADP'), ('double-digit', 'ADJ'), ('levels', 'NOUN'), ('.', '.'), ('Terms', 'NOUN'), ('were', 'VERB'), (\"n't\", 'ADV'), ('disclosed', 'VERB'), ('*-1', 'X'), ('.', '.'), ('Virtually', 'NOUN'), ('word', 'NOUN'), ('for', 'ADP'), ('word', 'NOUN'), (',', '.'), ('the', 'DET'), ('notes', 'NOUN'), ('matched', 'VERB'), ('questions', 'NOUN'), ('and', 'CONJ'), ('answers', 'NOUN'), ('on', 'ADP'), ('the', 'DET'), ('social-studies', 'NOUN'), ('section', 'NOUN'), ('of', 'ADP'), ('the', 'DET'), ('test', 'NOUN'), ('0', 'X'), ('the', 'DET'), ('student', 'NOUN'), ('was', 'VERB'), ('taking', 'VERB'), ('*T*-1', 'X'), ('.', '.'), ('Hallwood', 'NOUN'), (',', '.'), ('a', 'DET'), ('Cleveland', 'NOUN'), ('merchant', 'NOUN'), ('bank', 'NOUN'), (',', '.'), ('owns', 'VERB'), ('about', 'ADP'), ('11', 'NUM'), ('%', 'NOUN'), ('of', 'ADP'), ('Integra', 'NOUN'), ('.', '.'), ('After', 'ADP'), ('years', 'NOUN'), ('of', 'ADP'), ('struggling', 'VERB'), (',', '.'), ('the', 'DET'), ('Los', 'NOUN'), ('Angeles', 'NOUN'), ('Herald', 'NOUN'), ('Examiner', 'NOUN'), ('will', 'VERB'), ('publish', 'VERB'), ('its', 'PRON'), ('last', 'ADJ'), ('edition', 'NOUN'), ('today', 'NOUN'), (',', '.'), ('*-1', 'X'), ('shut', 'VERB'), ('down', 'ADV'), ('by', 'ADP'), ('its', 'PRON'), ('parent', 'NOUN'), (',', '.'), ('Hearst', 'NOUN'), ('Corp.', 'NOUN'), (',', '.'), ('following', 'VERB'), ('unsuccessful', 'ADJ'), ('efforts', 'NOUN'), ('*', 'X'), ('to', 'PRT'), ('sell', 'VERB'), ('the', 'DET'), ('venerable', 'ADJ'), ('newspaper', 'NOUN'), ('.', '.'), ('Compromises', 'NOUN'), ('are', 'VERB'), ('possible', 'ADJ'), ('.', '.'), ('Sir', 'NOUN'), ('Peter', 'NOUN'), ('will', 'VERB'), ('succeed', 'VERB'), ('Sir', 'NOUN'), ('John', 'NOUN'), ('Milne', 'NOUN'), (',', '.'), ('65', 'NUM'), (',', '.'), ('who', 'PRON'), ('*T*-158', 'NOUN'), ('retires', 'NOUN'), ('as', 'ADP'), ('Blue', 'NOUN'), ('Circle', 'NOUN'), ('nonexecutive', 'ADJ'), ('chairman', 'NOUN'), ('on', 'ADP'), ('June', 'NOUN'), ('1', 'NUM'), ('.', '.'), ('Partly', 'ADV'), ('because', 'ADP'), ('of', 'ADP'), ('worries', 'VERB'), ('about', 'ADP'), ('potential', 'ADJ'), ('abuse', 'NOUN'), (',', '.'), ('however', 'ADV'), (',', '.'), ('he', 'PRON'), ('says', 'VERB'), ('0', 'X'), ('the', 'DET'), ('state', 'NOUN'), ('will', 'VERB'), ('begin', 'VERB'), ('*-1', 'X'), ('keeping', 'VERB'), ('closer', 'ADV'), ('track', 'NOUN'), ('of', 'ADP'), ('achievement-test', 'NOUN'), ('preparation', 'NOUN'), ('booklets', 'NOUN'), ('next', 'ADP'), ('spring', 'NOUN'), ('.', '.'), ('Mr.', 'NOUN'), ('Egnuss', 'NOUN'), (\"'s\", 'PRT'), ('dislike', 'VERB'), ('of', 'ADP'), ('program', 'NOUN'), ('trading', 'NOUN'), ('is', 'VERB'), ('echoed', 'NOUN'), ('*-1', 'X'), ('by', 'ADP'), ('many', 'ADJ'), ('small', 'ADJ'), ('investors', 'NOUN'), ('interviewed', 'VERB'), ('*', 'X'), ('by', 'ADP'), ('Wall', 'NOUN'), ('Street', 'NOUN'), ('Journal', 'NOUN'), ('reporters', 'NOUN'), ('across', 'ADP'), ('the', 'DET'), ('country', 'NOUN'), ('.', '.'), ('Mrs.', 'NOUN'), ('Ward', 'NOUN'), ('says', 'VERB'), ('that', 'ADP'), ('when', 'ADV'), ('the', 'DET'), ('cheating', 'NOUN'), ('was', 'VERB'), ('discovered', 'VERB'), ('*-4', 'X'), ('*T*-1', 'X'), (',', '.'), ('she', 'PRON'), ('wanted', 'VERB'), ('*-2', 'X'), ('to', 'PRT'), ('avoid', 'VERB'), ('the', 'DET'), ('morale-damaging', 'NOUN'), ('public', 'NOUN'), ('disclosure', 'NOUN'), ('that', 'ADP'), ('a', 'DET'), ('trial', 'NOUN'), ('would', 'VERB'), ('bring', 'VERB'), ('*T*-3', 'X'), ('.', '.'), ('Any', 'DET'), ('question', 'NOUN'), ('as', 'ADP'), ('to', 'PRT'), ('why', 'ADV'), ('an', 'DET'), ('author', 'NOUN'), ('would', 'VERB'), ('believe', 'VERB'), ('0', 'X'), ('this', 'DET'), ('plaintive', 'NOUN'), (',', '.'), ('high-minded', 'NOUN'), ('note', 'NOUN'), ('of', 'ADP'), ('assurance', 'NOUN'), ('is', 'VERB'), ('necessary', 'ADJ'), ('*T*-2', 'X'), ('is', 'VERB'), ('answered', 'VERB'), ('*-1', 'X'), ('by', 'ADP'), ('*', 'X'), ('reading', 'NOUN'), ('this', 'DET'), ('book', 'NOUN'), ('about', 'ADP'), ('sticky', 'NOUN'), ('fingers', 'NOUN'), ('and', 'CONJ'), ('sweaty', 'NOUN'), ('scammers', 'NOUN'), ('.', '.'), ('That', 'DET'), ('explains', 'VERB'), ('why', 'ADV'), ('the', 'DET'), ('number', 'NOUN'), ('of', 'ADP'), ('these', 'DET'), ('wines', 'NOUN'), ('is', 'VERB'), ('expanding', 'VERB'), ('so', 'ADV'), ('rapidly', 'ADV'), ('.', '.'), ('The', 'DET'), ('utility', 'NOUN'), ('has', 'VERB'), ('been', 'VERB'), ('collecting', 'NOUN'), ('for', 'ADP'), ('the', 'DET'), ('plant', 'NOUN'), (\"'s\", 'PRT'), ('construction', 'NOUN'), ('cost', 'NOUN'), ('from', 'ADP'), ('its', 'PRON'), ('3.1', 'NUM'), ('million', 'NUM'), ('customers', 'NOUN'), ('subject', 'NOUN'), ('to', 'PRT'), ('a', 'DET'), ('refund', 'NOUN'), ('since', 'ADP'), ('1986', 'NUM'), ('.', '.'), ('Upjohn', 'NOUN'), ('officials', 'NOUN'), ('said', 'VERB'), ('0', 'X'), ('they', 'PRON'), ('could', 'VERB'), (\"n't\", 'ADV'), ('estimate', 'NOUN'), ('the', 'DET'), ('size', 'NOUN'), ('of', 'ADP'), ('the', 'DET'), ('charge', 'NOUN'), ('until', 'ADP'), ('they', 'PRON'), ('determine', 'VERB'), ('which', 'DET'), ('employees', 'NOUN'), (',', '.'), ('and', 'CONJ'), ('how', 'ADV'), ('many', 'ADJ'), (',', '.'), ('*T*-1', 'X'), ('will', 'VERB'), ('participate', 'VERB'), ('in', 'ADP'), ('the', 'DET'), ('retirement', 'NOUN'), ('plan', 'NOUN'), ('.', '.'), ('LSI', 'NOUN'), ('Logic', 'NOUN'), ('Corp.', 'NOUN'), ('reported', 'VERB'), ('a', 'DET'), ('surprise', 'NOUN'), ('$', '.'), ('35.7', 'NUM'), ('million', 'NUM'), ('*U*', 'X'), ('third-quarter', 'NOUN'), ('net', 'NOUN'), ('loss', 'NOUN'), (',', '.'), ('including', 'VERB'), ('a', 'DET'), ('special', 'ADJ'), ('restructuring', 'NOUN'), ('charge', 'NOUN'), ('that', 'ADP'), ('*T*-145', 'NOUN'), ('reflects', 'VERB'), ('a', 'DET'), ('continuing', 'VERB'), ('industry-wide', 'NOUN'), ('slowdown', 'NOUN'), ('in', 'ADP'), ('semiconductor', 'NOUN'), ('demand', 'NOUN'), ('.', '.'), ('Sony', 'NOUN'), ('is', 'VERB'), ('paying', 'VERB'), ('$', '.'), ('27', 'NUM'), ('*U*', 'X'), ('a', 'DET'), ('share', 'NOUN'), (',', '.'), ('or', 'CONJ'), ('$', '.'), ('3.55', 'NOUN'), ('billion', 'NUM'), ('*U*', 'X'), (',', '.'), ('cash', 'NOUN'), ('and', 'CONJ'), ('is', 'VERB'), ('assuming', 'VERB'), ('$', '.'), ('1.4', 'NOUN'), ('billion', 'NUM'), ('*U*', 'X'), ('of', 'ADP'), ('long-term', 'ADJ'), ('debt', 'NOUN'), ('.', '.'), ('The', 'DET'), ('Coleman', 'NOUN'), ('counterattack', 'NOUN'), ('featured', 'VERB'), ('a', 'DET'), ('close-up', 'NOUN'), ('of', 'ADP'), ('a', 'DET'), ('young', 'ADJ'), ('woman', 'NOUN'), ('in', 'ADP'), ('shadows', 'NOUN'), ('and', 'CONJ'), ('the', 'DET'), ('ad', 'NOUN'), ('suggested', 'VERB'), ('that', 'ADP'), ('she', 'PRON'), ('was', 'VERB'), ('recalling', 'NOUN'), ('an', 'DET'), ('unpleasant', 'NOUN'), ('courtroom', 'NOUN'), ('ordeal', 'NOUN'), ('.', '.'), ('The', 'DET'), ('nonprofit', 'ADJ'), (',', '.'), ('industry-supported', 'NOUN'), ('group', 'NOUN'), ('said', 'VERB'), ('0', 'X'), ('its', 'PRON'), ('Consumer', 'NOUN'), ('Confidence', 'NOUN'), ('Index', 'NOUN'), ('was', 'VERB'), ('116.4', 'NOUN'), ('in', 'ADP'), ('October', 'NOUN'), (',', '.'), ('*-1', 'X'), ('barely', 'NOUN'), ('changed', 'VERB'), ('*-2', 'X'), ('from', 'ADP'), ('a', 'DET'), ('revised', 'NOUN'), ('116.3', 'NOUN'), ('in', 'ADP'), ('September', 'NOUN'), ('.', '.'), ('``', '.'), ('What', 'PRON'), ('sector', 'NOUN'), ('is', 'VERB'), ('*T*-46', 'X'), ('stepping', 'VERB'), ('forward', 'ADV'), ('*-2', 'X'), ('to', 'PRT'), ('pick', 'VERB'), ('up', 'ADV'), ('the', 'DET'), ('slack', 'ADJ'), ('?', '.'), (\"''\", '.'), ('he', 'PRON'), ('asked', 'VERB'), ('*T*-1', 'X'), ('.', '.'), ('The', 'DET'), ('sweeping', 'ADJ'), ('nature', 'NOUN'), ('of', 'ADP'), ('the', 'DET'), ('bill', 'NOUN'), ('draws', 'NOUN'), ('a', 'DET'), ('variety', 'NOUN'), ('of', 'ADP'), ('special', 'ADJ'), ('interest', 'NOUN'), ('amendments', 'NOUN'), (',', '.'), ('running', 'VERB'), ('from', 'ADP'), ('an', 'DET'), ('import', 'NOUN'), ('exemption', 'NOUN'), ('for', 'ADP'), ('a', 'DET'), ('California', 'NOUN'), ('airplane', 'NOUN'), ('museum', 'NOUN'), ('to', 'PRT'), ('a', 'DET'), ('small', 'ADJ'), ('but', 'CONJ'), ('intriguing', 'NOUN'), ('struggle', 'NOUN'), ('among', 'ADP'), ('sugar', 'NOUN'), ('producing', 'VERB'), ('nations', 'NOUN'), ('over', 'ADP'), ('the', 'DET'), ('fate', 'NOUN'), ('of', 'ADP'), ('Panama', 'NOUN'), (\"'s\", 'PRT'), ('quota', 'NOUN'), ('of', 'ADP'), ('exports', 'NOUN'), ('to', 'PRT'), ('the', 'DET'), ('profitable', 'ADJ'), ('U.S.', 'NOUN'), ('market', 'NOUN'), ('.', '.'), ('Trinity', 'NOUN'), ('Industries', 'NOUN'), ('Inc.', 'NOUN'), ('said', 'VERB'), ('0', 'X'), ('it', 'PRON'), ('reached', 'VERB'), ('a', 'DET'), ('preliminary', 'ADJ'), ('agreement', 'NOUN'), ('*', 'X'), ('to', 'PRT'), ('sell', 'VERB'), ('500', 'NUM'), ('railcar', 'NOUN'), ('platforms', 'NOUN'), ('to', 'PRT'), ('Trailer', 'NOUN'), ('Train', 'NOUN'), ('Co.', 'NOUN'), ('of', 'ADP'), ('Chicago', 'NOUN'), ('.', '.'), ('20', 'NUM'), ('million', 'NUM'), ('Swiss', 'ADJ'), ('francs', 'NOUN'), ('of', 'ADP'), ('6', 'NUM'), ('1\\\\/2', 'NUM'), ('%', 'NOUN'), ('privately', 'ADV'), ('placed', 'VERB'), ('notes', 'NOUN'), ('due', 'ADJ'), ('Nov.', 'NOUN'), ('29', 'NUM'), (',', '.'), ('1996', 'NOUN'), (',', '.'), ('priced', 'VERB'), ('*', 'X'), ('at', 'ADP'), ('99', 'NUM'), ('1\\\\/2', 'NUM'), ('via', 'ADP'), ('Dai-Ichi', 'NOUN'), ('Kangyo', 'NOUN'), ('Bank', 'NOUN'), ('-LRB-', '.'), ('Schweiz', 'NOUN'), ('-RRB-', '.'), ('.', '.'), ('Highway', 'NOUN'), ('officials', 'NOUN'), ('insist', 'VERB'), ('0', 'X'), ('the', 'DET'), ('ornamental', 'NOUN'), ('railings', 'NOUN'), ('on', 'ADP'), ('older', 'ADJ'), ('bridges', 'NOUN'), ('are', 'VERB'), (\"n't\", 'ADV'), ('strong', 'ADJ'), ('enough', 'ADJ'), ('*', 'X'), ('to', 'PRT'), ('prevent', 'VERB'), ('vehicles', 'NOUN'), ('from', 'ADP'), ('*', 'X'), ('crashing', 'NOUN'), ('through', 'ADP'), ('.', '.'), ('Despite', 'ADP'), ('the', 'DET'), ('enormous', 'ADJ'), ('sums', 'NOUN'), ('of', 'ADP'), ('money', 'NOUN'), ('0', 'X'), ('they', 'PRON'), (\"'re\", 'VERB'), ('paid', 'VERB'), ('*T*-1', 'X'), ('*-2', 'X'), ('to', 'PRT'), ('stand', 'VERB'), ('up', 'ADV'), ('at', 'ADP'), ('a', 'DET'), ('Japanese', 'ADJ'), ('plate', 'NOUN'), (',', '.'), ('a', 'DET'), ('good', 'ADJ'), ('number', 'NOUN'), ('decide', 'VERB'), ('0', 'X'), ('it', 'PRON'), (\"'s\", 'VERB'), ('not', 'ADV'), ('worth', 'ADP'), ('it', 'PRON'), ('and', 'CONJ'), ('run', 'VERB'), ('for', 'ADP'), ('home', 'NOUN'), ('.', '.'), ('In', 'ADP'), ('early', 'ADJ'), ('trading', 'NOUN'), ('in', 'ADP'), ('Hong', 'NOUN'), ('Kong', 'NOUN'), ('Thursday', 'NOUN'), (',', '.'), ('gold', 'NOUN'), ('was', 'VERB'), ('quoted', 'VERB'), ('*-1', 'X'), ('at', 'ADP'), ('$', '.'), ('374.19', 'NOUN'), ('*U*', 'X'), ('an', 'DET'), ('ounce', 'NOUN'), ('.', '.'), ('A', 'DET'), ('Reuters', 'NOUN'), ('spokesman', 'NOUN'), ('said', 'VERB'), ('0', 'X'), ('the', 'DET'), ('departure', 'NOUN'), ('reflects', 'VERB'), ('``', '.'), ('no', 'DET'), ('change', 'NOUN'), ('in', 'ADP'), ('strategy', 'NOUN'), ('or', 'CONJ'), ('profits', 'NOUN'), ('.', '.'), (\"''\", '.'), ('The', 'DET'), ('1990', 'NUM'), ('appropriations', 'NOUN'), ('legislation', 'NOUN'), ('attempts', 'NOUN'), ('*-1', 'X'), ('to', 'PRT'), ('strip', 'NOUN'), ('the', 'DET'), ('president', 'NOUN'), ('of', 'ADP'), ('his', 'PRON'), ('powers', 'NOUN'), ('*', 'X'), ('to', 'PRT'), ('make', 'VERB'), ('certain', 'ADJ'), ('appointments', 'NOUN'), ('as', 'ADP'), ('*', 'X'), ('provided', 'VERB'), ('*-2', 'X'), ('by', 'ADP'), ('Article', 'NOUN'), ('II', 'NOUN'), ('.', '.'), ('Bob', 'NOUN'), ('has', 'VERB'), ('an', 'DET'), ('agenda', 'NOUN'), ('and', 'CONJ'), ('this', 'DET'), ('seemed', 'VERB'), ('like', 'ADP'), ('the', 'DET'), ('natural', 'ADJ'), ('time', 'NOUN'), ('.', '.'), (\"''\", '.'), ('He', 'PRON'), ('enters', 'VERB'), ('the', 'DET'), ('story', 'NOUN'), ('toward', 'ADP'), ('the', 'DET'), ('end', 'NOUN'), (',', '.'), ('just', 'ADV'), ('in', 'ADP'), ('time', 'NOUN'), ('0', 'X'), ('*', 'X'), ('to', 'PRT'), ('get', 'VERB'), ('*-1', 'X'), ('arrested', 'NOUN'), ('*-1', 'X'), ('*T*-2', 'X'), ('.', '.'), ('The', 'DET'), ('roofs', 'NOUN'), ('would', 'VERB'), ('be', 'VERB'), ('required', 'VERB'), ('*-1', 'X'), ('to', 'PRT'), ('withstand', 'VERB'), ('a', 'DET'), ('force', 'NOUN'), ('of', 'ADP'), ('1.5', 'NUM'), ('times', 'NOUN'), ('the', 'DET'), ('unloaded', 'NOUN'), ('weight', 'NOUN'), ('of', 'ADP'), ('the', 'DET'), ('vehicle', 'NOUN'), ('.', '.'), ('The', 'DET'), ('Central', 'NOUN'), ('Council', 'NOUN'), ('of', 'ADP'), ('Church', 'NOUN'), ('Bell', 'NOUN'), ('Ringers', 'NOUN'), (',', '.'), ('a', 'DET'), ('sort', 'NOUN'), ('of', 'ADP'), ('parliament', 'NOUN'), ('of', 'ADP'), ('ringing', 'NOUN'), ('groups', 'NOUN'), (',', '.'), ('aims', 'NOUN'), ('*-1', 'X'), ('to', 'PRT'), ('improve', 'VERB'), ('relations', 'NOUN'), ('with', 'ADP'), ('vicars', 'NOUN'), (',', '.'), ('says', 'VERB'), ('0', 'X'), ('*T*-2', 'X'), ('John', 'NOUN'), ('C.', 'NOUN'), ('Baldwin', 'NOUN'), (',', '.'), ('president', 'NOUN'), ('.', '.'), ('Workers', 'NOUN'), ('dumped', 'VERB'), ('large', 'ADJ'), ('burlap', 'NOUN'), ('sacks', 'NOUN'), ('of', 'ADP'), ('the', 'DET'), ('imported', 'VERB'), ('material', 'NOUN'), ('into', 'ADP'), ('a', 'DET'), ('huge', 'ADJ'), ('bin', 'NOUN'), (',', '.'), ('poured', 'NOUN'), ('in', 'ADP'), ('cotton', 'NOUN'), ('and', 'CONJ'), ('acetate', 'NOUN'), ('fibers', 'NOUN'), ('and', 'CONJ'), ('mechanically', 'NOUN'), ('mixed', 'VERB'), ('the', 'DET'), ('dry', 'ADJ'), ('fibers', 'NOUN'), ('in', 'ADP'), ('a', 'DET'), ('process', 'NOUN'), ('used', 'VERB'), ('*', 'X'), ('*', 'X'), ('to', 'PRT'), ('make', 'VERB'), ('filters', 'NOUN'), ('.', '.'), ('Then', 'ADV'), (',', '.'), ('just', 'ADV'), ('as', 'ADP'), ('an', 'DET'), ('image', 'NOUN'), ('of', 'ADP'), ('the', 'DET'), ('statue', 'NOUN'), ('of', 'ADP'), ('Thomas', 'NOUN'), ('Jefferson', 'NOUN'), ('dissolves', 'NOUN'), ('from', 'ADP'), ('the', 'DET'), ('screen', 'NOUN'), (',', '.'), ('the', 'DET'), ('announcer', 'NOUN'), ('continues', 'VERB'), (':', '.'), ('``', '.'), ('On', 'ADP'), ('the', 'DET'), ('issue', 'NOUN'), ('of', 'ADP'), ('abortion', 'NOUN'), (',', '.'), ('Marshall', 'NOUN'), ('Coleman', 'NOUN'), ('wants', 'VERB'), ('*-1', 'X'), ('to', 'PRT'), ('take', 'VERB'), ('away', 'ADV'), ('your', 'PRON'), ('right', 'NOUN'), ('*', 'X'), ('to', 'PRT'), ('choose', 'VERB'), ('and', 'CONJ'), ('*-1', 'X'), ('give', 'VERB'), ('it', 'PRON'), ('to', 'PRT'), ('the', 'DET'), ('politicians', 'NOUN'), ('.', '.'), (\"''\", '.'), ('``', '.'), ('There', 'DET'), ('is', 'VERB'), ('incredible', 'NOUN'), ('pressure', 'NOUN'), ('*ICH*-2', 'X'), ('on', 'ADP'), ('school', 'NOUN'), ('systems', 'NOUN'), ('and', 'CONJ'), ('teachers', 'NOUN'), ('*', 'X'), ('to', 'PRT'), ('raise', 'VERB'), ('test', 'NOUN'), ('scores', 'NOUN'), (',', '.'), (\"''\", '.'), ('says', 'VERB'), ('*T*-1', 'X'), ('Walt', 'NOUN'), ('Haney', 'NOUN'), (',', '.'), ('an', 'DET'), ('education', 'NOUN'), ('professor', 'NOUN'), ('and', 'CONJ'), ('testing', 'NOUN'), ('specialist', 'NOUN'), ('at', 'ADP'), ('Boston', 'NOUN'), ('College', 'NOUN'), ('.', '.'), ('Czechoslovakia', 'NOUN'), ('said', 'VERB'), ('in', 'ADP'), ('May', 'NOUN'), ('0', 'X'), ('it', 'PRON'), ('could', 'VERB'), ('seek', 'VERB'), ('$', '.'), ('2', 'NUM'), ('billion', 'NUM'), ('*U*', 'X'), ('from', 'ADP'), ('Hungary', 'NOUN'), ('if', 'ADP'), ('the', 'DET'), ('twindam', 'NOUN'), ('contract', 'NOUN'), ('were', 'VERB'), ('broken', 'VERB'), ('*-68', 'X'), ('.', '.'), ('Michael', 'NOUN'), ('Ross', 'NOUN'), (',', '.'), ('a', 'DET'), ('New', 'NOUN'), ('York', 'NOUN'), ('lawyer', 'NOUN'), ('who', 'PRON'), ('*T*-132', 'NOUN'), ('heads', 'VERB'), ('the', 'DET'), ('ABA', 'NOUN'), (\"'s\", 'PRT'), ('grand', 'NOUN'), ('jury', 'NOUN'), ('committee', 'NOUN'), (',', '.'), ('said', 'VERB'), ('that', 'ADP'), ('lawyers', 'NOUN'), ('are', 'VERB'), ('prohibited', 'NOUN'), ('*-1', 'X'), ('by', 'ADP'), ('the', 'DET'), ('ABA', 'NOUN'), (\"'s\", 'PRT'), ('code', 'NOUN'), ('of', 'ADP'), ('ethics', 'NOUN'), ('from', 'ADP'), ('*-1', 'X'), ('disclosing', 'NOUN'), ('information', 'NOUN'), ('about', 'ADP'), ('a', 'DET'), ('client', 'NOUN'), ('except', 'ADP'), ('where', 'ADV'), ('a', 'DET'), ('court', 'NOUN'), ('orders', 'NOUN'), ('it', 'PRON'), ('*T*-3', 'X'), ('or', 'CONJ'), ('*-1', 'X'), ('to', 'PRT'), ('prevent', 'VERB'), ('the', 'DET'), ('client', 'NOUN'), ('from', 'ADP'), ('*-4', 'X'), ('committing', 'NOUN'), ('a', 'DET'), ('criminal', 'ADJ'), ('act', 'NOUN'), ('that', 'ADP'), ('*T*-2', 'X'), ('could', 'VERB'), ('result', 'VERB'), ('in', 'ADP'), ('death', 'NOUN'), ('.', '.'), ('For', 'ADP'), ('their', 'PRON'), ('part', 'NOUN'), (',', '.'), ('Taiwan', 'NOUN'), ('and', 'CONJ'), ('South', 'NOUN'), ('Korea', 'NOUN'), ('are', 'VERB'), ('expected', 'VERB'), ('*-1', 'X'), ('to', 'PRT'), ('step', 'VERB'), ('up', 'ADV'), ('their', 'PRON'), ('own', 'ADJ'), ('investments', 'NOUN'), ('in', 'ADP'), ('the', 'DET'), ('next', 'ADJ'), ('decade', 'NOUN'), ('*-2', 'X'), ('to', 'PRT'), ('try', 'VERB'), ('*-3', 'X'), ('to', 'PRT'), ('slow', 'VERB'), ('the', 'DET'), ('Japanese', 'ADJ'), ('juggernaut', 'NOUN'), ('.', '.'), ('``', '.'), ('Insurance', 'NOUN'), ('agents', 'NOUN'), ('have', 'VERB'), ('been', 'VERB'), ('forced', 'VERB'), ('*-158', 'NOUN'), ('by', 'ADP'), ('their', 'PRON'), ('companies', 'NOUN'), ('into', 'ADP'), ('*-2', 'X'), ('becoming', 'VERB'), ('registered', 'VERB'), ('reps', 'NOUN'), (',', '.'), (\"''\", '.'), ('he', 'PRON'), ('said', 'VERB'), ('*T*-1', 'X'), (',', '.'), ('``', '.'), ('but', 'CONJ'), ('they', 'PRON'), ('are', 'VERB'), ('not', 'ADV'), ('providing', 'VERB'), ('compliance', 'NOUN'), ('and', 'CONJ'), ('security-type', 'NOUN'), ('training', 'NOUN'), ('so', 'ADV'), ('that', 'ADP'), ('we', 'PRON'), ('can', 'VERB'), ('avoid', 'VERB'), ('stupid', 'ADJ'), ('mistakes', 'NOUN'), ('.', '.'), (\"''\", '.'), ('An', 'DET'), ('official', 'NOUN'), ('for', 'ADP'), ('the', 'DET'), ('lead', 'NOUN'), ('underwriter', 'NOUN'), ('declined', 'VERB'), ('*-1', 'X'), ('to', 'PRT'), ('comment', 'VERB'), ('on', 'ADP'), ('the', 'DET'), ('reason', 'NOUN'), ('for', 'ADP'), ('the', 'DET'), ('delay', 'VERB'), (',', '.'), ('but', 'CONJ'), ('market', 'NOUN'), ('participants', 'NOUN'), ('speculated', 'VERB'), ('that', 'ADP'), ('a', 'DET'), ('number', 'NOUN'), ('of', 'ADP'), ('factors', 'NOUN'), (',', '.'), ('including', 'VERB'), ('a', 'DET'), ('lack', 'NOUN'), ('of', 'ADP'), ('investor', 'NOUN'), ('interest', 'NOUN'), (',', '.'), ('were', 'VERB'), ('responsible', 'ADJ'), ('.', '.'), ('Panama', 'NOUN'), ('was', 'VERB'), ('stripped', 'NOUN'), ('*-8', 'X'), ('of', 'ADP'), ('this', 'DET'), ('right', 'NOUN'), ('because', 'ADP'), ('of', 'ADP'), ('U.S.', 'NOUN'), ('differences', 'NOUN'), ('with', 'ADP'), ('the', 'DET'), ('Noriega', 'NOUN'), ('regime', 'NOUN'), (',', '.'), ('but', 'CONJ'), ('the', 'DET'), ('Central', 'NOUN'), ('American', 'NOUN'), ('country', 'NOUN'), ('would', 'VERB'), ('have', 'VERB'), ('received', 'VERB'), ('a', 'DET'), ('quota', 'NOUN'), ('of', 'ADP'), ('30,537', 'NOUN'), ('metric', 'ADJ'), ('tons', 'NOUN'), ('over', 'ADP'), ('a', 'DET'), ('21-month', 'NOUN'), ('period', 'NOUN'), ('ending', 'VERB'), ('Sept.', 'NOUN'), ('30', 'NUM'), (',', '.'), ('1990', 'NUM'), ('.', '.'), ('The', 'DET'), ('ban', 'NOUN'), ('on', 'ADP'), ('cross-border', 'NOUN'), ('movement', 'NOUN'), ('was', 'VERB'), ('imposed', 'VERB'), ('*-1', 'X'), ('last', 'ADJ'), ('month', 'NOUN'), ('after', 'ADP'), ('a', 'DET'), ('massive', 'ADJ'), ('exodus', 'NOUN'), ('of', 'ADP'), ('emigres', 'NOUN'), ('to', 'PRT'), ('West', 'NOUN'), ('Germany', 'NOUN'), ('.', '.'), ('``', '.'), ('The', 'DET'), ('events', 'NOUN'), ('of', 'ADP'), ('April', 'NOUN'), ('through', 'ADP'), ('June', 'NOUN'), ('damaged', 'VERB'), ('the', 'DET'), ('respect', 'NOUN'), ('and', 'CONJ'), ('confidence', 'NOUN'), ('which', 'DET'), ('most', 'ADJ'), ('Americans', 'NOUN'), ('previously', 'ADV'), ('had', 'VERB'), ('*T*-1', 'X'), ('for', 'ADP'), ('the', 'DET'), ('leaders', 'NOUN'), ('of', 'ADP'), ('China', 'NOUN'), ('.', '.'), (\"''\", '.'), ('The', 'DET'), ('plan', 'NOUN'), ('relies', 'VERB'), ('heavily', 'ADV'), ('on', 'ADP'), ('$', '.'), ('240', 'NUM'), ('million', 'NUM'), ('*U*', 'X'), ('in', 'ADP'), ('credit', 'NOUN'), ('and', 'CONJ'), ('loan', 'NOUN'), ('guarantees', 'NOUN'), ('in', 'ADP'), ('fiscal', 'ADJ'), ('1990', 'NUM'), ('in', 'ADP'), ('hopes', 'NOUN'), ('of', 'ADP'), ('*', 'X'), ('stimulating', 'VERB'), ('future', 'ADJ'), ('trade', 'NOUN'), ('and', 'CONJ'), ('investment', 'NOUN'), ('.', '.'), ('There', 'DET'), ('were', 'VERB'), ('many', 'ADJ'), ('pioneer', 'NOUN'), ('PC', 'NOUN'), ('contributors', 'NOUN'), ('.', '.'), ('In', 'ADP'), ('contrast', 'NOUN'), (',', '.'), ('the', 'DET'), ('lawyers', 'NOUN'), (\"'\", 'PRT'), ('association', 'NOUN'), ('gives', 'VERB'), ('a', 'DET'), ('``', '.'), ('well', 'ADV'), ('qualified', 'VERB'), (\"''\", '.'), ('rating', 'NOUN'), ('to', 'PRT'), ('those', 'DET'), ('``', '.'), ('regarded', 'VERB'), ('*', 'X'), ('as', 'ADP'), ('one', 'NUM'), ('of', 'ADP'), ('the', 'DET'), ('best', 'ADJ'), ('available', 'ADJ'), ('for', 'ADP'), ('the', 'DET'), ('vacancy', 'NOUN'), ('.', '.'), ('Susan', 'NOUN'), ('Del', 'NOUN'), ('Signore', 'NOUN'), (',', '.'), ('head', 'NOUN'), ('trader', 'NOUN'), ('at', 'ADP'), ('Travelers', 'NOUN'), ('Investment', 'NOUN'), ('Management', 'NOUN'), ('Co.', 'NOUN'), (',', '.'), ('says', 'VERB'), ('0', 'X'), ('critics', 'NOUN'), ('are', 'VERB'), ('ignoring', 'VERB'), ('``', '.'), ('the', 'DET'), ('role', 'NOUN'), ('0', 'X'), ('the', 'DET'), ('-LCB-', '.'), ('takeover', 'NOUN'), ('stock', 'NOUN'), ('-RCB-', '.'), ('speculator', 'NOUN'), ('is', 'VERB'), ('taking', 'VERB'), ('*T*-1', 'X'), ('in', 'ADP'), ('the', 'DET'), ('market', 'NOUN'), ('as', 'ADP'), ('a', 'DET'), ('source', 'NOUN'), ('of', 'ADP'), ('volatility', 'NOUN'), ('.', '.'), (\"''\", '.'), ('Earlier', 'ADJ'), ('this', 'DET'), ('year', 'NOUN'), ('Shaw', 'NOUN'), ('Publishing', 'NOUN'), ('Inc.', 'NOUN'), (',', '.'), ('Charlotte', 'NOUN'), (',', '.'), ('acquired', 'VERB'), ('30', 'NUM'), ('%', 'NOUN'), ('of', 'ADP'), ('American', 'ADJ'), ('City', 'NOUN'), ('*T*-1', 'X'), ('and', 'CONJ'), ('has', 'VERB'), ('an', 'DET'), ('agreement', 'NOUN'), ('*', 'X'), ('to', 'PRT'), ('acquire', 'VERB'), ('a', 'DET'), ('further', 'ADJ'), ('25', 'NUM'), ('%', 'NOUN'), ('from', 'ADP'), ('E.W.', 'NOUN'), ('Scripps', 'NOUN'), ('Co.', 'NOUN'), ('next', 'ADP'), ('year', 'NOUN'), ('.', '.'), ('The', 'DET'), ('Chinese', 'ADJ'), (',', '.'), ('in', 'ADP'), ('turn', 'NOUN'), (',', '.'), ('took', 'VERB'), ('aim', 'VERB'), ('at', 'ADP'), ('American', 'ADJ'), ('``', '.'), ('interference', 'NOUN'), (\"''\", '.'), ('in', 'ADP'), ('China', 'NOUN'), (\"'s\", 'PRT'), ('domestic', 'ADJ'), ('affairs', 'NOUN'), ('.', '.'), ('``', '.'), ('All', 'DET'), ('the', 'DET'), ('``', '.'), ('sogo-shosha', 'NOUN'), (\"''\", '.'), ('are', 'VERB'), ('looking', 'VERB'), ('for', 'ADP'), ('new', 'ADJ'), ('business', 'NOUN'), (',', '.'), (\"''\", '.'), ('says', 'VERB'), ('*T*-1', 'X'), ('Arthur', 'NOUN'), ('Klauser', 'NOUN'), (',', '.'), ('adviser', 'NOUN'), ('to', 'PRT'), ('the', 'DET'), ('president', 'NOUN'), ('of', 'ADP'), ('Mitsui', 'NOUN'), (',', '.'), ('U.S.A.', 'NOUN'), (',', '.'), ('*-2', 'X'), ('using', 'VERB'), ('the', 'DET'), ('Japanese', 'ADJ'), ('term', 'NOUN'), ('for', 'ADP'), ('the', 'DET'), ('largest', 'ADJ'), ('of', 'ADP'), ('the', 'DET'), ('global', 'ADJ'), ('trading', 'NOUN'), ('houses', 'NOUN'), ('.', '.'), ('Sterling', 'NOUN'), (\"'s\", 'PRT'), ('firm', 'NOUN'), ('tone', 'NOUN'), (',', '.'), ('combined', 'VERB'), ('with', 'ADP'), ('a', 'DET'), ('steady', 'ADJ'), ('opening', 'VERB'), ('on', 'ADP'), ('Wall', 'NOUN'), ('Street', 'NOUN'), (',', '.'), ('also', 'ADV'), ('tempted', 'NOUN'), ('some', 'DET'), ('investors', 'NOUN'), ('to', 'PRT'), ('come', 'VERB'), ('back', 'ADV'), ('to', 'PRT'), ('the', 'DET'), ('market', 'NOUN'), (',', '.'), ('dealers', 'NOUN'), ('said', 'VERB'), ('0', 'X'), ('*T*-1', 'X'), ('.', '.'), ('``', '.'), ('Little', 'NOUN'), ('wonder', 'NOUN'), ('that', 'ADP'), ('buyers', 'NOUN'), ('for', 'ADP'), ('junk', 'NOUN'), ('have', 'VERB'), ('been', 'VERB'), ('found', 'VERB'), ('*-1', 'X'), ('wanting', 'NOUN'), (',', '.'), (\"''\", '.'), ('he', 'PRON'), ('said', 'VERB'), ('*T*-2', 'X'), ('.', '.'), ('In', 'ADP'), ('this', 'DET'), ('one', 'NUM'), (',', '.'), ('the', 'DET'), ('screen', 'NOUN'), ('fills', 'VERB'), ('with', 'ADP'), ('photographs', 'NOUN'), ('of', 'ADP'), ('both', 'DET'), ('candidates', 'NOUN'), ('.', '.'), ('An', 'DET'), ('airline', 'NOUN'), ('buy-out', 'NOUN'), ('bill', 'NOUN'), ('was', 'VERB'), ('approved', 'VERB'), ('*-1', 'X'), ('by', 'ADP'), ('the', 'DET'), ('House', 'NOUN'), ('.', '.'), ('In', 'ADP'), ('a', 'DET'), ('joint-venture', 'NOUN'), ('deal', 'NOUN'), (',', '.'), ('Mitsui', 'NOUN'), ('guided', 'NOUN'), ('Candela', 'NOUN'), ('through', 'ADP'), ('Tokyo', 'NOUN'), (\"'s\", 'PRT'), ('bureaucratic', 'NOUN'), ('maze', 'NOUN'), ('.', '.'), ('Without', 'ADP'), ('*-1', 'X'), ('admitting', 'VERB'), ('or', 'CONJ'), ('denying', 'VERB'), ('wrongdoing', 'NOUN'), (',', '.'), ('the', 'DET'), ('firm', 'NOUN'), ('consented', 'VERB'), ('to', 'PRT'), ('findings', 'NOUN'), ('that', 'ADP'), ('it', 'PRON'), ('failed', 'VERB'), ('*-2', 'X'), ('to', 'PRT'), ('respond', 'VERB'), ('``', '.'), ('in', 'ADP'), ('a', 'DET'), ('timely', 'NOUN'), ('manner', 'NOUN'), (\"''\", '.'), ('to', 'PRT'), ('the', 'DET'), ('NASD', 'NOUN'), (\"'s\", 'PRT'), ('requests', 'NOUN'), ('for', 'ADP'), ('information', 'NOUN'), ('in', 'ADP'), ('connection', 'NOUN'), ('with', 'ADP'), ('a', 'DET'), ('customer', 'NOUN'), ('complaint', 'NOUN'), ('.', '.'), ('You', 'PRON'), ('did', 'VERB'), ('not', 'ADV'), ('note', 'VERB'), ('that', 'ADP'), ('the', 'DET'), ('homeless', 'ADJ'), ('people', 'NOUN'), ('0', 'X'), ('we', 'PRON'), ('examined', 'VERB'), ('*T*-1', 'X'), ('had', 'VERB'), ('a', 'DET'), ('multitude', 'NOUN'), ('of', 'ADP'), ('physical', 'ADJ'), ('disorders', 'NOUN'), ('in', 'ADP'), ('addition', 'NOUN'), ('to', 'PRT'), ('their', 'PRON'), ('psychiatric', 'ADJ'), ('problems', 'NOUN'), ('and', 'CONJ'), ('substance', 'NOUN'), ('abuse', 'NOUN'), ('.', '.'), ('Shearson', 'NOUN'), ('Lehman', 'NOUN'), ('Hutton', 'NOUN'), ('Inc.', 'NOUN'), (',', '.'), ('New', 'NOUN'), ('York', 'NOUN'), (',', '.'), ('which', 'DET'), ('*T*-251', 'NOUN'), ('is', 'VERB'), ('62%-owned', 'ADJ'), ('*-1', 'X'), ('by', 'ADP'), ('American', 'ADJ'), ('Express', 'NOUN'), ('Co.', 'NOUN'), (',', '.'), ('consented', 'VERB'), ('to', 'PRT'), ('a', 'DET'), ('$', '.'), ('10,000', 'NUM'), ('*U*', 'X'), ('fine', 'NOUN'), ('.', '.'), ('The', 'DET'), ('USX', 'NOUN'), ('citations', 'NOUN'), ('represented', 'VERB'), ('the', 'DET'), ('first', 'ADJ'), ('sizable', 'ADJ'), ('enforcement', 'NOUN'), ('action', 'NOUN'), ('taken', 'VERB'), ('*', 'X'), ('by', 'ADP'), ('OSHA', 'NOUN'), ('under', 'ADP'), ('Mr.', 'NOUN'), ('Scannell', 'NOUN'), ('.', '.'), ('Virginia', 'NOUN'), (':', '.'), ('The', 'DET'), ('Chinese', 'ADJ'), ('responded', 'VERB'), ('in', 'ADP'), ('an', 'DET'), ('equally', 'ADV'), ('undiplomatic', 'NOUN'), ('fashion', 'NOUN'), ('.', '.'), ('Here', 'ADV'), ('are', 'VERB'), ('*T*-1', 'X'), ('price', 'NOUN'), ('trends', 'NOUN'), ('on', 'ADP'), ('the', 'DET'), ('world', 'NOUN'), (\"'s\", 'PRT'), ('major', 'ADJ'), ('stock', 'NOUN'), ('markets', 'NOUN'), (',', '.'), ('as', 'ADP'), ('*', 'X'), ('calculated', 'NOUN'), ('*-2', 'X'), ('by', 'ADP'), ('Morgan', 'NOUN'), ('Stanley', 'NOUN'), ('Capital', 'NOUN'), ('International', 'NOUN'), ('Perspective', 'NOUN'), (',', '.'), ('Geneva', 'NOUN'), ('.', '.'), ('Moscow', 'NOUN'), ('has', 'VERB'), ('settled', 'VERB'), ('pre-1917', 'NOUN'), ('debts', 'NOUN'), ('with', 'ADP'), ('other', 'ADJ'), ('countries', 'NOUN'), ('in', 'ADP'), ('recent', 'ADJ'), ('years', 'NOUN'), ('at', 'ADP'), ('less', 'ADJ'), ('than', 'ADP'), ('face', 'NOUN'), ('value', 'NOUN'), ('.', '.'), ('And', 'CONJ'), ('after', 'ADP'), ('*-1', 'X'), ('losing', 'VERB'), ('a', 'DET'), ('battle', 'NOUN'), ('Tuesday', 'NOUN'), ('night', 'NOUN'), ('with', 'ADP'), ('the', 'DET'), ('Senate', 'NOUN'), ('Foreign', 'NOUN'), ('Relations', 'NOUN'), ('Committee', 'NOUN'), (',', '.'), ('appropriators', 'NOUN'), ('from', 'ADP'), ('both', 'DET'), ('houses', 'NOUN'), ('are', 'VERB'), ('expected', 'VERB'), ('*-1', 'X'), ('to', 'PRT'), ('be', 'VERB'), ('forced', 'VERB'), ('*-12', 'X'), ('back', 'PRT'), ('to', 'PRT'), ('conference', 'NOUN'), ('.', '.'), ('The', 'DET'), ('patent', 'NOUN'), ('covers', 'VERB'), ('BMP-1', 'NOUN'), ('type', 'NOUN'), ('proteins', 'NOUN'), ('and', 'CONJ'), ('pharmaceutical', 'ADJ'), ('compositions', 'NOUN'), ('and', 'CONJ'), ('methods', 'NOUN'), ('for', 'ADP'), ('*', 'X'), ('treating', 'VERB'), ('bone', 'NOUN'), ('or', 'CONJ'), ('cartilage', 'NOUN'), ('defects', 'NOUN'), (',', '.'), ('Genetics', 'NOUN'), ('Institute', 'NOUN'), ('said', 'VERB'), ('0', 'X'), ('*T*-1', 'X'), ('.', '.'), ('Mr.', 'NOUN'), ('Chase', 'NOUN'), ('did', 'VERB'), (\"n't\", 'ADV'), ('return', 'VERB'), ('a', 'DET'), ('telephone', 'NOUN'), ('call', 'VERB'), ('to', 'PRT'), ('his', 'PRON'), ('office', 'NOUN'), ('.', '.'), ('They', 'PRON'), ('know', 'VERB'), ('that', 'ADP'), ('whenever', 'NOUN'), ('government', 'NOUN'), ('is', 'VERB'), ('redistributing', 'NOUN'), ('wealth', 'NOUN'), (',', '.'), ('regulating', 'VERB'), ('commerce', 'NOUN'), ('or', 'CONJ'), ('maintaining', 'VERB'), ('a', 'DET'), ('large', 'ADJ'), ('defense', 'NOUN'), ('establishment', 'NOUN'), ('*T*-2', 'X'), (',', '.'), ('there', 'DET'), ('is', 'VERB'), ('big', 'ADJ'), ('money', 'NOUN'), ('0', 'X'), ('*T*-3', 'X'), ('to', 'PRT'), ('be', 'VERB'), ('made', 'VERB'), ('*-1', 'X'), ('in', 'ADP'), ('*', 'X'), ('influencing', 'NOUN'), (',', '.'), ('brokering', 'NOUN'), ('or', 'CONJ'), ('selling', 'VERB'), ('the', 'DET'), ('processes', 'NOUN'), ('and', 'CONJ'), ('decisions', 'NOUN'), ('of', 'ADP'), ('government', 'NOUN'), ('.', '.'), ('He', 'PRON'), ('has', 'VERB'), ('a', 'DET'), ('point', 'NOUN'), ('0', 'X'), ('he', 'PRON'), ('wants', 'VERB'), ('*-1', 'X'), ('to', 'PRT'), ('make', 'VERB'), ('*T*-2', 'X'), (',', '.'), ('and', 'CONJ'), ('he', 'PRON'), ('makes', 'VERB'), ('it', 'PRON'), (',', '.'), ('with', 'ADP'), ('a', 'DET'), ('great', 'ADJ'), ('deal', 'NOUN'), ('of', 'ADP'), ('force', 'NOUN'), ('.', '.'), ('The', 'DET'), ('Thai', 'NOUN'), ('cabinet', 'NOUN'), ('endorsed', 'VERB'), ('Finance', 'NOUN'), ('Minister', 'NOUN'), ('Pramual', 'NOUN'), ('Sabhavasu', 'NOUN'), (\"'s\", 'PRT'), ('proposal', 'NOUN'), ('*', 'X'), ('to', 'PRT'), ('build', 'VERB'), ('a', 'DET'), ('$', '.'), ('19', 'NUM'), ('million', 'NUM'), ('*U*', 'X'), ('conference', 'NOUN'), ('center', 'NOUN'), ('for', 'ADP'), ('a', 'DET'), ('joint', 'ADJ'), ('meeting', 'NOUN'), ('of', 'ADP'), ('the', 'DET'), ('World', 'NOUN'), ('Bank', 'NOUN'), ('and', 'CONJ'), ('International', 'NOUN'), ('Monetary', 'NOUN'), ('Fund', 'NOUN'), ('two', 'NUM'), ('years', 'NOUN'), ('from', 'ADP'), ('now', 'ADV'), ('.', '.'), ('-LCB-', '.'), ('The', 'DET'), ('court', 'NOUN'), ('has', 'VERB'), ('indicated', 'VERB'), ('0', 'X'), ('it', 'PRON'), ('will', 'VERB'), ('rule', 'NOUN'), ('on', 'ADP'), ('the', 'DET'), ('case', 'NOUN'), ('by', 'ADP'), ('the', 'DET'), ('end', 'NOUN'), ('of', 'ADP'), ('the', 'DET'), ('month', 'NOUN'), ('.', '.'), ('-RCB-', '.'), ('Wellcome', 'NOUN'), ('gained', 'VERB'), ('18', 'NUM'), ('to', 'PRT'), ('666', 'NOUN'), ('on', 'ADP'), ('a', 'DET'), ('modest', 'ADJ'), ('1.1', 'NUM'), ('million', 'NUM'), ('shares', 'NOUN'), ('.', '.'), ('A', 'DET'), ('Shearson', 'NOUN'), ('spokesman', 'NOUN'), ('had', 'VERB'), ('no', 'DET'), ('comment', 'NOUN'), ('.', '.'), ('It', 'PRON'), ('would', 'VERB'), ('be', 'VERB'), ('a', 'DET'), ('good', 'ADJ'), ('match', 'VERB'), (',', '.'), ('Mr.', 'NOUN'), ('Hahn', 'NOUN'), ('and', 'CONJ'), ('many', 'ADJ'), ('analysts', 'NOUN'), ('say', 'VERB'), ('0', 'X'), ('*T*-1', 'X'), (',', '.'), ('of', 'ADP'), ('two', 'NUM'), ('healthy', 'ADJ'), ('companies', 'NOUN'), ('with', 'ADP'), ('high-quality', 'NOUN'), ('assets', 'NOUN'), ('and', 'CONJ'), ('strong', 'ADJ'), ('cash', 'NOUN'), ('flows', 'NOUN'), ('.', '.'), ('But', 'CONJ'), ('for', 'ADP'), ('small', 'ADJ'), ('American', 'NOUN'), ('companies', 'NOUN'), (',', '.'), ('it', 'PRON'), ('also', 'ADV'), ('provides', 'VERB'), ('a', 'DET'), ('growing', 'VERB'), ('source', 'NOUN'), ('of', 'ADP'), ('capital', 'NOUN'), ('and', 'CONJ'), ('even', 'ADV'), ('marketing', 'VERB'), ('help', 'VERB'), ('.', '.'), ('The', 'DET'), ('theory', 'NOUN'), (':', '.'), ('Such', 'ADJ'), ('individuals', 'NOUN'), (',', '.'), ('many', 'ADJ'), ('with', 'ADP'), ('young', 'ADJ'), ('children', 'NOUN'), (',', '.'), ('are', 'VERB'), ('in', 'ADP'), ('their', 'PRON'), ('prime', 'ADJ'), ('borrowing', 'NOUN'), ('years', 'NOUN'), ('--', '.'), ('and', 'CONJ'), (',', '.'), ('*-1', 'X'), ('having', 'VERB'), ('borrowed', 'NOUN'), ('from', 'ADP'), ('the', 'DET'), ('bank', 'NOUN'), (',', '.'), ('they', 'PRON'), ('may', 'VERB'), ('continue', 'VERB'), ('*-1', 'X'), ('to', 'PRT'), ('use', 'VERB'), ('it', 'PRON'), ('for', 'ADP'), ('other', 'ADJ'), ('services', 'NOUN'), ('in', 'ADP'), ('later', 'ADJ'), ('years', 'NOUN'), ('.', '.'), ('In', 'ADP'), ('Detroit', 'NOUN'), (',', '.'), ('a', 'DET'), ('Chrysler', 'NOUN'), ('Corp.', 'NOUN'), ('official', 'NOUN'), ('said', 'VERB'), ('0', 'X'), ('the', 'DET'), ('company', 'NOUN'), ('currently', 'ADV'), ('has', 'VERB'), ('no', 'DET'), ('rear-seat', 'NOUN'), ('lap', 'NOUN'), ('and', 'CONJ'), ('shoulder', 'NOUN'), ('belts', 'NOUN'), ('in', 'ADP'), ('its', 'PRON'), ('light', 'ADJ'), ('trucks', 'NOUN'), (',', '.'), ('but', 'CONJ'), ('plans', 'VERB'), ('*-1', 'X'), ('to', 'PRT'), ('begin', 'VERB'), ('*-2', 'X'), ('phasing', 'VERB'), ('them', 'PRON'), ('in', 'ADP'), ('by', 'ADP'), ('the', 'DET'), ('end', 'NOUN'), ('of', 'ADP'), ('the', 'DET'), ('1990', 'NUM'), ('model', 'NOUN'), ('year', 'NOUN'), ('.', '.'), ('On', 'ADP'), ('the', 'DET'), ('other', 'ADJ'), ('hand', 'NOUN'), (',', '.'), ('had', 'VERB'), ('it', 'PRON'), ('existed', 'NOUN'), ('then', 'ADV'), (',', '.'), ('Cray', 'NOUN'), ('Computer', 'NOUN'), ('would', 'VERB'), ('have', 'VERB'), ('incurred', 'VERB'), ('a', 'DET'), ('$', '.'), ('20.5', 'NOUN'), ('million', 'NUM'), ('*U*', 'X'), ('loss', 'NOUN'), ('.', '.'), ('BRAMALEA', 'NOUN'), ('Ltd.', 'NOUN'), ('said', 'VERB'), ('0', 'X'), ('it', 'PRON'), ('agreed', 'VERB'), ('*-1', 'X'), ('to', 'PRT'), ('issue', 'NOUN'), ('100', 'NUM'), ('million', 'NUM'), ('Canadian', 'ADJ'), ('dollars', 'NOUN'), ('-LRB-', '.'), ('US$', '.'), ('85.1', 'NOUN'), ('million', 'NUM'), ('*U*', 'X'), ('-RRB-', '.'), ('of', 'ADP'), ('10.5', 'NOUN'), ('%', 'NOUN'), ('senior', 'ADJ'), ('debentures', 'NOUN'), ('due', 'ADJ'), ('Nov.', 'NOUN'), ('30', 'NUM'), (',', '.'), ('1999', 'NUM'), (',', '.'), ('together', 'ADV'), ('with', 'ADP'), ('100,000', 'NUM'), ('bond', 'NOUN'), ('purchase', 'NOUN'), ('warrants', 'NOUN'), ('.', '.'), ('This', 'DET'), ('is', 'VERB'), ('a', 'DET'), ('Johnson-era', 'NOUN'), (',', '.'), ('Great', 'NOUN'), ('Society', 'NOUN'), ('creation', 'NOUN'), ('that', 'ADP'), ('*T*-2', 'X'), ('mandates', 'NOUN'), ('0', 'X'), ('certain', 'ADJ'), ('government', 'NOUN'), ('contracts', 'NOUN'), ('be', 'VERB'), ('awarded', 'VERB'), ('*-1', 'X'), ('noncompetitively', 'NOUN'), ('to', 'PRT'), ('minority', 'NOUN'), ('businesses', 'NOUN'), ('.', '.'), ('Garbage', 'NOUN'), ('magazine', 'NOUN'), (',', '.'), ('billed', 'NOUN'), ('*', 'X'), ('as', 'ADP'), ('``', '.'), ('The', 'DET'), ('Practical', 'NOUN'), ('Journal', 'NOUN'), ('for', 'ADP'), ('the', 'DET'), ('Environment', 'NOUN'), (',', '.'), (\"''\", '.'), ('is', 'VERB'), ('about', 'ADP'), ('*-1', 'X'), ('to', 'PRT'), ('find', 'VERB'), ('out', 'PRT'), ('0', 'X'), ('*?*', 'X'), ('.', '.'), ('The', 'DET'), ('charge', 'NOUN'), ('on', 'ADP'), ('loans', 'NOUN'), ('to', 'PRT'), ('brokers', 'NOUN'), ('on', 'ADP'), ('stock', 'NOUN'), ('exchange', 'NOUN'), ('collateral', 'NOUN'), ('.', '.'), ('Mr.', 'NOUN'), ('Martin', 'NOUN'), ('has', 'VERB'), ('increased', 'VERB'), ('prices', 'NOUN'), ('on', 'ADP'), ('some', 'DET'), ('wines', 'NOUN'), ('-LRB-', '.'), ('like', 'ADP'), ('Grgich', 'NOUN'), ('Hills', 'NOUN'), ('Chardonnay', 'NOUN'), (',', '.'), ('now', 'ADV'), ('$', '.'), ('32', 'NUM'), ('*U*', 'X'), ('-RRB-', '.'), ('just', 'ADV'), ('*-1', 'X'), ('to', 'PRT'), ('slow', 'VERB'), ('down', 'ADV'), ('movement', 'NOUN'), (',', '.'), ('but', 'CONJ'), ('he', 'PRON'), ('is', 'VERB'), ('beginning', 'VERB'), ('*-2', 'X'), ('to', 'PRT'), ('see', 'VERB'), ('some', 'DET'), ('resistance', 'NOUN'), ('to', 'PRT'), ('high-priced', 'ADJ'), ('red', 'NOUN'), ('Burgundies', 'NOUN'), ('and', 'CONJ'), ('Cabernets', 'NOUN'), ('and', 'CONJ'), ('Chardonnays', 'NOUN'), ('in', 'ADP'), ('the', 'DET'), ('$', '.'), ('30', 'NUM'), ('to', 'PRT'), ('$', '.'), ('40', 'NUM'), ('*U*', 'X'), ('range', 'VERB'), ('.', '.'), ('SCI', 'NOUN'), ('Systems', 'NOUN'), ('slipped', 'VERB'), ('7\\\\/8', 'NUM'), ('to', 'PRT'), ('10', 'NUM'), ('on', 'ADP'), ('volume', 'NOUN'), ('of', 'ADP'), ('858,000', 'NOUN'), ('shares', 'NOUN'), ('.', '.'), ('Proper', 'NOUN'), ('English', 'NOUN'), ('bells', 'NOUN'), ('are', 'VERB'), ('started', 'VERB'), ('*-1', 'X'), ('off', 'PRT'), ('in', 'ADP'), ('``', '.'), ('rounds', 'NOUN'), (',', '.'), (\"''\", '.'), ('from', 'ADP'), ('the', 'DET'), ('highest-pitched', 'NOUN'), ('bell', 'NOUN'), ('to', 'PRT'), ('the', 'DET'), ('lowest', 'ADJ'), ('--', '.'), ('a', 'DET'), ('simple', 'ADJ'), ('descending', 'NOUN'), ('scale', 'NOUN'), ('using', 'VERB'), (',', '.'), ('in', 'ADP'), ('larger', 'ADJ'), ('churches', 'NOUN'), (',', '.'), ('as', 'ADP'), ('many', 'ADJ'), ('as', 'ADP'), ('12', 'NUM'), ('bells', 'NOUN'), ('.', '.'), ('In', 'ADP'), ('point', 'NOUN'), ('of', 'ADP'), ('fact', 'NOUN'), (',', '.'), ('volatility', 'NOUN'), ('as', 'ADP'), ('*', 'X'), ('measured', 'VERB'), ('*-2', 'X'), ('by', 'ADP'), ('the', 'DET'), ('annualized', 'NOUN'), ('standard', 'NOUN'), ('deviation', 'NOUN'), ('of', 'ADP'), ('daily', 'ADJ'), ('stock', 'NOUN'), ('price', 'NOUN'), ('movements', 'NOUN'), ('has', 'VERB'), ('frequently', 'ADV'), ('been', 'VERB'), ('much', 'ADV'), ('higher', 'ADJ'), ('than', 'ADP'), ('it', 'PRON'), ('is', 'VERB'), ('*?*', 'X'), ('today', 'NOUN'), ('.', '.'), ('She', 'PRON'), ('says', 'VERB'), ('0', 'X'), ('she', 'PRON'), ('offered', 'VERB'), ('Mrs.', 'NOUN'), ('Yeargin', 'NOUN'), ('a', 'DET'), ('quiet', 'ADJ'), ('resignation', 'NOUN'), ('and', 'CONJ'), ('thought', 'VERB'), ('0', 'X'), ('she', 'PRON'), ('could', 'VERB'), ('help', 'VERB'), ('*-1', 'X'), ('save', 'VERB'), ('her', 'PRON'), ('teaching', 'NOUN'), ('certificate', 'NOUN'), ('.', '.'), ('GAF', 'NOUN'), ('TRIAL', 'NOUN'), ('goes', 'VERB'), ('to', 'PRT'), ('round', 'NOUN'), ('three', 'NUM'), ('.', '.'), ('It', 'PRON'), ('plans', 'VERB'), ('*-1', 'X'), ('to', 'PRT'), ('sell', 'VERB'), ('the', 'DET'), ('ad', 'NOUN'), ('time', 'NOUN'), ('to', 'PRT'), ('its', 'PRON'), ('clients', 'NOUN'), ('at', 'ADP'), ('a', 'DET'), ('discount', 'NOUN'), ('.', '.'), ('In', 'ADP'), ('CAT', 'NOUN'), ('sections', 'NOUN'), ('where', 'ADV'), ('students', 'NOUN'), (\"'\", 'PRT'), ('knowledge', 'NOUN'), ('of', 'ADP'), ('two-letter', 'NOUN'), ('consonant', 'NOUN'), ('sounds', 'VERB'), ('is', 'VERB'), ('tested', 'VERB'), ('*-1', 'X'), ('*T*-2', 'X'), (',', '.'), ('the', 'DET'), ('authors', 'NOUN'), ('noted', 'VERB'), ('that', 'ADP'), ('Scoring', 'NOUN'), ('High', 'NOUN'), ('concentrated', 'VERB'), ('on', 'ADP'), ('the', 'DET'), ('same', 'ADJ'), ('sounds', 'VERB'), ('that', 'ADP'), ('the', 'DET'), ('test', 'NOUN'), ('does', 'VERB'), ('*?*', 'X'), ('*T*-4', 'X'), ('--', '.'), ('to', 'PRT'), ('the', 'DET'), ('exclusion', 'NOUN'), ('of', 'ADP'), ('other', 'ADJ'), ('sounds', 'VERB'), ('that', 'ADP'), ('fifth', 'ADJ'), ('graders', 'NOUN'), ('should', 'VERB'), ('know', 'VERB'), ('*T*-3', 'X'), ('.', '.'), ('Structural', 'NOUN'), ('Dynamics', 'NOUN'), ('Research', 'NOUN'), ('Corp.', 'NOUN'), (',', '.'), ('which', 'DET'), ('*T*-143', 'NOUN'), ('makes', 'VERB'), ('computer-aided', 'NOUN'), ('engineering', 'NOUN'), ('software', 'NOUN'), (',', '.'), ('said', 'VERB'), ('0', 'X'), ('it', 'PRON'), ('introduced', 'VERB'), ('new', 'ADJ'), ('technology', 'NOUN'), ('in', 'ADP'), ('mechanical', 'ADJ'), ('design', 'NOUN'), ('automation', 'NOUN'), ('that', 'ADP'), ('*T*-144', 'NOUN'), ('will', 'VERB'), ('improve', 'VERB'), ('mechanical', 'ADJ'), ('engineering', 'NOUN'), ('productivity', 'NOUN'), ('.', '.'), ('The', 'DET'), ('two', 'NUM'), ('partners', 'NOUN'), ('merely', 'ADV'), ('had', 'VERB'), ('*-1', 'X'), ('to', 'PRT'), ('falsify', 'NOUN'), ('the', 'DET'), ('true', 'ADJ'), ('ownership', 'NOUN'), ('of', 'ADP'), ('the', 'DET'), ('corporation', 'NOUN'), ('.', '.'), ('According', 'VERB'), ('to', 'PRT'), ('reports', 'NOUN'), ('carried', 'VERB'), ('*', 'X'), ('by', 'ADP'), ('various', 'ADJ'), ('news', 'NOUN'), ('services', 'NOUN'), (',', '.'), ('the', 'DET'), ('Brazilian', 'ADJ'), ('government', 'NOUN'), ('told', 'VERB'), ('its', 'PRON'), ('sugar', 'NOUN'), ('producers', 'NOUN'), ('that', 'ADP'), ('they', 'PRON'), ('wo', 'VERB'), (\"n't\", 'ADV'), ('be', 'VERB'), ('allowed', 'VERB'), ('*-1', 'X'), ('to', 'PRT'), ('export', 'NOUN'), ('sugar', 'NOUN'), ('during', 'ADP'), ('the', 'DET'), ('current', 'ADJ'), ('1989-90', 'NUM'), ('season', 'NOUN'), (',', '.'), ('which', 'DET'), ('*T*-92', 'X'), ('began', 'VERB'), ('May', 'NOUN'), ('1', 'NUM'), (',', '.'), ('and', 'CONJ'), ('the', 'DET'), ('1990-91', 'NOUN'), ('season', 'NOUN'), ('so', 'ADV'), ('that', 'ADP'), ('it', 'PRON'), ('can', 'VERB'), ('be', 'VERB'), ('used', 'VERB'), ('*-2', 'X'), ('*', 'X'), ('to', 'PRT'), ('produce', 'VERB'), ('alcohol', 'NOUN'), ('for', 'ADP'), ('automobile', 'NOUN'), ('fuel', 'NOUN'), ('.', '.'), ('He', 'PRON'), ('did', 'VERB'), (\"n't\", 'ADV'), ('see', 'VERB'), ('why', 'ADV'), ('the', 'DET'), ('taxpayers', 'NOUN'), ('should', 'VERB'), ('help', 'VERB'), ('*-2', 'X'), ('build', 'VERB'), ('something', 'NOUN'), ('0', 'X'), ('he', 'PRON'), ('would', 'VERB'), ('then', 'ADV'), ('use', 'VERB'), ('*T*-1', 'X'), ('*', 'X'), ('to', 'PRT'), ('turn', 'VERB'), ('a', 'DET'), ('healthy', 'ADJ'), ('profit', 'NOUN'), ('.', '.'), ('John', 'NOUN'), ('F.', 'NOUN'), ('Barrett', 'NOUN'), (',', '.'), ('40', 'NUM'), (',', '.'), ('formerly', 'ADV'), ('executive', 'ADJ'), ('vice', 'NOUN'), ('president', 'NOUN'), ('and', 'CONJ'), ('chief', 'NOUN'), ('financial', 'ADJ'), ('officer', 'NOUN'), (',', '.'), ('was', 'VERB'), ('named', 'VERB'), ('*-1', 'X'), ('president', 'NOUN'), ('and', 'CONJ'), ('chief', 'NOUN'), ('operating', 'NOUN'), ('officer', 'NOUN'), (',', '.'), ('posts', 'NOUN'), ('which', 'DET'), ('*T*-2', 'X'), ('had', 'VERB'), ('been', 'VERB'), ('vacant', 'ADJ'), ('.', '.'), ('The', 'DET'), ('Stamford', 'NOUN'), (',', '.'), ('Conn.', 'NOUN'), (',', '.'), ('concern', 'NOUN'), ('has', 'VERB'), ('agreed', 'VERB'), ('to', 'PRT'), ('a', 'DET'), ('buy-out', 'NOUN'), ('by', 'ADP'), ('Bank', 'NOUN'), ('of', 'ADP'), ('New', 'NOUN'), ('York', 'NOUN'), ('in', 'ADP'), ('a', 'DET'), ('transaction', 'NOUN'), ('with', 'ADP'), ('an', 'DET'), ('indicated', 'VERB'), ('value', 'NOUN'), ('of', 'ADP'), ('about', 'ADP'), ('$', '.'), ('100', 'NUM'), ('*U*', 'X'), ('a', 'DET'), ('share', 'NOUN'), ('that', 'ADP'), ('*T*-119', 'NOUN'), ('expires', 'NOUN'), ('next', 'ADP'), ('August', 'NOUN'), ('.', '.'), ('Those', 'DET'), ('who', 'PRON'), ('*T*-1', 'X'), ('still', 'ADV'), ('want', 'VERB'), ('*-2', 'X'), ('to', 'PRT'), ('do', 'VERB'), ('it', 'PRON'), ('``', '.'), ('will', 'VERB'), ('just', 'ADV'), ('find', 'VERB'), ('some', 'DET'), ('way', 'NOUN'), ('0', 'X'), ('*', 'X'), ('to', 'PRT'), ('get', 'VERB'), ('around', 'ADP'), (\"''\", '.'), ('any', 'DET'), ('attempt', 'NOUN'), ('*', 'X'), ('to', 'PRT'), ('curb', 'VERB'), ('it', 'PRON'), ('*T*-3', 'X'), ('.', '.'), ('PHOTOGRAPH', 'NOUN'), ('COLLECTING', 'NOUN'), ('gains', 'NOUN'), ('new', 'ADJ'), ('stature', 'NOUN'), ('as', 'ADP'), ('prices', 'NOUN'), ('rise', 'VERB'), ('.', '.'), ('And', 'CONJ'), ('8', 'NUM'), ('%', 'NOUN'), ('*ICH*-1', 'X'), ('said', 'VERB'), ('0', 'X'), ('export', 'NOUN'), ('orders', 'NOUN'), ('were', 'VERB'), ('down', 'ADV'), ('last', 'ADJ'), ('month', 'NOUN'), (',', '.'), ('compared', 'VERB'), ('with', 'ADP'), ('6', 'NUM'), ('%', 'NOUN'), ('the', 'DET'), ('month', 'NOUN'), ('before', 'ADP'), ('.', '.'), ('Big', 'NOUN'), ('Board', 'NOUN'), ('volume', 'NOUN'), ('amounted', 'VERB'), ('to', 'PRT'), ('154,240,000', 'NUM'), ('shares', 'NOUN'), (',', '.'), ('down', 'ADV'), ('from', 'ADP'), ('176.1', 'NOUN'), ('million', 'NUM'), ('Tuesday', 'NOUN'), ('.', '.'), ('``', '.'), ('The', 'DET'), ('situation', 'NOUN'), ('is', 'VERB'), ('that', 'ADP'), ('the', 'DET'), ('bankruptcy', 'NOUN'), ('court', 'NOUN'), ('will', 'VERB'), ('get', 'VERB'), ('out', 'PRT'), ('of', 'ADP'), ('the', 'DET'), ('shipbuilding', 'NOUN'), ('business', 'NOUN'), ('.', '.'), ('The', 'DET'), ('promotion', 'NOUN'), ('helped', 'VERB'), ('Riviera', 'NOUN'), ('sales', 'NOUN'), ('exceed', 'VERB'), ('the', 'DET'), ('division', 'NOUN'), (\"'s\", 'PRT'), ('forecast', 'VERB'), ('by', 'ADP'), ('more', 'ADJ'), ('than', 'ADP'), ('10', 'NUM'), ('%', 'NOUN'), (',', '.'), ('Buick', 'NOUN'), ('said', 'VERB'), ('0', 'X'), ('*T*-1', 'X'), ('at', 'ADP'), ('the', 'DET'), ('time', 'NOUN'), ('.', '.'), ('Wilbur', 'NOUN'), ('Ross', 'NOUN'), ('Jr.', 'NOUN'), ('of', 'ADP'), ('Rothschild', 'NOUN'), ('Inc.', 'NOUN'), (',', '.'), ('the', 'DET'), ('financial', 'ADJ'), ('adviser', 'NOUN'), ('to', 'PRT'), ('the', 'DET'), ('troubled', 'ADJ'), ('company', 'NOUN'), (\"'s\", 'PRT'), ('equity', 'NOUN'), ('holders', 'NOUN'), (',', '.'), ('said', 'VERB'), ('0', 'X'), ('the', 'DET'), ('withdrawal', 'NOUN'), ('of', 'ADP'), ('New', 'NOUN'), ('England', 'NOUN'), ('Electric', 'NOUN'), ('might', 'VERB'), ('speed', 'NOUN'), ('up', 'PRT'), ('the', 'DET'), ('reorganization', 'NOUN'), ('process', 'NOUN'), ('.', '.'), ('The', 'DET'), ('last', 'ADJ'), ('time', 'NOUN'), ('0', 'X'), ('the', 'DET'), ('S&P', 'NOUN'), ('500', 'NUM'), ('yield', 'NOUN'), ('dropped', 'VERB'), ('below', 'ADP'), ('3', 'NUM'), ('%', 'NOUN'), ('*T*-1', 'X'), ('was', 'VERB'), ('in', 'ADP'), ('the', 'DET'), ('summer', 'NOUN'), ('of', 'ADP'), ('1987', 'NUM'), ('.', '.'), ('The', 'DET'), ('following', 'NOUN'), ('*ICH*-2', 'X'), ('were', 'VERB'), ('neither', 'DET'), ('barred', 'VERB'), ('nor', 'CONJ'), ('suspended', 'VERB'), ('*-1', 'X'), (':', '.'), ('Stephanie', 'NOUN'), ('Veselich', 'NOUN'), ('Enright', 'NOUN'), (',', '.'), ('Rolling', 'NOUN'), ('Hills', 'NOUN'), (',', '.'), ('Calif.', 'NOUN'), (',', '.'), ('fined', 'VERB'), ('*-3', 'X'), ('$', '.'), ('2,500', 'NUM'), ('*U*', 'X'), ('and', 'CONJ'), ('ordered', 'VERB'), ('*-3', 'X'), ('*-4', 'X'), ('to', 'PRT'), ('disgorge', 'VERB'), ('$', '.'), ('11,762', 'NOUN'), ('*U*', 'X'), (';', '.'), ('Stuart', 'NOUN'), ('Lane', 'NOUN'), ('Russel', 'NOUN'), (',', '.'), ('Glendale', 'NOUN'), (',', '.'), ('Calif.', 'NOUN'), (',', '.'), ('fined', 'VERB'), ('*-5', 'X'), ('$', '.'), ('2,500', 'NUM'), ('*U*', 'X'), ('and', 'CONJ'), ('ordered', 'VERB'), ('*-5', 'X'), ('*-6', 'X'), ('to', 'PRT'), ('disgorge', 'VERB'), ('$', '.'), ('14,821', 'NOUN'), ('*U*', 'X'), (';', '.'), ('Devon', 'NOUN'), ('Nilson', 'NOUN'), ('Dahl', 'NOUN'), (',', '.'), ('Fountain', 'NOUN'), ('Valley', 'NOUN'), (',', '.'), ('Calif.', 'NOUN'), (',', '.'), ('fined', 'VERB'), ('*-7', 'X'), ('$', '.'), ('82,389', 'NOUN'), ('*U*', 'X'), ('.', '.'), ('Altogether', 'NOUN'), (',', '.'), ('NBI', 'NOUN'), ('said', 'VERB'), ('0', 'X'), ('it', 'PRON'), ('will', 'VERB'), ('eliminate', 'VERB'), ('266', 'NOUN'), ('jobs', 'NOUN'), ('at', 'ADP'), ('its', 'PRON'), ('Boulder', 'NOUN'), ('headquarters', 'NOUN'), (',', '.'), ('176', 'NOUN'), ('field', 'NOUN'), ('sales', 'NOUN'), ('jobs', 'NOUN'), ('and', 'CONJ'), ('50', 'NUM'), ('jobs', 'NOUN'), ('at', 'ADP'), ('its', 'PRON'), ('Canadian', 'ADJ'), ('and', 'CONJ'), ('United', 'NOUN'), ('Kingdom', 'NOUN'), ('headquarters', 'NOUN'), ('.', '.'), ('You', 'PRON'), ('look', 'VERB'), ('around', 'ADP'), ('at', 'ADP'), ('professional', 'ADJ'), ('ballplayers', 'NOUN'), ('or', 'CONJ'), ('accountants', 'NOUN'), ('...', '.'), ('and', 'CONJ'), ('nobody', 'NOUN'), ('blinks', 'NOUN'), ('an', 'DET'), ('eye', 'NOUN'), ('.', '.'), ('RMS', 'NOUN'), ('distributes', 'NOUN'), ('electronic', 'ADJ'), ('devices', 'NOUN'), ('and', 'CONJ'), ('produces', 'NOUN'), ('power', 'NOUN'), ('supplies', 'VERB'), ('and', 'CONJ'), ('plastic', 'ADJ'), ('literature', 'NOUN'), ('displays', 'NOUN'), ('.', '.'), ('Mr.', 'NOUN'), ('Nixon', 'NOUN'), ('met', 'VERB'), ('Mr.', 'NOUN'), ('Bush', 'NOUN'), ('and', 'CONJ'), ('his', 'PRON'), ('national', 'ADJ'), ('security', 'NOUN'), ('adviser', 'NOUN'), (',', '.'), ('Brent', 'NOUN'), ('Scowcroft', 'NOUN'), (',', '.'), ('before', 'ADP'), ('*-1', 'X'), ('coming', 'VERB'), ('to', 'PRT'), ('China', 'NOUN'), ('on', 'ADP'), ('Saturday', 'NOUN'), ('.', '.'), ('First', 'NOUN'), ('Constitution', 'NOUN'), ('has', 'VERB'), ('signed', 'VERB'), ('a', 'DET'), ('merger', 'NOUN'), ('agreement', 'NOUN'), ('*ICH*-1', 'X'), ('with', 'ADP'), ('WFRR', 'NOUN'), ('L.P.', 'NOUN'), ('and', 'CONJ'), ('GHKM', 'NOUN'), ('Corp.', 'NOUN'), (',', '.'), ('under', 'ADP'), ('which', 'DET'), ('all', 'DET'), ('of', 'ADP'), ('its', 'PRON'), ('common', 'ADJ'), ('shares', 'NOUN'), ('will', 'VERB'), ('be', 'VERB'), ('acquired', 'VERB'), ('*-3', 'X'), ('for', 'ADP'), ('$', '.'), ('25', 'NUM'), ('*U*', 'X'), ('each', 'DET'), (',', '.'), ('or', 'CONJ'), ('$', '.'), ('273.5', 'NOUN'), ('million', 'NUM'), ('*U*', 'X'), ('*T*-2', 'X'), ('.', '.'), ('For', 'ADP'), ('all', 'DET'), ('the', 'DET'), ('furor', 'NOUN'), (',', '.'), ('there', 'DET'), ('is', 'VERB'), ('nothing', 'NOUN'), ('particularly', 'ADV'), ('complex', 'ADJ'), ('about', 'ADP'), ('the', 'DET'), ('concept', 'NOUN'), ('of', 'ADP'), ('stock-index', 'ADJ'), ('arbitrage', 'NOUN'), (',', '.'), ('the', 'DET'), ('most', 'ADJ'), ('controversial', 'ADJ'), ('type', 'NOUN'), ('of', 'ADP'), ('computer-assisted', 'ADJ'), ('program', 'NOUN'), ('trading', 'NOUN'), ('.', '.'), ('Primerica', 'NOUN'), ('closed', 'VERB'), ('at', 'ADP'), ('$', '.'), ('28.25', 'NOUN'), ('*U*', 'X'), (',', '.'), ('down', 'ADV'), ('50', 'NUM'), ('cents', 'NOUN'), ('.', '.'), ('This', 'DET'), ('is', 'VERB'), (\"n't\", 'ADV'), ('Buick', 'NOUN'), (\"'s\", 'PRT'), ('first', 'ADJ'), ('travel-related', 'NOUN'), ('promotion', 'NOUN'), ('.', '.'), ('The', 'DET'), ('reaction', 'NOUN'), ('in', 'ADP'), ('the', 'DET'), ('newsroom', 'NOUN'), ('was', 'VERB'), ('emotional', 'NOUN'), ('.', '.'), ('Reuters', 'NOUN'), ('Holdings', 'NOUN'), ('PLC', 'NOUN'), ('said', 'VERB'), ('0', 'X'), ('Michael', 'NOUN'), ('Reupke', 'NOUN'), ('resigned', 'VERB'), ('as', 'ADP'), ('general', 'ADJ'), ('manager', 'NOUN'), ('*-1', 'X'), ('to', 'PRT'), ('pursue', 'VERB'), ('unspecified', 'NOUN'), ('interests', 'NOUN'), (',', '.'), ('a', 'DET'), ('move', 'NOUN'), ('0', 'X'), ('the', 'DET'), ('news', 'NOUN'), ('organization', 'NOUN'), ('termed', 'NOUN'), ('*T*-2', 'X'), ('an', 'DET'), ('``', '.'), ('amicable', 'NOUN'), ('separation', 'NOUN'), ('.', '.'), (\"''\", '.'), ('They', 'PRON'), ('read', 'VERB'), ('Mickey', 'NOUN'), ('Spillane', 'NOUN'), ('and', 'CONJ'), ('talk', 'VERB'), ('about', 'ADP'), ('Groucho', 'NOUN'), ('and', 'CONJ'), ('Harpo', 'NOUN'), ('.', '.'), ('Marubeni', 'NOUN'), ('advanced', 'VERB'), ('11', 'NUM'), ('to', 'PRT'), ('890', 'NOUN'), ('.', '.'), ('China', 'NOUN'), ('was', 'VERB'), ('the', 'DET'), ('real', 'ADJ'), ('victim', 'NOUN'), ('and', 'CONJ'), ('it', 'PRON'), ('*EXP*-1', 'X'), ('is', 'VERB'), ('unjust', 'ADJ'), ('*', 'X'), ('to', 'PRT'), ('reprove', 'NOUN'), ('China', 'NOUN'), ('for', 'ADP'), ('it', 'PRON'), ('.', '.'), (\"''\", '.'), ('Yet', 'CONJ'), ('Section', 'NOUN'), ('605', 'NUM'), ('of', 'ADP'), ('the', 'DET'), ('appropriations', 'NOUN'), ('bill', 'NOUN'), ('for', 'ADP'), ('the', 'DET'), ('executive', 'NOUN'), ('office', 'NOUN'), ('provides', 'VERB'), (':', '.'), ('``', '.'), ('No', 'DET'), ('part', 'NOUN'), ('of', 'ADP'), ('any', 'DET'), ('appropriation', 'NOUN'), ('for', 'ADP'), ('the', 'DET'), ('current', 'ADJ'), ('fiscal', 'ADJ'), ('year', 'NOUN'), ('contained', 'VERB'), ('*', 'X'), ('in', 'ADP'), ('this', 'DET'), ('or', 'CONJ'), ('any', 'DET'), ('other', 'ADJ'), ('Act', 'NOUN'), ('shall', 'VERB'), ('be', 'VERB'), ('paid', 'VERB'), ('*-53', 'X'), ('to', 'PRT'), ('any', 'DET'), ('person', 'NOUN'), ('for', 'ADP'), ('the', 'DET'), ('filling', 'VERB'), ('of', 'ADP'), ('any', 'DET'), ('position', 'NOUN'), ('for', 'ADP'), ('which', 'DET'), ('he', 'PRON'), ('or', 'CONJ'), ('she', 'PRON'), ('has', 'VERB'), ('been', 'VERB'), ('nominated', 'VERB'), ('*-54', 'X'), ('*T*-1', 'X'), ('after', 'ADP'), ('the', 'DET'), ('Senate', 'NOUN'), ('has', 'VERB'), ('voted', 'VERB'), ('*-2', 'X'), ('not', 'ADV'), ('to', 'PRT'), ('approve', 'VERB'), ('the', 'DET'), ('nomination', 'NOUN'), ('of', 'ADP'), ('said', 'VERB'), ('person', 'NOUN'), ('.', '.'), (\"''\", '.'), ('The', 'DET'), ('collapse', 'NOUN'), ('of', 'ADP'), ('junk', 'NOUN'), ('bond', 'NOUN'), ('prices', 'NOUN'), ('and', 'CONJ'), ('the', 'DET'), ('cancellation', 'NOUN'), ('of', 'ADP'), ('many', 'ADJ'), ('junk', 'NOUN'), ('bond', 'NOUN'), ('financings', 'NOUN'), ('apparently', 'ADV'), ('have', 'VERB'), ('taken', 'VERB'), ('their', 'PRON'), ('toll', 'NOUN'), ('on', 'ADP'), ('closely', 'ADV'), ('held', 'VERB'), ('Drexel', 'NOUN'), (',', '.'), ('the', 'DET'), ('leading', 'ADJ'), ('underwriter', 'NOUN'), ('in', 'ADP'), ('that', 'DET'), ('market', 'NOUN'), ('.', '.'), ('But', 'CONJ'), ('in', 'ADP'), ('1988', 'NUM'), (',', '.'), ('McGraw-Hill', 'NOUN'), ('purchased', 'VERB'), ('the', 'DET'), ('Random', 'NOUN'), ('House', 'NOUN'), ('unit', 'NOUN'), ('that', 'ADP'), ('*T*-108', 'NOUN'), ('publishes', 'VERB'), ('Scoring', 'NOUN'), ('High', 'NOUN'), (',', '.'), ('which', 'DET'), ('*T*-109', 'NOUN'), ('later', 'ADJ'), ('became', 'VERB'), ('part', 'NOUN'), ('of', 'ADP'), ('Macmillan\\\\/McGraw', 'NOUN'), ('.', '.'), ('Just', 'ADV'), ('as', 'ADP'), ('all', 'DET'), ('plaintiffs', 'NOUN'), ('are', 'VERB'), ('not', 'ADV'), ('alike', 'NOUN'), (',', '.'), ('it', 'PRON'), ('turns', 'VERB'), ('out', 'PRT'), ('that', 'DET'), ('DES', 'NOUN'), ('defendants', 'NOUN'), ('marketed', 'VERB'), ('the', 'DET'), ('drugs', 'NOUN'), ('differently', 'NOUN'), ('and', 'CONJ'), ('may', 'VERB'), ('have', 'VERB'), ('offered', 'VERB'), ('different', 'ADJ'), ('warranties', 'NOUN'), ('.', '.'), ('``', '.'), ('And', 'CONJ'), ('recessionary', 'ADJ'), ('environments', 'NOUN'), ('are', 'VERB'), (\"n't\", 'ADV'), ('hospitable', 'NOUN'), ('to', 'PRT'), ('the', 'DET'), ('stock', 'NOUN'), ('market', 'NOUN'), ('.', '.'), (\"''\", '.'), ('American', 'NOUN'), ('City', 'NOUN'), ('Business', 'NOUN'), ('Journals', 'NOUN'), ('Inc.', 'NOUN'), ('said', 'VERB'), ('0', 'X'), ('its', 'PRON'), ('president', 'NOUN'), (',', '.'), ('Michael', 'NOUN'), ('K.', 'NOUN'), ('Russell', 'NOUN'), (',', '.'), ('will', 'VERB'), ('resign', 'NOUN'), ('rather', 'ADV'), ('than', 'ADP'), ('relocate', 'NOUN'), ('to', 'PRT'), ('new', 'ADJ'), ('headquarters', 'NOUN'), ('in', 'ADP'), ('Charlotte', 'NOUN'), (',', '.'), ('N.C', 'NOUN'), ('.', '.'), ('Many', 'ADJ'), ('auto', 'NOUN'), ('dealers', 'NOUN'), ('now', 'ADV'), ('let', 'VERB'), ('car', 'NOUN'), ('buyers', 'NOUN'), ('charge', 'NOUN'), ('part', 'NOUN'), ('or', 'CONJ'), ('all', 'DET'), ('of', 'ADP'), ('their', 'PRON'), ('purchase', 'NOUN'), ('on', 'ADP'), ('the', 'DET'), ('American', 'ADJ'), ('Express', 'NOUN'), ('card', 'NOUN'), (',', '.'), ('but', 'CONJ'), ('few', 'ADJ'), ('card', 'NOUN'), ('holders', 'NOUN'), ('realize', 'VERB'), ('this', 'DET'), (',', '.'), ('Mr.', 'NOUN'), ('Riese', 'NOUN'), ('says', 'VERB'), ('0', 'X'), ('*T*-1', 'X'), ('.', '.'), ('A', 'DET'), ('line-item', 'ADJ'), ('veto', 'NOUN'), ('is', 'VERB'), ('a', 'DET'), ('procedure', 'NOUN'), ('that', 'ADP'), ('*T*-1', 'X'), ('would', 'VERB'), ('allow', 'VERB'), ('a', 'DET'), ('president', 'NOUN'), ('to', 'PRT'), ('veto', 'NOUN'), ('part', 'NOUN'), ('of', 'ADP'), ('a', 'DET'), ('big', 'ADJ'), ('congressional', 'ADJ'), ('spending', 'NOUN'), ('bill', 'NOUN'), ('without', 'ADP'), ('*-2', 'X'), ('having', 'VERB'), ('*-3', 'X'), ('to', 'PRT'), ('scuttle', 'NOUN'), ('the', 'DET'), ('entire', 'ADJ'), ('measure', 'NOUN'), ('.', '.'), ('``', '.'), ('She', 'PRON'), ('was', 'VERB'), ('an', 'DET'), ('inspirational', 'NOUN'), ('lady', 'NOUN'), (';', '.'), ('she', 'PRON'), ('had', 'VERB'), ('it', 'PRON'), ('all', 'DET'), ('together', 'ADV'), (',', '.'), (\"''\", '.'), ('says', 'VERB'), ('*T*-1', 'X'), ('Laura', 'NOUN'), ('Dobson', 'NOUN'), (',', '.'), ('a', 'DET'), ('freshman', 'NOUN'), ('at', 'ADP'), ('the', 'DET'), ('University', 'NOUN'), ('of', 'ADP'), ('South', 'NOUN'), ('Carolina', 'NOUN'), ('who', 'PRON'), ('*T*-90', 'NOUN'), ('had', 'VERB'), ('Mrs.', 'NOUN'), ('Yeargin', 'NOUN'), ('in', 'ADP'), ('the', 'DET'), ('teacher-cadet', 'NOUN'), ('class', 'NOUN'), ('last', 'ADJ'), ('year', 'NOUN'), ('.', '.'), ('Any', 'DET'), ('reading', 'NOUN'), ('below', 'ADP'), ('50', 'NUM'), ('%', 'NOUN'), ('suggests', 'VERB'), ('0', 'X'), ('the', 'DET'), ('manufacturing', 'NOUN'), ('sector', 'NOUN'), ('is', 'VERB'), ('generally', 'ADV'), ('declining', 'VERB'), ('.', '.'), ('He', 'PRON'), ('said', 'VERB'), ('0', 'X'), ('disciplinary', 'ADJ'), ('proceedings', 'NOUN'), ('are', 'VERB'), ('confidential', 'ADJ'), ('and', 'CONJ'), ('declined', 'VERB'), ('*-1', 'X'), ('to', 'PRT'), ('comment', 'VERB'), ('on', 'ADP'), ('whether', 'ADP'), ('any', 'DET'), ('are', 'VERB'), ('being', 'VERB'), ('held', 'VERB'), ('*-2', 'X'), ('against', 'ADP'), ('Mr.', 'NOUN'), ('Trudeau', 'NOUN'), ('.', '.'), ('It', 'PRON'), ('also', 'ADV'), ('asks', 'VERB'), ('them', 'PRON'), ('*-1', 'X'), ('to', 'PRT'), ('add', 'VERB'), ('two-sevenths', 'NOUN'), ('and', 'CONJ'), ('three-sevenths', 'NOUN'), ('.', '.'), ('In', 'ADP'), ('the', 'DET'), ('classroom', 'NOUN'), (',', '.'), ('students', 'NOUN'), ('say', 'VERB'), ('0', 'X'), ('*T*-3', 'X'), (',', '.'), ('Mrs.', 'NOUN'), ('Yeargin', 'NOUN'), ('distinguished', 'NOUN'), ('herself', 'NOUN'), ('by', 'ADP'), ('*', 'X'), ('varying', 'VERB'), ('teaching', 'NOUN'), ('approaches', 'NOUN'), ('--', '.'), ('*-1', 'X'), ('forcing', 'VERB'), ('kids', 'NOUN'), ('to', 'PRT'), ('pair', 'NOUN'), ('up', 'PRT'), ('*-2', 'X'), ('to', 'PRT'), ('complete', 'VERB'), ('classroom', 'NOUN'), ('work', 'NOUN'), ('or', 'CONJ'), ('using', 'VERB'), ('college-bowl', 'NOUN'), ('type', 'NOUN'), ('competitions', 'NOUN'), ('.', '.'), ('Many', 'ADJ'), ('lost', 'VERB'), ('their', 'PRON'), ('farms', 'NOUN'), ('.', '.'), ('And', 'CONJ'), ('unlike', 'ADJ'), ('some', 'DET'), ('trays', 'NOUN'), (',', '.'), ('there', 'DET'), (\"'s\", 'VERB'), ('no', 'DET'), ('place', 'NOUN'), ('for', 'ADP'), ('food', 'NOUN'), ('.', '.'), ('The', 'DET'), ('FT', 'NOUN'), ('30-share', 'NOUN'), ('index', 'NOUN'), ('settled', 'VERB'), ('16.7', 'NUM'), ('points', 'NOUN'), ('higher', 'ADJ'), ('at', 'ADP'), ('1738.1', 'NOUN'), ('.', '.'), ('The', 'DET'), ('city', 'NOUN'), ('had', 'VERB'), ('expected', 'VERB'), ('*-1', 'X'), ('to', 'PRT'), ('pay', 'VERB'), ('about', 'ADP'), ('11', 'NUM'), ('million', 'NUM'), ('yen', 'NOUN'), ('-LRB-', '.'), ('$', '.'), ('77,000', 'NOUN'), ('*U*', 'X'), ('-RRB-', '.'), (',', '.'), ('but', 'CONJ'), ('Fujitsu', 'NOUN'), ('essentially', 'ADV'), ('offered', 'VERB'), ('*-2', 'X'), ('to', 'PRT'), ('do', 'VERB'), ('it', 'PRON'), ('for', 'ADP'), ('free', 'ADJ'), ('.', '.'), ('``', '.'), ('They', 'PRON'), ('said', 'VERB'), ('universally', 'NOUN'), (',', '.'), ('without', 'ADP'), ('a', 'DET'), ('single', 'ADJ'), ('exception', 'NOUN'), (':', '.'), ('*', 'X'), ('Do', 'VERB'), (\"n't\", 'ADV'), ('even', 'ADV'), ('compromise', 'VERB'), ('.', '.'), ('The', 'DET'), ('Spiegel', 'NOUN'), ('family', 'NOUN'), ('has', 'VERB'), ('25', 'NUM'), ('%', 'NOUN'), ('of', 'ADP'), ('the', 'DET'), ('common', 'ADJ'), ('and', 'CONJ'), ('75', 'NUM'), ('%', 'NOUN'), ('of', 'ADP'), ('the', 'DET'), ('votes', 'NOUN'), ('.', '.'), ('The', 'DET'), ('one', 'NUM'), ('character', 'NOUN'), ('at', 'ADP'), ('least', 'ADJ'), ('somewhat', 'ADV'), ('interesting', 'ADJ'), ('was', 'VERB'), ('Irving', 'NOUN'), ('Louis', 'NOUN'), ('Lobsenz', 'NOUN'), (',', '.'), ('a', 'DET'), ('pediatrician', 'NOUN'), ('who', 'PRON'), ('*T*-1', 'X'), ('changed', 'VERB'), ('his', 'PRON'), ('name', 'NOUN'), ('to', 'PRT'), ('Rusty', 'NOUN'), ('Kent', 'NOUN'), ('London', 'NOUN'), ('and', 'CONJ'), ('became', 'VERB'), ('a', 'DET'), ('master', 'NOUN'), ('gambler', 'NOUN'), ('and', 'CONJ'), ('author', 'NOUN'), ('of', 'ADP'), ('a', 'DET'), ('book', 'NOUN'), ('on', 'ADP'), ('blackjack', 'NOUN'), ('.', '.'), ('The', 'DET'), ('first', 'ADJ'), ('Champagne', 'NOUN'), ('0', 'X'), ('*T*-1', 'X'), ('to', 'PRT'), ('crack', 'NOUN'), ('that', 'ADP'), ('price', 'NOUN'), ('barrier', 'NOUN'), ('was', 'VERB'), ('the', 'DET'), ('1979', 'NUM'), ('Salon', 'NOUN'), ('de', 'ADP'), ('Mesnil', 'NOUN'), ('Blanc', 'NOUN'), ('de', 'ADP'), ('Blancs', 'NOUN'), ('.', '.'), ('Behind', 'NOUN'), ('all', 'DET'), ('the', 'DET'), ('hoopla', 'NOUN'), ('is', 'VERB'), ('*T*-1', 'X'), ('some', 'DET'), ('heavy-duty', 'NOUN'), ('competition', 'NOUN'), ('.', '.'), ('It', 'PRON'), ('shed', 'NOUN'), ('about', 'ADP'), ('7', 'NUM'), ('pence', 'NOUN'), (',', '.'), ('however', 'ADV'), (',', '.'), ('after', 'ADP'), ('dealers', 'NOUN'), ('said', 'VERB'), ('0', 'X'), ('the', 'DET'), ('market', 'NOUN'), ('was', 'VERB'), ('disappointed', 'VERB'), ('that', 'ADP'), ('Ford', 'NOUN'), ('did', 'VERB'), (\"n't\", 'ADV'), ('move', 'VERB'), ('*-1', 'X'), ('to', 'PRT'), ('tender', 'NOUN'), ('a', 'DET'), ('bid', 'NOUN'), ('for', 'ADP'), ('control', 'NOUN'), ('of', 'ADP'), ('the', 'DET'), ('company', 'NOUN'), ('.', '.'), ('Under', 'ADP'), ('that', 'DET'), ('law', 'NOUN'), (',', '.'), ('parties', 'NOUN'), ('proposing', 'VERB'), ('mergers', 'NOUN'), ('or', 'CONJ'), ('acquisitions', 'NOUN'), ('valued', 'VERB'), ('*', 'X'), ('at', 'ADP'), ('$', '.'), ('15', 'NUM'), ('million', 'NUM'), ('*U*', 'X'), ('or', 'CONJ'), ('more', 'ADJ'), ('must', 'VERB'), ('notify', 'NOUN'), ('FTC', 'NOUN'), ('and', 'CONJ'), ('Justice', 'NOUN'), ('Department', 'NOUN'), ('antitrust', 'ADJ'), ('regulators', 'NOUN'), ('before', 'ADP'), ('*-1', 'X'), ('completing', 'NOUN'), ('the', 'DET'), ('transactions', 'NOUN'), ('.', '.'), ('While', 'ADP'), ('market', 'NOUN'), ('sentiment', 'NOUN'), ('remains', 'VERB'), ('cautiously', 'NOUN'), ('bearish', 'NOUN'), ('on', 'ADP'), ('the', 'DET'), ('dollar', 'NOUN'), ('based', 'VERB'), ('on', 'ADP'), ('sluggish', 'ADJ'), ('U.S.', 'NOUN'), ('economic', 'ADJ'), ('indicators', 'NOUN'), (',', '.'), ('dealers', 'NOUN'), ('note', 'NOUN'), ('that', 'ADP'), ('Japanese', 'ADJ'), ('demand', 'NOUN'), ('has', 'VERB'), ('helped', 'VERB'), ('*-1', 'X'), ('underpin', 'NOUN'), ('the', 'DET'), ('dollar', 'NOUN'), ('against', 'ADP'), ('the', 'DET'), ('yen', 'NOUN'), ('and', 'CONJ'), ('has', 'VERB'), ('kept', 'VERB'), ('the', 'DET'), ('U.S.', 'NOUN'), ('currency', 'NOUN'), ('from', 'ADP'), ('*-2', 'X'), ('plunging', 'VERB'), ('below', 'ADP'), ('key', 'ADJ'), ('levels', 'NOUN'), ('against', 'ADP'), ('the', 'DET'), ('mark', 'NOUN'), ('.', '.'), ('Scoring', 'NOUN'), ('High', 'NOUN'), ('matched', 'VERB'), ('on', 'ADP'), ('64.5', 'NOUN'), ('.', '.'), ('Mr.', 'NOUN'), ('Cray', 'NOUN'), (',', '.'), ('who', 'PRON'), ('*T*-1', 'X'), ('could', 'VERB'), (\"n't\", 'ADV'), ('be', 'VERB'), ('reached', 'VERB'), ('*-24', 'X'), ('for', 'ADP'), ('comment', 'NOUN'), (',', '.'), ('will', 'VERB'), ('work', 'VERB'), ('for', 'ADP'), ('the', 'DET'), ('new', 'ADJ'), ('Colorado', 'NOUN'), ('Springs', 'NOUN'), (',', '.'), ('Colo.', 'NOUN'), (',', '.'), ('company', 'NOUN'), ('as', 'ADP'), ('an', 'DET'), ('independent', 'ADJ'), ('contractor', 'NOUN'), ('--', '.'), ('the', 'DET'), ('arrangement', 'NOUN'), ('0', 'X'), ('he', 'PRON'), ('had', 'VERB'), ('*T*-2', 'X'), ('with', 'ADP'), ('Cray', 'NOUN'), ('Research', 'NOUN'), ('.', '.'), ('In', 'ADP'), ('response', 'NOUN'), ('to', 'PRT'), ('the', 'DET'), ('ruling', 'NOUN'), (',', '.'), ('gilt', 'NOUN'), ('futures', 'NOUN'), ('swiftly', 'ADV'), ('plunged', 'VERB'), ('more', 'ADV'), ('than', 'ADP'), ('a', 'DET'), ('point', 'NOUN'), ('yesterday', 'NOUN'), ('before', 'ADP'), ('*-1', 'X'), ('recovering', 'NOUN'), ('much', 'ADV'), ('of', 'ADP'), ('the', 'DET'), ('loss', 'NOUN'), ('by', 'ADP'), ('the', 'DET'), ('end', 'NOUN'), ('of', 'ADP'), ('the', 'DET'), ('session', 'NOUN'), ('.', '.'), ('PAPERS', 'NOUN'), (':', '.'), ('CERTIFICATES', 'NOUN'), ('OF', 'ADP'), ('DEPOSIT', 'NOUN'), (':', '.'), ('8.07', 'NUM'), ('%', 'NOUN'), ('one', 'NUM'), ('month', 'NOUN'), (';', '.'), ('8.06', 'NOUN'), ('%', 'NOUN'), ('two', 'NUM'), ('months', 'NOUN'), (';', '.'), ('8.04', 'NOUN'), ('%', 'NOUN'), ('three', 'NUM'), ('months', 'NOUN'), (';', '.'), ('7.95', 'NUM'), ('%', 'NOUN'), ('six', 'NUM'), ('months', 'NOUN'), (';', '.'), ('7.88', 'NUM'), ('%', 'NOUN'), ('one', 'NUM'), ('year', 'NOUN'), ('.', '.'), ('Fujitsu', 'NOUN'), ('Ltd.', 'NOUN'), (\"'s\", 'PRT'), ('top', 'ADJ'), ('executive', 'NOUN'), ('took', 'VERB'), ('the', 'DET'), ('unusual', 'ADJ'), ('step', 'NOUN'), ('of', 'ADP'), ('*', 'X'), ('publicly', 'ADV'), ('apologizing', 'NOUN'), ('for', 'ADP'), ('his', 'PRON'), ('company', 'NOUN'), (\"'s\", 'PRT'), ('making', 'VERB'), ('bids', 'NOUN'), ('of', 'ADP'), ('just', 'ADV'), ('one', 'NUM'), ('yen', 'NOUN'), ('for', 'ADP'), ('several', 'ADJ'), ('local', 'ADJ'), ('government', 'NOUN'), ('projects', 'NOUN'), (',', '.'), ('while', 'ADP'), ('computer', 'NOUN'), ('rival', 'NOUN'), ('NEC', 'NOUN'), ('Corp.', 'NOUN'), ('made', 'VERB'), ('a', 'DET'), ('written', 'VERB'), ('apology', 'NOUN'), ('for', 'ADP'), ('*', 'X'), ('indulging', 'NOUN'), ('in', 'ADP'), ('the', 'DET'), ('same', 'ADJ'), ('practice', 'NOUN'), ('.', '.'), ('``', '.'), ('Little', 'NOUN'), ('by', 'ADP'), ('little', 'ADJ'), (',', '.'), ('there', 'DET'), ('is', 'VERB'), ('progress', 'NOUN'), (',', '.'), (\"''\", '.'), ('says', 'VERB'), ('*T*-1', 'X'), ('the', 'DET'), ('MITI', 'NOUN'), ('official', 'NOUN'), ('.', '.'), ('Hammacher', 'NOUN'), ('Schlemmer', 'NOUN'), ('&', 'CONJ'), ('Co.', 'NOUN'), ('offers', 'VERB'), ('a', 'DET'), ('fiber-optic', 'NOUN'), ('Christmas', 'NOUN'), ('tree', 'NOUN'), ('that', 'ADP'), ('*T*-1', 'X'), ('eliminates', 'VERB'), ('the', 'DET'), ('need', 'NOUN'), ('*', 'X'), ('to', 'PRT'), ('string', 'NOUN'), ('lights', 'NOUN'), ('.', '.'), ('The', 'DET'), ('law', 'NOUN'), ('defines', 'NOUN'), ('unfairly', 'ADV'), ('low', 'ADJ'), ('prices', 'NOUN'), ('as', 'ADP'), ('ones', 'NOUN'), ('below', 'ADP'), ('the', 'DET'), ('cost', 'NOUN'), ('of', 'ADP'), ('production', 'NOUN'), ('or', 'CONJ'), ('below', 'ADP'), ('prices', 'NOUN'), ('in', 'ADP'), ('an', 'DET'), ('exporter', 'NOUN'), (\"'s\", 'PRT'), ('home', 'NOUN'), ('market', 'NOUN'), ('.', '.'), ('The', 'DET'), ('decline', 'NOUN'), ('was', 'VERB'), ('even', 'ADV'), ('steeper', 'ADJ'), ('than', 'ADP'), ('in', 'ADP'), ('September', 'NOUN'), ('.', '.'), ('The', 'DET'), ('latest', 'ADJ'), ('results', 'NOUN'), ('include', 'VERB'), ('some', 'DET'), ('unusual', 'ADJ'), ('write-downs', 'NOUN'), (',', '.'), ('which', 'DET'), ('*T*-1', 'X'), ('had', 'VERB'), ('an', 'DET'), ('after-tax', 'ADJ'), ('impact', 'NOUN'), ('of', 'ADP'), ('$', '.'), ('4.9', 'NOUN'), ('million', 'NUM'), ('*U*', 'X'), ('.', '.'), ('Program', 'NOUN'), ('trading', 'NOUN'), ('is', 'VERB'), ('``', '.'), ('a', 'DET'), ('racket', 'NOUN'), (',', '.'), (\"''\", '.'), ('complains', 'VERB'), ('0', 'X'), ('*T*-1', 'X'), ('Edward', 'NOUN'), ('Egnuss', 'NOUN'), (',', '.'), ('a', 'DET'), ('White', 'NOUN'), ('Plains', 'NOUN'), (',', '.'), ('N.Y.', 'NOUN'), (',', '.'), ('investor', 'NOUN'), ('and', 'CONJ'), ('electronics', 'NOUN'), ('sales', 'NOUN'), ('executive', 'NOUN'), (',', '.'), ('``', '.'), ('and', 'CONJ'), ('it', 'PRON'), (\"'s\", 'VERB'), ('not', 'ADV'), ('to', 'PRT'), ('the', 'DET'), ('benefit', 'NOUN'), ('of', 'ADP'), ('the', 'DET'), ('small', 'ADJ'), ('investor', 'NOUN'), (',', '.'), ('that', 'DET'), (\"'s\", 'VERB'), ('for', 'ADP'), ('sure', 'ADJ'), ('.', '.'), (\"''\", '.'), ('Officials', 'NOUN'), ('of', 'ADP'), ('Triton', 'NOUN'), ('could', 'VERB'), (\"n't\", 'ADV'), ('be', 'VERB'), ('reached', 'VERB'), ('*-157', 'NOUN'), ('for', 'ADP'), ('comment', 'NOUN'), ('.', '.'), ('Mr.', 'NOUN'), ('Icahn', 'NOUN'), ('has', 'VERB'), ('said', 'VERB'), ('0', 'X'), ('he', 'PRON'), ('believes', 'VERB'), ('0', 'X'), ('USX', 'NOUN'), ('would', 'VERB'), ('be', 'VERB'), ('worth', 'ADP'), ('more', 'ADJ'), ('if', 'ADP'), ('*-1', 'X'), ('broken', 'VERB'), ('up', 'ADV'), ('*-2', 'X'), ('into', 'ADP'), ('steel', 'NOUN'), ('and', 'CONJ'), ('energy', 'NOUN'), ('segments', 'NOUN'), ('.', '.'), ('The', 'DET'), ('battle', 'NOUN'), ('has', 'VERB'), ('turned', 'VERB'), ('into', 'ADP'), ('a', 'DET'), ('civil', 'NOUN'), ('war', 'NOUN'), ('at', 'ADP'), ('some', 'DET'), ('firms', 'NOUN'), ('and', 'CONJ'), ('organizations', 'NOUN'), (',', '.'), ('*-1', 'X'), ('causing', 'VERB'), ('internal', 'ADJ'), ('contradictions', 'NOUN'), ('and', 'CONJ'), ('pitting', 'NOUN'), ('employee', 'NOUN'), ('against', 'ADP'), ('employee', 'NOUN'), ('.', '.'), ('It', 'PRON'), ('should', 'VERB'), ('be', 'VERB'), ('constantly', 'ADV'), ('stressed', 'VERB'), ('that', 'ADP'), ('Poland', 'NOUN'), (\"'s\", 'PRT'), ('farmers', 'NOUN'), ('mostly', 'ADV'), ('need', 'VERB'), ('a', 'DET'), ('real', 'ADJ'), ('market', 'NOUN'), ('for', 'ADP'), ('their', 'PRON'), ('products', 'NOUN'), ('.', '.'), ('In', 'ADP'), ('other', 'ADJ'), ('transactions', 'NOUN'), (',', '.'), ('Mr.', 'NOUN'), ('Simmons', 'NOUN'), ('has', 'VERB'), ('followed', 'VERB'), ('friendly', 'ADJ'), ('offers', 'NOUN'), ('with', 'ADP'), ('a', 'DET'), ('hostile', 'ADJ'), ('tender', 'NOUN'), ('offer', 'NOUN'), ('.', '.'), ('Since', 'ADP'), ('then', 'ADV'), (',', '.'), ('a', 'DET'), ('team', 'NOUN'), ('of', 'ADP'), ('about', 'ADP'), ('15', 'NUM'), ('MITI', 'NOUN'), ('and', 'CONJ'), ('U.S.', 'NOUN'), ('Commerce', 'NOUN'), ('Department', 'NOUN'), ('officials', 'NOUN'), ('have', 'VERB'), ('crossed', 'NOUN'), ('the', 'DET'), ('globe', 'NOUN'), ('*-1', 'X'), ('gauging', 'NOUN'), ('consumer', 'NOUN'), ('prices', 'NOUN'), ('.', '.'), ('The', 'DET'), ('yield', 'NOUN'), ('on', 'ADP'), ('six-month', 'ADJ'), ('Treasury', 'NOUN'), ('bills', 'NOUN'), ('sold', 'VERB'), ('*', 'X'), ('at', 'ADP'), ('Monday', 'NOUN'), (\"'s\", 'PRT'), ('auction', 'NOUN'), (',', '.'), ('for', 'ADP'), ('example', 'NOUN'), (',', '.'), ('rose', 'VERB'), ('to', 'PRT'), ('8.04', 'NOUN'), ('%', 'NOUN'), ('from', 'ADP'), ('7.90', 'NUM'), ('%', 'NOUN'), ('.', '.'), ('U.S.', 'NOUN'), ('stock-index', 'NOUN'), ('futures', 'NOUN'), ('are', 'VERB'), (\"n't\", 'ADV'), ('even', 'ADV'), ('traded', 'VERB'), ('*-1', 'X'), ('in', 'ADP'), ('Japan', 'NOUN'), ('now', 'ADV'), ('.', '.'), ('Like', 'ADP'), ('other', 'ADJ'), ('forms', 'NOUN'), ('of', 'ADP'), ('arbitrage', 'NOUN'), (',', '.'), ('it', 'PRON'), ('merely', 'ADV'), ('seeks', 'VERB'), ('*-1', 'X'), ('to', 'PRT'), ('take', 'VERB'), ('advantage', 'NOUN'), ('of', 'ADP'), ('momentary', 'NOUN'), ('discrepancies', 'NOUN'), ('in', 'ADP'), ('the', 'DET'), ('price', 'NOUN'), ('of', 'ADP'), ('a', 'DET'), ('single', 'ADJ'), ('product', 'NOUN'), ('--', '.'), ('in', 'ADP'), ('this', 'DET'), ('case', 'NOUN'), (',', '.'), ('a', 'DET'), ('basket', 'NOUN'), ('of', 'ADP'), ('stocks', 'NOUN'), ('--', '.'), ('in', 'ADP'), ('different', 'ADJ'), ('markets', 'NOUN'), ('--', '.'), ('in', 'ADP'), ('this', 'DET'), ('case', 'NOUN'), ('the', 'DET'), ('New', 'NOUN'), ('York', 'NOUN'), ('Stock', 'NOUN'), ('Exchange', 'NOUN'), ('and', 'CONJ'), ('the', 'DET'), ('Chicago', 'NOUN'), ('futures', 'NOUN'), ('markets', 'NOUN'), ('.', '.'), ('Says', 'VERB'), ('*ICH*-1', 'X'), ('Mr.', 'NOUN'), ('Sale', 'NOUN'), (':', '.'), ('``', '.'), ('I', 'PRON'), ('think', 'VERB'), ('0', 'X'), ('more', 'ADV'), ('banks', 'NOUN'), ('are', 'VERB'), ('starting', 'VERB'), ('*-2', 'X'), ('to', 'PRT'), ('realize', 'VERB'), ('that', 'ADP'), ('we', 'PRON'), ('have', 'VERB'), ('*-3', 'X'), ('to', 'PRT'), ('be', 'VERB'), ('more', 'ADV'), ('like', 'ADP'), ('the', 'DET'), ('department', 'NOUN'), ('store', 'VERB'), (',', '.'), ('not', 'ADV'), ('the', 'DET'), ('boutique', 'NOUN'), ('.', '.'), (\"''\", '.'), ('These', 'DET'), ('prices', 'NOUN'), ('seem', 'VERB'), ('rather', 'ADV'), ('modest', 'ADJ'), (',', '.'), ('however', 'ADV'), (',', '.'), ('in', 'ADP'), ('light', 'ADJ'), ('of', 'ADP'), ('other', 'ADJ'), ('French', 'ADJ'), ('wines', 'NOUN'), ('from', 'ADP'), ('current', 'ADJ'), ('vintages', 'NOUN'), ('.', '.'), ('The', 'DET'), ('Treasury', 'NOUN'), ('said', 'VERB'), ('0', 'X'), ('it', 'PRON'), ('needs', 'VERB'), ('*-1', 'X'), ('to', 'PRT'), ('raise', 'VERB'), ('$', '.'), ('47.5', 'NOUN'), ('billion', 'NUM'), ('*U*', 'X'), ('in', 'ADP'), ('the', 'DET'), ('current', 'ADJ'), ('quarter', 'NOUN'), ('in', 'ADP'), ('order', 'NOUN'), ('*-1', 'X'), ('to', 'PRT'), ('end', 'VERB'), ('December', 'NOUN'), ('with', 'ADP'), ('a', 'DET'), ('$', '.'), ('20', 'NUM'), ('billion', 'NUM'), ('*U*', 'X'), ('cash', 'NOUN'), ('balance', 'NOUN'), ('.', '.'), ('Year', 'NOUN'), ('ended', 'VERB'), ('Dec.', 'NOUN'), ('31', 'NUM'), (',', '.'), ('1988', 'NUM'), (':', '.'), ('Net', 'ADJ'), ('income', 'NOUN'), (':', '.'), ('$', '.'), ('65', 'NUM'), ('million', 'NUM'), ('*U*', 'X'), (';', '.'), ('or', 'CONJ'), ('$', '.'), ('1.49', 'NOUN'), ('*U*', 'X'), ('a', 'DET'), ('share', 'NOUN')]\n"
     ]
    }
   ],
   "source": [
    "print(\"Time taken in seconds: \", difference)\n",
    "print(tagged_seq1)"
   ]
  },
  {
   "cell_type": "code",
   "execution_count": 93,
   "metadata": {},
   "outputs": [],
   "source": [
    "# accuracy\n",
    "check = [i for i, j in zip(tagged_seq1, test_run_base) if i == j] "
   ]
  },
  {
   "cell_type": "code",
   "execution_count": 94,
   "metadata": {},
   "outputs": [],
   "source": [
    "accuracy = len(check)/len(tagged_seq1)"
   ]
  },
  {
   "cell_type": "code",
   "execution_count": 95,
   "metadata": {},
   "outputs": [
    {
     "data": {
      "text/plain": [
       "0.9362695352141263"
      ]
     },
     "execution_count": 95,
     "metadata": {},
     "output_type": "execute_result"
    }
   ],
   "source": [
    "accuracy"
   ]
  },
  {
   "cell_type": "markdown",
   "metadata": {},
   "source": [
    "We could see accuracy has been increased to ~94%. Compared to unmodified Viterbi algorithm we could see significant increase in accuracy with modified Viterbi algorithm."
   ]
  },
  {
   "cell_type": "markdown",
   "metadata": {},
   "source": [
    "### Comparing few wrongly tagged words in Original Viterbi Algorithm with Modified Viterbi Algorithm"
   ]
  },
  {
   "cell_type": "code",
   "execution_count": 154,
   "metadata": {},
   "outputs": [
    {
     "name": "stdout",
     "output_type": "stream",
     "text": [
      "Original Viterbi POS tag:\n",
      "\n",
      "[('province', 'NOUN'), ('schoolboys', 'NOUN'), ('plate', 'NOUN'), ('plate', 'NOUN')]\n",
      "\n",
      "\n",
      "Modified Viterbi POS tag:\n",
      "\n",
      "[('province', 'NOUN'), ('schoolboys', 'NOUN'), ('plate', 'NOUN'), ('plate', 'NOUN')]\n"
     ]
    }
   ],
   "source": [
    "#province, schoolboys, plate\n",
    "# Words: province, schoolboys, plate\n",
    "print('Original Viterbi POS tag:\\n')\n",
    "print([pair  for pair in tagged_seq if (pair[0]=='province') | (pair[0]=='schoolboys') | (pair[0]=='plate')])\n",
    "print('\\n')\n",
    "print('Modified Viterbi POS tag:\\n')\n",
    "print([pair  for pair in tagged_seq1 if (pair[0]=='province') | (pair[0]=='schoolboys') | (pair[0]=='plate')])"
   ]
  },
  {
   "cell_type": "markdown",
   "metadata": {},
   "source": [
    "As we could see using original Viterbi POS tagger, the words province, schoolboys and  plate were tagged to 'PRT' POS tag, Now using modified Viterbi these are tagged to 'NOUN' POS tag"
   ]
  },
  {
   "cell_type": "markdown",
   "metadata": {},
   "source": [
    "#### POS Tagging on the test dataset"
   ]
  },
  {
   "cell_type": "code",
   "execution_count": 122,
   "metadata": {},
   "outputs": [],
   "source": [
    "# test dataset\n",
    "start = time.time()\n",
    "tagged_seq11 = Viterbi_1(words)\n",
    "end = time.time()\n",
    "difference = end-start"
   ]
  },
  {
   "cell_type": "code",
   "execution_count": 123,
   "metadata": {},
   "outputs": [
    {
     "data": {
      "text/plain": [
       "[('Android', 'NOUN'),\n",
       " ('is', 'VERB'),\n",
       " ('a', 'DET'),\n",
       " ('mobile', 'ADJ'),\n",
       " ('operating', 'NOUN'),\n",
       " ('system', 'NOUN'),\n",
       " ('developed', 'VERB'),\n",
       " ('by', 'ADP'),\n",
       " ('Google', 'NOUN'),\n",
       " ('.', '.'),\n",
       " ('Android', 'NOUN'),\n",
       " ('has', 'VERB'),\n",
       " ('been', 'VERB'),\n",
       " ('the', 'DET'),\n",
       " ('best-selling', 'ADJ'),\n",
       " ('OS', 'NOUN'),\n",
       " ('worldwide', 'NOUN'),\n",
       " ('on', 'ADP'),\n",
       " ('smartphones', 'NOUN'),\n",
       " ('since', 'ADP'),\n",
       " ('2011', 'NOUN'),\n",
       " ('and', 'CONJ'),\n",
       " ('on', 'ADP'),\n",
       " ('tablets', 'NOUN'),\n",
       " ('since', 'ADP'),\n",
       " ('2013', 'NOUN'),\n",
       " ('.', '.'),\n",
       " ('Google', 'NOUN'),\n",
       " ('and', 'CONJ'),\n",
       " ('Twitter', 'NOUN'),\n",
       " ('made', 'VERB'),\n",
       " ('a', 'DET'),\n",
       " ('deal', 'NOUN'),\n",
       " ('in', 'ADP'),\n",
       " ('2015', 'NOUN'),\n",
       " ('that', 'ADP'),\n",
       " ('gave', 'VERB'),\n",
       " ('Google', 'NOUN'),\n",
       " ('access', 'NOUN'),\n",
       " ('to', 'PRT'),\n",
       " ('Twitter', 'NOUN'),\n",
       " (\"'s\", 'PRT'),\n",
       " ('firehose', 'NOUN'),\n",
       " ('.', '.'),\n",
       " ('Twitter', 'NOUN'),\n",
       " ('is', 'VERB'),\n",
       " ('an', 'DET'),\n",
       " ('online', 'NOUN'),\n",
       " ('news', 'NOUN'),\n",
       " ('and', 'CONJ'),\n",
       " ('social', 'ADJ'),\n",
       " ('networking', 'NOUN'),\n",
       " ('service', 'NOUN'),\n",
       " ('on', 'ADP'),\n",
       " ('which', 'DET'),\n",
       " ('users', 'NOUN'),\n",
       " ('post', 'NOUN'),\n",
       " ('and', 'CONJ'),\n",
       " ('interact', 'NOUN'),\n",
       " ('with', 'ADP'),\n",
       " ('messages', 'NOUN'),\n",
       " ('known', 'VERB'),\n",
       " ('as', 'ADP'),\n",
       " ('tweets', 'NOUN'),\n",
       " ('.', '.'),\n",
       " ('Before', 'ADP'),\n",
       " ('entering', 'VERB'),\n",
       " ('politics', 'NOUN'),\n",
       " (',', '.'),\n",
       " ('Donald', 'NOUN'),\n",
       " ('Trump', 'NOUN'),\n",
       " ('was', 'VERB'),\n",
       " ('a', 'DET'),\n",
       " ('domineering', 'NOUN'),\n",
       " ('businessman', 'NOUN'),\n",
       " ('and', 'CONJ'),\n",
       " ('a', 'DET'),\n",
       " ('television', 'NOUN'),\n",
       " ('personality', 'NOUN'),\n",
       " ('.', '.'),\n",
       " ('The', 'DET'),\n",
       " ('2018', 'NOUN'),\n",
       " ('FIFA', 'NOUN'),\n",
       " ('World', 'NOUN'),\n",
       " ('Cup', 'NOUN'),\n",
       " ('is', 'VERB'),\n",
       " ('the', 'DET'),\n",
       " ('21st', 'NOUN'),\n",
       " ('FIFA', 'NOUN'),\n",
       " ('World', 'NOUN'),\n",
       " ('Cup', 'NOUN'),\n",
       " (',', '.'),\n",
       " ('an', 'DET'),\n",
       " ('international', 'ADJ'),\n",
       " ('football', 'NOUN'),\n",
       " ('tournament', 'NOUN'),\n",
       " ('contested', 'NOUN'),\n",
       " ('once', 'ADV'),\n",
       " ('every', 'DET'),\n",
       " ('four', 'NUM'),\n",
       " ('years', 'NOUN'),\n",
       " ('.', '.'),\n",
       " ('This', 'DET'),\n",
       " ('is', 'VERB'),\n",
       " ('the', 'DET'),\n",
       " ('first', 'ADJ'),\n",
       " ('World', 'NOUN'),\n",
       " ('Cup', 'NOUN'),\n",
       " ('to', 'PRT'),\n",
       " ('be', 'VERB'),\n",
       " ('held', 'VERB'),\n",
       " ('in', 'ADP'),\n",
       " ('Eastern', 'NOUN'),\n",
       " ('Europe', 'NOUN'),\n",
       " ('and', 'CONJ'),\n",
       " ('the', 'DET'),\n",
       " ('11th', 'ADJ'),\n",
       " ('time', 'NOUN'),\n",
       " ('that', 'ADP'),\n",
       " ('it', 'PRON'),\n",
       " ('has', 'VERB'),\n",
       " ('been', 'VERB'),\n",
       " ('held', 'VERB'),\n",
       " ('in', 'ADP'),\n",
       " ('Europe', 'NOUN'),\n",
       " ('.', '.'),\n",
       " ('Show', 'NOUN'),\n",
       " ('me', 'PRON'),\n",
       " ('the', 'DET'),\n",
       " ('cheapest', 'ADJ'),\n",
       " ('round', 'NOUN'),\n",
       " ('trips', 'NOUN'),\n",
       " ('from', 'ADP'),\n",
       " ('Dallas', 'NOUN'),\n",
       " ('to', 'PRT'),\n",
       " ('Atlanta', 'NOUN'),\n",
       " ('I', 'PRON'),\n",
       " ('would', 'VERB'),\n",
       " ('like', 'ADP'),\n",
       " ('to', 'PRT'),\n",
       " ('see', 'VERB'),\n",
       " ('flights', 'NOUN'),\n",
       " ('from', 'ADP'),\n",
       " ('Denver', 'NOUN'),\n",
       " ('to', 'PRT'),\n",
       " ('Philadelphia', 'NOUN'),\n",
       " ('.', '.'),\n",
       " ('Show', 'NOUN'),\n",
       " ('me', 'PRON'),\n",
       " ('the', 'DET'),\n",
       " ('price', 'NOUN'),\n",
       " ('of', 'ADP'),\n",
       " ('the', 'DET'),\n",
       " ('flights', 'NOUN'),\n",
       " ('leaving', 'VERB'),\n",
       " ('Atlanta', 'NOUN'),\n",
       " ('at', 'ADP'),\n",
       " ('about', 'ADP'),\n",
       " ('3', 'NUM'),\n",
       " ('in', 'ADP'),\n",
       " ('the', 'DET'),\n",
       " ('afternoon', 'NOUN'),\n",
       " ('and', 'CONJ'),\n",
       " ('arriving', 'NOUN'),\n",
       " ('in', 'ADP'),\n",
       " ('San', 'NOUN'),\n",
       " ('Francisco', 'NOUN'),\n",
       " ('.', '.'),\n",
       " ('NASA', 'NOUN'),\n",
       " ('invited', 'NOUN'),\n",
       " ('social', 'ADJ'),\n",
       " ('media', 'NOUN'),\n",
       " ('users', 'NOUN'),\n",
       " ('to', 'PRT'),\n",
       " ('experience', 'NOUN'),\n",
       " ('the', 'DET'),\n",
       " ('launch', 'NOUN'),\n",
       " ('of', 'ADP'),\n",
       " ('ICESAT-2', 'NOUN'),\n",
       " ('Satellite', 'NOUN'),\n",
       " ('.', '.')]"
      ]
     },
     "execution_count": 123,
     "metadata": {},
     "output_type": "execute_result"
    }
   ],
   "source": [
    "tagged_seq11"
   ]
  },
  {
   "cell_type": "markdown",
   "metadata": {},
   "source": [
    "### Comparing few wrongly tagged words in Original Viterbi Algorithm with Modified Viterbi Algorithm"
   ]
  },
  {
   "cell_type": "code",
   "execution_count": 152,
   "metadata": {},
   "outputs": [
    {
     "name": "stdout",
     "output_type": "stream",
     "text": [
      "Original Viterbi POS tag:\n",
      "\n",
      "[('Google', 'PRT'), ('Google', 'PRT'), ('Twitter', 'PRT'), ('Google', 'PRT'), ('Twitter', 'PRT'), ('Twitter', 'PRT')]\n",
      "\n",
      "\n",
      "Modified Viterbi POS tag:\n",
      "\n",
      "[('Google', 'NOUN'), ('Google', 'NOUN'), ('Twitter', 'NOUN'), ('Google', 'NOUN'), ('Twitter', 'NOUN'), ('Twitter', 'NOUN')]\n"
     ]
    }
   ],
   "source": [
    "# Words: Google, Twitter\n",
    "print('Original Viterbi POS tag:\\n')\n",
    "print([pair  for pair in tagged_seq01 if (pair[0]=='Twitter') | (pair[0]=='Google') ])\n",
    "print('\\n')\n",
    "print('Modified Viterbi POS tag:\\n')\n",
    "print([pair  for pair in tagged_seq11 if (pair[0]=='Twitter') | (pair[0]=='Google') ])"
   ]
  },
  {
   "cell_type": "markdown",
   "metadata": {},
   "source": [
    "On the test data also we could see, words like Android, Google, Twitter were tagged to 'PRT' and now these words are tagged with 'NOUN' POS tag"
   ]
  },
  {
   "cell_type": "markdown",
   "metadata": {},
   "source": [
    "### Approch 2: Modified Viterbi Heuristic algorithm, based on previous POS tag, guessing the next current POS tag. "
   ]
  },
  {
   "cell_type": "code",
   "execution_count": 145,
   "metadata": {},
   "outputs": [],
   "source": [
    "# Approch 2: Modified Viterbi Heuristic algorithm, Based on Previous tag, deciding the next tag. \n",
    "\n",
    "def Viterbi_2(words, train_bag = train_tagged_words):\n",
    "    state = []\n",
    "    T = list(set([pair[1] for pair in train_bag]))\n",
    "    \n",
    "    for key, word in enumerate(words):\n",
    "        #initialise list of probability column for a given observation\n",
    "        p = [] \n",
    "        for tag in T:\n",
    "            if key == 0:\n",
    "                transition_p = tags_df.loc['.', tag]\n",
    "            else:\n",
    "                transition_p = tags_df.loc[state[-1], tag]\n",
    "                \n",
    "            # compute emission and state probabilities\n",
    "            emission_p = word_given_tag(words[key], tag)[0]/word_given_tag(words[key], tag)[1]\n",
    "            state_probability = emission_p * transition_p    \n",
    "            p.append(state_probability)\n",
    "            \n",
    "        pmax = max(p)\n",
    "        # getting state for which probability is maximum\n",
    "        if (pmax == 0) & (key != 0):\n",
    "            prev_tag = ''\n",
    "            prev_tag = state[-1]\n",
    "            state_max = tags_df.loc[prev_tag,:].idxmax()\n",
    "            state.append(state_max)\n",
    "        elif (pmax==0) & (key == 0):\n",
    "            state.append('NOUN')\n",
    "        else: \n",
    "            state_max = T[p.index(pmax)] \n",
    "            state.append(state_max)\n",
    "    return list(zip(words, state))"
   ]
  },
  {
   "cell_type": "markdown",
   "metadata": {},
   "source": [
    "### POS tagging of the vadidation dataset using modified Viterbi Algorithm"
   ]
  },
  {
   "cell_type": "code",
   "execution_count": 99,
   "metadata": {},
   "outputs": [],
   "source": [
    "# tagging the test sentences\n",
    "start = time.time()\n",
    "tagged_seq2 = Viterbi_2(test_tagged_words)\n",
    "end = time.time()\n",
    "difference = end-start"
   ]
  },
  {
   "cell_type": "code",
   "execution_count": 100,
   "metadata": {},
   "outputs": [
    {
     "name": "stdout",
     "output_type": "stream",
     "text": [
      "Time taken in seconds:  928.7559370994568\n",
      "[('Few', 'ADJ'), ('people', 'NOUN'), ('think', 'VERB'), ('0', 'X'), ('Mr.', 'NOUN'), ('Spiegel', 'NOUN'), ('wants', 'VERB'), ('*-1', 'X'), ('to', 'PRT'), ('run', 'VERB'), ('a', 'DET'), ('bread-and-butter', 'NOUN'), ('thrift', 'NOUN'), (',', '.'), ('which', 'DET'), ('current', 'ADJ'), ('rules', 'NOUN'), ('would', 'VERB'), ('force', 'VERB'), ('Columbia', 'NOUN'), ('to', 'PRT'), ('become', 'VERB'), ('*T*-2', 'X'), ('.', '.'), ('Too', 'ADV'), ('often', 'ADV'), ('now', 'ADV'), (',', '.'), ('a', 'DET'), ('single', 'ADJ'), ('court', 'NOUN'), ('decision', 'NOUN'), ('becomes', 'VERB'), ('the', 'DET'), ('precedent', 'NOUN'), ('for', 'ADP'), ('other', 'ADJ'), (',', '.'), ('less', 'ADJ'), ('compelling', 'NOUN'), ('cases', 'NOUN'), ('.', '.'), ('The', 'DET'), ('next', 'ADJ'), ('province', 'NOUN'), ('?', '.'), ('After', 'ADP'), ('the', 'DET'), ('race', 'NOUN'), (',', '.'), ('Fortune', 'NOUN'), ('500', 'NUM'), ('executives', 'NOUN'), ('drooled', 'NOUN'), ('like', 'ADP'), ('schoolboys', 'NOUN'), ('over', 'ADP'), ('the', 'DET'), ('cars', 'NOUN'), ('and', 'CONJ'), ('drivers', 'NOUN'), ('.', '.'), ('Michael', 'NOUN'), ('Basham', 'NOUN'), (',', '.'), ('deputy', 'NOUN'), ('assistant', 'NOUN'), ('secretary', 'NOUN'), ('for', 'ADP'), ('federal', 'ADJ'), ('finance', 'NOUN'), (',', '.'), ('said', 'VERB'), ('0', 'X'), ('the', 'DET'), ('Treasury', 'NOUN'), ('may', 'VERB'), ('wait', 'VERB'), ('until', 'ADP'), ('late', 'ADJ'), ('Monday', 'NOUN'), ('or', 'CONJ'), ('even', 'ADV'), ('early', 'ADJ'), ('Tuesday', 'NOUN'), ('*-2', 'X'), ('to', 'PRT'), ('announce', 'VERB'), ('whether', 'ADP'), ('the', 'DET'), ('autions', 'NOUN'), ('are', 'VERB'), ('*-1', 'X'), ('to', 'PRT'), ('be', 'VERB'), ('rescheduled', 'X'), ('*-106', 'VERB'), ('.', '.'), ('*-1', 'X'), ('Encouraged', 'VERB'), ('*-2', 'X'), ('by', 'ADP'), ('Mrs.', 'NOUN'), ('Ward', 'NOUN'), (',', '.'), ('Mrs.', 'NOUN'), ('Yeargin', 'NOUN'), ('taught', 'VERB'), ('honor', 'VERB'), ('students', 'NOUN'), ('in', 'ADP'), ('the', 'DET'), ('state', 'NOUN'), ('``', '.'), ('teacher', 'NOUN'), ('cadet', 'NOUN'), (\"''\", '.'), ('program', 'NOUN'), (',', '.'), ('a', 'DET'), ('reform', 'NOUN'), ('creation', 'NOUN'), ('designed', 'VERB'), ('*', 'X'), ('*-3', 'X'), ('to', 'PRT'), ('encourage', 'VERB'), ('good', 'ADJ'), ('students', 'NOUN'), ('to', 'PRT'), ('consider', 'VERB'), ('teaching', 'NOUN'), ('as', 'ADP'), ('a', 'DET'), ('career', 'NOUN'), ('.', '.'), ('Even', 'ADV'), ('a', 'DET'), ('low-tech', 'NOUN'), ('product', 'NOUN'), ('like', 'ADP'), ('plate', 'NOUN'), ('glass', 'NOUN'), ('can', 'VERB'), ('catch', 'NOUN'), ('a', 'DET'), ('trading', 'NOUN'), ('company', 'NOUN'), (\"'s\", 'PRT'), ('fancy', 'VERB'), ('if', 'ADP'), ('there', 'DET'), (\"'s\", 'VERB'), ('a', 'DET'), ('strategic', 'NOUN'), ('fit', 'NOUN'), ('.', '.'), ('Buying', 'VERB'), ('for', 'ADP'), ('the', 'DET'), ('most', 'ADJ'), ('part', 'NOUN'), ('carried', 'VERB'), ('over', 'ADP'), ('from', 'ADP'), ('the', 'DET'), ('previous', 'ADJ'), ('session', 'NOUN'), (',', '.'), ('and', 'CONJ'), ('traders', 'NOUN'), ('apparently', 'ADV'), ('ignored', 'VERB'), ('reports', 'NOUN'), ('that', 'ADP'), ('a', 'DET'), ('Chilean', 'ADJ'), ('mine', 'NOUN'), ('strike', 'NOUN'), ('may', 'VERB'), ('have', 'VERB'), ('ended', 'VERB'), ('almost', 'ADV'), ('before', 'ADP'), ('it', 'PRON'), ('began', 'VERB'), (',', '.'), ('an', 'DET'), ('analyst', 'NOUN'), ('said', 'VERB'), ('0', 'X'), ('*T*-1', 'X'), ('.', '.'), ('A', 'DET'), ('1', 'NUM'), ('%', 'NOUN'), ('to', 'PRT'), ('2', 'NUM'), ('%', 'NOUN'), ('*U*', 'X'), ('return', 'VERB'), ('on', 'ADP'), ('$', '.'), ('17', 'NUM'), ('billion', 'NUM'), ('*U*', 'X'), ('``', '.'), ('ai', 'NOUN'), (\"n't\", 'ADV'), ('hay', 'NOUN'), (',', '.'), (\"''\", '.'), ('Mr.', 'NOUN'), ('Klauser', 'NOUN'), ('says', 'VERB'), ('0', 'X'), ('*T*-1', 'X'), ('.', '.'), ('Such', 'ADJ'), ('problems', 'NOUN'), ('will', 'VERB'), ('require', 'VERB'), ('considerable', 'ADJ'), ('skill', 'NOUN'), ('*', 'X'), ('to', 'PRT'), ('resolve', 'VERB'), ('.', '.'), ('Mortgage-Backed', 'NOUN'), ('Issues', 'NOUN'), ('Polls', 'NOUN'), ('once', 'ADV'), ('named', 'VERB'), ('Tokyo', 'NOUN'), ('Giants', 'NOUN'), ('star', 'NOUN'), ('Tatsunori', 'NOUN'), ('Hara', 'NOUN'), (',', '.'), ('a', 'DET'), ('``', '.'), ('humble', 'NOUN'), (',', '.'), ('uncomplaining', 'NOUN'), (',', '.'), ('obedient', 'NOUN'), ('soul', 'NOUN'), (',', '.'), (\"''\", '.'), ('as', 'ADP'), ('the', 'DET'), ('male', 'NOUN'), ('symbol', 'NOUN'), ('of', 'ADP'), ('Japan', 'NOUN'), ('.', '.'), ('The', 'DET'), ('service', 'NOUN'), ('--', '.'), ('which', 'DET'), ('*T*-2', 'X'), ('costs', 'NOUN'), ('the', 'DET'), ('caller', 'NOUN'), ('from', 'ADP'), ('30', 'NUM'), ('cents', 'NOUN'), ('to', 'PRT'), ('$', '.'), ('25', 'NUM'), ('*U*', 'X'), ('a', 'DET'), ('minute', 'ADJ'), ('--', '.'), ('currently', 'ADV'), ('is', 'VERB'), ('dominated', 'VERB'), ('*-1', 'X'), ('by', 'ADP'), ('celebrity', 'NOUN'), ('chatter', 'NOUN'), (',', '.'), ('horoscopes', 'NOUN'), ('and', 'CONJ'), ('romance', 'NOUN'), ('lines', 'NOUN'), ('.', '.'), ('ENERGY', 'NOUN'), (':', '.'), ('Crude', 'ADJ'), ('oil', 'NOUN'), ('futures', 'NOUN'), ('prices', 'NOUN'), ('increased', 'VERB'), ('in', 'ADP'), ('moderate', 'ADJ'), ('trading', 'NOUN'), (',', '.'), ('but', 'CONJ'), ('much', 'ADV'), ('of', 'ADP'), ('the', 'DET'), ('action', 'NOUN'), ('was', 'VERB'), ('in', 'ADP'), ('heating', 'NOUN'), ('oil', 'NOUN'), ('.', '.'), ('Sometimes', 'ADV'), ('you', 'PRON'), ('just', 'ADV'), ('go', 'VERB'), ('with', 'ADP'), ('your', 'PRON'), ('gut', 'VERB'), ('.', '.'), (\"''\", '.'), ('Sales', 'NOUN'), ('rose', 'VERB'), ('11', 'NUM'), ('%', 'NOUN'), ('to', 'PRT'), ('292.32', 'VERB'), ('billion', 'NUM'), ('yen', 'NOUN'), ('from', 'ADP'), ('263.07', 'NOUN'), ('billion', 'NUM'), ('yen', 'NOUN'), ('.', '.'), ('Transamerica', 'NOUN'), ('Corp.', 'NOUN'), (',', '.'), ('San', 'NOUN'), ('Francisco', 'NOUN'), (',', '.'), ('said', 'VERB'), ('0', 'X'), ('third-quarter', 'NOUN'), ('profit', 'NOUN'), ('was', 'VERB'), ('essentially', 'ADV'), ('flat', 'ADJ'), ('despite', 'ADP'), ('a', 'DET'), ('large', 'ADJ'), ('one-time', 'ADJ'), ('gain', 'NOUN'), ('a', 'DET'), ('year', 'NOUN'), ('earlier', 'ADV'), ('.', '.'), ('The', 'DET'), ('offer', 'NOUN'), (',', '.'), ('which', 'DET'), ('*T*-2', 'X'), ('follows', 'VERB'), ('a', 'DET'), ('$', '.'), ('55-a-share', 'NOUN'), ('*U*', 'X'), ('bid', 'VERB'), ('that', 'ADP'), ('*T*-3', 'X'), ('was', 'VERB'), ('rejected', 'VERB'), ('*-1', 'X'), ('in', 'ADP'), ('September', 'NOUN'), (',', '.'), ('steps', 'NOUN'), ('up', 'PRT'), ('pressure', 'NOUN'), ('on', 'ADP'), ('the', 'DET'), ('chemicals', 'NOUN'), ('concern', 'NOUN'), ('.', '.'), ('Also', 'ADV'), (',', '.'), ('substantially', 'ADV'), ('lower', 'ADJ'), ('Dutch', 'NOUN'), ('corporate', 'ADJ'), ('tax', 'NOUN'), ('rates', 'NOUN'), ('helped', 'VERB'), ('the', 'DET'), ('company', 'NOUN'), ('keep', 'VERB'), ('its', 'PRON'), ('tax', 'NOUN'), ('outlay', 'NOUN'), ('flat', 'ADJ'), ('relative', 'ADJ'), ('to', 'PRT'), ('earnings', 'NOUN'), ('growth', 'NOUN'), (',', '.'), ('the', 'DET'), ('company', 'NOUN'), ('added', 'VERB'), ('0', 'X'), ('*T*-1', 'X'), ('.', '.'), ('IBM', 'NOUN'), (',', '.'), ('the', 'DET'), ('world', 'NOUN'), ('leader', 'NOUN'), ('in', 'ADP'), ('computers', 'NOUN'), (',', '.'), ('did', 'VERB'), (\"n't\", 'ADV'), ('offer', 'VERB'), ('its', 'PRON'), ('first', 'ADJ'), ('PC', 'NOUN'), ('until', 'ADP'), ('August', 'NOUN'), ('1981', 'NUM'), ('as', 'ADP'), ('many', 'ADJ'), ('other', 'ADJ'), ('companies', 'NOUN'), ('entered', 'VERB'), ('the', 'DET'), ('market', 'NOUN'), ('.', '.'), ('The', 'DET'), ('30-day', 'ADJ'), ('simple', 'ADJ'), ('yield', 'NOUN'), ('fell', 'VERB'), ('to', 'PRT'), ('an', 'DET'), ('average', 'ADJ'), ('8.19', 'NOUN'), ('%', 'NOUN'), ('from', 'ADP'), ('8.22', 'NOUN'), ('%', 'NOUN'), (';', '.'), ('the', 'DET'), ('30-day', 'ADJ'), ('compound', 'NOUN'), ('yield', 'VERB'), ('slid', 'VERB'), ('to', 'PRT'), ('an', 'DET'), ('average', 'ADJ'), ('8.53', 'NOUN'), ('%', 'NOUN'), ('from', 'ADP'), ('8.56', 'NOUN'), ('%', 'NOUN'), ('.', '.'), ('Komatsu', 'NOUN'), ('predicted', 'VERB'), ('that', 'ADP'), ('for', 'ADP'), ('the', 'DET'), ('fiscal', 'ADJ'), ('year', 'NOUN'), ('ending', 'VERB'), ('March', 'NOUN'), ('31', 'NUM'), ('sales', 'NOUN'), ('will', 'VERB'), ('climb', 'X'), ('to', 'PRT'), ('600', 'NUM'), ('billion', 'NUM'), ('yen', 'NOUN'), ('from', 'ADP'), ('566.54', 'NOUN'), ('billion', 'NUM'), ('yen', 'NOUN'), (';', '.'), ('pretax', 'NOUN'), ('profit', 'NOUN'), ('was', 'VERB'), ('forecast', 'VERB'), ('*-1', 'X'), ('at', 'ADP'), ('35', 'NUM'), ('billion', 'NUM'), ('yen', 'NOUN'), (',', '.'), ('up', 'ADV'), ('from', 'ADP'), ('28.53', 'NOUN'), ('billion', 'NUM'), ('yen', 'NOUN'), ('in', 'ADP'), ('fiscal', 'ADJ'), ('1989', 'NUM'), ('.', '.'), ('In', 'ADP'), ('the', 'DET'), ('third', 'ADJ'), ('quarter', 'NOUN'), (',', '.'), ('Georgia', 'NOUN'), ('Gulf', 'NOUN'), ('earned', 'VERB'), ('$', '.'), ('46.1', 'NOUN'), ('million', 'NUM'), ('*U*', 'X'), (',', '.'), ('or', 'CONJ'), ('$', '.'), ('1.85', 'NOUN'), ('*U*', 'X'), ('a', 'DET'), ('share', 'NOUN'), (',', '.'), ('down', 'ADV'), ('from', 'ADP'), ('$', '.'), ('53', 'NUM'), ('million', 'NUM'), ('*U*', 'X'), (',', '.'), ('or', 'CONJ'), ('$', '.'), ('1.85', 'NOUN'), ('*U*', 'X'), ('a', 'DET'), ('share', 'NOUN'), ('on', 'ADP'), ('fewer', 'ADJ'), ('shares', 'NOUN'), ('outstanding', 'ADJ'), ('.', '.'), ('On', 'ADP'), ('the', 'DET'), ('other', 'ADJ'), ('hand', 'NOUN'), (',', '.'), ('if', 'ADP'), ('it', 'PRON'), ('goes', 'VERB'), ('way', 'NOUN'), ('sky', 'NOUN'), ('high', 'ADJ'), (',', '.'), ('I', 'PRON'), ('always', 'ADV'), ('sell', 'VERB'), ('.', '.'), ('``', '.'), ('All', 'DET'), ('of', 'ADP'), ('these', 'DET'), ('forces', 'NOUN'), ('came', 'VERB'), ('together', 'ADV'), ('in', 'ADP'), ('1988', 'NUM'), ('*', 'X'), ('to', 'PRT'), ('benefit', 'VERB'), ('agriculture', 'X'), (',', '.'), (\"''\", '.'), ('Mr.', 'NOUN'), ('Collins', 'NOUN'), ('said', 'VERB'), ('*T*-1', 'X'), ('.', '.'), ('$', '.'), ('107', 'NUM'), ('million', 'NUM'), ('*U*', 'X'), ('of', 'ADP'), ('tax', 'NOUN'), ('allocation', 'NOUN'), ('bonds', 'NOUN'), (',', '.'), ('1989', 'NUM'), ('Series', 'NOUN'), ('A-D', 'NOUN'), (',', '.'), ('due', 'ADJ'), ('1991-1999', 'NOUN'), (',', '.'), ('2009', 'NUM'), ('and', 'CONJ'), ('2019', 'NUM'), (',', '.'), ('tentatively', 'ADV'), ('priced', 'VERB'), ('*', 'X'), ('by', 'ADP'), ('a', 'DET'), ('Donaldson', 'NOUN'), ('Lufkin', 'NOUN'), ('&', 'CONJ'), ('Jenrette', 'NOUN'), ('Securities', 'NOUN'), ('Corp.', 'NOUN'), ('group', 'NOUN'), ('*', 'X'), ('to', 'PRT'), ('yield', 'VERB'), ('from', 'ADP'), ('6.40', 'NUM'), ('%', 'NOUN'), ('in', 'ADP'), ('1991', 'NUM'), ('to', 'PRT'), ('7.458', 'NUM'), ('%', 'NOUN'), ('in', 'ADP'), ('2019', 'NUM'), ('.', '.'), ('Signs', 'NOUN'), ('of', 'ADP'), ('a', 'DET'), ('slowing', 'NOUN'), ('economy', 'NOUN'), ('are', 'VERB'), ('increasing', 'VERB'), ('pressure', 'NOUN'), ('*ICH*-2', 'X'), ('on', 'ADP'), ('the', 'DET'), ('Federal', 'NOUN'), ('Reserve', 'NOUN'), ('*', 'X'), ('to', 'PRT'), ('cut', 'VERB'), ('short-term', 'ADJ'), ('interest', 'NOUN'), ('rates', 'NOUN'), (',', '.'), ('but', 'CONJ'), ('it', 'PRON'), ('*EXP*-1', 'X'), ('is', 'VERB'), (\"n't\", 'ADV'), ('clear', 'ADJ'), ('whether', 'ADP'), ('the', 'DET'), ('central', 'ADJ'), ('bank', 'NOUN'), ('will', 'VERB'), ('do', 'VERB'), ('so', 'ADV'), ('.', '.'), ('Junk', 'NOUN'), ('bonds', 'NOUN'), ('trailed', 'VERB'), ('the', 'DET'), ('group', 'NOUN'), ('again', 'ADV'), ('.', '.'), ('``', '.'), ('Many', 'ADJ'), ('in', 'ADP'), ('the', 'DET'), ('United', 'NOUN'), ('States', 'NOUN'), (',', '.'), ('including', 'VERB'), ('many', 'ADJ'), ('friends', 'NOUN'), ('of', 'ADP'), ('China', 'NOUN'), (',', '.'), ('believe', 'VERB'), ('0', 'X'), ('the', 'DET'), ('crackdown', 'NOUN'), ('was', 'VERB'), ('excessive', 'ADJ'), ('and', 'CONJ'), ('unjustified', 'ADJ'), (',', '.'), (\"''\", '.'), ('Mr.', 'NOUN'), ('Nixon', 'NOUN'), ('told', 'VERB'), ('Mr.', 'NOUN'), ('Yang', 'NOUN'), (',', '.'), ('who', 'PRON'), ('*T*-242', 'VERB'), ('was', 'VERB'), ('directly', 'ADV'), ('involved', 'VERB'), ('*-2', 'X'), ('in', 'ADP'), ('*', 'X'), ('ordering', 'VERB'), ('the', 'DET'), ('attack', 'NOUN'), ('*T*-1', 'X'), ('.', '.'), ('``', '.'), ('The', 'DET'), ('unavailability', 'NOUN'), ('of', 'ADP'), ('federal', 'ADJ'), ('funds', 'NOUN'), (',', '.'), ('and', 'CONJ'), ('the', 'DET'), ('climate', 'NOUN'), ('in', 'ADP'), ('which', 'DET'), ('the', 'DET'), ('decision', 'NOUN'), ('was', 'VERB'), ('made', 'VERB'), ('*-2', 'X'), ('*T*-1', 'X'), (',', '.'), ('certainly', 'ADV'), ('do', 'VERB'), (\"n't\", 'ADV'), ('provide', 'VERB'), ('any', 'DET'), ('incentive', 'NOUN'), ('for', 'ADP'), ('one', 'NUM'), ('of', 'ADP'), ('the', 'DET'), ('more', 'ADJ'), ('visible', 'ADJ'), ('foundations', 'NOUN'), ('to', 'PRT'), ('provide', 'VERB'), ('support', 'VERB'), (',', '.'), (\"''\", '.'), ('he', 'PRON'), ('said', 'VERB'), ('*T*-3', 'X'), ('.', '.'), ('In', 'ADP'), ('any', 'DET'), ('case', 'NOUN'), (',', '.'), ('opinion', 'NOUN'), ('*ICH*-2', 'X'), ('is', 'VERB'), ('mixed', 'VERB'), ('on', 'ADP'), ('how', 'ADV'), ('much', 'ADV'), ('of', 'ADP'), ('a', 'DET'), ('boost', 'NOUN'), ('the', 'DET'), ('overall', 'ADJ'), ('stock', 'NOUN'), ('market', 'NOUN'), ('would', 'VERB'), ('get', 'VERB'), ('*T*-1', 'X'), ('even', 'ADV'), ('if', 'ADP'), ('dividend', 'NOUN'), ('growth', 'NOUN'), ('continues', 'VERB'), ('at', 'ADP'), ('double-digit', 'ADJ'), ('levels', 'NOUN'), ('.', '.'), ('Terms', 'NOUN'), ('were', 'VERB'), (\"n't\", 'ADV'), ('disclosed', 'VERB'), ('*-1', 'X'), ('.', '.'), ('Virtually', 'NOUN'), ('word', 'NOUN'), ('for', 'ADP'), ('word', 'NOUN'), (',', '.'), ('the', 'DET'), ('notes', 'NOUN'), ('matched', 'VERB'), ('questions', 'NOUN'), ('and', 'CONJ'), ('answers', 'NOUN'), ('on', 'ADP'), ('the', 'DET'), ('social-studies', 'NOUN'), ('section', 'NOUN'), ('of', 'ADP'), ('the', 'DET'), ('test', 'NOUN'), ('0', 'X'), ('the', 'DET'), ('student', 'NOUN'), ('was', 'VERB'), ('taking', 'VERB'), ('*T*-1', 'X'), ('.', '.'), ('Hallwood', 'NOUN'), (',', '.'), ('a', 'DET'), ('Cleveland', 'NOUN'), ('merchant', 'NOUN'), ('bank', 'NOUN'), (',', '.'), ('owns', 'VERB'), ('about', 'ADP'), ('11', 'NUM'), ('%', 'NOUN'), ('of', 'ADP'), ('Integra', 'NOUN'), ('.', '.'), ('After', 'ADP'), ('years', 'NOUN'), ('of', 'ADP'), ('struggling', 'VERB'), (',', '.'), ('the', 'DET'), ('Los', 'NOUN'), ('Angeles', 'NOUN'), ('Herald', 'NOUN'), ('Examiner', 'NOUN'), ('will', 'VERB'), ('publish', 'VERB'), ('its', 'PRON'), ('last', 'ADJ'), ('edition', 'NOUN'), ('today', 'NOUN'), (',', '.'), ('*-1', 'X'), ('shut', 'VERB'), ('down', 'ADV'), ('by', 'ADP'), ('its', 'PRON'), ('parent', 'NOUN'), (',', '.'), ('Hearst', 'NOUN'), ('Corp.', 'NOUN'), (',', '.'), ('following', 'VERB'), ('unsuccessful', 'ADJ'), ('efforts', 'NOUN'), ('*', 'X'), ('to', 'PRT'), ('sell', 'VERB'), ('the', 'DET'), ('venerable', 'ADJ'), ('newspaper', 'NOUN'), ('.', '.'), ('Compromises', 'NOUN'), ('are', 'VERB'), ('possible', 'ADJ'), ('.', '.'), ('Sir', 'NOUN'), ('Peter', 'NOUN'), ('will', 'VERB'), ('succeed', 'VERB'), ('Sir', 'NOUN'), ('John', 'NOUN'), ('Milne', 'NOUN'), (',', '.'), ('65', 'NUM'), (',', '.'), ('who', 'PRON'), ('*T*-158', 'VERB'), ('retires', 'X'), ('as', 'ADP'), ('Blue', 'NOUN'), ('Circle', 'NOUN'), ('nonexecutive', 'ADJ'), ('chairman', 'NOUN'), ('on', 'ADP'), ('June', 'NOUN'), ('1', 'NUM'), ('.', '.'), ('Partly', 'ADV'), ('because', 'ADP'), ('of', 'ADP'), ('worries', 'VERB'), ('about', 'ADP'), ('potential', 'ADJ'), ('abuse', 'NOUN'), (',', '.'), ('however', 'ADV'), (',', '.'), ('he', 'PRON'), ('says', 'VERB'), ('0', 'X'), ('the', 'DET'), ('state', 'NOUN'), ('will', 'VERB'), ('begin', 'VERB'), ('*-1', 'X'), ('keeping', 'VERB'), ('closer', 'ADV'), ('track', 'VERB'), ('of', 'ADP'), ('achievement-test', 'NOUN'), ('preparation', 'NOUN'), ('booklets', 'NOUN'), ('next', 'ADP'), ('spring', 'NOUN'), ('.', '.'), ('Mr.', 'NOUN'), ('Egnuss', 'NOUN'), (\"'s\", 'PRT'), ('dislike', 'VERB'), ('of', 'ADP'), ('program', 'NOUN'), ('trading', 'NOUN'), ('is', 'VERB'), ('echoed', 'X'), ('*-1', 'X'), ('by', 'ADP'), ('many', 'ADJ'), ('small', 'ADJ'), ('investors', 'NOUN'), ('interviewed', 'VERB'), ('*', 'X'), ('by', 'ADP'), ('Wall', 'NOUN'), ('Street', 'NOUN'), ('Journal', 'NOUN'), ('reporters', 'NOUN'), ('across', 'ADP'), ('the', 'DET'), ('country', 'NOUN'), ('.', '.'), ('Mrs.', 'NOUN'), ('Ward', 'NOUN'), ('says', 'VERB'), ('that', 'ADP'), ('when', 'ADV'), ('the', 'DET'), ('cheating', 'NOUN'), ('was', 'VERB'), ('discovered', 'VERB'), ('*-4', 'X'), ('*T*-1', 'X'), (',', '.'), ('she', 'PRON'), ('wanted', 'VERB'), ('*-2', 'X'), ('to', 'PRT'), ('avoid', 'VERB'), ('the', 'DET'), ('morale-damaging', 'NOUN'), ('public', 'NOUN'), ('disclosure', 'NOUN'), ('that', 'ADP'), ('a', 'DET'), ('trial', 'NOUN'), ('would', 'VERB'), ('bring', 'VERB'), ('*T*-3', 'X'), ('.', '.'), ('Any', 'DET'), ('question', 'NOUN'), ('as', 'ADP'), ('to', 'PRT'), ('why', 'ADV'), ('an', 'DET'), ('author', 'NOUN'), ('would', 'VERB'), ('believe', 'VERB'), ('0', 'X'), ('this', 'DET'), ('plaintive', 'NOUN'), (',', '.'), ('high-minded', 'NOUN'), ('note', 'NOUN'), ('of', 'ADP'), ('assurance', 'NOUN'), ('is', 'VERB'), ('necessary', 'ADJ'), ('*T*-2', 'X'), ('is', 'VERB'), ('answered', 'VERB'), ('*-1', 'X'), ('by', 'ADP'), ('*', 'X'), ('reading', 'NOUN'), ('this', 'DET'), ('book', 'NOUN'), ('about', 'ADP'), ('sticky', 'NOUN'), ('fingers', 'NOUN'), ('and', 'CONJ'), ('sweaty', 'NOUN'), ('scammers', 'NOUN'), ('.', '.'), ('That', 'DET'), ('explains', 'VERB'), ('why', 'ADV'), ('the', 'DET'), ('number', 'NOUN'), ('of', 'ADP'), ('these', 'DET'), ('wines', 'NOUN'), ('is', 'VERB'), ('expanding', 'VERB'), ('so', 'ADV'), ('rapidly', 'ADV'), ('.', '.'), ('The', 'DET'), ('utility', 'NOUN'), ('has', 'VERB'), ('been', 'VERB'), ('collecting', 'X'), ('for', 'ADP'), ('the', 'DET'), ('plant', 'NOUN'), (\"'s\", 'PRT'), ('construction', 'NOUN'), ('cost', 'NOUN'), ('from', 'ADP'), ('its', 'PRON'), ('3.1', 'NUM'), ('million', 'NUM'), ('customers', 'NOUN'), ('subject', 'NOUN'), ('to', 'PRT'), ('a', 'DET'), ('refund', 'NOUN'), ('since', 'ADP'), ('1986', 'NUM'), ('.', '.'), ('Upjohn', 'NOUN'), ('officials', 'NOUN'), ('said', 'VERB'), ('0', 'X'), ('they', 'PRON'), ('could', 'VERB'), (\"n't\", 'ADV'), ('estimate', 'NOUN'), ('the', 'DET'), ('size', 'NOUN'), ('of', 'ADP'), ('the', 'DET'), ('charge', 'NOUN'), ('until', 'ADP'), ('they', 'PRON'), ('determine', 'VERB'), ('which', 'DET'), ('employees', 'NOUN'), (',', '.'), ('and', 'CONJ'), ('how', 'ADV'), ('many', 'ADJ'), (',', '.'), ('*T*-1', 'X'), ('will', 'VERB'), ('participate', 'VERB'), ('in', 'ADP'), ('the', 'DET'), ('retirement', 'NOUN'), ('plan', 'NOUN'), ('.', '.'), ('LSI', 'NOUN'), ('Logic', 'NOUN'), ('Corp.', 'NOUN'), ('reported', 'VERB'), ('a', 'DET'), ('surprise', 'NOUN'), ('$', '.'), ('35.7', 'NUM'), ('million', 'NUM'), ('*U*', 'X'), ('third-quarter', 'NOUN'), ('net', 'NOUN'), ('loss', 'NOUN'), (',', '.'), ('including', 'VERB'), ('a', 'DET'), ('special', 'ADJ'), ('restructuring', 'NOUN'), ('charge', 'NOUN'), ('that', 'ADP'), ('*T*-145', 'NOUN'), ('reflects', 'VERB'), ('a', 'DET'), ('continuing', 'VERB'), ('industry-wide', 'X'), ('slowdown', 'NOUN'), ('in', 'ADP'), ('semiconductor', 'NOUN'), ('demand', 'NOUN'), ('.', '.'), ('Sony', 'NOUN'), ('is', 'VERB'), ('paying', 'VERB'), ('$', '.'), ('27', 'NUM'), ('*U*', 'X'), ('a', 'DET'), ('share', 'NOUN'), (',', '.'), ('or', 'CONJ'), ('$', '.'), ('3.55', 'NOUN'), ('billion', 'NUM'), ('*U*', 'X'), (',', '.'), ('cash', 'NOUN'), ('and', 'CONJ'), ('is', 'VERB'), ('assuming', 'VERB'), ('$', '.'), ('1.4', 'NOUN'), ('billion', 'NUM'), ('*U*', 'X'), ('of', 'ADP'), ('long-term', 'ADJ'), ('debt', 'NOUN'), ('.', '.'), ('The', 'DET'), ('Coleman', 'NOUN'), ('counterattack', 'NOUN'), ('featured', 'VERB'), ('a', 'DET'), ('close-up', 'NOUN'), ('of', 'ADP'), ('a', 'DET'), ('young', 'ADJ'), ('woman', 'NOUN'), ('in', 'ADP'), ('shadows', 'NOUN'), ('and', 'CONJ'), ('the', 'DET'), ('ad', 'NOUN'), ('suggested', 'VERB'), ('that', 'ADP'), ('she', 'PRON'), ('was', 'VERB'), ('recalling', 'X'), ('an', 'DET'), ('unpleasant', 'NOUN'), ('courtroom', 'NOUN'), ('ordeal', 'NOUN'), ('.', '.'), ('The', 'DET'), ('nonprofit', 'ADJ'), (',', '.'), ('industry-supported', 'NOUN'), ('group', 'NOUN'), ('said', 'VERB'), ('0', 'X'), ('its', 'PRON'), ('Consumer', 'NOUN'), ('Confidence', 'NOUN'), ('Index', 'NOUN'), ('was', 'VERB'), ('116.4', 'X'), ('in', 'ADP'), ('October', 'NOUN'), (',', '.'), ('*-1', 'X'), ('barely', 'VERB'), ('changed', 'VERB'), ('*-2', 'X'), ('from', 'ADP'), ('a', 'DET'), ('revised', 'NOUN'), ('116.3', 'NOUN'), ('in', 'ADP'), ('September', 'NOUN'), ('.', '.'), ('``', '.'), ('What', 'PRON'), ('sector', 'NOUN'), ('is', 'VERB'), ('*T*-46', 'X'), ('stepping', 'VERB'), ('forward', 'ADV'), ('*-2', 'X'), ('to', 'PRT'), ('pick', 'VERB'), ('up', 'ADV'), ('the', 'DET'), ('slack', 'ADJ'), ('?', '.'), (\"''\", '.'), ('he', 'PRON'), ('asked', 'VERB'), ('*T*-1', 'X'), ('.', '.'), ('The', 'DET'), ('sweeping', 'ADJ'), ('nature', 'NOUN'), ('of', 'ADP'), ('the', 'DET'), ('bill', 'NOUN'), ('draws', 'NOUN'), ('a', 'DET'), ('variety', 'NOUN'), ('of', 'ADP'), ('special', 'ADJ'), ('interest', 'NOUN'), ('amendments', 'NOUN'), (',', '.'), ('running', 'VERB'), ('from', 'ADP'), ('an', 'DET'), ('import', 'NOUN'), ('exemption', 'NOUN'), ('for', 'ADP'), ('a', 'DET'), ('California', 'NOUN'), ('airplane', 'NOUN'), ('museum', 'NOUN'), ('to', 'PRT'), ('a', 'DET'), ('small', 'ADJ'), ('but', 'CONJ'), ('intriguing', 'NOUN'), ('struggle', 'NOUN'), ('among', 'ADP'), ('sugar', 'NOUN'), ('producing', 'VERB'), ('nations', 'NOUN'), ('over', 'ADP'), ('the', 'DET'), ('fate', 'NOUN'), ('of', 'ADP'), ('Panama', 'NOUN'), (\"'s\", 'PRT'), ('quota', 'NOUN'), ('of', 'ADP'), ('exports', 'NOUN'), ('to', 'PRT'), ('the', 'DET'), ('profitable', 'ADJ'), ('U.S.', 'NOUN'), ('market', 'NOUN'), ('.', '.'), ('Trinity', 'NOUN'), ('Industries', 'NOUN'), ('Inc.', 'NOUN'), ('said', 'VERB'), ('0', 'X'), ('it', 'PRON'), ('reached', 'VERB'), ('a', 'DET'), ('preliminary', 'ADJ'), ('agreement', 'NOUN'), ('*', 'X'), ('to', 'PRT'), ('sell', 'VERB'), ('500', 'NUM'), ('railcar', 'NOUN'), ('platforms', 'NOUN'), ('to', 'PRT'), ('Trailer', 'VERB'), ('Train', 'X'), ('Co.', 'NOUN'), ('of', 'ADP'), ('Chicago', 'NOUN'), ('.', '.'), ('20', 'NUM'), ('million', 'NUM'), ('Swiss', 'ADJ'), ('francs', 'NOUN'), ('of', 'ADP'), ('6', 'NUM'), ('1\\\\/2', 'NUM'), ('%', 'NOUN'), ('privately', 'ADV'), ('placed', 'VERB'), ('notes', 'NOUN'), ('due', 'ADJ'), ('Nov.', 'NOUN'), ('29', 'NUM'), (',', '.'), ('1996', 'NOUN'), (',', '.'), ('priced', 'VERB'), ('*', 'X'), ('at', 'ADP'), ('99', 'NUM'), ('1\\\\/2', 'NUM'), ('via', 'ADP'), ('Dai-Ichi', 'NOUN'), ('Kangyo', 'NOUN'), ('Bank', 'NOUN'), ('-LRB-', '.'), ('Schweiz', 'NOUN'), ('-RRB-', '.'), ('.', '.'), ('Highway', 'NOUN'), ('officials', 'NOUN'), ('insist', 'VERB'), ('0', 'X'), ('the', 'DET'), ('ornamental', 'NOUN'), ('railings', 'NOUN'), ('on', 'ADP'), ('older', 'ADJ'), ('bridges', 'NOUN'), ('are', 'VERB'), (\"n't\", 'ADV'), ('strong', 'ADJ'), ('enough', 'ADJ'), ('*', 'X'), ('to', 'PRT'), ('prevent', 'VERB'), ('vehicles', 'NOUN'), ('from', 'ADP'), ('*', 'X'), ('crashing', 'VERB'), ('through', 'ADP'), ('.', '.'), ('Despite', 'ADP'), ('the', 'DET'), ('enormous', 'ADJ'), ('sums', 'NOUN'), ('of', 'ADP'), ('money', 'NOUN'), ('0', 'X'), ('they', 'PRON'), (\"'re\", 'VERB'), ('paid', 'VERB'), ('*T*-1', 'X'), ('*-2', 'X'), ('to', 'PRT'), ('stand', 'VERB'), ('up', 'ADV'), ('at', 'ADP'), ('a', 'DET'), ('Japanese', 'ADJ'), ('plate', 'NOUN'), (',', '.'), ('a', 'DET'), ('good', 'ADJ'), ('number', 'NOUN'), ('decide', 'VERB'), ('0', 'X'), ('it', 'PRON'), (\"'s\", 'VERB'), ('not', 'ADV'), ('worth', 'ADP'), ('it', 'PRON'), ('and', 'CONJ'), ('run', 'VERB'), ('for', 'ADP'), ('home', 'NOUN'), ('.', '.'), ('In', 'ADP'), ('early', 'ADJ'), ('trading', 'NOUN'), ('in', 'ADP'), ('Hong', 'NOUN'), ('Kong', 'NOUN'), ('Thursday', 'NOUN'), (',', '.'), ('gold', 'NOUN'), ('was', 'VERB'), ('quoted', 'VERB'), ('*-1', 'X'), ('at', 'ADP'), ('$', '.'), ('374.19', 'NOUN'), ('*U*', 'X'), ('an', 'DET'), ('ounce', 'NOUN'), ('.', '.'), ('A', 'DET'), ('Reuters', 'NOUN'), ('spokesman', 'NOUN'), ('said', 'VERB'), ('0', 'X'), ('the', 'DET'), ('departure', 'NOUN'), ('reflects', 'VERB'), ('``', '.'), ('no', 'DET'), ('change', 'NOUN'), ('in', 'ADP'), ('strategy', 'NOUN'), ('or', 'CONJ'), ('profits', 'NOUN'), ('.', '.'), (\"''\", '.'), ('The', 'DET'), ('1990', 'NUM'), ('appropriations', 'NOUN'), ('legislation', 'NOUN'), ('attempts', 'NOUN'), ('*-1', 'X'), ('to', 'PRT'), ('strip', 'NOUN'), ('the', 'DET'), ('president', 'NOUN'), ('of', 'ADP'), ('his', 'PRON'), ('powers', 'NOUN'), ('*', 'X'), ('to', 'PRT'), ('make', 'VERB'), ('certain', 'ADJ'), ('appointments', 'NOUN'), ('as', 'ADP'), ('*', 'X'), ('provided', 'VERB'), ('*-2', 'X'), ('by', 'ADP'), ('Article', 'NOUN'), ('II', 'NOUN'), ('.', '.'), ('Bob', 'NOUN'), ('has', 'VERB'), ('an', 'DET'), ('agenda', 'NOUN'), ('and', 'CONJ'), ('this', 'DET'), ('seemed', 'VERB'), ('like', 'ADP'), ('the', 'DET'), ('natural', 'ADJ'), ('time', 'NOUN'), ('.', '.'), (\"''\", '.'), ('He', 'PRON'), ('enters', 'VERB'), ('the', 'DET'), ('story', 'NOUN'), ('toward', 'ADP'), ('the', 'DET'), ('end', 'NOUN'), (',', '.'), ('just', 'ADV'), ('in', 'ADP'), ('time', 'NOUN'), ('0', 'X'), ('*', 'X'), ('to', 'PRT'), ('get', 'VERB'), ('*-1', 'X'), ('arrested', 'VERB'), ('*-1', 'X'), ('*T*-2', 'X'), ('.', '.'), ('The', 'DET'), ('roofs', 'NOUN'), ('would', 'VERB'), ('be', 'VERB'), ('required', 'VERB'), ('*-1', 'X'), ('to', 'PRT'), ('withstand', 'VERB'), ('a', 'DET'), ('force', 'NOUN'), ('of', 'ADP'), ('1.5', 'NUM'), ('times', 'NOUN'), ('the', 'DET'), ('unloaded', 'NOUN'), ('weight', 'NOUN'), ('of', 'ADP'), ('the', 'DET'), ('vehicle', 'NOUN'), ('.', '.'), ('The', 'DET'), ('Central', 'NOUN'), ('Council', 'NOUN'), ('of', 'ADP'), ('Church', 'NOUN'), ('Bell', 'NOUN'), ('Ringers', 'NOUN'), (',', '.'), ('a', 'DET'), ('sort', 'NOUN'), ('of', 'ADP'), ('parliament', 'NOUN'), ('of', 'ADP'), ('ringing', 'NOUN'), ('groups', 'NOUN'), (',', '.'), ('aims', 'NOUN'), ('*-1', 'X'), ('to', 'PRT'), ('improve', 'VERB'), ('relations', 'NOUN'), ('with', 'ADP'), ('vicars', 'NOUN'), (',', '.'), ('says', 'VERB'), ('0', 'X'), ('*T*-2', 'X'), ('John', 'NOUN'), ('C.', 'NOUN'), ('Baldwin', 'NOUN'), (',', '.'), ('president', 'NOUN'), ('.', '.'), ('Workers', 'NOUN'), ('dumped', 'VERB'), ('large', 'ADJ'), ('burlap', 'NOUN'), ('sacks', 'NOUN'), ('of', 'ADP'), ('the', 'DET'), ('imported', 'VERB'), ('material', 'NOUN'), ('into', 'ADP'), ('a', 'DET'), ('huge', 'ADJ'), ('bin', 'NOUN'), (',', '.'), ('poured', 'NOUN'), ('in', 'ADP'), ('cotton', 'NOUN'), ('and', 'CONJ'), ('acetate', 'NOUN'), ('fibers', 'NOUN'), ('and', 'CONJ'), ('mechanically', 'NOUN'), ('mixed', 'VERB'), ('the', 'DET'), ('dry', 'ADJ'), ('fibers', 'NOUN'), ('in', 'ADP'), ('a', 'DET'), ('process', 'NOUN'), ('used', 'VERB'), ('*', 'X'), ('*', 'X'), ('to', 'PRT'), ('make', 'VERB'), ('filters', 'NOUN'), ('.', '.'), ('Then', 'ADV'), (',', '.'), ('just', 'ADV'), ('as', 'ADP'), ('an', 'DET'), ('image', 'NOUN'), ('of', 'ADP'), ('the', 'DET'), ('statue', 'NOUN'), ('of', 'ADP'), ('Thomas', 'NOUN'), ('Jefferson', 'NOUN'), ('dissolves', 'NOUN'), ('from', 'ADP'), ('the', 'DET'), ('screen', 'NOUN'), (',', '.'), ('the', 'DET'), ('announcer', 'NOUN'), ('continues', 'VERB'), (':', '.'), ('``', '.'), ('On', 'ADP'), ('the', 'DET'), ('issue', 'NOUN'), ('of', 'ADP'), ('abortion', 'NOUN'), (',', '.'), ('Marshall', 'NOUN'), ('Coleman', 'NOUN'), ('wants', 'VERB'), ('*-1', 'X'), ('to', 'PRT'), ('take', 'VERB'), ('away', 'ADV'), ('your', 'PRON'), ('right', 'NOUN'), ('*', 'X'), ('to', 'PRT'), ('choose', 'VERB'), ('and', 'CONJ'), ('*-1', 'X'), ('give', 'VERB'), ('it', 'PRON'), ('to', 'PRT'), ('the', 'DET'), ('politicians', 'NOUN'), ('.', '.'), (\"''\", '.'), ('``', '.'), ('There', 'DET'), ('is', 'VERB'), ('incredible', 'X'), ('pressure', 'VERB'), ('*ICH*-2', 'X'), ('on', 'ADP'), ('school', 'NOUN'), ('systems', 'NOUN'), ('and', 'CONJ'), ('teachers', 'NOUN'), ('*', 'X'), ('to', 'PRT'), ('raise', 'VERB'), ('test', 'NOUN'), ('scores', 'NOUN'), (',', '.'), (\"''\", '.'), ('says', 'VERB'), ('*T*-1', 'X'), ('Walt', 'VERB'), ('Haney', 'X'), (',', '.'), ('an', 'DET'), ('education', 'NOUN'), ('professor', 'NOUN'), ('and', 'CONJ'), ('testing', 'NOUN'), ('specialist', 'NOUN'), ('at', 'ADP'), ('Boston', 'NOUN'), ('College', 'NOUN'), ('.', '.'), ('Czechoslovakia', 'NOUN'), ('said', 'VERB'), ('in', 'ADP'), ('May', 'NOUN'), ('0', 'X'), ('it', 'PRON'), ('could', 'VERB'), ('seek', 'VERB'), ('$', '.'), ('2', 'NUM'), ('billion', 'NUM'), ('*U*', 'X'), ('from', 'ADP'), ('Hungary', 'NOUN'), ('if', 'ADP'), ('the', 'DET'), ('twindam', 'NOUN'), ('contract', 'NOUN'), ('were', 'VERB'), ('broken', 'VERB'), ('*-68', 'X'), ('.', '.'), ('Michael', 'NOUN'), ('Ross', 'NOUN'), (',', '.'), ('a', 'DET'), ('New', 'NOUN'), ('York', 'NOUN'), ('lawyer', 'NOUN'), ('who', 'PRON'), ('*T*-132', 'VERB'), ('heads', 'VERB'), ('the', 'DET'), ('ABA', 'NOUN'), (\"'s\", 'PRT'), ('grand', 'VERB'), ('jury', 'NOUN'), ('committee', 'NOUN'), (',', '.'), ('said', 'VERB'), ('that', 'ADP'), ('lawyers', 'NOUN'), ('are', 'VERB'), ('prohibited', 'X'), ('*-1', 'X'), ('by', 'ADP'), ('the', 'DET'), ('ABA', 'NOUN'), (\"'s\", 'PRT'), ('code', 'NOUN'), ('of', 'ADP'), ('ethics', 'NOUN'), ('from', 'ADP'), ('*-1', 'X'), ('disclosing', 'VERB'), ('information', 'NOUN'), ('about', 'ADP'), ('a', 'DET'), ('client', 'NOUN'), ('except', 'ADP'), ('where', 'ADV'), ('a', 'DET'), ('court', 'NOUN'), ('orders', 'NOUN'), ('it', 'PRON'), ('*T*-3', 'X'), ('or', 'CONJ'), ('*-1', 'X'), ('to', 'PRT'), ('prevent', 'VERB'), ('the', 'DET'), ('client', 'NOUN'), ('from', 'ADP'), ('*-4', 'X'), ('committing', 'VERB'), ('a', 'DET'), ('criminal', 'ADJ'), ('act', 'NOUN'), ('that', 'ADP'), ('*T*-2', 'X'), ('could', 'VERB'), ('result', 'VERB'), ('in', 'ADP'), ('death', 'NOUN'), ('.', '.'), ('For', 'ADP'), ('their', 'PRON'), ('part', 'NOUN'), (',', '.'), ('Taiwan', 'NOUN'), ('and', 'CONJ'), ('South', 'NOUN'), ('Korea', 'NOUN'), ('are', 'VERB'), ('expected', 'VERB'), ('*-1', 'X'), ('to', 'PRT'), ('step', 'VERB'), ('up', 'ADV'), ('their', 'PRON'), ('own', 'ADJ'), ('investments', 'NOUN'), ('in', 'ADP'), ('the', 'DET'), ('next', 'ADJ'), ('decade', 'NOUN'), ('*-2', 'X'), ('to', 'PRT'), ('try', 'VERB'), ('*-3', 'X'), ('to', 'PRT'), ('slow', 'VERB'), ('the', 'DET'), ('Japanese', 'ADJ'), ('juggernaut', 'NOUN'), ('.', '.'), ('``', '.'), ('Insurance', 'NOUN'), ('agents', 'NOUN'), ('have', 'VERB'), ('been', 'VERB'), ('forced', 'VERB'), ('*-158', 'X'), ('by', 'ADP'), ('their', 'PRON'), ('companies', 'NOUN'), ('into', 'ADP'), ('*-2', 'X'), ('becoming', 'VERB'), ('registered', 'VERB'), ('reps', 'X'), (',', '.'), (\"''\", '.'), ('he', 'PRON'), ('said', 'VERB'), ('*T*-1', 'X'), (',', '.'), ('``', '.'), ('but', 'CONJ'), ('they', 'PRON'), ('are', 'VERB'), ('not', 'ADV'), ('providing', 'VERB'), ('compliance', 'NOUN'), ('and', 'CONJ'), ('security-type', 'NOUN'), ('training', 'NOUN'), ('so', 'ADV'), ('that', 'ADP'), ('we', 'PRON'), ('can', 'VERB'), ('avoid', 'VERB'), ('stupid', 'ADJ'), ('mistakes', 'NOUN'), ('.', '.'), (\"''\", '.'), ('An', 'DET'), ('official', 'NOUN'), ('for', 'ADP'), ('the', 'DET'), ('lead', 'NOUN'), ('underwriter', 'NOUN'), ('declined', 'VERB'), ('*-1', 'X'), ('to', 'PRT'), ('comment', 'VERB'), ('on', 'ADP'), ('the', 'DET'), ('reason', 'NOUN'), ('for', 'ADP'), ('the', 'DET'), ('delay', 'VERB'), (',', '.'), ('but', 'CONJ'), ('market', 'NOUN'), ('participants', 'NOUN'), ('speculated', 'VERB'), ('that', 'ADP'), ('a', 'DET'), ('number', 'NOUN'), ('of', 'ADP'), ('factors', 'NOUN'), (',', '.'), ('including', 'VERB'), ('a', 'DET'), ('lack', 'NOUN'), ('of', 'ADP'), ('investor', 'NOUN'), ('interest', 'NOUN'), (',', '.'), ('were', 'VERB'), ('responsible', 'ADJ'), ('.', '.'), ('Panama', 'NOUN'), ('was', 'VERB'), ('stripped', 'X'), ('*-8', 'X'), ('of', 'ADP'), ('this', 'DET'), ('right', 'NOUN'), ('because', 'ADP'), ('of', 'ADP'), ('U.S.', 'NOUN'), ('differences', 'NOUN'), ('with', 'ADP'), ('the', 'DET'), ('Noriega', 'NOUN'), ('regime', 'NOUN'), (',', '.'), ('but', 'CONJ'), ('the', 'DET'), ('Central', 'NOUN'), ('American', 'NOUN'), ('country', 'NOUN'), ('would', 'VERB'), ('have', 'VERB'), ('received', 'VERB'), ('a', 'DET'), ('quota', 'NOUN'), ('of', 'ADP'), ('30,537', 'NOUN'), ('metric', 'ADJ'), ('tons', 'NOUN'), ('over', 'ADP'), ('a', 'DET'), ('21-month', 'NOUN'), ('period', 'NOUN'), ('ending', 'VERB'), ('Sept.', 'NOUN'), ('30', 'NUM'), (',', '.'), ('1990', 'NUM'), ('.', '.'), ('The', 'DET'), ('ban', 'NOUN'), ('on', 'ADP'), ('cross-border', 'NOUN'), ('movement', 'NOUN'), ('was', 'VERB'), ('imposed', 'VERB'), ('*-1', 'X'), ('last', 'ADJ'), ('month', 'NOUN'), ('after', 'ADP'), ('a', 'DET'), ('massive', 'ADJ'), ('exodus', 'NOUN'), ('of', 'ADP'), ('emigres', 'NOUN'), ('to', 'PRT'), ('West', 'NOUN'), ('Germany', 'NOUN'), ('.', '.'), ('``', '.'), ('The', 'DET'), ('events', 'NOUN'), ('of', 'ADP'), ('April', 'NOUN'), ('through', 'ADP'), ('June', 'NOUN'), ('damaged', 'VERB'), ('the', 'DET'), ('respect', 'NOUN'), ('and', 'CONJ'), ('confidence', 'NOUN'), ('which', 'DET'), ('most', 'ADJ'), ('Americans', 'NOUN'), ('previously', 'ADV'), ('had', 'VERB'), ('*T*-1', 'X'), ('for', 'ADP'), ('the', 'DET'), ('leaders', 'NOUN'), ('of', 'ADP'), ('China', 'NOUN'), ('.', '.'), (\"''\", '.'), ('The', 'DET'), ('plan', 'NOUN'), ('relies', 'VERB'), ('heavily', 'ADV'), ('on', 'ADP'), ('$', '.'), ('240', 'NUM'), ('million', 'NUM'), ('*U*', 'X'), ('in', 'ADP'), ('credit', 'NOUN'), ('and', 'CONJ'), ('loan', 'NOUN'), ('guarantees', 'NOUN'), ('in', 'ADP'), ('fiscal', 'ADJ'), ('1990', 'NUM'), ('in', 'ADP'), ('hopes', 'NOUN'), ('of', 'ADP'), ('*', 'X'), ('stimulating', 'VERB'), ('future', 'ADJ'), ('trade', 'NOUN'), ('and', 'CONJ'), ('investment', 'NOUN'), ('.', '.'), ('There', 'DET'), ('were', 'VERB'), ('many', 'ADJ'), ('pioneer', 'NOUN'), ('PC', 'NOUN'), ('contributors', 'NOUN'), ('.', '.'), ('In', 'ADP'), ('contrast', 'NOUN'), (',', '.'), ('the', 'DET'), ('lawyers', 'NOUN'), (\"'\", 'PRT'), ('association', 'NOUN'), ('gives', 'VERB'), ('a', 'DET'), ('``', '.'), ('well', 'ADV'), ('qualified', 'VERB'), (\"''\", '.'), ('rating', 'NOUN'), ('to', 'PRT'), ('those', 'DET'), ('``', '.'), ('regarded', 'VERB'), ('*', 'X'), ('as', 'ADP'), ('one', 'NUM'), ('of', 'ADP'), ('the', 'DET'), ('best', 'ADJ'), ('available', 'ADJ'), ('for', 'ADP'), ('the', 'DET'), ('vacancy', 'NOUN'), ('.', '.'), ('Susan', 'NOUN'), ('Del', 'NOUN'), ('Signore', 'NOUN'), (',', '.'), ('head', 'NOUN'), ('trader', 'NOUN'), ('at', 'ADP'), ('Travelers', 'NOUN'), ('Investment', 'NOUN'), ('Management', 'NOUN'), ('Co.', 'NOUN'), (',', '.'), ('says', 'VERB'), ('0', 'X'), ('critics', 'NOUN'), ('are', 'VERB'), ('ignoring', 'VERB'), ('``', '.'), ('the', 'DET'), ('role', 'NOUN'), ('0', 'X'), ('the', 'DET'), ('-LCB-', '.'), ('takeover', 'NOUN'), ('stock', 'NOUN'), ('-RCB-', '.'), ('speculator', 'NOUN'), ('is', 'VERB'), ('taking', 'VERB'), ('*T*-1', 'X'), ('in', 'ADP'), ('the', 'DET'), ('market', 'NOUN'), ('as', 'ADP'), ('a', 'DET'), ('source', 'NOUN'), ('of', 'ADP'), ('volatility', 'NOUN'), ('.', '.'), (\"''\", '.'), ('Earlier', 'ADJ'), ('this', 'DET'), ('year', 'NOUN'), ('Shaw', 'NOUN'), ('Publishing', 'NOUN'), ('Inc.', 'NOUN'), (',', '.'), ('Charlotte', 'NOUN'), (',', '.'), ('acquired', 'VERB'), ('30', 'NUM'), ('%', 'NOUN'), ('of', 'ADP'), ('American', 'ADJ'), ('City', 'NOUN'), ('*T*-1', 'X'), ('and', 'CONJ'), ('has', 'VERB'), ('an', 'DET'), ('agreement', 'NOUN'), ('*', 'X'), ('to', 'PRT'), ('acquire', 'VERB'), ('a', 'DET'), ('further', 'ADJ'), ('25', 'NUM'), ('%', 'NOUN'), ('from', 'ADP'), ('E.W.', 'NOUN'), ('Scripps', 'NOUN'), ('Co.', 'NOUN'), ('next', 'ADP'), ('year', 'NOUN'), ('.', '.'), ('The', 'DET'), ('Chinese', 'ADJ'), (',', '.'), ('in', 'ADP'), ('turn', 'NOUN'), (',', '.'), ('took', 'VERB'), ('aim', 'VERB'), ('at', 'ADP'), ('American', 'ADJ'), ('``', '.'), ('interference', 'NOUN'), (\"''\", '.'), ('in', 'ADP'), ('China', 'NOUN'), (\"'s\", 'PRT'), ('domestic', 'ADJ'), ('affairs', 'NOUN'), ('.', '.'), ('``', '.'), ('All', 'DET'), ('the', 'DET'), ('``', '.'), ('sogo-shosha', 'NOUN'), (\"''\", '.'), ('are', 'VERB'), ('looking', 'VERB'), ('for', 'ADP'), ('new', 'ADJ'), ('business', 'NOUN'), (',', '.'), (\"''\", '.'), ('says', 'VERB'), ('*T*-1', 'X'), ('Arthur', 'NOUN'), ('Klauser', 'NOUN'), (',', '.'), ('adviser', 'NOUN'), ('to', 'PRT'), ('the', 'DET'), ('president', 'NOUN'), ('of', 'ADP'), ('Mitsui', 'NOUN'), (',', '.'), ('U.S.A.', 'NOUN'), (',', '.'), ('*-2', 'X'), ('using', 'VERB'), ('the', 'DET'), ('Japanese', 'ADJ'), ('term', 'NOUN'), ('for', 'ADP'), ('the', 'DET'), ('largest', 'ADJ'), ('of', 'ADP'), ('the', 'DET'), ('global', 'ADJ'), ('trading', 'NOUN'), ('houses', 'NOUN'), ('.', '.'), ('Sterling', 'NOUN'), (\"'s\", 'PRT'), ('firm', 'NOUN'), ('tone', 'NOUN'), (',', '.'), ('combined', 'VERB'), ('with', 'ADP'), ('a', 'DET'), ('steady', 'ADJ'), ('opening', 'VERB'), ('on', 'ADP'), ('Wall', 'NOUN'), ('Street', 'NOUN'), (',', '.'), ('also', 'ADV'), ('tempted', 'VERB'), ('some', 'DET'), ('investors', 'NOUN'), ('to', 'PRT'), ('come', 'VERB'), ('back', 'ADV'), ('to', 'PRT'), ('the', 'DET'), ('market', 'NOUN'), (',', '.'), ('dealers', 'NOUN'), ('said', 'VERB'), ('0', 'X'), ('*T*-1', 'X'), ('.', '.'), ('``', '.'), ('Little', 'NOUN'), ('wonder', 'NOUN'), ('that', 'ADP'), ('buyers', 'NOUN'), ('for', 'ADP'), ('junk', 'NOUN'), ('have', 'VERB'), ('been', 'VERB'), ('found', 'VERB'), ('*-1', 'X'), ('wanting', 'VERB'), (',', '.'), (\"''\", '.'), ('he', 'PRON'), ('said', 'VERB'), ('*T*-2', 'X'), ('.', '.'), ('In', 'ADP'), ('this', 'DET'), ('one', 'NUM'), (',', '.'), ('the', 'DET'), ('screen', 'NOUN'), ('fills', 'VERB'), ('with', 'ADP'), ('photographs', 'NOUN'), ('of', 'ADP'), ('both', 'DET'), ('candidates', 'NOUN'), ('.', '.'), ('An', 'DET'), ('airline', 'NOUN'), ('buy-out', 'NOUN'), ('bill', 'NOUN'), ('was', 'VERB'), ('approved', 'VERB'), ('*-1', 'X'), ('by', 'ADP'), ('the', 'DET'), ('House', 'NOUN'), ('.', '.'), ('In', 'ADP'), ('a', 'DET'), ('joint-venture', 'NOUN'), ('deal', 'NOUN'), (',', '.'), ('Mitsui', 'NOUN'), ('guided', 'NOUN'), ('Candela', 'NOUN'), ('through', 'ADP'), ('Tokyo', 'NOUN'), (\"'s\", 'PRT'), ('bureaucratic', 'VERB'), ('maze', 'X'), ('.', '.'), ('Without', 'ADP'), ('*-1', 'X'), ('admitting', 'VERB'), ('or', 'CONJ'), ('denying', 'VERB'), ('wrongdoing', 'NOUN'), (',', '.'), ('the', 'DET'), ('firm', 'NOUN'), ('consented', 'VERB'), ('to', 'PRT'), ('findings', 'NOUN'), ('that', 'ADP'), ('it', 'PRON'), ('failed', 'VERB'), ('*-2', 'X'), ('to', 'PRT'), ('respond', 'VERB'), ('``', '.'), ('in', 'ADP'), ('a', 'DET'), ('timely', 'NOUN'), ('manner', 'NOUN'), (\"''\", '.'), ('to', 'PRT'), ('the', 'DET'), ('NASD', 'NOUN'), (\"'s\", 'PRT'), ('requests', 'VERB'), ('for', 'ADP'), ('information', 'NOUN'), ('in', 'ADP'), ('connection', 'NOUN'), ('with', 'ADP'), ('a', 'DET'), ('customer', 'NOUN'), ('complaint', 'NOUN'), ('.', '.'), ('You', 'PRON'), ('did', 'VERB'), ('not', 'ADV'), ('note', 'VERB'), ('that', 'ADP'), ('the', 'DET'), ('homeless', 'ADJ'), ('people', 'NOUN'), ('0', 'X'), ('we', 'PRON'), ('examined', 'VERB'), ('*T*-1', 'X'), ('had', 'VERB'), ('a', 'DET'), ('multitude', 'NOUN'), ('of', 'ADP'), ('physical', 'ADJ'), ('disorders', 'NOUN'), ('in', 'ADP'), ('addition', 'NOUN'), ('to', 'PRT'), ('their', 'PRON'), ('psychiatric', 'ADJ'), ('problems', 'NOUN'), ('and', 'CONJ'), ('substance', 'NOUN'), ('abuse', 'NOUN'), ('.', '.'), ('Shearson', 'NOUN'), ('Lehman', 'NOUN'), ('Hutton', 'NOUN'), ('Inc.', 'NOUN'), (',', '.'), ('New', 'NOUN'), ('York', 'NOUN'), (',', '.'), ('which', 'DET'), ('*T*-251', 'NOUN'), ('is', 'VERB'), ('62%-owned', 'ADJ'), ('*-1', 'X'), ('by', 'ADP'), ('American', 'ADJ'), ('Express', 'NOUN'), ('Co.', 'NOUN'), (',', '.'), ('consented', 'VERB'), ('to', 'PRT'), ('a', 'DET'), ('$', '.'), ('10,000', 'NUM'), ('*U*', 'X'), ('fine', 'NOUN'), ('.', '.'), ('The', 'DET'), ('USX', 'NOUN'), ('citations', 'NOUN'), ('represented', 'VERB'), ('the', 'DET'), ('first', 'ADJ'), ('sizable', 'ADJ'), ('enforcement', 'NOUN'), ('action', 'NOUN'), ('taken', 'VERB'), ('*', 'X'), ('by', 'ADP'), ('OSHA', 'NOUN'), ('under', 'ADP'), ('Mr.', 'NOUN'), ('Scannell', 'NOUN'), ('.', '.'), ('Virginia', 'NOUN'), (':', '.'), ('The', 'DET'), ('Chinese', 'ADJ'), ('responded', 'VERB'), ('in', 'ADP'), ('an', 'DET'), ('equally', 'ADV'), ('undiplomatic', 'VERB'), ('fashion', 'X'), ('.', '.'), ('Here', 'ADV'), ('are', 'VERB'), ('*T*-1', 'X'), ('price', 'NOUN'), ('trends', 'NOUN'), ('on', 'ADP'), ('the', 'DET'), ('world', 'NOUN'), (\"'s\", 'PRT'), ('major', 'ADJ'), ('stock', 'NOUN'), ('markets', 'NOUN'), (',', '.'), ('as', 'ADP'), ('*', 'X'), ('calculated', 'VERB'), ('*-2', 'X'), ('by', 'ADP'), ('Morgan', 'NOUN'), ('Stanley', 'NOUN'), ('Capital', 'NOUN'), ('International', 'NOUN'), ('Perspective', 'NOUN'), (',', '.'), ('Geneva', 'NOUN'), ('.', '.'), ('Moscow', 'NOUN'), ('has', 'VERB'), ('settled', 'VERB'), ('pre-1917', 'X'), ('debts', 'NOUN'), ('with', 'ADP'), ('other', 'ADJ'), ('countries', 'NOUN'), ('in', 'ADP'), ('recent', 'ADJ'), ('years', 'NOUN'), ('at', 'ADP'), ('less', 'ADJ'), ('than', 'ADP'), ('face', 'NOUN'), ('value', 'NOUN'), ('.', '.'), ('And', 'CONJ'), ('after', 'ADP'), ('*-1', 'X'), ('losing', 'VERB'), ('a', 'DET'), ('battle', 'NOUN'), ('Tuesday', 'NOUN'), ('night', 'NOUN'), ('with', 'ADP'), ('the', 'DET'), ('Senate', 'NOUN'), ('Foreign', 'NOUN'), ('Relations', 'NOUN'), ('Committee', 'NOUN'), (',', '.'), ('appropriators', 'NOUN'), ('from', 'ADP'), ('both', 'DET'), ('houses', 'NOUN'), ('are', 'VERB'), ('expected', 'VERB'), ('*-1', 'X'), ('to', 'PRT'), ('be', 'VERB'), ('forced', 'VERB'), ('*-12', 'X'), ('back', 'PRT'), ('to', 'PRT'), ('conference', 'NOUN'), ('.', '.'), ('The', 'DET'), ('patent', 'NOUN'), ('covers', 'VERB'), ('BMP-1', 'NOUN'), ('type', 'NOUN'), ('proteins', 'NOUN'), ('and', 'CONJ'), ('pharmaceutical', 'ADJ'), ('compositions', 'NOUN'), ('and', 'CONJ'), ('methods', 'NOUN'), ('for', 'ADP'), ('*', 'X'), ('treating', 'VERB'), ('bone', 'NOUN'), ('or', 'CONJ'), ('cartilage', 'NOUN'), ('defects', 'NOUN'), (',', '.'), ('Genetics', 'NOUN'), ('Institute', 'NOUN'), ('said', 'VERB'), ('0', 'X'), ('*T*-1', 'X'), ('.', '.'), ('Mr.', 'NOUN'), ('Chase', 'NOUN'), ('did', 'VERB'), (\"n't\", 'ADV'), ('return', 'VERB'), ('a', 'DET'), ('telephone', 'NOUN'), ('call', 'VERB'), ('to', 'PRT'), ('his', 'PRON'), ('office', 'NOUN'), ('.', '.'), ('They', 'PRON'), ('know', 'VERB'), ('that', 'ADP'), ('whenever', 'NOUN'), ('government', 'NOUN'), ('is', 'VERB'), ('redistributing', 'X'), ('wealth', 'NOUN'), (',', '.'), ('regulating', 'VERB'), ('commerce', 'NOUN'), ('or', 'CONJ'), ('maintaining', 'VERB'), ('a', 'DET'), ('large', 'ADJ'), ('defense', 'NOUN'), ('establishment', 'NOUN'), ('*T*-2', 'X'), (',', '.'), ('there', 'DET'), ('is', 'VERB'), ('big', 'ADJ'), ('money', 'NOUN'), ('0', 'X'), ('*T*-3', 'X'), ('to', 'PRT'), ('be', 'VERB'), ('made', 'VERB'), ('*-1', 'X'), ('in', 'ADP'), ('*', 'X'), ('influencing', 'VERB'), (',', '.'), ('brokering', 'NOUN'), ('or', 'CONJ'), ('selling', 'VERB'), ('the', 'DET'), ('processes', 'NOUN'), ('and', 'CONJ'), ('decisions', 'NOUN'), ('of', 'ADP'), ('government', 'NOUN'), ('.', '.'), ('He', 'PRON'), ('has', 'VERB'), ('a', 'DET'), ('point', 'NOUN'), ('0', 'X'), ('he', 'PRON'), ('wants', 'VERB'), ('*-1', 'X'), ('to', 'PRT'), ('make', 'VERB'), ('*T*-2', 'X'), (',', '.'), ('and', 'CONJ'), ('he', 'PRON'), ('makes', 'VERB'), ('it', 'PRON'), (',', '.'), ('with', 'ADP'), ('a', 'DET'), ('great', 'ADJ'), ('deal', 'NOUN'), ('of', 'ADP'), ('force', 'NOUN'), ('.', '.'), ('The', 'DET'), ('Thai', 'NOUN'), ('cabinet', 'NOUN'), ('endorsed', 'VERB'), ('Finance', 'NOUN'), ('Minister', 'NOUN'), ('Pramual', 'NOUN'), ('Sabhavasu', 'NOUN'), (\"'s\", 'PRT'), ('proposal', 'NOUN'), ('*', 'X'), ('to', 'PRT'), ('build', 'VERB'), ('a', 'DET'), ('$', '.'), ('19', 'NUM'), ('million', 'NUM'), ('*U*', 'X'), ('conference', 'NOUN'), ('center', 'NOUN'), ('for', 'ADP'), ('a', 'DET'), ('joint', 'ADJ'), ('meeting', 'NOUN'), ('of', 'ADP'), ('the', 'DET'), ('World', 'NOUN'), ('Bank', 'NOUN'), ('and', 'CONJ'), ('International', 'NOUN'), ('Monetary', 'NOUN'), ('Fund', 'NOUN'), ('two', 'NUM'), ('years', 'NOUN'), ('from', 'ADP'), ('now', 'ADV'), ('.', '.'), ('-LCB-', '.'), ('The', 'DET'), ('court', 'NOUN'), ('has', 'VERB'), ('indicated', 'VERB'), ('0', 'X'), ('it', 'PRON'), ('will', 'VERB'), ('rule', 'NOUN'), ('on', 'ADP'), ('the', 'DET'), ('case', 'NOUN'), ('by', 'ADP'), ('the', 'DET'), ('end', 'NOUN'), ('of', 'ADP'), ('the', 'DET'), ('month', 'NOUN'), ('.', '.'), ('-RCB-', '.'), ('Wellcome', 'NOUN'), ('gained', 'VERB'), ('18', 'NUM'), ('to', 'PRT'), ('666', 'VERB'), ('on', 'ADP'), ('a', 'DET'), ('modest', 'ADJ'), ('1.1', 'NUM'), ('million', 'NUM'), ('shares', 'NOUN'), ('.', '.'), ('A', 'DET'), ('Shearson', 'NOUN'), ('spokesman', 'NOUN'), ('had', 'VERB'), ('no', 'DET'), ('comment', 'NOUN'), ('.', '.'), ('It', 'PRON'), ('would', 'VERB'), ('be', 'VERB'), ('a', 'DET'), ('good', 'ADJ'), ('match', 'VERB'), (',', '.'), ('Mr.', 'NOUN'), ('Hahn', 'NOUN'), ('and', 'CONJ'), ('many', 'ADJ'), ('analysts', 'NOUN'), ('say', 'VERB'), ('0', 'X'), ('*T*-1', 'X'), (',', '.'), ('of', 'ADP'), ('two', 'NUM'), ('healthy', 'ADJ'), ('companies', 'NOUN'), ('with', 'ADP'), ('high-quality', 'NOUN'), ('assets', 'NOUN'), ('and', 'CONJ'), ('strong', 'ADJ'), ('cash', 'NOUN'), ('flows', 'NOUN'), ('.', '.'), ('But', 'CONJ'), ('for', 'ADP'), ('small', 'ADJ'), ('American', 'NOUN'), ('companies', 'NOUN'), (',', '.'), ('it', 'PRON'), ('also', 'ADV'), ('provides', 'VERB'), ('a', 'DET'), ('growing', 'VERB'), ('source', 'NOUN'), ('of', 'ADP'), ('capital', 'NOUN'), ('and', 'CONJ'), ('even', 'ADV'), ('marketing', 'VERB'), ('help', 'VERB'), ('.', '.'), ('The', 'DET'), ('theory', 'NOUN'), (':', '.'), ('Such', 'ADJ'), ('individuals', 'NOUN'), (',', '.'), ('many', 'ADJ'), ('with', 'ADP'), ('young', 'ADJ'), ('children', 'NOUN'), (',', '.'), ('are', 'VERB'), ('in', 'ADP'), ('their', 'PRON'), ('prime', 'ADJ'), ('borrowing', 'NOUN'), ('years', 'NOUN'), ('--', '.'), ('and', 'CONJ'), (',', '.'), ('*-1', 'X'), ('having', 'VERB'), ('borrowed', 'X'), ('from', 'ADP'), ('the', 'DET'), ('bank', 'NOUN'), (',', '.'), ('they', 'PRON'), ('may', 'VERB'), ('continue', 'VERB'), ('*-1', 'X'), ('to', 'PRT'), ('use', 'VERB'), ('it', 'PRON'), ('for', 'ADP'), ('other', 'ADJ'), ('services', 'NOUN'), ('in', 'ADP'), ('later', 'ADJ'), ('years', 'NOUN'), ('.', '.'), ('In', 'ADP'), ('Detroit', 'NOUN'), (',', '.'), ('a', 'DET'), ('Chrysler', 'NOUN'), ('Corp.', 'NOUN'), ('official', 'NOUN'), ('said', 'VERB'), ('0', 'X'), ('the', 'DET'), ('company', 'NOUN'), ('currently', 'ADV'), ('has', 'VERB'), ('no', 'DET'), ('rear-seat', 'NOUN'), ('lap', 'NOUN'), ('and', 'CONJ'), ('shoulder', 'NOUN'), ('belts', 'NOUN'), ('in', 'ADP'), ('its', 'PRON'), ('light', 'ADJ'), ('trucks', 'NOUN'), (',', '.'), ('but', 'CONJ'), ('plans', 'VERB'), ('*-1', 'X'), ('to', 'PRT'), ('begin', 'VERB'), ('*-2', 'X'), ('phasing', 'VERB'), ('them', 'PRON'), ('in', 'ADP'), ('by', 'ADP'), ('the', 'DET'), ('end', 'NOUN'), ('of', 'ADP'), ('the', 'DET'), ('1990', 'NUM'), ('model', 'NOUN'), ('year', 'NOUN'), ('.', '.'), ('On', 'ADP'), ('the', 'DET'), ('other', 'ADJ'), ('hand', 'NOUN'), (',', '.'), ('had', 'VERB'), ('it', 'PRON'), ('existed', 'VERB'), ('then', 'ADV'), (',', '.'), ('Cray', 'NOUN'), ('Computer', 'NOUN'), ('would', 'VERB'), ('have', 'VERB'), ('incurred', 'VERB'), ('a', 'DET'), ('$', '.'), ('20.5', 'NOUN'), ('million', 'NUM'), ('*U*', 'X'), ('loss', 'NOUN'), ('.', '.'), ('BRAMALEA', 'NOUN'), ('Ltd.', 'NOUN'), ('said', 'VERB'), ('0', 'X'), ('it', 'PRON'), ('agreed', 'VERB'), ('*-1', 'X'), ('to', 'PRT'), ('issue', 'NOUN'), ('100', 'NUM'), ('million', 'NUM'), ('Canadian', 'ADJ'), ('dollars', 'NOUN'), ('-LRB-', '.'), ('US$', '.'), ('85.1', 'NOUN'), ('million', 'NUM'), ('*U*', 'X'), ('-RRB-', '.'), ('of', 'ADP'), ('10.5', 'NOUN'), ('%', 'NOUN'), ('senior', 'ADJ'), ('debentures', 'NOUN'), ('due', 'ADJ'), ('Nov.', 'NOUN'), ('30', 'NUM'), (',', '.'), ('1999', 'NUM'), (',', '.'), ('together', 'ADV'), ('with', 'ADP'), ('100,000', 'NUM'), ('bond', 'NOUN'), ('purchase', 'NOUN'), ('warrants', 'NOUN'), ('.', '.'), ('This', 'DET'), ('is', 'VERB'), ('a', 'DET'), ('Johnson-era', 'NOUN'), (',', '.'), ('Great', 'NOUN'), ('Society', 'NOUN'), ('creation', 'NOUN'), ('that', 'ADP'), ('*T*-2', 'X'), ('mandates', 'VERB'), ('0', 'X'), ('certain', 'ADJ'), ('government', 'NOUN'), ('contracts', 'NOUN'), ('be', 'VERB'), ('awarded', 'VERB'), ('*-1', 'X'), ('noncompetitively', 'VERB'), ('to', 'PRT'), ('minority', 'NOUN'), ('businesses', 'NOUN'), ('.', '.'), ('Garbage', 'NOUN'), ('magazine', 'NOUN'), (',', '.'), ('billed', 'NOUN'), ('*', 'X'), ('as', 'ADP'), ('``', '.'), ('The', 'DET'), ('Practical', 'NOUN'), ('Journal', 'NOUN'), ('for', 'ADP'), ('the', 'DET'), ('Environment', 'NOUN'), (',', '.'), (\"''\", '.'), ('is', 'VERB'), ('about', 'ADP'), ('*-1', 'X'), ('to', 'PRT'), ('find', 'VERB'), ('out', 'PRT'), ('0', 'X'), ('*?*', 'X'), ('.', '.'), ('The', 'DET'), ('charge', 'NOUN'), ('on', 'ADP'), ('loans', 'NOUN'), ('to', 'PRT'), ('brokers', 'NOUN'), ('on', 'ADP'), ('stock', 'NOUN'), ('exchange', 'NOUN'), ('collateral', 'NOUN'), ('.', '.'), ('Mr.', 'NOUN'), ('Martin', 'NOUN'), ('has', 'VERB'), ('increased', 'VERB'), ('prices', 'NOUN'), ('on', 'ADP'), ('some', 'DET'), ('wines', 'NOUN'), ('-LRB-', '.'), ('like', 'ADP'), ('Grgich', 'NOUN'), ('Hills', 'NOUN'), ('Chardonnay', 'NOUN'), (',', '.'), ('now', 'ADV'), ('$', '.'), ('32', 'NUM'), ('*U*', 'X'), ('-RRB-', '.'), ('just', 'ADV'), ('*-1', 'X'), ('to', 'PRT'), ('slow', 'VERB'), ('down', 'ADV'), ('movement', 'NOUN'), (',', '.'), ('but', 'CONJ'), ('he', 'PRON'), ('is', 'VERB'), ('beginning', 'VERB'), ('*-2', 'X'), ('to', 'PRT'), ('see', 'VERB'), ('some', 'DET'), ('resistance', 'NOUN'), ('to', 'PRT'), ('high-priced', 'ADJ'), ('red', 'NOUN'), ('Burgundies', 'NOUN'), ('and', 'CONJ'), ('Cabernets', 'NOUN'), ('and', 'CONJ'), ('Chardonnays', 'NOUN'), ('in', 'ADP'), ('the', 'DET'), ('$', '.'), ('30', 'NUM'), ('to', 'PRT'), ('$', '.'), ('40', 'NUM'), ('*U*', 'X'), ('range', 'VERB'), ('.', '.'), ('SCI', 'NOUN'), ('Systems', 'NOUN'), ('slipped', 'VERB'), ('7\\\\/8', 'NUM'), ('to', 'PRT'), ('10', 'NUM'), ('on', 'ADP'), ('volume', 'NOUN'), ('of', 'ADP'), ('858,000', 'NOUN'), ('shares', 'NOUN'), ('.', '.'), ('Proper', 'NOUN'), ('English', 'NOUN'), ('bells', 'NOUN'), ('are', 'VERB'), ('started', 'VERB'), ('*-1', 'X'), ('off', 'PRT'), ('in', 'ADP'), ('``', '.'), ('rounds', 'NOUN'), (',', '.'), (\"''\", '.'), ('from', 'ADP'), ('the', 'DET'), ('highest-pitched', 'NOUN'), ('bell', 'NOUN'), ('to', 'PRT'), ('the', 'DET'), ('lowest', 'ADJ'), ('--', '.'), ('a', 'DET'), ('simple', 'ADJ'), ('descending', 'NOUN'), ('scale', 'NOUN'), ('using', 'VERB'), (',', '.'), ('in', 'ADP'), ('larger', 'ADJ'), ('churches', 'NOUN'), (',', '.'), ('as', 'ADP'), ('many', 'ADJ'), ('as', 'ADP'), ('12', 'NUM'), ('bells', 'NOUN'), ('.', '.'), ('In', 'ADP'), ('point', 'NOUN'), ('of', 'ADP'), ('fact', 'NOUN'), (',', '.'), ('volatility', 'NOUN'), ('as', 'ADP'), ('*', 'X'), ('measured', 'VERB'), ('*-2', 'X'), ('by', 'ADP'), ('the', 'DET'), ('annualized', 'NOUN'), ('standard', 'NOUN'), ('deviation', 'NOUN'), ('of', 'ADP'), ('daily', 'ADJ'), ('stock', 'NOUN'), ('price', 'NOUN'), ('movements', 'NOUN'), ('has', 'VERB'), ('frequently', 'ADV'), ('been', 'VERB'), ('much', 'ADV'), ('higher', 'ADJ'), ('than', 'ADP'), ('it', 'PRON'), ('is', 'VERB'), ('*?*', 'X'), ('today', 'NOUN'), ('.', '.'), ('She', 'PRON'), ('says', 'VERB'), ('0', 'X'), ('she', 'PRON'), ('offered', 'VERB'), ('Mrs.', 'NOUN'), ('Yeargin', 'NOUN'), ('a', 'DET'), ('quiet', 'ADJ'), ('resignation', 'NOUN'), ('and', 'CONJ'), ('thought', 'VERB'), ('0', 'X'), ('she', 'PRON'), ('could', 'VERB'), ('help', 'VERB'), ('*-1', 'X'), ('save', 'VERB'), ('her', 'PRON'), ('teaching', 'NOUN'), ('certificate', 'NOUN'), ('.', '.'), ('GAF', 'NOUN'), ('TRIAL', 'NOUN'), ('goes', 'VERB'), ('to', 'PRT'), ('round', 'NOUN'), ('three', 'NUM'), ('.', '.'), ('It', 'PRON'), ('plans', 'VERB'), ('*-1', 'X'), ('to', 'PRT'), ('sell', 'VERB'), ('the', 'DET'), ('ad', 'NOUN'), ('time', 'NOUN'), ('to', 'PRT'), ('its', 'PRON'), ('clients', 'NOUN'), ('at', 'ADP'), ('a', 'DET'), ('discount', 'NOUN'), ('.', '.'), ('In', 'ADP'), ('CAT', 'NOUN'), ('sections', 'NOUN'), ('where', 'ADV'), ('students', 'NOUN'), (\"'\", 'PRT'), ('knowledge', 'NOUN'), ('of', 'ADP'), ('two-letter', 'NOUN'), ('consonant', 'NOUN'), ('sounds', 'VERB'), ('is', 'VERB'), ('tested', 'VERB'), ('*-1', 'X'), ('*T*-2', 'X'), (',', '.'), ('the', 'DET'), ('authors', 'NOUN'), ('noted', 'VERB'), ('that', 'ADP'), ('Scoring', 'NOUN'), ('High', 'NOUN'), ('concentrated', 'VERB'), ('on', 'ADP'), ('the', 'DET'), ('same', 'ADJ'), ('sounds', 'VERB'), ('that', 'ADP'), ('the', 'DET'), ('test', 'NOUN'), ('does', 'VERB'), ('*?*', 'X'), ('*T*-4', 'X'), ('--', '.'), ('to', 'PRT'), ('the', 'DET'), ('exclusion', 'NOUN'), ('of', 'ADP'), ('other', 'ADJ'), ('sounds', 'VERB'), ('that', 'ADP'), ('fifth', 'ADJ'), ('graders', 'NOUN'), ('should', 'VERB'), ('know', 'VERB'), ('*T*-3', 'X'), ('.', '.'), ('Structural', 'NOUN'), ('Dynamics', 'NOUN'), ('Research', 'NOUN'), ('Corp.', 'NOUN'), (',', '.'), ('which', 'DET'), ('*T*-143', 'NOUN'), ('makes', 'VERB'), ('computer-aided', 'X'), ('engineering', 'VERB'), ('software', 'NOUN'), (',', '.'), ('said', 'VERB'), ('0', 'X'), ('it', 'PRON'), ('introduced', 'VERB'), ('new', 'ADJ'), ('technology', 'NOUN'), ('in', 'ADP'), ('mechanical', 'ADJ'), ('design', 'NOUN'), ('automation', 'NOUN'), ('that', 'ADP'), ('*T*-144', 'NOUN'), ('will', 'VERB'), ('improve', 'VERB'), ('mechanical', 'ADJ'), ('engineering', 'NOUN'), ('productivity', 'NOUN'), ('.', '.'), ('The', 'DET'), ('two', 'NUM'), ('partners', 'NOUN'), ('merely', 'ADV'), ('had', 'VERB'), ('*-1', 'X'), ('to', 'PRT'), ('falsify', 'VERB'), ('the', 'DET'), ('true', 'ADJ'), ('ownership', 'NOUN'), ('of', 'ADP'), ('the', 'DET'), ('corporation', 'NOUN'), ('.', '.'), ('According', 'VERB'), ('to', 'PRT'), ('reports', 'NOUN'), ('carried', 'VERB'), ('*', 'X'), ('by', 'ADP'), ('various', 'ADJ'), ('news', 'NOUN'), ('services', 'NOUN'), (',', '.'), ('the', 'DET'), ('Brazilian', 'ADJ'), ('government', 'NOUN'), ('told', 'VERB'), ('its', 'PRON'), ('sugar', 'NOUN'), ('producers', 'NOUN'), ('that', 'ADP'), ('they', 'PRON'), ('wo', 'VERB'), (\"n't\", 'ADV'), ('be', 'VERB'), ('allowed', 'VERB'), ('*-1', 'X'), ('to', 'PRT'), ('export', 'NOUN'), ('sugar', 'NOUN'), ('during', 'ADP'), ('the', 'DET'), ('current', 'ADJ'), ('1989-90', 'NUM'), ('season', 'NOUN'), (',', '.'), ('which', 'DET'), ('*T*-92', 'X'), ('began', 'VERB'), ('May', 'NOUN'), ('1', 'NUM'), (',', '.'), ('and', 'CONJ'), ('the', 'DET'), ('1990-91', 'NOUN'), ('season', 'NOUN'), ('so', 'ADV'), ('that', 'ADP'), ('it', 'PRON'), ('can', 'VERB'), ('be', 'VERB'), ('used', 'VERB'), ('*-2', 'X'), ('*', 'X'), ('to', 'PRT'), ('produce', 'VERB'), ('alcohol', 'NOUN'), ('for', 'ADP'), ('automobile', 'NOUN'), ('fuel', 'NOUN'), ('.', '.'), ('He', 'PRON'), ('did', 'VERB'), (\"n't\", 'ADV'), ('see', 'VERB'), ('why', 'ADV'), ('the', 'DET'), ('taxpayers', 'NOUN'), ('should', 'VERB'), ('help', 'VERB'), ('*-2', 'X'), ('build', 'VERB'), ('something', 'NOUN'), ('0', 'X'), ('he', 'PRON'), ('would', 'VERB'), ('then', 'ADV'), ('use', 'VERB'), ('*T*-1', 'X'), ('*', 'X'), ('to', 'PRT'), ('turn', 'VERB'), ('a', 'DET'), ('healthy', 'ADJ'), ('profit', 'NOUN'), ('.', '.'), ('John', 'NOUN'), ('F.', 'NOUN'), ('Barrett', 'NOUN'), (',', '.'), ('40', 'NUM'), (',', '.'), ('formerly', 'ADV'), ('executive', 'ADJ'), ('vice', 'NOUN'), ('president', 'NOUN'), ('and', 'CONJ'), ('chief', 'NOUN'), ('financial', 'ADJ'), ('officer', 'NOUN'), (',', '.'), ('was', 'VERB'), ('named', 'VERB'), ('*-1', 'X'), ('president', 'NOUN'), ('and', 'CONJ'), ('chief', 'NOUN'), ('operating', 'NOUN'), ('officer', 'NOUN'), (',', '.'), ('posts', 'NOUN'), ('which', 'DET'), ('*T*-2', 'X'), ('had', 'VERB'), ('been', 'VERB'), ('vacant', 'ADJ'), ('.', '.'), ('The', 'DET'), ('Stamford', 'NOUN'), (',', '.'), ('Conn.', 'NOUN'), (',', '.'), ('concern', 'NOUN'), ('has', 'VERB'), ('agreed', 'VERB'), ('to', 'PRT'), ('a', 'DET'), ('buy-out', 'NOUN'), ('by', 'ADP'), ('Bank', 'NOUN'), ('of', 'ADP'), ('New', 'NOUN'), ('York', 'NOUN'), ('in', 'ADP'), ('a', 'DET'), ('transaction', 'NOUN'), ('with', 'ADP'), ('an', 'DET'), ('indicated', 'VERB'), ('value', 'NOUN'), ('of', 'ADP'), ('about', 'ADP'), ('$', '.'), ('100', 'NUM'), ('*U*', 'X'), ('a', 'DET'), ('share', 'NOUN'), ('that', 'ADP'), ('*T*-119', 'NOUN'), ('expires', 'NOUN'), ('next', 'ADP'), ('August', 'NOUN'), ('.', '.'), ('Those', 'DET'), ('who', 'PRON'), ('*T*-1', 'X'), ('still', 'ADV'), ('want', 'VERB'), ('*-2', 'X'), ('to', 'PRT'), ('do', 'VERB'), ('it', 'PRON'), ('``', '.'), ('will', 'VERB'), ('just', 'ADV'), ('find', 'VERB'), ('some', 'DET'), ('way', 'NOUN'), ('0', 'X'), ('*', 'X'), ('to', 'PRT'), ('get', 'VERB'), ('around', 'ADP'), (\"''\", '.'), ('any', 'DET'), ('attempt', 'NOUN'), ('*', 'X'), ('to', 'PRT'), ('curb', 'VERB'), ('it', 'PRON'), ('*T*-3', 'X'), ('.', '.'), ('PHOTOGRAPH', 'NOUN'), ('COLLECTING', 'NOUN'), ('gains', 'NOUN'), ('new', 'ADJ'), ('stature', 'NOUN'), ('as', 'ADP'), ('prices', 'NOUN'), ('rise', 'VERB'), ('.', '.'), ('And', 'CONJ'), ('8', 'NUM'), ('%', 'NOUN'), ('*ICH*-1', 'X'), ('said', 'VERB'), ('0', 'X'), ('export', 'NOUN'), ('orders', 'NOUN'), ('were', 'VERB'), ('down', 'ADV'), ('last', 'ADJ'), ('month', 'NOUN'), (',', '.'), ('compared', 'VERB'), ('with', 'ADP'), ('6', 'NUM'), ('%', 'NOUN'), ('the', 'DET'), ('month', 'NOUN'), ('before', 'ADP'), ('.', '.'), ('Big', 'NOUN'), ('Board', 'NOUN'), ('volume', 'NOUN'), ('amounted', 'VERB'), ('to', 'PRT'), ('154,240,000', 'NUM'), ('shares', 'NOUN'), (',', '.'), ('down', 'ADV'), ('from', 'ADP'), ('176.1', 'NOUN'), ('million', 'NUM'), ('Tuesday', 'NOUN'), ('.', '.'), ('``', '.'), ('The', 'DET'), ('situation', 'NOUN'), ('is', 'VERB'), ('that', 'ADP'), ('the', 'DET'), ('bankruptcy', 'NOUN'), ('court', 'NOUN'), ('will', 'VERB'), ('get', 'VERB'), ('out', 'PRT'), ('of', 'ADP'), ('the', 'DET'), ('shipbuilding', 'NOUN'), ('business', 'NOUN'), ('.', '.'), ('The', 'DET'), ('promotion', 'NOUN'), ('helped', 'VERB'), ('Riviera', 'NOUN'), ('sales', 'NOUN'), ('exceed', 'VERB'), ('the', 'DET'), ('division', 'NOUN'), (\"'s\", 'PRT'), ('forecast', 'VERB'), ('by', 'ADP'), ('more', 'ADJ'), ('than', 'ADP'), ('10', 'NUM'), ('%', 'NOUN'), (',', '.'), ('Buick', 'NOUN'), ('said', 'VERB'), ('0', 'X'), ('*T*-1', 'X'), ('at', 'ADP'), ('the', 'DET'), ('time', 'NOUN'), ('.', '.'), ('Wilbur', 'NOUN'), ('Ross', 'NOUN'), ('Jr.', 'NOUN'), ('of', 'ADP'), ('Rothschild', 'NOUN'), ('Inc.', 'NOUN'), (',', '.'), ('the', 'DET'), ('financial', 'ADJ'), ('adviser', 'NOUN'), ('to', 'PRT'), ('the', 'DET'), ('troubled', 'ADJ'), ('company', 'NOUN'), (\"'s\", 'PRT'), ('equity', 'NOUN'), ('holders', 'NOUN'), (',', '.'), ('said', 'VERB'), ('0', 'X'), ('the', 'DET'), ('withdrawal', 'NOUN'), ('of', 'ADP'), ('New', 'NOUN'), ('England', 'NOUN'), ('Electric', 'NOUN'), ('might', 'VERB'), ('speed', 'NOUN'), ('up', 'PRT'), ('the', 'DET'), ('reorganization', 'NOUN'), ('process', 'NOUN'), ('.', '.'), ('The', 'DET'), ('last', 'ADJ'), ('time', 'NOUN'), ('0', 'X'), ('the', 'DET'), ('S&P', 'NOUN'), ('500', 'NUM'), ('yield', 'NOUN'), ('dropped', 'VERB'), ('below', 'ADP'), ('3', 'NUM'), ('%', 'NOUN'), ('*T*-1', 'X'), ('was', 'VERB'), ('in', 'ADP'), ('the', 'DET'), ('summer', 'NOUN'), ('of', 'ADP'), ('1987', 'NUM'), ('.', '.'), ('The', 'DET'), ('following', 'NOUN'), ('*ICH*-2', 'X'), ('were', 'VERB'), ('neither', 'DET'), ('barred', 'VERB'), ('nor', 'CONJ'), ('suspended', 'VERB'), ('*-1', 'X'), (':', '.'), ('Stephanie', 'NOUN'), ('Veselich', 'NOUN'), ('Enright', 'NOUN'), (',', '.'), ('Rolling', 'NOUN'), ('Hills', 'NOUN'), (',', '.'), ('Calif.', 'NOUN'), (',', '.'), ('fined', 'VERB'), ('*-3', 'X'), ('$', '.'), ('2,500', 'NUM'), ('*U*', 'X'), ('and', 'CONJ'), ('ordered', 'VERB'), ('*-3', 'X'), ('*-4', 'X'), ('to', 'PRT'), ('disgorge', 'VERB'), ('$', '.'), ('11,762', 'NOUN'), ('*U*', 'X'), (';', '.'), ('Stuart', 'NOUN'), ('Lane', 'NOUN'), ('Russel', 'NOUN'), (',', '.'), ('Glendale', 'NOUN'), (',', '.'), ('Calif.', 'NOUN'), (',', '.'), ('fined', 'VERB'), ('*-5', 'X'), ('$', '.'), ('2,500', 'NUM'), ('*U*', 'X'), ('and', 'CONJ'), ('ordered', 'VERB'), ('*-5', 'X'), ('*-6', 'X'), ('to', 'PRT'), ('disgorge', 'VERB'), ('$', '.'), ('14,821', 'NOUN'), ('*U*', 'X'), (';', '.'), ('Devon', 'NOUN'), ('Nilson', 'NOUN'), ('Dahl', 'NOUN'), (',', '.'), ('Fountain', 'NOUN'), ('Valley', 'NOUN'), (',', '.'), ('Calif.', 'NOUN'), (',', '.'), ('fined', 'VERB'), ('*-7', 'X'), ('$', '.'), ('82,389', 'NOUN'), ('*U*', 'X'), ('.', '.'), ('Altogether', 'NOUN'), (',', '.'), ('NBI', 'NOUN'), ('said', 'VERB'), ('0', 'X'), ('it', 'PRON'), ('will', 'VERB'), ('eliminate', 'VERB'), ('266', 'X'), ('jobs', 'NOUN'), ('at', 'ADP'), ('its', 'PRON'), ('Boulder', 'NOUN'), ('headquarters', 'NOUN'), (',', '.'), ('176', 'NOUN'), ('field', 'NOUN'), ('sales', 'NOUN'), ('jobs', 'NOUN'), ('and', 'CONJ'), ('50', 'NUM'), ('jobs', 'NOUN'), ('at', 'ADP'), ('its', 'PRON'), ('Canadian', 'ADJ'), ('and', 'CONJ'), ('United', 'NOUN'), ('Kingdom', 'NOUN'), ('headquarters', 'NOUN'), ('.', '.'), ('You', 'PRON'), ('look', 'VERB'), ('around', 'ADP'), ('at', 'ADP'), ('professional', 'ADJ'), ('ballplayers', 'NOUN'), ('or', 'CONJ'), ('accountants', 'NOUN'), ('...', '.'), ('and', 'CONJ'), ('nobody', 'NOUN'), ('blinks', 'NOUN'), ('an', 'DET'), ('eye', 'NOUN'), ('.', '.'), ('RMS', 'NOUN'), ('distributes', 'NOUN'), ('electronic', 'ADJ'), ('devices', 'NOUN'), ('and', 'CONJ'), ('produces', 'NOUN'), ('power', 'NOUN'), ('supplies', 'VERB'), ('and', 'CONJ'), ('plastic', 'ADJ'), ('literature', 'NOUN'), ('displays', 'NOUN'), ('.', '.'), ('Mr.', 'NOUN'), ('Nixon', 'NOUN'), ('met', 'VERB'), ('Mr.', 'NOUN'), ('Bush', 'NOUN'), ('and', 'CONJ'), ('his', 'PRON'), ('national', 'ADJ'), ('security', 'NOUN'), ('adviser', 'NOUN'), (',', '.'), ('Brent', 'NOUN'), ('Scowcroft', 'NOUN'), (',', '.'), ('before', 'ADP'), ('*-1', 'X'), ('coming', 'VERB'), ('to', 'PRT'), ('China', 'NOUN'), ('on', 'ADP'), ('Saturday', 'NOUN'), ('.', '.'), ('First', 'NOUN'), ('Constitution', 'NOUN'), ('has', 'VERB'), ('signed', 'VERB'), ('a', 'DET'), ('merger', 'NOUN'), ('agreement', 'NOUN'), ('*ICH*-1', 'X'), ('with', 'ADP'), ('WFRR', 'NOUN'), ('L.P.', 'NOUN'), ('and', 'CONJ'), ('GHKM', 'NOUN'), ('Corp.', 'NOUN'), (',', '.'), ('under', 'ADP'), ('which', 'DET'), ('all', 'DET'), ('of', 'ADP'), ('its', 'PRON'), ('common', 'ADJ'), ('shares', 'NOUN'), ('will', 'VERB'), ('be', 'VERB'), ('acquired', 'VERB'), ('*-3', 'X'), ('for', 'ADP'), ('$', '.'), ('25', 'NUM'), ('*U*', 'X'), ('each', 'DET'), (',', '.'), ('or', 'CONJ'), ('$', '.'), ('273.5', 'NOUN'), ('million', 'NUM'), ('*U*', 'X'), ('*T*-2', 'X'), ('.', '.'), ('For', 'ADP'), ('all', 'DET'), ('the', 'DET'), ('furor', 'NOUN'), (',', '.'), ('there', 'DET'), ('is', 'VERB'), ('nothing', 'NOUN'), ('particularly', 'ADV'), ('complex', 'ADJ'), ('about', 'ADP'), ('the', 'DET'), ('concept', 'NOUN'), ('of', 'ADP'), ('stock-index', 'ADJ'), ('arbitrage', 'NOUN'), (',', '.'), ('the', 'DET'), ('most', 'ADJ'), ('controversial', 'ADJ'), ('type', 'NOUN'), ('of', 'ADP'), ('computer-assisted', 'ADJ'), ('program', 'NOUN'), ('trading', 'NOUN'), ('.', '.'), ('Primerica', 'NOUN'), ('closed', 'VERB'), ('at', 'ADP'), ('$', '.'), ('28.25', 'NOUN'), ('*U*', 'X'), (',', '.'), ('down', 'ADV'), ('50', 'NUM'), ('cents', 'NOUN'), ('.', '.'), ('This', 'DET'), ('is', 'VERB'), (\"n't\", 'ADV'), ('Buick', 'NOUN'), (\"'s\", 'PRT'), ('first', 'ADJ'), ('travel-related', 'NOUN'), ('promotion', 'NOUN'), ('.', '.'), ('The', 'DET'), ('reaction', 'NOUN'), ('in', 'ADP'), ('the', 'DET'), ('newsroom', 'NOUN'), ('was', 'VERB'), ('emotional', 'X'), ('.', '.'), ('Reuters', 'NOUN'), ('Holdings', 'NOUN'), ('PLC', 'NOUN'), ('said', 'VERB'), ('0', 'X'), ('Michael', 'NOUN'), ('Reupke', 'NOUN'), ('resigned', 'VERB'), ('as', 'ADP'), ('general', 'ADJ'), ('manager', 'NOUN'), ('*-1', 'X'), ('to', 'PRT'), ('pursue', 'VERB'), ('unspecified', 'X'), ('interests', 'NOUN'), (',', '.'), ('a', 'DET'), ('move', 'NOUN'), ('0', 'X'), ('the', 'DET'), ('news', 'NOUN'), ('organization', 'NOUN'), ('termed', 'NOUN'), ('*T*-2', 'X'), ('an', 'DET'), ('``', '.'), ('amicable', 'NOUN'), ('separation', 'NOUN'), ('.', '.'), (\"''\", '.'), ('They', 'PRON'), ('read', 'VERB'), ('Mickey', 'X'), ('Spillane', 'VERB'), ('and', 'CONJ'), ('talk', 'VERB'), ('about', 'ADP'), ('Groucho', 'NOUN'), ('and', 'CONJ'), ('Harpo', 'NOUN'), ('.', '.'), ('Marubeni', 'NOUN'), ('advanced', 'VERB'), ('11', 'NUM'), ('to', 'PRT'), ('890', 'VERB'), ('.', '.'), ('China', 'NOUN'), ('was', 'VERB'), ('the', 'DET'), ('real', 'ADJ'), ('victim', 'NOUN'), ('and', 'CONJ'), ('it', 'PRON'), ('*EXP*-1', 'X'), ('is', 'VERB'), ('unjust', 'ADJ'), ('*', 'X'), ('to', 'PRT'), ('reprove', 'VERB'), ('China', 'NOUN'), ('for', 'ADP'), ('it', 'PRON'), ('.', '.'), (\"''\", '.'), ('Yet', 'CONJ'), ('Section', 'NOUN'), ('605', 'NUM'), ('of', 'ADP'), ('the', 'DET'), ('appropriations', 'NOUN'), ('bill', 'NOUN'), ('for', 'ADP'), ('the', 'DET'), ('executive', 'NOUN'), ('office', 'NOUN'), ('provides', 'VERB'), (':', '.'), ('``', '.'), ('No', 'DET'), ('part', 'NOUN'), ('of', 'ADP'), ('any', 'DET'), ('appropriation', 'NOUN'), ('for', 'ADP'), ('the', 'DET'), ('current', 'ADJ'), ('fiscal', 'ADJ'), ('year', 'NOUN'), ('contained', 'VERB'), ('*', 'X'), ('in', 'ADP'), ('this', 'DET'), ('or', 'CONJ'), ('any', 'DET'), ('other', 'ADJ'), ('Act', 'NOUN'), ('shall', 'VERB'), ('be', 'VERB'), ('paid', 'VERB'), ('*-53', 'X'), ('to', 'PRT'), ('any', 'DET'), ('person', 'NOUN'), ('for', 'ADP'), ('the', 'DET'), ('filling', 'VERB'), ('of', 'ADP'), ('any', 'DET'), ('position', 'NOUN'), ('for', 'ADP'), ('which', 'DET'), ('he', 'PRON'), ('or', 'CONJ'), ('she', 'PRON'), ('has', 'VERB'), ('been', 'VERB'), ('nominated', 'VERB'), ('*-54', 'X'), ('*T*-1', 'X'), ('after', 'ADP'), ('the', 'DET'), ('Senate', 'NOUN'), ('has', 'VERB'), ('voted', 'VERB'), ('*-2', 'X'), ('not', 'ADV'), ('to', 'PRT'), ('approve', 'VERB'), ('the', 'DET'), ('nomination', 'NOUN'), ('of', 'ADP'), ('said', 'VERB'), ('person', 'NOUN'), ('.', '.'), (\"''\", '.'), ('The', 'DET'), ('collapse', 'NOUN'), ('of', 'ADP'), ('junk', 'NOUN'), ('bond', 'NOUN'), ('prices', 'NOUN'), ('and', 'CONJ'), ('the', 'DET'), ('cancellation', 'NOUN'), ('of', 'ADP'), ('many', 'ADJ'), ('junk', 'NOUN'), ('bond', 'NOUN'), ('financings', 'NOUN'), ('apparently', 'ADV'), ('have', 'VERB'), ('taken', 'VERB'), ('their', 'PRON'), ('toll', 'VERB'), ('on', 'ADP'), ('closely', 'ADV'), ('held', 'VERB'), ('Drexel', 'NOUN'), (',', '.'), ('the', 'DET'), ('leading', 'ADJ'), ('underwriter', 'NOUN'), ('in', 'ADP'), ('that', 'DET'), ('market', 'NOUN'), ('.', '.'), ('But', 'CONJ'), ('in', 'ADP'), ('1988', 'NUM'), (',', '.'), ('McGraw-Hill', 'NOUN'), ('purchased', 'VERB'), ('the', 'DET'), ('Random', 'NOUN'), ('House', 'NOUN'), ('unit', 'NOUN'), ('that', 'ADP'), ('*T*-108', 'NOUN'), ('publishes', 'VERB'), ('Scoring', 'NOUN'), ('High', 'NOUN'), (',', '.'), ('which', 'DET'), ('*T*-109', 'NOUN'), ('later', 'ADJ'), ('became', 'VERB'), ('part', 'NOUN'), ('of', 'ADP'), ('Macmillan\\\\/McGraw', 'NOUN'), ('.', '.'), ('Just', 'ADV'), ('as', 'ADP'), ('all', 'DET'), ('plaintiffs', 'NOUN'), ('are', 'VERB'), ('not', 'ADV'), ('alike', 'VERB'), (',', '.'), ('it', 'PRON'), ('turns', 'VERB'), ('out', 'PRT'), ('that', 'DET'), ('DES', 'NOUN'), ('defendants', 'NOUN'), ('marketed', 'VERB'), ('the', 'DET'), ('drugs', 'NOUN'), ('differently', 'NOUN'), ('and', 'CONJ'), ('may', 'VERB'), ('have', 'VERB'), ('offered', 'VERB'), ('different', 'ADJ'), ('warranties', 'NOUN'), ('.', '.'), ('``', '.'), ('And', 'CONJ'), ('recessionary', 'ADJ'), ('environments', 'NOUN'), ('are', 'VERB'), (\"n't\", 'ADV'), ('hospitable', 'VERB'), ('to', 'PRT'), ('the', 'DET'), ('stock', 'NOUN'), ('market', 'NOUN'), ('.', '.'), (\"''\", '.'), ('American', 'NOUN'), ('City', 'NOUN'), ('Business', 'NOUN'), ('Journals', 'NOUN'), ('Inc.', 'NOUN'), ('said', 'VERB'), ('0', 'X'), ('its', 'PRON'), ('president', 'NOUN'), (',', '.'), ('Michael', 'NOUN'), ('K.', 'NOUN'), ('Russell', 'NOUN'), (',', '.'), ('will', 'VERB'), ('resign', 'X'), ('rather', 'ADV'), ('than', 'ADP'), ('relocate', 'NOUN'), ('to', 'PRT'), ('new', 'ADJ'), ('headquarters', 'NOUN'), ('in', 'ADP'), ('Charlotte', 'NOUN'), (',', '.'), ('N.C', 'NOUN'), ('.', '.'), ('Many', 'ADJ'), ('auto', 'NOUN'), ('dealers', 'NOUN'), ('now', 'ADV'), ('let', 'VERB'), ('car', 'NOUN'), ('buyers', 'NOUN'), ('charge', 'NOUN'), ('part', 'NOUN'), ('or', 'CONJ'), ('all', 'DET'), ('of', 'ADP'), ('their', 'PRON'), ('purchase', 'NOUN'), ('on', 'ADP'), ('the', 'DET'), ('American', 'ADJ'), ('Express', 'NOUN'), ('card', 'NOUN'), (',', '.'), ('but', 'CONJ'), ('few', 'ADJ'), ('card', 'NOUN'), ('holders', 'NOUN'), ('realize', 'VERB'), ('this', 'DET'), (',', '.'), ('Mr.', 'NOUN'), ('Riese', 'NOUN'), ('says', 'VERB'), ('0', 'X'), ('*T*-1', 'X'), ('.', '.'), ('A', 'DET'), ('line-item', 'ADJ'), ('veto', 'NOUN'), ('is', 'VERB'), ('a', 'DET'), ('procedure', 'NOUN'), ('that', 'ADP'), ('*T*-1', 'X'), ('would', 'VERB'), ('allow', 'VERB'), ('a', 'DET'), ('president', 'NOUN'), ('to', 'PRT'), ('veto', 'NOUN'), ('part', 'NOUN'), ('of', 'ADP'), ('a', 'DET'), ('big', 'ADJ'), ('congressional', 'ADJ'), ('spending', 'NOUN'), ('bill', 'NOUN'), ('without', 'ADP'), ('*-2', 'X'), ('having', 'VERB'), ('*-3', 'X'), ('to', 'PRT'), ('scuttle', 'VERB'), ('the', 'DET'), ('entire', 'ADJ'), ('measure', 'NOUN'), ('.', '.'), ('``', '.'), ('She', 'PRON'), ('was', 'VERB'), ('an', 'DET'), ('inspirational', 'NOUN'), ('lady', 'NOUN'), (';', '.'), ('she', 'PRON'), ('had', 'VERB'), ('it', 'PRON'), ('all', 'DET'), ('together', 'ADV'), (',', '.'), (\"''\", '.'), ('says', 'VERB'), ('*T*-1', 'X'), ('Laura', 'VERB'), ('Dobson', 'X'), (',', '.'), ('a', 'DET'), ('freshman', 'NOUN'), ('at', 'ADP'), ('the', 'DET'), ('University', 'NOUN'), ('of', 'ADP'), ('South', 'NOUN'), ('Carolina', 'NOUN'), ('who', 'PRON'), ('*T*-90', 'VERB'), ('had', 'VERB'), ('Mrs.', 'NOUN'), ('Yeargin', 'NOUN'), ('in', 'ADP'), ('the', 'DET'), ('teacher-cadet', 'NOUN'), ('class', 'NOUN'), ('last', 'ADJ'), ('year', 'NOUN'), ('.', '.'), ('Any', 'DET'), ('reading', 'NOUN'), ('below', 'ADP'), ('50', 'NUM'), ('%', 'NOUN'), ('suggests', 'VERB'), ('0', 'X'), ('the', 'DET'), ('manufacturing', 'NOUN'), ('sector', 'NOUN'), ('is', 'VERB'), ('generally', 'ADV'), ('declining', 'VERB'), ('.', '.'), ('He', 'PRON'), ('said', 'VERB'), ('0', 'X'), ('disciplinary', 'ADJ'), ('proceedings', 'NOUN'), ('are', 'VERB'), ('confidential', 'ADJ'), ('and', 'CONJ'), ('declined', 'VERB'), ('*-1', 'X'), ('to', 'PRT'), ('comment', 'VERB'), ('on', 'ADP'), ('whether', 'ADP'), ('any', 'DET'), ('are', 'VERB'), ('being', 'VERB'), ('held', 'VERB'), ('*-2', 'X'), ('against', 'ADP'), ('Mr.', 'NOUN'), ('Trudeau', 'NOUN'), ('.', '.'), ('It', 'PRON'), ('also', 'ADV'), ('asks', 'VERB'), ('them', 'PRON'), ('*-1', 'X'), ('to', 'PRT'), ('add', 'VERB'), ('two-sevenths', 'X'), ('and', 'CONJ'), ('three-sevenths', 'NOUN'), ('.', '.'), ('In', 'ADP'), ('the', 'DET'), ('classroom', 'NOUN'), (',', '.'), ('students', 'NOUN'), ('say', 'VERB'), ('0', 'X'), ('*T*-3', 'X'), (',', '.'), ('Mrs.', 'NOUN'), ('Yeargin', 'NOUN'), ('distinguished', 'NOUN'), ('herself', 'NOUN'), ('by', 'ADP'), ('*', 'X'), ('varying', 'VERB'), ('teaching', 'NOUN'), ('approaches', 'NOUN'), ('--', '.'), ('*-1', 'X'), ('forcing', 'VERB'), ('kids', 'NOUN'), ('to', 'PRT'), ('pair', 'VERB'), ('up', 'ADV'), ('*-2', 'X'), ('to', 'PRT'), ('complete', 'VERB'), ('classroom', 'NOUN'), ('work', 'NOUN'), ('or', 'CONJ'), ('using', 'VERB'), ('college-bowl', 'X'), ('type', 'NOUN'), ('competitions', 'NOUN'), ('.', '.'), ('Many', 'ADJ'), ('lost', 'VERB'), ('their', 'PRON'), ('farms', 'VERB'), ('.', '.'), ('And', 'CONJ'), ('unlike', 'ADJ'), ('some', 'DET'), ('trays', 'NOUN'), (',', '.'), ('there', 'DET'), (\"'s\", 'VERB'), ('no', 'DET'), ('place', 'NOUN'), ('for', 'ADP'), ('food', 'NOUN'), ('.', '.'), ('The', 'DET'), ('FT', 'NOUN'), ('30-share', 'NOUN'), ('index', 'NOUN'), ('settled', 'VERB'), ('16.7', 'NUM'), ('points', 'NOUN'), ('higher', 'ADJ'), ('at', 'ADP'), ('1738.1', 'NOUN'), ('.', '.'), ('The', 'DET'), ('city', 'NOUN'), ('had', 'VERB'), ('expected', 'VERB'), ('*-1', 'X'), ('to', 'PRT'), ('pay', 'VERB'), ('about', 'ADP'), ('11', 'NUM'), ('million', 'NUM'), ('yen', 'NOUN'), ('-LRB-', '.'), ('$', '.'), ('77,000', 'NOUN'), ('*U*', 'X'), ('-RRB-', '.'), (',', '.'), ('but', 'CONJ'), ('Fujitsu', 'NOUN'), ('essentially', 'ADV'), ('offered', 'VERB'), ('*-2', 'X'), ('to', 'PRT'), ('do', 'VERB'), ('it', 'PRON'), ('for', 'ADP'), ('free', 'ADJ'), ('.', '.'), ('``', '.'), ('They', 'PRON'), ('said', 'VERB'), ('universally', 'X'), (',', '.'), ('without', 'ADP'), ('a', 'DET'), ('single', 'ADJ'), ('exception', 'NOUN'), (':', '.'), ('*', 'X'), ('Do', 'VERB'), (\"n't\", 'ADV'), ('even', 'ADV'), ('compromise', 'VERB'), ('.', '.'), ('The', 'DET'), ('Spiegel', 'NOUN'), ('family', 'NOUN'), ('has', 'VERB'), ('25', 'NUM'), ('%', 'NOUN'), ('of', 'ADP'), ('the', 'DET'), ('common', 'ADJ'), ('and', 'CONJ'), ('75', 'NUM'), ('%', 'NOUN'), ('of', 'ADP'), ('the', 'DET'), ('votes', 'NOUN'), ('.', '.'), ('The', 'DET'), ('one', 'NUM'), ('character', 'NOUN'), ('at', 'ADP'), ('least', 'ADJ'), ('somewhat', 'ADV'), ('interesting', 'ADJ'), ('was', 'VERB'), ('Irving', 'X'), ('Louis', 'NOUN'), ('Lobsenz', 'NOUN'), (',', '.'), ('a', 'DET'), ('pediatrician', 'NOUN'), ('who', 'PRON'), ('*T*-1', 'X'), ('changed', 'VERB'), ('his', 'PRON'), ('name', 'NOUN'), ('to', 'PRT'), ('Rusty', 'VERB'), ('Kent', 'NOUN'), ('London', 'NOUN'), ('and', 'CONJ'), ('became', 'VERB'), ('a', 'DET'), ('master', 'NOUN'), ('gambler', 'NOUN'), ('and', 'CONJ'), ('author', 'NOUN'), ('of', 'ADP'), ('a', 'DET'), ('book', 'NOUN'), ('on', 'ADP'), ('blackjack', 'NOUN'), ('.', '.'), ('The', 'DET'), ('first', 'ADJ'), ('Champagne', 'NOUN'), ('0', 'X'), ('*T*-1', 'X'), ('to', 'PRT'), ('crack', 'NOUN'), ('that', 'ADP'), ('price', 'NOUN'), ('barrier', 'NOUN'), ('was', 'VERB'), ('the', 'DET'), ('1979', 'NUM'), ('Salon', 'NOUN'), ('de', 'ADP'), ('Mesnil', 'NOUN'), ('Blanc', 'NOUN'), ('de', 'ADP'), ('Blancs', 'NOUN'), ('.', '.'), ('Behind', 'NOUN'), ('all', 'DET'), ('the', 'DET'), ('hoopla', 'NOUN'), ('is', 'VERB'), ('*T*-1', 'X'), ('some', 'DET'), ('heavy-duty', 'NOUN'), ('competition', 'NOUN'), ('.', '.'), ('It', 'PRON'), ('shed', 'VERB'), ('about', 'ADP'), ('7', 'NUM'), ('pence', 'NOUN'), (',', '.'), ('however', 'ADV'), (',', '.'), ('after', 'ADP'), ('dealers', 'NOUN'), ('said', 'VERB'), ('0', 'X'), ('the', 'DET'), ('market', 'NOUN'), ('was', 'VERB'), ('disappointed', 'VERB'), ('that', 'ADP'), ('Ford', 'NOUN'), ('did', 'VERB'), (\"n't\", 'ADV'), ('move', 'VERB'), ('*-1', 'X'), ('to', 'PRT'), ('tender', 'NOUN'), ('a', 'DET'), ('bid', 'NOUN'), ('for', 'ADP'), ('control', 'NOUN'), ('of', 'ADP'), ('the', 'DET'), ('company', 'NOUN'), ('.', '.'), ('Under', 'ADP'), ('that', 'DET'), ('law', 'NOUN'), (',', '.'), ('parties', 'NOUN'), ('proposing', 'VERB'), ('mergers', 'NOUN'), ('or', 'CONJ'), ('acquisitions', 'NOUN'), ('valued', 'VERB'), ('*', 'X'), ('at', 'ADP'), ('$', '.'), ('15', 'NUM'), ('million', 'NUM'), ('*U*', 'X'), ('or', 'CONJ'), ('more', 'ADJ'), ('must', 'VERB'), ('notify', 'X'), ('FTC', 'NOUN'), ('and', 'CONJ'), ('Justice', 'NOUN'), ('Department', 'NOUN'), ('antitrust', 'ADJ'), ('regulators', 'NOUN'), ('before', 'ADP'), ('*-1', 'X'), ('completing', 'VERB'), ('the', 'DET'), ('transactions', 'NOUN'), ('.', '.'), ('While', 'ADP'), ('market', 'NOUN'), ('sentiment', 'NOUN'), ('remains', 'VERB'), ('cautiously', 'X'), ('bearish', 'VERB'), ('on', 'ADP'), ('the', 'DET'), ('dollar', 'NOUN'), ('based', 'VERB'), ('on', 'ADP'), ('sluggish', 'ADJ'), ('U.S.', 'NOUN'), ('economic', 'ADJ'), ('indicators', 'NOUN'), (',', '.'), ('dealers', 'NOUN'), ('note', 'NOUN'), ('that', 'ADP'), ('Japanese', 'ADJ'), ('demand', 'NOUN'), ('has', 'VERB'), ('helped', 'VERB'), ('*-1', 'X'), ('underpin', 'VERB'), ('the', 'DET'), ('dollar', 'NOUN'), ('against', 'ADP'), ('the', 'DET'), ('yen', 'NOUN'), ('and', 'CONJ'), ('has', 'VERB'), ('kept', 'VERB'), ('the', 'DET'), ('U.S.', 'NOUN'), ('currency', 'NOUN'), ('from', 'ADP'), ('*-2', 'X'), ('plunging', 'VERB'), ('below', 'ADP'), ('key', 'ADJ'), ('levels', 'NOUN'), ('against', 'ADP'), ('the', 'DET'), ('mark', 'NOUN'), ('.', '.'), ('Scoring', 'NOUN'), ('High', 'NOUN'), ('matched', 'VERB'), ('on', 'ADP'), ('64.5', 'NOUN'), ('.', '.'), ('Mr.', 'NOUN'), ('Cray', 'NOUN'), (',', '.'), ('who', 'PRON'), ('*T*-1', 'X'), ('could', 'VERB'), (\"n't\", 'ADV'), ('be', 'VERB'), ('reached', 'VERB'), ('*-24', 'X'), ('for', 'ADP'), ('comment', 'NOUN'), (',', '.'), ('will', 'VERB'), ('work', 'VERB'), ('for', 'ADP'), ('the', 'DET'), ('new', 'ADJ'), ('Colorado', 'NOUN'), ('Springs', 'NOUN'), (',', '.'), ('Colo.', 'NOUN'), (',', '.'), ('company', 'NOUN'), ('as', 'ADP'), ('an', 'DET'), ('independent', 'ADJ'), ('contractor', 'NOUN'), ('--', '.'), ('the', 'DET'), ('arrangement', 'NOUN'), ('0', 'X'), ('he', 'PRON'), ('had', 'VERB'), ('*T*-2', 'X'), ('with', 'ADP'), ('Cray', 'NOUN'), ('Research', 'NOUN'), ('.', '.'), ('In', 'ADP'), ('response', 'NOUN'), ('to', 'PRT'), ('the', 'DET'), ('ruling', 'NOUN'), (',', '.'), ('gilt', 'NOUN'), ('futures', 'NOUN'), ('swiftly', 'ADV'), ('plunged', 'VERB'), ('more', 'ADV'), ('than', 'ADP'), ('a', 'DET'), ('point', 'NOUN'), ('yesterday', 'NOUN'), ('before', 'ADP'), ('*-1', 'X'), ('recovering', 'VERB'), ('much', 'ADV'), ('of', 'ADP'), ('the', 'DET'), ('loss', 'NOUN'), ('by', 'ADP'), ('the', 'DET'), ('end', 'NOUN'), ('of', 'ADP'), ('the', 'DET'), ('session', 'NOUN'), ('.', '.'), ('PAPERS', 'NOUN'), (':', '.'), ('CERTIFICATES', 'NOUN'), ('OF', 'ADP'), ('DEPOSIT', 'NOUN'), (':', '.'), ('8.07', 'NUM'), ('%', 'NOUN'), ('one', 'NUM'), ('month', 'NOUN'), (';', '.'), ('8.06', 'NOUN'), ('%', 'NOUN'), ('two', 'NUM'), ('months', 'NOUN'), (';', '.'), ('8.04', 'NOUN'), ('%', 'NOUN'), ('three', 'NUM'), ('months', 'NOUN'), (';', '.'), ('7.95', 'NUM'), ('%', 'NOUN'), ('six', 'NUM'), ('months', 'NOUN'), (';', '.'), ('7.88', 'NUM'), ('%', 'NOUN'), ('one', 'NUM'), ('year', 'NOUN'), ('.', '.'), ('Fujitsu', 'NOUN'), ('Ltd.', 'NOUN'), (\"'s\", 'PRT'), ('top', 'ADJ'), ('executive', 'NOUN'), ('took', 'VERB'), ('the', 'DET'), ('unusual', 'ADJ'), ('step', 'NOUN'), ('of', 'ADP'), ('*', 'X'), ('publicly', 'ADV'), ('apologizing', 'VERB'), ('for', 'ADP'), ('his', 'PRON'), ('company', 'NOUN'), (\"'s\", 'PRT'), ('making', 'VERB'), ('bids', 'NOUN'), ('of', 'ADP'), ('just', 'ADV'), ('one', 'NUM'), ('yen', 'NOUN'), ('for', 'ADP'), ('several', 'ADJ'), ('local', 'ADJ'), ('government', 'NOUN'), ('projects', 'NOUN'), (',', '.'), ('while', 'ADP'), ('computer', 'NOUN'), ('rival', 'NOUN'), ('NEC', 'NOUN'), ('Corp.', 'NOUN'), ('made', 'VERB'), ('a', 'DET'), ('written', 'VERB'), ('apology', 'NOUN'), ('for', 'ADP'), ('*', 'X'), ('indulging', 'VERB'), ('in', 'ADP'), ('the', 'DET'), ('same', 'ADJ'), ('practice', 'NOUN'), ('.', '.'), ('``', '.'), ('Little', 'NOUN'), ('by', 'ADP'), ('little', 'ADJ'), (',', '.'), ('there', 'DET'), ('is', 'VERB'), ('progress', 'NOUN'), (',', '.'), (\"''\", '.'), ('says', 'VERB'), ('*T*-1', 'X'), ('the', 'DET'), ('MITI', 'NOUN'), ('official', 'NOUN'), ('.', '.'), ('Hammacher', 'NOUN'), ('Schlemmer', 'NOUN'), ('&', 'CONJ'), ('Co.', 'NOUN'), ('offers', 'VERB'), ('a', 'DET'), ('fiber-optic', 'NOUN'), ('Christmas', 'NOUN'), ('tree', 'NOUN'), ('that', 'ADP'), ('*T*-1', 'X'), ('eliminates', 'VERB'), ('the', 'DET'), ('need', 'NOUN'), ('*', 'X'), ('to', 'PRT'), ('string', 'VERB'), ('lights', 'NOUN'), ('.', '.'), ('The', 'DET'), ('law', 'NOUN'), ('defines', 'NOUN'), ('unfairly', 'ADV'), ('low', 'ADJ'), ('prices', 'NOUN'), ('as', 'ADP'), ('ones', 'NOUN'), ('below', 'ADP'), ('the', 'DET'), ('cost', 'NOUN'), ('of', 'ADP'), ('production', 'NOUN'), ('or', 'CONJ'), ('below', 'ADP'), ('prices', 'NOUN'), ('in', 'ADP'), ('an', 'DET'), ('exporter', 'NOUN'), (\"'s\", 'PRT'), ('home', 'NOUN'), ('market', 'NOUN'), ('.', '.'), ('The', 'DET'), ('decline', 'NOUN'), ('was', 'VERB'), ('even', 'ADV'), ('steeper', 'ADJ'), ('than', 'ADP'), ('in', 'ADP'), ('September', 'NOUN'), ('.', '.'), ('The', 'DET'), ('latest', 'ADJ'), ('results', 'NOUN'), ('include', 'VERB'), ('some', 'DET'), ('unusual', 'ADJ'), ('write-downs', 'NOUN'), (',', '.'), ('which', 'DET'), ('*T*-1', 'X'), ('had', 'VERB'), ('an', 'DET'), ('after-tax', 'ADJ'), ('impact', 'NOUN'), ('of', 'ADP'), ('$', '.'), ('4.9', 'NOUN'), ('million', 'NUM'), ('*U*', 'X'), ('.', '.'), ('Program', 'NOUN'), ('trading', 'NOUN'), ('is', 'VERB'), ('``', '.'), ('a', 'DET'), ('racket', 'NOUN'), (',', '.'), (\"''\", '.'), ('complains', 'VERB'), ('0', 'X'), ('*T*-1', 'X'), ('Edward', 'NOUN'), ('Egnuss', 'NOUN'), (',', '.'), ('a', 'DET'), ('White', 'NOUN'), ('Plains', 'NOUN'), (',', '.'), ('N.Y.', 'NOUN'), (',', '.'), ('investor', 'NOUN'), ('and', 'CONJ'), ('electronics', 'NOUN'), ('sales', 'NOUN'), ('executive', 'NOUN'), (',', '.'), ('``', '.'), ('and', 'CONJ'), ('it', 'PRON'), (\"'s\", 'VERB'), ('not', 'ADV'), ('to', 'PRT'), ('the', 'DET'), ('benefit', 'NOUN'), ('of', 'ADP'), ('the', 'DET'), ('small', 'ADJ'), ('investor', 'NOUN'), (',', '.'), ('that', 'DET'), (\"'s\", 'VERB'), ('for', 'ADP'), ('sure', 'ADJ'), ('.', '.'), (\"''\", '.'), ('Officials', 'NOUN'), ('of', 'ADP'), ('Triton', 'NOUN'), ('could', 'VERB'), (\"n't\", 'ADV'), ('be', 'VERB'), ('reached', 'VERB'), ('*-157', 'X'), ('for', 'ADP'), ('comment', 'NOUN'), ('.', '.'), ('Mr.', 'NOUN'), ('Icahn', 'NOUN'), ('has', 'VERB'), ('said', 'VERB'), ('0', 'X'), ('he', 'PRON'), ('believes', 'VERB'), ('0', 'X'), ('USX', 'NOUN'), ('would', 'VERB'), ('be', 'VERB'), ('worth', 'ADP'), ('more', 'ADJ'), ('if', 'ADP'), ('*-1', 'X'), ('broken', 'VERB'), ('up', 'ADV'), ('*-2', 'X'), ('into', 'ADP'), ('steel', 'NOUN'), ('and', 'CONJ'), ('energy', 'NOUN'), ('segments', 'NOUN'), ('.', '.'), ('The', 'DET'), ('battle', 'NOUN'), ('has', 'VERB'), ('turned', 'VERB'), ('into', 'ADP'), ('a', 'DET'), ('civil', 'NOUN'), ('war', 'NOUN'), ('at', 'ADP'), ('some', 'DET'), ('firms', 'NOUN'), ('and', 'CONJ'), ('organizations', 'NOUN'), (',', '.'), ('*-1', 'X'), ('causing', 'VERB'), ('internal', 'ADJ'), ('contradictions', 'NOUN'), ('and', 'CONJ'), ('pitting', 'NOUN'), ('employee', 'NOUN'), ('against', 'ADP'), ('employee', 'NOUN'), ('.', '.'), ('It', 'PRON'), ('should', 'VERB'), ('be', 'VERB'), ('constantly', 'ADV'), ('stressed', 'VERB'), ('that', 'ADP'), ('Poland', 'NOUN'), (\"'s\", 'PRT'), ('farmers', 'NOUN'), ('mostly', 'ADV'), ('need', 'VERB'), ('a', 'DET'), ('real', 'ADJ'), ('market', 'NOUN'), ('for', 'ADP'), ('their', 'PRON'), ('products', 'NOUN'), ('.', '.'), ('In', 'ADP'), ('other', 'ADJ'), ('transactions', 'NOUN'), (',', '.'), ('Mr.', 'NOUN'), ('Simmons', 'NOUN'), ('has', 'VERB'), ('followed', 'VERB'), ('friendly', 'ADJ'), ('offers', 'NOUN'), ('with', 'ADP'), ('a', 'DET'), ('hostile', 'ADJ'), ('tender', 'NOUN'), ('offer', 'NOUN'), ('.', '.'), ('Since', 'ADP'), ('then', 'ADV'), (',', '.'), ('a', 'DET'), ('team', 'NOUN'), ('of', 'ADP'), ('about', 'ADP'), ('15', 'NUM'), ('MITI', 'NOUN'), ('and', 'CONJ'), ('U.S.', 'NOUN'), ('Commerce', 'NOUN'), ('Department', 'NOUN'), ('officials', 'NOUN'), ('have', 'VERB'), ('crossed', 'X'), ('the', 'DET'), ('globe', 'NOUN'), ('*-1', 'X'), ('gauging', 'VERB'), ('consumer', 'NOUN'), ('prices', 'NOUN'), ('.', '.'), ('The', 'DET'), ('yield', 'NOUN'), ('on', 'ADP'), ('six-month', 'ADJ'), ('Treasury', 'NOUN'), ('bills', 'NOUN'), ('sold', 'VERB'), ('*', 'X'), ('at', 'ADP'), ('Monday', 'NOUN'), (\"'s\", 'PRT'), ('auction', 'NOUN'), (',', '.'), ('for', 'ADP'), ('example', 'NOUN'), (',', '.'), ('rose', 'VERB'), ('to', 'PRT'), ('8.04', 'VERB'), ('%', 'NOUN'), ('from', 'ADP'), ('7.90', 'NUM'), ('%', 'NOUN'), ('.', '.'), ('U.S.', 'NOUN'), ('stock-index', 'NOUN'), ('futures', 'NOUN'), ('are', 'VERB'), (\"n't\", 'ADV'), ('even', 'ADV'), ('traded', 'VERB'), ('*-1', 'X'), ('in', 'ADP'), ('Japan', 'NOUN'), ('now', 'ADV'), ('.', '.'), ('Like', 'ADP'), ('other', 'ADJ'), ('forms', 'NOUN'), ('of', 'ADP'), ('arbitrage', 'NOUN'), (',', '.'), ('it', 'PRON'), ('merely', 'ADV'), ('seeks', 'VERB'), ('*-1', 'X'), ('to', 'PRT'), ('take', 'VERB'), ('advantage', 'NOUN'), ('of', 'ADP'), ('momentary', 'NOUN'), ('discrepancies', 'NOUN'), ('in', 'ADP'), ('the', 'DET'), ('price', 'NOUN'), ('of', 'ADP'), ('a', 'DET'), ('single', 'ADJ'), ('product', 'NOUN'), ('--', '.'), ('in', 'ADP'), ('this', 'DET'), ('case', 'NOUN'), (',', '.'), ('a', 'DET'), ('basket', 'NOUN'), ('of', 'ADP'), ('stocks', 'NOUN'), ('--', '.'), ('in', 'ADP'), ('different', 'ADJ'), ('markets', 'NOUN'), ('--', '.'), ('in', 'ADP'), ('this', 'DET'), ('case', 'NOUN'), ('the', 'DET'), ('New', 'NOUN'), ('York', 'NOUN'), ('Stock', 'NOUN'), ('Exchange', 'NOUN'), ('and', 'CONJ'), ('the', 'DET'), ('Chicago', 'NOUN'), ('futures', 'NOUN'), ('markets', 'NOUN'), ('.', '.'), ('Says', 'VERB'), ('*ICH*-1', 'X'), ('Mr.', 'NOUN'), ('Sale', 'NOUN'), (':', '.'), ('``', '.'), ('I', 'PRON'), ('think', 'VERB'), ('0', 'X'), ('more', 'ADV'), ('banks', 'NOUN'), ('are', 'VERB'), ('starting', 'VERB'), ('*-2', 'X'), ('to', 'PRT'), ('realize', 'VERB'), ('that', 'ADP'), ('we', 'PRON'), ('have', 'VERB'), ('*-3', 'X'), ('to', 'PRT'), ('be', 'VERB'), ('more', 'ADV'), ('like', 'ADP'), ('the', 'DET'), ('department', 'NOUN'), ('store', 'VERB'), (',', '.'), ('not', 'ADV'), ('the', 'DET'), ('boutique', 'NOUN'), ('.', '.'), (\"''\", '.'), ('These', 'DET'), ('prices', 'NOUN'), ('seem', 'VERB'), ('rather', 'ADV'), ('modest', 'ADJ'), (',', '.'), ('however', 'ADV'), (',', '.'), ('in', 'ADP'), ('light', 'ADJ'), ('of', 'ADP'), ('other', 'ADJ'), ('French', 'ADJ'), ('wines', 'NOUN'), ('from', 'ADP'), ('current', 'ADJ'), ('vintages', 'NOUN'), ('.', '.'), ('The', 'DET'), ('Treasury', 'NOUN'), ('said', 'VERB'), ('0', 'X'), ('it', 'PRON'), ('needs', 'VERB'), ('*-1', 'X'), ('to', 'PRT'), ('raise', 'VERB'), ('$', '.'), ('47.5', 'NOUN'), ('billion', 'NUM'), ('*U*', 'X'), ('in', 'ADP'), ('the', 'DET'), ('current', 'ADJ'), ('quarter', 'NOUN'), ('in', 'ADP'), ('order', 'NOUN'), ('*-1', 'X'), ('to', 'PRT'), ('end', 'VERB'), ('December', 'NOUN'), ('with', 'ADP'), ('a', 'DET'), ('$', '.'), ('20', 'NUM'), ('billion', 'NUM'), ('*U*', 'X'), ('cash', 'NOUN'), ('balance', 'NOUN'), ('.', '.'), ('Year', 'NOUN'), ('ended', 'VERB'), ('Dec.', 'NOUN'), ('31', 'NUM'), (',', '.'), ('1988', 'NUM'), (':', '.'), ('Net', 'ADJ'), ('income', 'NOUN'), (':', '.'), ('$', '.'), ('65', 'NUM'), ('million', 'NUM'), ('*U*', 'X'), (';', '.'), ('or', 'CONJ'), ('$', '.'), ('1.49', 'NOUN'), ('*U*', 'X'), ('a', 'DET'), ('share', 'NOUN')]\n"
     ]
    }
   ],
   "source": [
    "print(\"Time taken in seconds: \", difference)\n",
    "print(tagged_seq2)"
   ]
  },
  {
   "cell_type": "code",
   "execution_count": 101,
   "metadata": {},
   "outputs": [],
   "source": [
    "# accuracy\n",
    "check = [i for i, j in zip(tagged_seq2, test_run_base) if i == j] "
   ]
  },
  {
   "cell_type": "code",
   "execution_count": 102,
   "metadata": {},
   "outputs": [],
   "source": [
    "accuracy = len(check)/len(tagged_seq2)"
   ]
  },
  {
   "cell_type": "code",
   "execution_count": 103,
   "metadata": {},
   "outputs": [
    {
     "data": {
      "text/plain": [
       "0.9364724984777755"
      ]
     },
     "execution_count": 103,
     "metadata": {},
     "output_type": "execute_result"
    }
   ],
   "source": [
    "accuracy"
   ]
  },
  {
   "cell_type": "markdown",
   "metadata": {},
   "source": [
    "With this approach also we could see accuracy of the model is increased to 93.64%"
   ]
  },
  {
   "cell_type": "markdown",
   "metadata": {},
   "source": [
    "### Comparing few  wrongly tagged words in Original Viterbi Algorithm with Modified Viterbi Algorithm"
   ]
  },
  {
   "cell_type": "code",
   "execution_count": 126,
   "metadata": {},
   "outputs": [
    {
     "name": "stdout",
     "output_type": "stream",
     "text": [
      "Original Viterbi POS tag:\n",
      "\n",
      "[('province', 'NOUN'), ('schoolboys', 'NOUN'), ('plate', 'NOUN'), ('plate', 'NOUN')]\n",
      "\n",
      "\n",
      "Modified Viterbi POS tag:\n",
      "\n",
      "[('province', 'NOUN'), ('schoolboys', 'NOUN'), ('plate', 'NOUN'), ('plate', 'NOUN')]\n"
     ]
    }
   ],
   "source": [
    "# Words: province, schoolboys, plate\n",
    "print('Original Viterbi POS tag:\\n')\n",
    "print([pair  for pair in tagged_seq if (pair[0]=='province') | (pair[0]=='schoolboys') | (pair[0]=='plate')])\n",
    "print('\\n')\n",
    "print('Modified Viterbi POS tag:\\n')\n",
    "print([pair  for pair in tagged_seq2 if (pair[0]=='province') | (pair[0]=='schoolboys') | (pair[0]=='plate')])"
   ]
  },
  {
   "cell_type": "markdown",
   "metadata": {},
   "source": [
    "As we could see using original Viterbi POS tagger, the words province, schoolboys and plate were tagged to 'PRT' POS tag, Now using modified Viterbi these are tagged to 'NOUN' POS tag"
   ]
  },
  {
   "cell_type": "markdown",
   "metadata": {},
   "source": [
    "#### POS Tagging on the test dataset"
   ]
  },
  {
   "cell_type": "code",
   "execution_count": 146,
   "metadata": {},
   "outputs": [],
   "source": [
    "start = time.time()\n",
    "tagged_seq21 = Viterbi_2(words)\n",
    "end = time.time()\n",
    "difference = end-start"
   ]
  },
  {
   "cell_type": "code",
   "execution_count": 147,
   "metadata": {},
   "outputs": [
    {
     "data": {
      "text/plain": [
       "[('Android', 'NOUN'),\n",
       " ('is', 'VERB'),\n",
       " ('a', 'DET'),\n",
       " ('mobile', 'ADJ'),\n",
       " ('operating', 'NOUN'),\n",
       " ('system', 'NOUN'),\n",
       " ('developed', 'VERB'),\n",
       " ('by', 'ADP'),\n",
       " ('Google', 'NOUN'),\n",
       " ('.', '.'),\n",
       " ('Android', 'NOUN'),\n",
       " ('has', 'VERB'),\n",
       " ('been', 'VERB'),\n",
       " ('the', 'DET'),\n",
       " ('best-selling', 'ADJ'),\n",
       " ('OS', 'NOUN'),\n",
       " ('worldwide', 'NOUN'),\n",
       " ('on', 'ADP'),\n",
       " ('smartphones', 'NOUN'),\n",
       " ('since', 'ADP'),\n",
       " ('2011', 'NOUN'),\n",
       " ('and', 'CONJ'),\n",
       " ('on', 'ADP'),\n",
       " ('tablets', 'NOUN'),\n",
       " ('since', 'ADP'),\n",
       " ('2013', 'NOUN'),\n",
       " ('.', '.'),\n",
       " ('Google', 'NOUN'),\n",
       " ('and', 'CONJ'),\n",
       " ('Twitter', 'NOUN'),\n",
       " ('made', 'VERB'),\n",
       " ('a', 'DET'),\n",
       " ('deal', 'NOUN'),\n",
       " ('in', 'ADP'),\n",
       " ('2015', 'NOUN'),\n",
       " ('that', 'ADP'),\n",
       " ('gave', 'VERB'),\n",
       " ('Google', 'X'),\n",
       " ('access', 'NOUN'),\n",
       " ('to', 'PRT'),\n",
       " ('Twitter', 'VERB'),\n",
       " (\"'s\", 'PRT'),\n",
       " ('firehose', 'VERB'),\n",
       " ('.', '.'),\n",
       " ('Twitter', 'NOUN'),\n",
       " ('is', 'VERB'),\n",
       " ('an', 'DET'),\n",
       " ('online', 'NOUN'),\n",
       " ('news', 'NOUN'),\n",
       " ('and', 'CONJ'),\n",
       " ('social', 'ADJ'),\n",
       " ('networking', 'NOUN'),\n",
       " ('service', 'NOUN'),\n",
       " ('on', 'ADP'),\n",
       " ('which', 'DET'),\n",
       " ('users', 'NOUN'),\n",
       " ('post', 'NOUN'),\n",
       " ('and', 'CONJ'),\n",
       " ('interact', 'NOUN'),\n",
       " ('with', 'ADP'),\n",
       " ('messages', 'NOUN'),\n",
       " ('known', 'VERB'),\n",
       " ('as', 'ADP'),\n",
       " ('tweets', 'NOUN'),\n",
       " ('.', '.'),\n",
       " ('Before', 'ADP'),\n",
       " ('entering', 'VERB'),\n",
       " ('politics', 'NOUN'),\n",
       " (',', '.'),\n",
       " ('Donald', 'NOUN'),\n",
       " ('Trump', 'NOUN'),\n",
       " ('was', 'VERB'),\n",
       " ('a', 'DET'),\n",
       " ('domineering', 'NOUN'),\n",
       " ('businessman', 'NOUN'),\n",
       " ('and', 'CONJ'),\n",
       " ('a', 'DET'),\n",
       " ('television', 'NOUN'),\n",
       " ('personality', 'NOUN'),\n",
       " ('.', '.'),\n",
       " ('The', 'DET'),\n",
       " ('2018', 'NOUN'),\n",
       " ('FIFA', 'NOUN'),\n",
       " ('World', 'NOUN'),\n",
       " ('Cup', 'NOUN'),\n",
       " ('is', 'VERB'),\n",
       " ('the', 'DET'),\n",
       " ('21st', 'NOUN'),\n",
       " ('FIFA', 'NOUN'),\n",
       " ('World', 'NOUN'),\n",
       " ('Cup', 'NOUN'),\n",
       " (',', '.'),\n",
       " ('an', 'DET'),\n",
       " ('international', 'ADJ'),\n",
       " ('football', 'NOUN'),\n",
       " ('tournament', 'NOUN'),\n",
       " ('contested', 'NOUN'),\n",
       " ('once', 'ADV'),\n",
       " ('every', 'DET'),\n",
       " ('four', 'NUM'),\n",
       " ('years', 'NOUN'),\n",
       " ('.', '.'),\n",
       " ('This', 'DET'),\n",
       " ('is', 'VERB'),\n",
       " ('the', 'DET'),\n",
       " ('first', 'ADJ'),\n",
       " ('World', 'NOUN'),\n",
       " ('Cup', 'NOUN'),\n",
       " ('to', 'PRT'),\n",
       " ('be', 'VERB'),\n",
       " ('held', 'VERB'),\n",
       " ('in', 'ADP'),\n",
       " ('Eastern', 'NOUN'),\n",
       " ('Europe', 'NOUN'),\n",
       " ('and', 'CONJ'),\n",
       " ('the', 'DET'),\n",
       " ('11th', 'ADJ'),\n",
       " ('time', 'NOUN'),\n",
       " ('that', 'ADP'),\n",
       " ('it', 'PRON'),\n",
       " ('has', 'VERB'),\n",
       " ('been', 'VERB'),\n",
       " ('held', 'VERB'),\n",
       " ('in', 'ADP'),\n",
       " ('Europe', 'NOUN'),\n",
       " ('.', '.'),\n",
       " ('Show', 'NOUN'),\n",
       " ('me', 'PRON'),\n",
       " ('the', 'DET'),\n",
       " ('cheapest', 'ADJ'),\n",
       " ('round', 'NOUN'),\n",
       " ('trips', 'NOUN'),\n",
       " ('from', 'ADP'),\n",
       " ('Dallas', 'NOUN'),\n",
       " ('to', 'PRT'),\n",
       " ('Atlanta', 'NOUN'),\n",
       " ('I', 'PRON'),\n",
       " ('would', 'VERB'),\n",
       " ('like', 'ADP'),\n",
       " ('to', 'PRT'),\n",
       " ('see', 'VERB'),\n",
       " ('flights', 'NOUN'),\n",
       " ('from', 'ADP'),\n",
       " ('Denver', 'NOUN'),\n",
       " ('to', 'PRT'),\n",
       " ('Philadelphia', 'NOUN'),\n",
       " ('.', '.'),\n",
       " ('Show', 'NOUN'),\n",
       " ('me', 'PRON'),\n",
       " ('the', 'DET'),\n",
       " ('price', 'NOUN'),\n",
       " ('of', 'ADP'),\n",
       " ('the', 'DET'),\n",
       " ('flights', 'NOUN'),\n",
       " ('leaving', 'VERB'),\n",
       " ('Atlanta', 'NOUN'),\n",
       " ('at', 'ADP'),\n",
       " ('about', 'ADP'),\n",
       " ('3', 'NUM'),\n",
       " ('in', 'ADP'),\n",
       " ('the', 'DET'),\n",
       " ('afternoon', 'NOUN'),\n",
       " ('and', 'CONJ'),\n",
       " ('arriving', 'NOUN'),\n",
       " ('in', 'ADP'),\n",
       " ('San', 'NOUN'),\n",
       " ('Francisco', 'NOUN'),\n",
       " ('.', '.'),\n",
       " ('NASA', 'NOUN'),\n",
       " ('invited', 'NOUN'),\n",
       " ('social', 'ADJ'),\n",
       " ('media', 'NOUN'),\n",
       " ('users', 'NOUN'),\n",
       " ('to', 'PRT'),\n",
       " ('experience', 'NOUN'),\n",
       " ('the', 'DET'),\n",
       " ('launch', 'NOUN'),\n",
       " ('of', 'ADP'),\n",
       " ('ICESAT-2', 'NOUN'),\n",
       " ('Satellite', 'NOUN'),\n",
       " ('.', '.')]"
      ]
     },
     "execution_count": 147,
     "metadata": {},
     "output_type": "execute_result"
    }
   ],
   "source": [
    "tagged_seq21"
   ]
  },
  {
   "cell_type": "markdown",
   "metadata": {},
   "source": [
    "### Comparing few wrongly tagged words in Original Viterbi Algorithm with Modified Viterbi Algorithm"
   ]
  },
  {
   "cell_type": "code",
   "execution_count": 151,
   "metadata": {},
   "outputs": [
    {
     "name": "stdout",
     "output_type": "stream",
     "text": [
      "Original Viterbi POS tag:\n",
      "\n",
      "[('Google', 'PRT'), ('Google', 'PRT'), ('Twitter', 'PRT'), ('Google', 'PRT'), ('Twitter', 'PRT'), ('Twitter', 'PRT')]\n",
      "\n",
      "\n",
      "Modified Viterbi POS tag:\n",
      "\n",
      "[('Google', 'NOUN'), ('Google', 'NOUN'), ('Twitter', 'NOUN'), ('Google', 'X'), ('Twitter', 'VERB'), ('Twitter', 'NOUN')]\n"
     ]
    }
   ],
   "source": [
    "# Words: Google, Twitter\n",
    "print('Original Viterbi POS tag:\\n')\n",
    "print([pair  for pair in tagged_seq01 if (pair[0]=='Twitter') | (pair[0]=='Google') ])\n",
    "print('\\n')\n",
    "print('Modified Viterbi POS tag:\\n')\n",
    "print([pair  for pair in tagged_seq21 if (pair[0]=='Twitter') | (pair[0]=='Google') ])"
   ]
  },
  {
   "cell_type": "markdown",
   "metadata": {},
   "source": [
    "Earlier both the words were tagged to PRT, Now we could see both are tagged with 'NOUN' or 'VERB'."
   ]
  },
  {
   "cell_type": "code",
   "execution_count": null,
   "metadata": {},
   "outputs": [],
   "source": []
  }
 ],
 "metadata": {
  "kernelspec": {
   "display_name": "Python 3",
   "language": "python",
   "name": "python3"
  },
  "language_info": {
   "codemirror_mode": {
    "name": "ipython",
    "version": 3
   },
   "file_extension": ".py",
   "mimetype": "text/x-python",
   "name": "python",
   "nbconvert_exporter": "python",
   "pygments_lexer": "ipython3",
   "version": "3.6.5"
  }
 },
 "nbformat": 4,
 "nbformat_minor": 2
}
